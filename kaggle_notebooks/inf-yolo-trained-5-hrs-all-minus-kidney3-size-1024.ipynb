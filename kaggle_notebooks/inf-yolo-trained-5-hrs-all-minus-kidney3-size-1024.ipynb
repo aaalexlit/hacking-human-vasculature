{
 "cells": [
  {
   "cell_type": "code",
   "execution_count": 1,
   "id": "e916542e",
   "metadata": {
    "_cell_guid": "b1076dfc-b9ad-4769-8c92-a6c4dae69d19",
    "_uuid": "8f2839f25d086af736a60e9eeb907d3b93b6e0e5",
    "execution": {
     "iopub.execute_input": "2024-01-16T05:45:29.120195Z",
     "iopub.status.busy": "2024-01-16T05:45:29.119313Z",
     "iopub.status.idle": "2024-01-16T05:45:43.307628Z",
     "shell.execute_reply": "2024-01-16T05:45:43.306600Z"
    },
    "papermill": {
     "duration": 14.19645,
     "end_time": "2024-01-16T05:45:43.309986",
     "exception": false,
     "start_time": "2024-01-16T05:45:29.113536",
     "status": "completed"
    },
    "tags": []
   },
   "outputs": [
    {
     "name": "stdout",
     "output_type": "stream",
     "text": [
      "Looking in links: /kaggle/input/download-ultralytics\r\n",
      "Processing /kaggle/input/download-ultralytics/ultralytics-8.1.0-py3-none-any.whl\r\n",
      "Requirement already satisfied: matplotlib>=3.3.0 in /opt/conda/lib/python3.10/site-packages (from ultralytics==8.1.0) (3.7.4)\r\n",
      "Requirement already satisfied: numpy>=1.22.2 in /opt/conda/lib/python3.10/site-packages (from ultralytics==8.1.0) (1.24.3)\r\n",
      "Requirement already satisfied: opencv-python>=4.6.0 in /opt/conda/lib/python3.10/site-packages (from ultralytics==8.1.0) (4.8.1.78)\r\n",
      "Requirement already satisfied: pillow>=7.1.2 in /opt/conda/lib/python3.10/site-packages (from ultralytics==8.1.0) (10.1.0)\r\n",
      "Requirement already satisfied: pyyaml>=5.3.1 in /opt/conda/lib/python3.10/site-packages (from ultralytics==8.1.0) (6.0.1)\r\n",
      "Requirement already satisfied: requests>=2.23.0 in /opt/conda/lib/python3.10/site-packages (from ultralytics==8.1.0) (2.31.0)\r\n",
      "Requirement already satisfied: scipy>=1.4.1 in /opt/conda/lib/python3.10/site-packages (from ultralytics==8.1.0) (1.11.4)\r\n",
      "Requirement already satisfied: torch>=1.8.0 in /opt/conda/lib/python3.10/site-packages (from ultralytics==8.1.0) (2.0.0)\r\n",
      "Requirement already satisfied: torchvision>=0.9.0 in /opt/conda/lib/python3.10/site-packages (from ultralytics==8.1.0) (0.15.1)\r\n",
      "Requirement already satisfied: tqdm>=4.64.0 in /opt/conda/lib/python3.10/site-packages (from ultralytics==8.1.0) (4.66.1)\r\n",
      "Requirement already satisfied: psutil in /opt/conda/lib/python3.10/site-packages (from ultralytics==8.1.0) (5.9.3)\r\n",
      "Requirement already satisfied: py-cpuinfo in /opt/conda/lib/python3.10/site-packages (from ultralytics==8.1.0) (9.0.0)\r\n",
      "Processing /kaggle/input/download-ultralytics/thop-0.1.1.post2209072238-py3-none-any.whl (from ultralytics==8.1.0)\r\n",
      "Requirement already satisfied: pandas>=1.1.4 in /opt/conda/lib/python3.10/site-packages (from ultralytics==8.1.0) (2.0.3)\r\n",
      "Requirement already satisfied: seaborn>=0.11.0 in /opt/conda/lib/python3.10/site-packages (from ultralytics==8.1.0) (0.12.2)\r\n",
      "Processing /kaggle/input/download-ultralytics/hub_sdk-0.0.3-py3-none-any.whl (from ultralytics==8.1.0)\r\n",
      "Requirement already satisfied: contourpy>=1.0.1 in /opt/conda/lib/python3.10/site-packages (from matplotlib>=3.3.0->ultralytics==8.1.0) (1.1.0)\r\n",
      "Requirement already satisfied: cycler>=0.10 in /opt/conda/lib/python3.10/site-packages (from matplotlib>=3.3.0->ultralytics==8.1.0) (0.11.0)\r\n",
      "Requirement already satisfied: fonttools>=4.22.0 in /opt/conda/lib/python3.10/site-packages (from matplotlib>=3.3.0->ultralytics==8.1.0) (4.42.1)\r\n",
      "Requirement already satisfied: kiwisolver>=1.0.1 in /opt/conda/lib/python3.10/site-packages (from matplotlib>=3.3.0->ultralytics==8.1.0) (1.4.4)\r\n",
      "Requirement already satisfied: packaging>=20.0 in /opt/conda/lib/python3.10/site-packages (from matplotlib>=3.3.0->ultralytics==8.1.0) (21.3)\r\n",
      "Requirement already satisfied: pyparsing>=2.3.1 in /opt/conda/lib/python3.10/site-packages (from matplotlib>=3.3.0->ultralytics==8.1.0) (3.0.9)\r\n",
      "Requirement already satisfied: python-dateutil>=2.7 in /opt/conda/lib/python3.10/site-packages (from matplotlib>=3.3.0->ultralytics==8.1.0) (2.8.2)\r\n",
      "Requirement already satisfied: pytz>=2020.1 in /opt/conda/lib/python3.10/site-packages (from pandas>=1.1.4->ultralytics==8.1.0) (2023.3)\r\n",
      "Requirement already satisfied: tzdata>=2022.1 in /opt/conda/lib/python3.10/site-packages (from pandas>=1.1.4->ultralytics==8.1.0) (2023.3)\r\n",
      "Requirement already satisfied: charset-normalizer<4,>=2 in /opt/conda/lib/python3.10/site-packages (from requests>=2.23.0->ultralytics==8.1.0) (3.2.0)\r\n",
      "Requirement already satisfied: idna<4,>=2.5 in /opt/conda/lib/python3.10/site-packages (from requests>=2.23.0->ultralytics==8.1.0) (3.4)\r\n",
      "Requirement already satisfied: urllib3<3,>=1.21.1 in /opt/conda/lib/python3.10/site-packages (from requests>=2.23.0->ultralytics==8.1.0) (1.26.15)\r\n",
      "Requirement already satisfied: certifi>=2017.4.17 in /opt/conda/lib/python3.10/site-packages (from requests>=2.23.0->ultralytics==8.1.0) (2023.11.17)\r\n",
      "Requirement already satisfied: filelock in /opt/conda/lib/python3.10/site-packages (from torch>=1.8.0->ultralytics==8.1.0) (3.12.2)\r\n",
      "Requirement already satisfied: typing-extensions in /opt/conda/lib/python3.10/site-packages (from torch>=1.8.0->ultralytics==8.1.0) (4.5.0)\r\n",
      "Requirement already satisfied: sympy in /opt/conda/lib/python3.10/site-packages (from torch>=1.8.0->ultralytics==8.1.0) (1.12)\r\n",
      "Requirement already satisfied: networkx in /opt/conda/lib/python3.10/site-packages (from torch>=1.8.0->ultralytics==8.1.0) (3.1)\r\n",
      "Requirement already satisfied: jinja2 in /opt/conda/lib/python3.10/site-packages (from torch>=1.8.0->ultralytics==8.1.0) (3.1.2)\r\n",
      "Requirement already satisfied: six>=1.5 in /opt/conda/lib/python3.10/site-packages (from python-dateutil>=2.7->matplotlib>=3.3.0->ultralytics==8.1.0) (1.16.0)\r\n",
      "Requirement already satisfied: MarkupSafe>=2.0 in /opt/conda/lib/python3.10/site-packages (from jinja2->torch>=1.8.0->ultralytics==8.1.0) (2.1.3)\r\n",
      "Requirement already satisfied: mpmath>=0.19 in /opt/conda/lib/python3.10/site-packages (from sympy->torch>=1.8.0->ultralytics==8.1.0) (1.3.0)\r\n",
      "Installing collected packages: hub-sdk, thop, ultralytics\r\n",
      "Successfully installed hub-sdk-0.0.3 thop-0.1.1.post2209072238 ultralytics-8.1.0\r\n"
     ]
    }
   ],
   "source": [
    "!pip install --no-index -f /kaggle/input/download-ultralytics /kaggle/input/download-ultralytics/ultralytics-8.1.0-py3-none-any.whl"
   ]
  },
  {
   "cell_type": "code",
   "execution_count": 2,
   "id": "801b432c",
   "metadata": {
    "execution": {
     "iopub.execute_input": "2024-01-16T05:45:43.321393Z",
     "iopub.status.busy": "2024-01-16T05:45:43.321072Z",
     "iopub.status.idle": "2024-01-16T05:45:54.897730Z",
     "shell.execute_reply": "2024-01-16T05:45:54.896880Z"
    },
    "papermill": {
     "duration": 11.584803,
     "end_time": "2024-01-16T05:45:54.900051",
     "exception": false,
     "start_time": "2024-01-16T05:45:43.315248",
     "status": "completed"
    },
    "tags": []
   },
   "outputs": [],
   "source": [
    "from ultralytics import YOLO\n",
    "import matplotlib.pyplot as plt\n",
    "import numpy as np\n",
    "import pandas as pd\n",
    "\n",
    "from ultralytics.engine.results import Results"
   ]
  },
  {
   "cell_type": "code",
   "execution_count": 3,
   "id": "f16f649b",
   "metadata": {
    "execution": {
     "iopub.execute_input": "2024-01-16T05:45:54.911144Z",
     "iopub.status.busy": "2024-01-16T05:45:54.910692Z",
     "iopub.status.idle": "2024-01-16T05:45:56.853931Z",
     "shell.execute_reply": "2024-01-16T05:45:56.852585Z"
    },
    "papermill": {
     "duration": 1.951538,
     "end_time": "2024-01-16T05:45:56.856545",
     "exception": false,
     "start_time": "2024-01-16T05:45:54.905007",
     "status": "completed"
    },
    "tags": []
   },
   "outputs": [],
   "source": [
    "!mkdir trained_model\n",
    "!cp /kaggle/input/train-yolo-all-the-data-minus-kidney-3-1024/hacking_human_vasculature/kidney_3_dense_val_rest_train_img_size_1024/weights/best.pt /kaggle/working/trained_model"
   ]
  },
  {
   "cell_type": "code",
   "execution_count": 4,
   "id": "89940fca",
   "metadata": {
    "execution": {
     "iopub.execute_input": "2024-01-16T05:45:56.868854Z",
     "iopub.status.busy": "2024-01-16T05:45:56.868505Z",
     "iopub.status.idle": "2024-01-16T05:45:56.969285Z",
     "shell.execute_reply": "2024-01-16T05:45:56.968371Z"
    },
    "papermill": {
     "duration": 0.11071,
     "end_time": "2024-01-16T05:45:56.972701",
     "exception": false,
     "start_time": "2024-01-16T05:45:56.861991",
     "status": "completed"
    },
    "tags": []
   },
   "outputs": [],
   "source": [
    "model = YOLO('/kaggle/working/trained_model/best.pt')\n"
   ]
  },
  {
   "cell_type": "code",
   "execution_count": 5,
   "id": "318194aa",
   "metadata": {
    "execution": {
     "iopub.execute_input": "2024-01-16T05:45:56.985175Z",
     "iopub.status.busy": "2024-01-16T05:45:56.984835Z",
     "iopub.status.idle": "2024-01-16T05:45:56.989833Z",
     "shell.execute_reply": "2024-01-16T05:45:56.988945Z"
    },
    "papermill": {
     "duration": 0.012646,
     "end_time": "2024-01-16T05:45:56.991725",
     "exception": false,
     "start_time": "2024-01-16T05:45:56.979079",
     "status": "completed"
    },
    "tags": []
   },
   "outputs": [],
   "source": [
    "def add_masks(masks):\n",
    "    result = 255*(np.sum(masks, axis=0))\n",
    "    result = result.clip(0, 255).astype(\"uint8\")\n",
    "    return result"
   ]
  },
  {
   "cell_type": "code",
   "execution_count": 6,
   "id": "656b1b2b",
   "metadata": {
    "execution": {
     "iopub.execute_input": "2024-01-16T05:45:57.002210Z",
     "iopub.status.busy": "2024-01-16T05:45:57.001901Z",
     "iopub.status.idle": "2024-01-16T05:45:57.007870Z",
     "shell.execute_reply": "2024-01-16T05:45:57.007031Z"
    },
    "papermill": {
     "duration": 0.013271,
     "end_time": "2024-01-16T05:45:57.009747",
     "exception": false,
     "start_time": "2024-01-16T05:45:56.996476",
     "status": "completed"
    },
    "tags": []
   },
   "outputs": [],
   "source": [
    "def rle_encode(mask):\n",
    "    pixel = mask.flatten()\n",
    "    pixel = np.concatenate([[0], pixel, [0]])\n",
    "    run = np.where(pixel[1:] != pixel[:-1])[0] + 1\n",
    "    run[1::2] -= run[::2]\n",
    "    rle = ' '.join(str(r) for r in run)\n",
    "    if rle == '':\n",
    "        rle = '1 0'\n",
    "    return rle"
   ]
  },
  {
   "cell_type": "code",
   "execution_count": 7,
   "id": "971ad462",
   "metadata": {
    "execution": {
     "iopub.execute_input": "2024-01-16T05:45:57.020669Z",
     "iopub.status.busy": "2024-01-16T05:45:57.020137Z",
     "iopub.status.idle": "2024-01-16T05:45:57.024836Z",
     "shell.execute_reply": "2024-01-16T05:45:57.024016Z"
    },
    "papermill": {
     "duration": 0.012226,
     "end_time": "2024-01-16T05:45:57.026806",
     "exception": false,
     "start_time": "2024-01-16T05:45:57.014580",
     "status": "completed"
    },
    "tags": []
   },
   "outputs": [],
   "source": [
    "def extract_id_from_result(result: Results):\n",
    "    dataset_name = result.path.split('/')[-3]\n",
    "    file_name = result.path.split('/')[-1].split('.')[0]\n",
    "    return f'{dataset_name}_{file_name}'"
   ]
  },
  {
   "cell_type": "code",
   "execution_count": 8,
   "id": "550b08f7",
   "metadata": {
    "execution": {
     "iopub.execute_input": "2024-01-16T05:45:57.037315Z",
     "iopub.status.busy": "2024-01-16T05:45:57.037033Z",
     "iopub.status.idle": "2024-01-16T05:45:57.041739Z",
     "shell.execute_reply": "2024-01-16T05:45:57.040864Z"
    },
    "papermill": {
     "duration": 0.012106,
     "end_time": "2024-01-16T05:45:57.043598",
     "exception": false,
     "start_time": "2024-01-16T05:45:57.031492",
     "status": "completed"
    },
    "tags": []
   },
   "outputs": [],
   "source": [
    "def get_rle_from_result(result: Results):\n",
    "    if not result.masks:\n",
    "        return '1 0'\n",
    "    else:\n",
    "        masks_array = result.masks.data.cpu().numpy()\n",
    "        combined_mask = add_masks(masks_array)\n",
    "        return rle_encode(combined_mask)"
   ]
  },
  {
   "cell_type": "code",
   "execution_count": 9,
   "id": "f70455a6",
   "metadata": {
    "execution": {
     "iopub.execute_input": "2024-01-16T05:45:57.054200Z",
     "iopub.status.busy": "2024-01-16T05:45:57.053616Z",
     "iopub.status.idle": "2024-01-16T05:45:57.792807Z",
     "shell.execute_reply": "2024-01-16T05:45:57.792025Z"
    },
    "papermill": {
     "duration": 0.747021,
     "end_time": "2024-01-16T05:45:57.795236",
     "exception": false,
     "start_time": "2024-01-16T05:45:57.048215",
     "status": "completed"
    },
    "tags": []
   },
   "outputs": [],
   "source": [
    "source = '/kaggle/input/blood-vessel-segmentation/test/**/*.tif'\n",
    "results = model.predict(source, stream=True, device=[0,1], retina_masks=True, conf=0.05)"
   ]
  },
  {
   "cell_type": "code",
   "execution_count": 10,
   "id": "6195caed",
   "metadata": {
    "execution": {
     "iopub.execute_input": "2024-01-16T05:45:57.806770Z",
     "iopub.status.busy": "2024-01-16T05:45:57.806468Z",
     "iopub.status.idle": "2024-01-16T05:45:59.192433Z",
     "shell.execute_reply": "2024-01-16T05:45:59.191628Z"
    },
    "papermill": {
     "duration": 1.394165,
     "end_time": "2024-01-16T05:45:59.194612",
     "exception": false,
     "start_time": "2024-01-16T05:45:57.800447",
     "status": "completed"
    },
    "tags": []
   },
   "outputs": [
    {
     "name": "stdout",
     "output_type": "stream",
     "text": [
      "\n",
      "image 1/6 /kaggle/input/blood-vessel-segmentation/test/kidney_5/images/0000.tif: 1024x736 (no detections), 86.3ms\n",
      "image 2/6 /kaggle/input/blood-vessel-segmentation/test/kidney_5/images/0001.tif: 1024x736 (no detections), 14.4ms\n",
      "image 3/6 /kaggle/input/blood-vessel-segmentation/test/kidney_5/images/0002.tif: 1024x736 (no detections), 14.4ms\n",
      "image 4/6 /kaggle/input/blood-vessel-segmentation/test/kidney_6/images/0000.tif: 1024x736 (no detections), 14.5ms\n",
      "image 5/6 /kaggle/input/blood-vessel-segmentation/test/kidney_6/images/0001.tif: 1024x736 (no detections), 14.4ms\n",
      "image 6/6 /kaggle/input/blood-vessel-segmentation/test/kidney_6/images/0002.tif: 1024x736 (no detections), 14.4ms\n",
      "Speed: 5.8ms preprocess, 26.4ms inference, 12.7ms postprocess per image at shape (1, 3, 1024, 736)\n"
     ]
    }
   ],
   "source": [
    "submission_list = []\n",
    "for result in results:\n",
    "    img_id = extract_id_from_result(result)\n",
    "    rle = get_rle_from_result(result)\n",
    "    submission_list.append({\n",
    "        'id': img_id,\n",
    "        'rle': rle\n",
    "    })\n",
    "\n",
    "df = pd.DataFrame(submission_list, columns=['id', 'rle'])\n",
    "\n",
    "df.to_csv('submission.csv', index=False)\n"
   ]
  },
  {
   "cell_type": "code",
   "execution_count": null,
   "id": "897bc6f4",
   "metadata": {
    "papermill": {
     "duration": 0.005162,
     "end_time": "2024-01-16T05:45:59.205433",
     "exception": false,
     "start_time": "2024-01-16T05:45:59.200271",
     "status": "completed"
    },
    "tags": []
   },
   "outputs": [],
   "source": []
  }
 ],
 "metadata": {
  "kaggle": {
   "accelerator": "nvidiaTeslaT4",
   "dataSources": [
    {
     "databundleVersionId": 6962461,
     "sourceId": 61446,
     "sourceType": "competition"
    },
    {
     "sourceId": 158586749,
     "sourceType": "kernelVersion"
    },
    {
     "sourceId": 159090175,
     "sourceType": "kernelVersion"
    }
   ],
   "dockerImageVersionId": 30627,
   "isGpuEnabled": true,
   "isInternetEnabled": false,
   "language": "python",
   "sourceType": "notebook"
  },
  "kernelspec": {
   "display_name": "Python 3",
   "language": "python",
   "name": "python3"
  },
  "language_info": {
   "codemirror_mode": {
    "name": "ipython",
    "version": 3
   },
   "file_extension": ".py",
   "mimetype": "text/x-python",
   "name": "python",
   "nbconvert_exporter": "python",
   "pygments_lexer": "ipython3",
   "version": "3.10.12"
  },
  "papermill": {
   "default_parameters": {},
   "duration": 35.475762,
   "end_time": "2024-01-16T05:46:00.834453",
   "environment_variables": {},
   "exception": null,
   "input_path": "__notebook__.ipynb",
   "output_path": "__notebook__.ipynb",
   "parameters": {},
   "start_time": "2024-01-16T05:45:25.358691",
   "version": "2.4.0"
  }
 },
 "nbformat": 4,
 "nbformat_minor": 5
}
