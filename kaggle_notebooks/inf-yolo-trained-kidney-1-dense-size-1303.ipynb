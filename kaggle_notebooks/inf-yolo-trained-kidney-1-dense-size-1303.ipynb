{
 "cells": [
  {
   "cell_type": "code",
   "execution_count": 1,
   "id": "6a298cd9",
   "metadata": {
    "_cell_guid": "b1076dfc-b9ad-4769-8c92-a6c4dae69d19",
    "_uuid": "8f2839f25d086af736a60e9eeb907d3b93b6e0e5",
    "execution": {
     "iopub.execute_input": "2024-01-18T14:56:56.823398Z",
     "iopub.status.busy": "2024-01-18T14:56:56.823122Z",
     "iopub.status.idle": "2024-01-18T14:57:10.936476Z",
     "shell.execute_reply": "2024-01-18T14:57:10.935348Z"
    },
    "papermill": {
     "duration": 14.12148,
     "end_time": "2024-01-18T14:57:10.939002",
     "exception": false,
     "start_time": "2024-01-18T14:56:56.817522",
     "status": "completed"
    },
    "tags": []
   },
   "outputs": [
    {
     "name": "stdout",
     "output_type": "stream",
     "text": [
      "Looking in links: /kaggle/input/download-ultralytics\r\n",
      "Processing /kaggle/input/download-ultralytics/ultralytics-8.1.0-py3-none-any.whl\r\n",
      "Requirement already satisfied: matplotlib>=3.3.0 in /opt/conda/lib/python3.10/site-packages (from ultralytics==8.1.0) (3.7.4)\r\n",
      "Requirement already satisfied: numpy>=1.22.2 in /opt/conda/lib/python3.10/site-packages (from ultralytics==8.1.0) (1.24.3)\r\n",
      "Requirement already satisfied: opencv-python>=4.6.0 in /opt/conda/lib/python3.10/site-packages (from ultralytics==8.1.0) (4.8.1.78)\r\n",
      "Requirement already satisfied: pillow>=7.1.2 in /opt/conda/lib/python3.10/site-packages (from ultralytics==8.1.0) (10.1.0)\r\n",
      "Requirement already satisfied: pyyaml>=5.3.1 in /opt/conda/lib/python3.10/site-packages (from ultralytics==8.1.0) (6.0.1)\r\n",
      "Requirement already satisfied: requests>=2.23.0 in /opt/conda/lib/python3.10/site-packages (from ultralytics==8.1.0) (2.31.0)\r\n",
      "Requirement already satisfied: scipy>=1.4.1 in /opt/conda/lib/python3.10/site-packages (from ultralytics==8.1.0) (1.11.4)\r\n",
      "Requirement already satisfied: torch>=1.8.0 in /opt/conda/lib/python3.10/site-packages (from ultralytics==8.1.0) (2.0.0)\r\n",
      "Requirement already satisfied: torchvision>=0.9.0 in /opt/conda/lib/python3.10/site-packages (from ultralytics==8.1.0) (0.15.1)\r\n",
      "Requirement already satisfied: tqdm>=4.64.0 in /opt/conda/lib/python3.10/site-packages (from ultralytics==8.1.0) (4.66.1)\r\n",
      "Requirement already satisfied: psutil in /opt/conda/lib/python3.10/site-packages (from ultralytics==8.1.0) (5.9.3)\r\n",
      "Requirement already satisfied: py-cpuinfo in /opt/conda/lib/python3.10/site-packages (from ultralytics==8.1.0) (9.0.0)\r\n",
      "Processing /kaggle/input/download-ultralytics/thop-0.1.1.post2209072238-py3-none-any.whl (from ultralytics==8.1.0)\r\n",
      "Requirement already satisfied: pandas>=1.1.4 in /opt/conda/lib/python3.10/site-packages (from ultralytics==8.1.0) (2.0.3)\r\n",
      "Requirement already satisfied: seaborn>=0.11.0 in /opt/conda/lib/python3.10/site-packages (from ultralytics==8.1.0) (0.12.2)\r\n",
      "Processing /kaggle/input/download-ultralytics/hub_sdk-0.0.3-py3-none-any.whl (from ultralytics==8.1.0)\r\n",
      "Requirement already satisfied: contourpy>=1.0.1 in /opt/conda/lib/python3.10/site-packages (from matplotlib>=3.3.0->ultralytics==8.1.0) (1.1.0)\r\n",
      "Requirement already satisfied: cycler>=0.10 in /opt/conda/lib/python3.10/site-packages (from matplotlib>=3.3.0->ultralytics==8.1.0) (0.11.0)\r\n",
      "Requirement already satisfied: fonttools>=4.22.0 in /opt/conda/lib/python3.10/site-packages (from matplotlib>=3.3.0->ultralytics==8.1.0) (4.42.1)\r\n",
      "Requirement already satisfied: kiwisolver>=1.0.1 in /opt/conda/lib/python3.10/site-packages (from matplotlib>=3.3.0->ultralytics==8.1.0) (1.4.4)\r\n",
      "Requirement already satisfied: packaging>=20.0 in /opt/conda/lib/python3.10/site-packages (from matplotlib>=3.3.0->ultralytics==8.1.0) (21.3)\r\n",
      "Requirement already satisfied: pyparsing>=2.3.1 in /opt/conda/lib/python3.10/site-packages (from matplotlib>=3.3.0->ultralytics==8.1.0) (3.0.9)\r\n",
      "Requirement already satisfied: python-dateutil>=2.7 in /opt/conda/lib/python3.10/site-packages (from matplotlib>=3.3.0->ultralytics==8.1.0) (2.8.2)\r\n",
      "Requirement already satisfied: pytz>=2020.1 in /opt/conda/lib/python3.10/site-packages (from pandas>=1.1.4->ultralytics==8.1.0) (2023.3)\r\n",
      "Requirement already satisfied: tzdata>=2022.1 in /opt/conda/lib/python3.10/site-packages (from pandas>=1.1.4->ultralytics==8.1.0) (2023.3)\r\n",
      "Requirement already satisfied: charset-normalizer<4,>=2 in /opt/conda/lib/python3.10/site-packages (from requests>=2.23.0->ultralytics==8.1.0) (3.2.0)\r\n",
      "Requirement already satisfied: idna<4,>=2.5 in /opt/conda/lib/python3.10/site-packages (from requests>=2.23.0->ultralytics==8.1.0) (3.4)\r\n",
      "Requirement already satisfied: urllib3<3,>=1.21.1 in /opt/conda/lib/python3.10/site-packages (from requests>=2.23.0->ultralytics==8.1.0) (1.26.15)\r\n",
      "Requirement already satisfied: certifi>=2017.4.17 in /opt/conda/lib/python3.10/site-packages (from requests>=2.23.0->ultralytics==8.1.0) (2023.11.17)\r\n",
      "Requirement already satisfied: filelock in /opt/conda/lib/python3.10/site-packages (from torch>=1.8.0->ultralytics==8.1.0) (3.12.2)\r\n",
      "Requirement already satisfied: typing-extensions in /opt/conda/lib/python3.10/site-packages (from torch>=1.8.0->ultralytics==8.1.0) (4.5.0)\r\n",
      "Requirement already satisfied: sympy in /opt/conda/lib/python3.10/site-packages (from torch>=1.8.0->ultralytics==8.1.0) (1.12)\r\n",
      "Requirement already satisfied: networkx in /opt/conda/lib/python3.10/site-packages (from torch>=1.8.0->ultralytics==8.1.0) (3.1)\r\n",
      "Requirement already satisfied: jinja2 in /opt/conda/lib/python3.10/site-packages (from torch>=1.8.0->ultralytics==8.1.0) (3.1.2)\r\n",
      "Requirement already satisfied: six>=1.5 in /opt/conda/lib/python3.10/site-packages (from python-dateutil>=2.7->matplotlib>=3.3.0->ultralytics==8.1.0) (1.16.0)\r\n",
      "Requirement already satisfied: MarkupSafe>=2.0 in /opt/conda/lib/python3.10/site-packages (from jinja2->torch>=1.8.0->ultralytics==8.1.0) (2.1.3)\r\n",
      "Requirement already satisfied: mpmath>=0.19 in /opt/conda/lib/python3.10/site-packages (from sympy->torch>=1.8.0->ultralytics==8.1.0) (1.3.0)\r\n",
      "Installing collected packages: hub-sdk, thop, ultralytics\r\n",
      "Successfully installed hub-sdk-0.0.3 thop-0.1.1.post2209072238 ultralytics-8.1.0\r\n"
     ]
    }
   ],
   "source": [
    "!pip install --no-index -f /kaggle/input/download-ultralytics /kaggle/input/download-ultralytics/ultralytics-8.1.0-py3-none-any.whl"
   ]
  },
  {
   "cell_type": "code",
   "execution_count": 2,
   "id": "403aa634",
   "metadata": {
    "execution": {
     "iopub.execute_input": "2024-01-18T14:57:10.951336Z",
     "iopub.status.busy": "2024-01-18T14:57:10.950472Z",
     "iopub.status.idle": "2024-01-18T14:57:22.479901Z",
     "shell.execute_reply": "2024-01-18T14:57:22.478876Z"
    },
    "papermill": {
     "duration": 11.537641,
     "end_time": "2024-01-18T14:57:22.482169",
     "exception": false,
     "start_time": "2024-01-18T14:57:10.944528",
     "status": "completed"
    },
    "tags": []
   },
   "outputs": [],
   "source": [
    "from ultralytics import YOLO\n",
    "import matplotlib.pyplot as plt\n",
    "import numpy as np\n",
    "import pandas as pd\n",
    "\n",
    "from ultralytics.engine.results import Results"
   ]
  },
  {
   "cell_type": "code",
   "execution_count": 3,
   "id": "7e82790d",
   "metadata": {
    "execution": {
     "iopub.execute_input": "2024-01-18T14:57:22.494693Z",
     "iopub.status.busy": "2024-01-18T14:57:22.493553Z",
     "iopub.status.idle": "2024-01-18T14:57:24.522444Z",
     "shell.execute_reply": "2024-01-18T14:57:24.521222Z"
    },
    "papermill": {
     "duration": 2.037607,
     "end_time": "2024-01-18T14:57:24.524926",
     "exception": false,
     "start_time": "2024-01-18T14:57:22.487319",
     "status": "completed"
    },
    "tags": []
   },
   "outputs": [],
   "source": [
    "!mkdir trained_model\n",
    "!cp /kaggle/input/yolo-train-kidney-1-dense-val-kidney-3-dense-1303/hacking_human_vasculature/train_kidney_1_dense_val_kidney_3_dense_size_1303/weights/best.pt /kaggle/working/trained_model"
   ]
  },
  {
   "cell_type": "code",
   "execution_count": 4,
   "id": "8b81970f",
   "metadata": {
    "execution": {
     "iopub.execute_input": "2024-01-18T14:57:24.536475Z",
     "iopub.status.busy": "2024-01-18T14:57:24.536157Z",
     "iopub.status.idle": "2024-01-18T14:57:24.541803Z",
     "shell.execute_reply": "2024-01-18T14:57:24.540953Z"
    },
    "papermill": {
     "duration": 0.013705,
     "end_time": "2024-01-18T14:57:24.543749",
     "exception": false,
     "start_time": "2024-01-18T14:57:24.530044",
     "status": "completed"
    },
    "tags": []
   },
   "outputs": [],
   "source": [
    "def add_masks(masks):\n",
    "    result = 255*(np.sum(masks, axis=0))\n",
    "    result = result.clip(0, 255).astype(\"uint8\")\n",
    "    return result"
   ]
  },
  {
   "cell_type": "code",
   "execution_count": 5,
   "id": "d5790dd2",
   "metadata": {
    "execution": {
     "iopub.execute_input": "2024-01-18T14:57:24.554757Z",
     "iopub.status.busy": "2024-01-18T14:57:24.554444Z",
     "iopub.status.idle": "2024-01-18T14:57:24.560101Z",
     "shell.execute_reply": "2024-01-18T14:57:24.559300Z"
    },
    "papermill": {
     "duration": 0.013168,
     "end_time": "2024-01-18T14:57:24.562058",
     "exception": false,
     "start_time": "2024-01-18T14:57:24.548890",
     "status": "completed"
    },
    "tags": []
   },
   "outputs": [],
   "source": [
    "def rle_encode(mask):\n",
    "    pixel = mask.flatten()\n",
    "    pixel = np.concatenate([[0], pixel, [0]])\n",
    "    run = np.where(pixel[1:] != pixel[:-1])[0] + 1\n",
    "    run[1::2] -= run[::2]\n",
    "    rle = ' '.join(str(r) for r in run)\n",
    "    if rle == '':\n",
    "        rle = '1 0'\n",
    "    return rle"
   ]
  },
  {
   "cell_type": "code",
   "execution_count": 6,
   "id": "8733f717",
   "metadata": {
    "execution": {
     "iopub.execute_input": "2024-01-18T14:57:24.572996Z",
     "iopub.status.busy": "2024-01-18T14:57:24.572738Z",
     "iopub.status.idle": "2024-01-18T14:57:24.577414Z",
     "shell.execute_reply": "2024-01-18T14:57:24.576630Z"
    },
    "papermill": {
     "duration": 0.012288,
     "end_time": "2024-01-18T14:57:24.579270",
     "exception": false,
     "start_time": "2024-01-18T14:57:24.566982",
     "status": "completed"
    },
    "tags": []
   },
   "outputs": [],
   "source": [
    "def extract_id_from_result(result: Results):\n",
    "    dataset_name = result.path.split('/')[-3]\n",
    "    file_name = result.path.split('/')[-1].split('.')[0]\n",
    "    return f'{dataset_name}_{file_name}'"
   ]
  },
  {
   "cell_type": "code",
   "execution_count": 7,
   "id": "3916a605",
   "metadata": {
    "execution": {
     "iopub.execute_input": "2024-01-18T14:57:24.589937Z",
     "iopub.status.busy": "2024-01-18T14:57:24.589624Z",
     "iopub.status.idle": "2024-01-18T14:57:24.594435Z",
     "shell.execute_reply": "2024-01-18T14:57:24.593649Z"
    },
    "papermill": {
     "duration": 0.012192,
     "end_time": "2024-01-18T14:57:24.596343",
     "exception": false,
     "start_time": "2024-01-18T14:57:24.584151",
     "status": "completed"
    },
    "tags": []
   },
   "outputs": [],
   "source": [
    "def get_rle_from_result(result: Results):\n",
    "    if not result.masks:\n",
    "        return '1 0'\n",
    "    else:\n",
    "        masks_array = result.masks.data.cpu().numpy()\n",
    "        combined_mask = add_masks(masks_array)\n",
    "        return rle_encode(combined_mask)"
   ]
  },
  {
   "cell_type": "code",
   "execution_count": 8,
   "id": "67968170",
   "metadata": {
    "execution": {
     "iopub.execute_input": "2024-01-18T14:57:24.607458Z",
     "iopub.status.busy": "2024-01-18T14:57:24.607190Z",
     "iopub.status.idle": "2024-01-18T14:57:24.701069Z",
     "shell.execute_reply": "2024-01-18T14:57:24.700169Z"
    },
    "papermill": {
     "duration": 0.101663,
     "end_time": "2024-01-18T14:57:24.703113",
     "exception": false,
     "start_time": "2024-01-18T14:57:24.601450",
     "status": "completed"
    },
    "tags": []
   },
   "outputs": [],
   "source": [
    "import cv2\n",
    "imgsz = cv2.imread('/kaggle/input/blood-vessel-segmentation/test/kidney_5/images/0000.tif').shape[:2]\n",
    "# imgsz = cv2.imread('/kaggle/input/blood-vessel-segmentation/train/kidney_3_sparse/images/0000.tif').shape[:2]"
   ]
  },
  {
   "cell_type": "code",
   "execution_count": 9,
   "id": "cc5c3d28",
   "metadata": {
    "execution": {
     "iopub.execute_input": "2024-01-18T14:57:24.714317Z",
     "iopub.status.busy": "2024-01-18T14:57:24.713973Z",
     "iopub.status.idle": "2024-01-18T14:57:24.804823Z",
     "shell.execute_reply": "2024-01-18T14:57:24.804097Z"
    },
    "papermill": {
     "duration": 0.098828,
     "end_time": "2024-01-18T14:57:24.806889",
     "exception": false,
     "start_time": "2024-01-18T14:57:24.708061",
     "status": "completed"
    },
    "tags": []
   },
   "outputs": [],
   "source": [
    "model = YOLO('/kaggle/working/trained_model/best.pt')"
   ]
  },
  {
   "cell_type": "code",
   "execution_count": 10,
   "id": "c9f709f2",
   "metadata": {
    "execution": {
     "iopub.execute_input": "2024-01-18T14:57:24.818879Z",
     "iopub.status.busy": "2024-01-18T14:57:24.818585Z",
     "iopub.status.idle": "2024-01-18T14:57:25.544690Z",
     "shell.execute_reply": "2024-01-18T14:57:25.543665Z"
    },
    "papermill": {
     "duration": 0.734527,
     "end_time": "2024-01-18T14:57:25.547220",
     "exception": false,
     "start_time": "2024-01-18T14:57:24.812693",
     "status": "completed"
    },
    "tags": []
   },
   "outputs": [],
   "source": [
    "# source = '/kaggle/input/blood-vessel-segmentation/train/kidney_3_sparse/images/102*.tif'\n",
    "source = '/kaggle/input/blood-vessel-segmentation/test/**/*.tif'\n",
    "results = model.predict(source, \n",
    "                        stream=True, \n",
    "                        device=[0,1], \n",
    "                        retina_masks=True, \n",
    "                        imgsz=imgsz,\n",
    "                        conf=0.1)"
   ]
  },
  {
   "cell_type": "code",
   "execution_count": 11,
   "id": "e350c6c5",
   "metadata": {
    "execution": {
     "iopub.execute_input": "2024-01-18T14:57:25.559280Z",
     "iopub.status.busy": "2024-01-18T14:57:25.558964Z",
     "iopub.status.idle": "2024-01-18T14:57:26.818069Z",
     "shell.execute_reply": "2024-01-18T14:57:26.817338Z"
    },
    "papermill": {
     "duration": 1.267163,
     "end_time": "2024-01-18T14:57:26.819992",
     "exception": false,
     "start_time": "2024-01-18T14:57:25.552829",
     "status": "completed"
    },
    "tags": []
   },
   "outputs": [
    {
     "name": "stdout",
     "output_type": "stream",
     "text": [
      "\n",
      "WARNING ⚠️ imgsz=[1303, 912] must be multiple of max stride 32, updating to [1312, 928]\n",
      "image 1/6 /kaggle/input/blood-vessel-segmentation/test/kidney_5/images/0000.tif: 1312x928 (no detections), 21.2ms\n",
      "image 2/6 /kaggle/input/blood-vessel-segmentation/test/kidney_5/images/0001.tif: 1312x928 (no detections), 21.2ms\n",
      "image 3/6 /kaggle/input/blood-vessel-segmentation/test/kidney_5/images/0002.tif: 1312x928 (no detections), 21.2ms\n",
      "image 4/6 /kaggle/input/blood-vessel-segmentation/test/kidney_6/images/0000.tif: 1312x928 (no detections), 21.2ms\n",
      "image 5/6 /kaggle/input/blood-vessel-segmentation/test/kidney_6/images/0001.tif: 1312x928 (no detections), 21.2ms\n",
      "image 6/6 /kaggle/input/blood-vessel-segmentation/test/kidney_6/images/0002.tif: 1312x928 (no detections), 21.2ms\n",
      "Speed: 9.1ms preprocess, 21.2ms inference, 12.6ms postprocess per image at shape (1, 3, 1312, 928)\n"
     ]
    }
   ],
   "source": [
    "submission_list = []\n",
    "for result in results:\n",
    "    img_id = extract_id_from_result(result)\n",
    "    rle = get_rle_from_result(result)\n",
    "    submission_list.append({\n",
    "        'id': img_id,\n",
    "        'rle': rle\n",
    "    })\n",
    "\n",
    "df = pd.DataFrame(submission_list, columns=['id', 'rle'])\n",
    "\n",
    "df.to_csv('submission.csv', index=False)\n"
   ]
  },
  {
   "cell_type": "code",
   "execution_count": null,
   "id": "604809f1",
   "metadata": {
    "papermill": {
     "duration": 0.005443,
     "end_time": "2024-01-18T14:57:26.831251",
     "exception": false,
     "start_time": "2024-01-18T14:57:26.825808",
     "status": "completed"
    },
    "tags": []
   },
   "outputs": [],
   "source": []
  }
 ],
 "metadata": {
  "kaggle": {
   "accelerator": "nvidiaTeslaT4",
   "dataSources": [
    {
     "databundleVersionId": 6962461,
     "sourceId": 61446,
     "sourceType": "competition"
    },
    {
     "sourceId": 158586749,
     "sourceType": "kernelVersion"
    },
    {
     "sourceId": 159445509,
     "sourceType": "kernelVersion"
    }
   ],
   "dockerImageVersionId": 30627,
   "isGpuEnabled": true,
   "isInternetEnabled": false,
   "language": "python",
   "sourceType": "notebook"
  },
  "kernelspec": {
   "display_name": "Python 3",
   "language": "python",
   "name": "python3"
  },
  "language_info": {
   "codemirror_mode": {
    "name": "ipython",
    "version": 3
   },
   "file_extension": ".py",
   "mimetype": "text/x-python",
   "name": "python",
   "nbconvert_exporter": "python",
   "pygments_lexer": "ipython3",
   "version": "3.10.12"
  },
  "papermill": {
   "default_parameters": {},
   "duration": 35.205502,
   "end_time": "2024-01-18T14:57:28.359355",
   "environment_variables": {},
   "exception": null,
   "input_path": "__notebook__.ipynb",
   "output_path": "__notebook__.ipynb",
   "parameters": {},
   "start_time": "2024-01-18T14:56:53.153853",
   "version": "2.4.0"
  }
 },
 "nbformat": 4,
 "nbformat_minor": 5
}
