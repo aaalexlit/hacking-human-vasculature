{
 "cells": [
  {
   "cell_type": "code",
   "execution_count": 1,
   "id": "93924e0d",
   "metadata": {
    "_cell_guid": "92f3a220-139d-4c55-a6f3-e90c068395bb",
    "_uuid": "6fe71b12-5fd1-4e35-9e8e-03816ec3b539",
    "collapsed": false,
    "execution": {
     "iopub.execute_input": "2024-01-15T19:27:47.856499Z",
     "iopub.status.busy": "2024-01-15T19:27:47.856185Z",
     "iopub.status.idle": "2024-01-15T19:28:20.490488Z",
     "shell.execute_reply": "2024-01-15T19:28:20.489429Z"
    },
    "jupyter": {
     "outputs_hidden": false
    },
    "papermill": {
     "duration": 32.645351,
     "end_time": "2024-01-15T19:28:20.493132",
     "exception": false,
     "start_time": "2024-01-15T19:27:47.847781",
     "status": "completed"
    },
    "tags": []
   },
   "outputs": [
    {
     "name": "stdout",
     "output_type": "stream",
     "text": [
      "Collecting ultralytics\r\n",
      "  Obtaining dependency information for ultralytics from https://files.pythonhosted.org/packages/5c/1c/8e6e50fea7b6e89a953af59ced80d6c6c1a140fa214a39a019d3cb807290/ultralytics-8.1.1-py3-none-any.whl.metadata\r\n",
      "  Downloading ultralytics-8.1.1-py3-none-any.whl.metadata (40 kB)\r\n",
      "\u001b[2K     \u001b[90m━━━━━━━━━━━━━━━━━━━━━━━━━━━━━━━━━━━━━━━\u001b[0m \u001b[32m40.1/40.1 kB\u001b[0m \u001b[31m326.9 kB/s\u001b[0m eta \u001b[36m0:00:00\u001b[0m\r\n",
      "\u001b[?25hRequirement already satisfied: matplotlib>=3.3.0 in /opt/conda/lib/python3.10/site-packages (from ultralytics) (3.7.4)\r\n",
      "Requirement already satisfied: numpy>=1.22.2 in /opt/conda/lib/python3.10/site-packages (from ultralytics) (1.24.3)\r\n",
      "Requirement already satisfied: opencv-python>=4.6.0 in /opt/conda/lib/python3.10/site-packages (from ultralytics) (4.9.0.80)\r\n",
      "Requirement already satisfied: pillow>=7.1.2 in /opt/conda/lib/python3.10/site-packages (from ultralytics) (9.5.0)\r\n",
      "Requirement already satisfied: pyyaml>=5.3.1 in /opt/conda/lib/python3.10/site-packages (from ultralytics) (6.0.1)\r\n",
      "Requirement already satisfied: requests>=2.23.0 in /opt/conda/lib/python3.10/site-packages (from ultralytics) (2.31.0)\r\n",
      "Requirement already satisfied: scipy>=1.4.1 in /opt/conda/lib/python3.10/site-packages (from ultralytics) (1.11.4)\r\n",
      "Requirement already satisfied: torch>=1.8.0 in /opt/conda/lib/python3.10/site-packages (from ultralytics) (2.0.0)\r\n",
      "Requirement already satisfied: torchvision>=0.9.0 in /opt/conda/lib/python3.10/site-packages (from ultralytics) (0.15.1)\r\n",
      "Requirement already satisfied: tqdm>=4.64.0 in /opt/conda/lib/python3.10/site-packages (from ultralytics) (4.66.1)\r\n",
      "Requirement already satisfied: psutil in /opt/conda/lib/python3.10/site-packages (from ultralytics) (5.9.3)\r\n",
      "Requirement already satisfied: py-cpuinfo in /opt/conda/lib/python3.10/site-packages (from ultralytics) (9.0.0)\r\n",
      "Collecting thop>=0.1.1 (from ultralytics)\r\n",
      "  Downloading thop-0.1.1.post2209072238-py3-none-any.whl (15 kB)\r\n",
      "Requirement already satisfied: pandas>=1.1.4 in /opt/conda/lib/python3.10/site-packages (from ultralytics) (2.0.3)\r\n",
      "Requirement already satisfied: seaborn>=0.11.0 in /opt/conda/lib/python3.10/site-packages (from ultralytics) (0.12.2)\r\n",
      "Collecting hub-sdk>=0.0.2 (from ultralytics)\r\n",
      "  Obtaining dependency information for hub-sdk>=0.0.2 from https://files.pythonhosted.org/packages/2f/e0/b3db53becb3c0fa6ad9ddf4d047f4b7dbe85987594bcdd4d1b247f951522/hub_sdk-0.0.3-py3-none-any.whl.metadata\r\n",
      "  Downloading hub_sdk-0.0.3-py3-none-any.whl.metadata (8.8 kB)\r\n",
      "Requirement already satisfied: contourpy>=1.0.1 in /opt/conda/lib/python3.10/site-packages (from matplotlib>=3.3.0->ultralytics) (1.1.0)\r\n",
      "Requirement already satisfied: cycler>=0.10 in /opt/conda/lib/python3.10/site-packages (from matplotlib>=3.3.0->ultralytics) (0.11.0)\r\n",
      "Requirement already satisfied: fonttools>=4.22.0 in /opt/conda/lib/python3.10/site-packages (from matplotlib>=3.3.0->ultralytics) (4.42.1)\r\n",
      "Requirement already satisfied: kiwisolver>=1.0.1 in /opt/conda/lib/python3.10/site-packages (from matplotlib>=3.3.0->ultralytics) (1.4.4)\r\n",
      "Requirement already satisfied: packaging>=20.0 in /opt/conda/lib/python3.10/site-packages (from matplotlib>=3.3.0->ultralytics) (21.3)\r\n",
      "Requirement already satisfied: pyparsing>=2.3.1 in /opt/conda/lib/python3.10/site-packages (from matplotlib>=3.3.0->ultralytics) (3.0.9)\r\n",
      "Requirement already satisfied: python-dateutil>=2.7 in /opt/conda/lib/python3.10/site-packages (from matplotlib>=3.3.0->ultralytics) (2.8.2)\r\n",
      "Requirement already satisfied: pytz>=2020.1 in /opt/conda/lib/python3.10/site-packages (from pandas>=1.1.4->ultralytics) (2023.3)\r\n",
      "Requirement already satisfied: tzdata>=2022.1 in /opt/conda/lib/python3.10/site-packages (from pandas>=1.1.4->ultralytics) (2023.3)\r\n",
      "Requirement already satisfied: charset-normalizer<4,>=2 in /opt/conda/lib/python3.10/site-packages (from requests>=2.23.0->ultralytics) (3.2.0)\r\n",
      "Requirement already satisfied: idna<4,>=2.5 in /opt/conda/lib/python3.10/site-packages (from requests>=2.23.0->ultralytics) (3.4)\r\n",
      "Requirement already satisfied: urllib3<3,>=1.21.1 in /opt/conda/lib/python3.10/site-packages (from requests>=2.23.0->ultralytics) (1.26.15)\r\n",
      "Requirement already satisfied: certifi>=2017.4.17 in /opt/conda/lib/python3.10/site-packages (from requests>=2.23.0->ultralytics) (2023.11.17)\r\n",
      "Requirement already satisfied: filelock in /opt/conda/lib/python3.10/site-packages (from torch>=1.8.0->ultralytics) (3.12.2)\r\n",
      "Requirement already satisfied: typing-extensions in /opt/conda/lib/python3.10/site-packages (from torch>=1.8.0->ultralytics) (4.5.0)\r\n",
      "Requirement already satisfied: sympy in /opt/conda/lib/python3.10/site-packages (from torch>=1.8.0->ultralytics) (1.12)\r\n",
      "Requirement already satisfied: networkx in /opt/conda/lib/python3.10/site-packages (from torch>=1.8.0->ultralytics) (3.1)\r\n",
      "Requirement already satisfied: jinja2 in /opt/conda/lib/python3.10/site-packages (from torch>=1.8.0->ultralytics) (3.1.2)\r\n",
      "Requirement already satisfied: six>=1.5 in /opt/conda/lib/python3.10/site-packages (from python-dateutil>=2.7->matplotlib>=3.3.0->ultralytics) (1.16.0)\r\n",
      "Requirement already satisfied: MarkupSafe>=2.0 in /opt/conda/lib/python3.10/site-packages (from jinja2->torch>=1.8.0->ultralytics) (2.1.3)\r\n",
      "Requirement already satisfied: mpmath>=0.19 in /opt/conda/lib/python3.10/site-packages (from sympy->torch>=1.8.0->ultralytics) (1.3.0)\r\n",
      "Downloading ultralytics-8.1.1-py3-none-any.whl (699 kB)\r\n",
      "\u001b[2K   \u001b[90m━━━━━━━━━━━━━━━━━━━━━━━━━━━━━━━━━━━━━━━━\u001b[0m \u001b[32m699.8/699.8 kB\u001b[0m \u001b[31m1.3 MB/s\u001b[0m eta \u001b[36m0:00:00\u001b[0m\r\n",
      "\u001b[?25hDownloading hub_sdk-0.0.3-py3-none-any.whl (37 kB)\r\n",
      "Installing collected packages: hub-sdk, thop, ultralytics\r\n",
      "Successfully installed hub-sdk-0.0.3 thop-0.1.1.post2209072238 ultralytics-8.1.1\r\n",
      "Requirement already satisfied: ipywidgets in /opt/conda/lib/python3.10/site-packages (7.7.1)\r\n",
      "Collecting ipywidgets\r\n",
      "  Obtaining dependency information for ipywidgets from https://files.pythonhosted.org/packages/4a/0e/57ed498fafbc60419a9332d872e929879ceba2d73cb11d284d7112472b3e/ipywidgets-8.1.1-py3-none-any.whl.metadata\r\n",
      "  Downloading ipywidgets-8.1.1-py3-none-any.whl.metadata (2.4 kB)\r\n",
      "Requirement already satisfied: comm>=0.1.3 in /opt/conda/lib/python3.10/site-packages (from ipywidgets) (0.1.4)\r\n",
      "Requirement already satisfied: ipython>=6.1.0 in /opt/conda/lib/python3.10/site-packages (from ipywidgets) (8.14.0)\r\n",
      "Requirement already satisfied: traitlets>=4.3.1 in /opt/conda/lib/python3.10/site-packages (from ipywidgets) (5.9.0)\r\n",
      "Collecting widgetsnbextension~=4.0.9 (from ipywidgets)\r\n",
      "  Obtaining dependency information for widgetsnbextension~=4.0.9 from https://files.pythonhosted.org/packages/29/03/107d96077c4befed191f7ad1a12c7b52a8f9d2778a5836d59f9855c105f6/widgetsnbextension-4.0.9-py3-none-any.whl.metadata\r\n",
      "  Downloading widgetsnbextension-4.0.9-py3-none-any.whl.metadata (1.6 kB)\r\n",
      "Collecting jupyterlab-widgets~=3.0.9 (from ipywidgets)\r\n",
      "  Obtaining dependency information for jupyterlab-widgets~=3.0.9 from https://files.pythonhosted.org/packages/e8/05/0ebab152288693b5ec7b339aab857362947031143b282853b4c2dd4b5b40/jupyterlab_widgets-3.0.9-py3-none-any.whl.metadata\r\n",
      "  Downloading jupyterlab_widgets-3.0.9-py3-none-any.whl.metadata (4.1 kB)\r\n",
      "Requirement already satisfied: backcall in /opt/conda/lib/python3.10/site-packages (from ipython>=6.1.0->ipywidgets) (0.2.0)\r\n",
      "Requirement already satisfied: decorator in /opt/conda/lib/python3.10/site-packages (from ipython>=6.1.0->ipywidgets) (5.1.1)\r\n",
      "Requirement already satisfied: jedi>=0.16 in /opt/conda/lib/python3.10/site-packages (from ipython>=6.1.0->ipywidgets) (0.19.0)\r\n",
      "Requirement already satisfied: matplotlib-inline in /opt/conda/lib/python3.10/site-packages (from ipython>=6.1.0->ipywidgets) (0.1.6)\r\n",
      "Requirement already satisfied: pickleshare in /opt/conda/lib/python3.10/site-packages (from ipython>=6.1.0->ipywidgets) (0.7.5)\r\n",
      "Requirement already satisfied: prompt-toolkit!=3.0.37,<3.1.0,>=3.0.30 in /opt/conda/lib/python3.10/site-packages (from ipython>=6.1.0->ipywidgets) (3.0.39)\r\n",
      "Requirement already satisfied: pygments>=2.4.0 in /opt/conda/lib/python3.10/site-packages (from ipython>=6.1.0->ipywidgets) (2.16.1)\r\n",
      "Requirement already satisfied: stack-data in /opt/conda/lib/python3.10/site-packages (from ipython>=6.1.0->ipywidgets) (0.6.2)\r\n",
      "Requirement already satisfied: pexpect>4.3 in /opt/conda/lib/python3.10/site-packages (from ipython>=6.1.0->ipywidgets) (4.8.0)\r\n",
      "Requirement already satisfied: parso<0.9.0,>=0.8.3 in /opt/conda/lib/python3.10/site-packages (from jedi>=0.16->ipython>=6.1.0->ipywidgets) (0.8.3)\r\n",
      "Requirement already satisfied: ptyprocess>=0.5 in /opt/conda/lib/python3.10/site-packages (from pexpect>4.3->ipython>=6.1.0->ipywidgets) (0.7.0)\r\n",
      "Requirement already satisfied: wcwidth in /opt/conda/lib/python3.10/site-packages (from prompt-toolkit!=3.0.37,<3.1.0,>=3.0.30->ipython>=6.1.0->ipywidgets) (0.2.6)\r\n",
      "Requirement already satisfied: executing>=1.2.0 in /opt/conda/lib/python3.10/site-packages (from stack-data->ipython>=6.1.0->ipywidgets) (1.2.0)\r\n",
      "Requirement already satisfied: asttokens>=2.1.0 in /opt/conda/lib/python3.10/site-packages (from stack-data->ipython>=6.1.0->ipywidgets) (2.2.1)\r\n",
      "Requirement already satisfied: pure-eval in /opt/conda/lib/python3.10/site-packages (from stack-data->ipython>=6.1.0->ipywidgets) (0.2.2)\r\n",
      "Requirement already satisfied: six in /opt/conda/lib/python3.10/site-packages (from asttokens>=2.1.0->stack-data->ipython>=6.1.0->ipywidgets) (1.16.0)\r\n",
      "Downloading ipywidgets-8.1.1-py3-none-any.whl (139 kB)\r\n",
      "\u001b[2K   \u001b[90m━━━━━━━━━━━━━━━━━━━━━━━━━━━━━━━━━━━━━━━━\u001b[0m \u001b[32m139.4/139.4 kB\u001b[0m \u001b[31m1.5 MB/s\u001b[0m eta \u001b[36m0:00:00\u001b[0m\r\n",
      "\u001b[?25hDownloading jupyterlab_widgets-3.0.9-py3-none-any.whl (214 kB)\r\n",
      "\u001b[2K   \u001b[90m━━━━━━━━━━━━━━━━━━━━━━━━━━━━━━━━━━━━━━━━\u001b[0m \u001b[32m214.9/214.9 kB\u001b[0m \u001b[31m4.2 MB/s\u001b[0m eta \u001b[36m0:00:00\u001b[0m\r\n",
      "\u001b[?25hDownloading widgetsnbextension-4.0.9-py3-none-any.whl (2.3 MB)\r\n",
      "\u001b[2K   \u001b[90m━━━━━━━━━━━━━━━━━━━━━━━━━━━━━━━━━━━━━━━━\u001b[0m \u001b[32m2.3/2.3 MB\u001b[0m \u001b[31m23.6 MB/s\u001b[0m eta \u001b[36m0:00:00\u001b[0m\r\n",
      "\u001b[?25hInstalling collected packages: widgetsnbextension, jupyterlab-widgets, ipywidgets\r\n",
      "  Attempting uninstall: widgetsnbextension\r\n",
      "    Found existing installation: widgetsnbextension 3.6.6\r\n",
      "    Uninstalling widgetsnbextension-3.6.6:\r\n",
      "      Successfully uninstalled widgetsnbextension-3.6.6\r\n",
      "  Attempting uninstall: jupyterlab-widgets\r\n",
      "    Found existing installation: jupyterlab-widgets 3.0.8\r\n",
      "    Uninstalling jupyterlab-widgets-3.0.8:\r\n",
      "      Successfully uninstalled jupyterlab-widgets-3.0.8\r\n",
      "  Attempting uninstall: ipywidgets\r\n",
      "    Found existing installation: ipywidgets 7.7.1\r\n",
      "    Uninstalling ipywidgets-7.7.1:\r\n",
      "      Successfully uninstalled ipywidgets-7.7.1\r\n",
      "Successfully installed ipywidgets-8.1.1 jupyterlab-widgets-3.0.9 widgetsnbextension-4.0.9\r\n"
     ]
    }
   ],
   "source": [
    "!pip install ultralytics\n",
    "!pip install -U ipywidgets"
   ]
  },
  {
   "cell_type": "code",
   "execution_count": 2,
   "id": "d6404684",
   "metadata": {
    "execution": {
     "iopub.execute_input": "2024-01-15T19:28:20.515350Z",
     "iopub.status.busy": "2024-01-15T19:28:20.515021Z",
     "iopub.status.idle": "2024-01-15T19:28:24.607293Z",
     "shell.execute_reply": "2024-01-15T19:28:24.606109Z"
    },
    "papermill": {
     "duration": 4.106213,
     "end_time": "2024-01-15T19:28:24.609951",
     "exception": false,
     "start_time": "2024-01-15T19:28:20.503738",
     "status": "completed"
    },
    "tags": []
   },
   "outputs": [],
   "source": [
    "!mkdir -p /kaggle/temp/train/labels\n",
    "!mkdir -p /kaggle/temp/train/images\n",
    "\n",
    "!mkdir -p /kaggle/temp/val/labels\n",
    "!mkdir -p /kaggle/temp/val/images"
   ]
  },
  {
   "cell_type": "code",
   "execution_count": 3,
   "id": "2f6f3d8f",
   "metadata": {
    "execution": {
     "iopub.execute_input": "2024-01-15T19:28:24.633411Z",
     "iopub.status.busy": "2024-01-15T19:28:24.632531Z",
     "iopub.status.idle": "2024-01-15T19:37:31.891480Z",
     "shell.execute_reply": "2024-01-15T19:37:31.890124Z"
    },
    "papermill": {
     "duration": 547.27328,
     "end_time": "2024-01-15T19:37:31.894329",
     "exception": false,
     "start_time": "2024-01-15T19:28:24.621049",
     "status": "completed"
    },
    "tags": []
   },
   "outputs": [],
   "source": [
    "!cp /kaggle/input/kidney-1-dense-to-yolo/train/labels/* /kaggle/temp/train/labels\n",
    "!cp /kaggle/input/kidney-1-dense-to-yolo/train/images/* /kaggle/temp/train/images\n",
    "\n",
    "!cp /kaggle/input/kidney-1-voi-to-yolo/train/labels/* /kaggle/temp/train/labels\n",
    "!cp /kaggle/input/kidney-1-voi-to-yolo/train/images/* /kaggle/temp/train/images\n",
    "\n",
    "!cp /kaggle/input/kidney-2-to-yolo/train/labels/* /kaggle/temp/train/labels\n",
    "!cp /kaggle/input/kidney-2-to-yolo/train/images/* /kaggle/temp/train/images\n",
    "\n",
    "!cp /kaggle/input/kidney-3-sparse-to-yolo/train/labels/* /kaggle/temp/train/labels\n",
    "!cp /kaggle/input/kidney-3-sparse-to-yolo/train/images/* /kaggle/temp/train/images"
   ]
  },
  {
   "cell_type": "code",
   "execution_count": 4,
   "id": "4cd56dea",
   "metadata": {
    "execution": {
     "iopub.execute_input": "2024-01-15T19:37:31.916794Z",
     "iopub.status.busy": "2024-01-15T19:37:31.916473Z",
     "iopub.status.idle": "2024-01-15T19:39:04.195414Z",
     "shell.execute_reply": "2024-01-15T19:39:04.194062Z"
    },
    "papermill": {
     "duration": 92.293275,
     "end_time": "2024-01-15T19:39:04.198379",
     "exception": false,
     "start_time": "2024-01-15T19:37:31.905104",
     "status": "completed"
    },
    "tags": []
   },
   "outputs": [],
   "source": [
    "!cp /kaggle/input/kidney-3-dense-to-yolo/train/labels/* /kaggle/temp/val/labels\n",
    "!cp /kaggle/input/kidney-3-dense-to-yolo/train/images/* /kaggle/temp/val/images"
   ]
  },
  {
   "cell_type": "code",
   "execution_count": 5,
   "id": "86d1b3d3",
   "metadata": {
    "execution": {
     "iopub.execute_input": "2024-01-15T19:39:04.221282Z",
     "iopub.status.busy": "2024-01-15T19:39:04.220936Z",
     "iopub.status.idle": "2024-01-15T19:39:04.225553Z",
     "shell.execute_reply": "2024-01-15T19:39:04.224656Z"
    },
    "papermill": {
     "duration": 0.018041,
     "end_time": "2024-01-15T19:39:04.227549",
     "exception": false,
     "start_time": "2024-01-15T19:39:04.209508",
     "status": "completed"
    },
    "tags": []
   },
   "outputs": [],
   "source": [
    "# !tail /kaggle/input/kidney-1-voi-to-yolo/train/kidney_1_voi.json"
   ]
  },
  {
   "cell_type": "markdown",
   "id": "120e5fa5",
   "metadata": {
    "papermill": {
     "duration": 0.009661,
     "end_time": "2024-01-15T19:39:04.248244",
     "exception": false,
     "start_time": "2024-01-15T19:39:04.238583",
     "status": "completed"
    },
    "tags": []
   },
   "source": [
    "# Write yolo dataset yaml"
   ]
  },
  {
   "cell_type": "code",
   "execution_count": 6,
   "id": "8dad7a9c",
   "metadata": {
    "execution": {
     "iopub.execute_input": "2024-01-15T19:39:04.269360Z",
     "iopub.status.busy": "2024-01-15T19:39:04.268508Z",
     "iopub.status.idle": "2024-01-15T19:39:04.318454Z",
     "shell.execute_reply": "2024-01-15T19:39:04.317649Z"
    },
    "papermill": {
     "duration": 0.062414,
     "end_time": "2024-01-15T19:39:04.320394",
     "exception": false,
     "start_time": "2024-01-15T19:39:04.257980",
     "status": "completed"
    },
    "tags": []
   },
   "outputs": [],
   "source": [
    "import yaml"
   ]
  },
  {
   "cell_type": "code",
   "execution_count": 7,
   "id": "10fd4be9",
   "metadata": {
    "execution": {
     "iopub.execute_input": "2024-01-15T19:39:04.341175Z",
     "iopub.status.busy": "2024-01-15T19:39:04.340870Z",
     "iopub.status.idle": "2024-01-15T19:39:05.339447Z",
     "shell.execute_reply": "2024-01-15T19:39:05.338060Z"
    },
    "papermill": {
     "duration": 1.011796,
     "end_time": "2024-01-15T19:39:05.342229",
     "exception": false,
     "start_time": "2024-01-15T19:39:04.330433",
     "status": "completed"
    },
    "tags": []
   },
   "outputs": [],
   "source": [
    "!mkdir train"
   ]
  },
  {
   "cell_type": "code",
   "execution_count": 8,
   "id": "01d91842",
   "metadata": {
    "execution": {
     "iopub.execute_input": "2024-01-15T19:39:05.365940Z",
     "iopub.status.busy": "2024-01-15T19:39:05.365594Z",
     "iopub.status.idle": "2024-01-15T19:39:05.373919Z",
     "shell.execute_reply": "2024-01-15T19:39:05.373136Z"
    },
    "papermill": {
     "duration": 0.022668,
     "end_time": "2024-01-15T19:39:05.376184",
     "exception": false,
     "start_time": "2024-01-15T19:39:05.353516",
     "status": "completed"
    },
    "tags": []
   },
   "outputs": [],
   "source": [
    "train_path = '/kaggle/temp/train'\n",
    "val_path = '/kaggle/temp/val'\n",
    "names = {0: 'Vessel'}\n",
    "yaml_path = 'train/train.yaml'\n",
    "\n",
    "# Number of classes\n",
    "nc = len(names)\n",
    "\n",
    "# Create a dictionary with the required content\n",
    "yaml_data = {\n",
    "    'names': names,\n",
    "    'nc': nc,\n",
    "    'test': '',\n",
    "    'train': train_path,\n",
    "    'val': val_path\n",
    "}\n",
    "\n",
    "# Write the dictionary to a YAML file\n",
    "with open(yaml_path, 'w') as file:\n",
    "    yaml.dump(yaml_data, file, default_flow_style=False)"
   ]
  },
  {
   "cell_type": "code",
   "execution_count": 9,
   "id": "1105aac1",
   "metadata": {
    "execution": {
     "iopub.execute_input": "2024-01-15T19:39:05.396836Z",
     "iopub.status.busy": "2024-01-15T19:39:05.396566Z",
     "iopub.status.idle": "2024-01-15T19:39:06.480104Z",
     "shell.execute_reply": "2024-01-15T19:39:06.478845Z"
    },
    "papermill": {
     "duration": 1.097225,
     "end_time": "2024-01-15T19:39:06.483270",
     "exception": false,
     "start_time": "2024-01-15T19:39:05.386045",
     "status": "completed"
    },
    "tags": []
   },
   "outputs": [
    {
     "name": "stdout",
     "output_type": "stream",
     "text": [
      "names:\r\n",
      "  0: Vessel\r\n",
      "nc: 1\r\n",
      "test: ''\r\n",
      "train: /kaggle/temp/train\r\n",
      "val: /kaggle/temp/val\r\n"
     ]
    }
   ],
   "source": [
    "!cat {yaml_path}"
   ]
  },
  {
   "cell_type": "code",
   "execution_count": 10,
   "id": "3de0a6cb",
   "metadata": {
    "execution": {
     "iopub.execute_input": "2024-01-15T19:39:06.513721Z",
     "iopub.status.busy": "2024-01-15T19:39:06.513385Z",
     "iopub.status.idle": "2024-01-15T19:39:10.412110Z",
     "shell.execute_reply": "2024-01-15T19:39:10.411166Z"
    },
    "papermill": {
     "duration": 3.916167,
     "end_time": "2024-01-15T19:39:10.414200",
     "exception": false,
     "start_time": "2024-01-15T19:39:06.498033",
     "status": "completed"
    },
    "tags": []
   },
   "outputs": [
    {
     "name": "stderr",
     "output_type": "stream",
     "text": [
      "\u001b[34m\u001b[1mwandb\u001b[0m: W&B API key is configured. Use \u001b[1m`wandb login --relogin`\u001b[0m to force relogin\n",
      "\u001b[34m\u001b[1mwandb\u001b[0m: \u001b[33mWARNING\u001b[0m If you're specifying your api key in code, ensure this code is not shared publicly.\n",
      "\u001b[34m\u001b[1mwandb\u001b[0m: \u001b[33mWARNING\u001b[0m Consider setting the WANDB_API_KEY environment variable, or running `wandb login` from the command line.\n",
      "\u001b[34m\u001b[1mwandb\u001b[0m: Appending key for api.wandb.ai to your netrc file: /root/.netrc\n"
     ]
    },
    {
     "data": {
      "text/plain": [
       "True"
      ]
     },
     "execution_count": 10,
     "metadata": {},
     "output_type": "execute_result"
    }
   ],
   "source": [
    "import wandb\n",
    "from kaggle_secrets import UserSecretsClient\n",
    "user_secrets = UserSecretsClient()\n",
    "wandb_api_key = user_secrets.get_secret(\"wandb-api-key\")\n",
    "wandb.login(key=wandb_api_key)"
   ]
  },
  {
   "cell_type": "code",
   "execution_count": 11,
   "id": "b824c39b",
   "metadata": {
    "execution": {
     "iopub.execute_input": "2024-01-15T19:39:10.436796Z",
     "iopub.status.busy": "2024-01-15T19:39:10.436478Z",
     "iopub.status.idle": "2024-01-15T19:39:20.101390Z",
     "shell.execute_reply": "2024-01-15T19:39:20.100198Z"
    },
    "papermill": {
     "duration": 9.67893,
     "end_time": "2024-01-15T19:39:20.104165",
     "exception": false,
     "start_time": "2024-01-15T19:39:10.425235",
     "status": "completed"
    },
    "tags": []
   },
   "outputs": [
    {
     "name": "stdout",
     "output_type": "stream",
     "text": [
      "Downloading https://github.com/ultralytics/assets/releases/download/v8.1.0/yolov8n-seg.pt to 'yolov8n-seg.pt'...\n"
     ]
    },
    {
     "name": "stderr",
     "output_type": "stream",
     "text": [
      "100%|██████████| 6.73M/6.73M [00:00<00:00, 68.7MB/s]\n"
     ]
    }
   ],
   "source": [
    "from ultralytics import YOLO\n",
    "\n",
    "model = YOLO('yolov8n-seg.pt')"
   ]
  },
  {
   "cell_type": "code",
   "execution_count": 12,
   "id": "37927b11",
   "metadata": {
    "execution": {
     "iopub.execute_input": "2024-01-15T19:39:20.132875Z",
     "iopub.status.busy": "2024-01-15T19:39:20.131783Z",
     "iopub.status.idle": "2024-01-16T00:46:16.431642Z",
     "shell.execute_reply": "2024-01-16T00:46:16.430477Z"
    },
    "papermill": {
     "duration": 18416.326595,
     "end_time": "2024-01-16T00:46:16.444112",
     "exception": false,
     "start_time": "2024-01-15T19:39:20.117517",
     "status": "completed"
    },
    "tags": []
   },
   "outputs": [
    {
     "name": "stdout",
     "output_type": "stream",
     "text": [
      "Ultralytics YOLOv8.1.1 🚀 Python-3.10.12 torch-2.0.0 CUDA:0 (Tesla T4, 15102MiB)\n",
      "                                                     CUDA:1 (Tesla T4, 15102MiB)\n",
      "\u001b[34m\u001b[1mengine/trainer: \u001b[0mtask=segment, mode=train, model=yolov8n-seg.pt, data=train/train.yaml, epochs=200, time=5, patience=30, batch=32, imgsz=1024, save=True, save_period=1, cache=True, device=[0, 1], workers=8, project=hacking_human_vasculature, name=kidney_3_dense_val_rest_train_img_size_1024, exist_ok=False, pretrained=True, optimizer=auto, verbose=True, seed=0, deterministic=True, single_cls=False, rect=False, cos_lr=False, close_mosaic=10, resume=False, amp=True, fraction=1.0, profile=False, freeze=None, multi_scale=False, overlap_mask=True, mask_ratio=4, dropout=0.0, val=True, split=val, save_json=False, save_hybrid=False, conf=None, iou=0.7, max_det=300, half=False, dnn=False, plots=True, source=None, vid_stride=1, stream_buffer=False, visualize=False, augment=False, agnostic_nms=False, classes=None, retina_masks=False, embed=None, show=False, save_frames=False, save_txt=False, save_conf=False, save_crop=False, show_labels=True, show_conf=True, show_boxes=True, line_width=None, format=torchscript, keras=False, optimize=False, int8=False, dynamic=False, simplify=False, opset=None, workspace=4, nms=False, lr0=0.01, lrf=0.01, momentum=0.937, weight_decay=0.0005, warmup_epochs=3.0, warmup_momentum=0.8, warmup_bias_lr=0.1, box=7.5, cls=0.5, dfl=1.5, pose=12.0, kobj=1.0, label_smoothing=0.0, nbs=64, hsv_h=0.015, hsv_s=0.7, hsv_v=0.4, degrees=0.0, translate=0.1, scale=0.5, shear=0.0, perspective=0.0, flipud=0.0, fliplr=0.5, mosaic=1.0, mixup=0.0, copy_paste=0.0, auto_augment=randaugment, erasing=0.4, crop_fraction=1.0, cfg=None, tracker=botsort.yaml, save_dir=hacking_human_vasculature/kidney_3_dense_val_rest_train_img_size_1024\n",
      "Downloading https://ultralytics.com/assets/Arial.ttf to '/root/.config/Ultralytics/Arial.ttf'...\n"
     ]
    },
    {
     "name": "stderr",
     "output_type": "stream",
     "text": [
      "100%|██████████| 755k/755k [00:00<00:00, 13.4MB/s]\n",
      "/opt/conda/lib/python3.10/site-packages/scipy/__init__.py:146: UserWarning: A NumPy version >=1.16.5 and <1.23.0 is required for this version of SciPy (detected version 1.24.3\n",
      "  warnings.warn(f\"A NumPy version >={np_minversion} and <{np_maxversion}\"\n"
     ]
    },
    {
     "name": "stdout",
     "output_type": "stream",
     "text": [
      "Overriding model.yaml nc=80 with nc=1\n",
      "\n",
      "                   from  n    params  module                                       arguments                     \n",
      "  0                  -1  1       464  ultralytics.nn.modules.conv.Conv             [3, 16, 3, 2]                 \n",
      "  1                  -1  1      4672  ultralytics.nn.modules.conv.Conv             [16, 32, 3, 2]                \n",
      "  2                  -1  1      7360  ultralytics.nn.modules.block.C2f             [32, 32, 1, True]             \n",
      "  3                  -1  1     18560  ultralytics.nn.modules.conv.Conv             [32, 64, 3, 2]                \n",
      "  4                  -1  2     49664  ultralytics.nn.modules.block.C2f             [64, 64, 2, True]             \n",
      "  5                  -1  1     73984  ultralytics.nn.modules.conv.Conv             [64, 128, 3, 2]               \n",
      "  6                  -1  2    197632  ultralytics.nn.modules.block.C2f             [128, 128, 2, True]           \n",
      "  7                  -1  1    295424  ultralytics.nn.modules.conv.Conv             [128, 256, 3, 2]              \n",
      "  8                  -1  1    460288  ultralytics.nn.modules.block.C2f             [256, 256, 1, True]           \n",
      "  9                  -1  1    164608  ultralytics.nn.modules.block.SPPF            [256, 256, 5]                 \n",
      " 10                  -1  1         0  torch.nn.modules.upsampling.Upsample         [None, 2, 'nearest']          \n",
      " 11             [-1, 6]  1         0  ultralytics.nn.modules.conv.Concat           [1]                           \n",
      " 12                  -1  1    148224  ultralytics.nn.modules.block.C2f             [384, 128, 1]                 \n",
      " 13                  -1  1         0  torch.nn.modules.upsampling.Upsample         [None, 2, 'nearest']          \n",
      " 14             [-1, 4]  1         0  ultralytics.nn.modules.conv.Concat           [1]                           \n",
      " 15                  -1  1     37248  ultralytics.nn.modules.block.C2f             [192, 64, 1]                  \n",
      " 16                  -1  1     36992  ultralytics.nn.modules.conv.Conv             [64, 64, 3, 2]                \n",
      " 17            [-1, 12]  1         0  ultralytics.nn.modules.conv.Concat           [1]                           \n",
      " 18                  -1  1    123648  ultralytics.nn.modules.block.C2f             [192, 128, 1]                 \n",
      " 19                  -1  1    147712  ultralytics.nn.modules.conv.Conv             [128, 128, 3, 2]              \n",
      " 20             [-1, 9]  1         0  ultralytics.nn.modules.conv.Concat           [1]                           \n",
      " 21                  -1  1    493056  ultralytics.nn.modules.block.C2f             [384, 256, 1]                 \n",
      " 22        [15, 18, 21]  1   1004275  ultralytics.nn.modules.head.Segment          [1, 32, 64, [64, 128, 256]]   \n",
      "YOLOv8n-seg summary: 261 layers, 3263811 parameters, 3263795 gradients, 12.1 GFLOPs\n",
      "\n",
      "Transferred 381/417 items from pretrained weights\n",
      "\u001b[34m\u001b[1mDDP:\u001b[0m debug command /opt/conda/bin/python -m torch.distributed.run --nproc_per_node 2 --master_port 41987 /root/.config/Ultralytics/DDP/_temp_e40io9uj138014395809216.py\n",
      "Ultralytics YOLOv8.1.1 🚀 Python-3.10.12 torch-2.0.0 CUDA:0 (Tesla T4, 15102MiB)\n",
      "                                                     CUDA:1 (Tesla T4, 15102MiB)\n"
     ]
    },
    {
     "name": "stderr",
     "output_type": "stream",
     "text": [
      "/opt/conda/lib/python3.10/site-packages/scipy/__init__.py:146: UserWarning: A NumPy version >=1.16.5 and <1.23.0 is required for this version of SciPy (detected version 1.24.3\n",
      "  warnings.warn(f\"A NumPy version >={np_minversion} and <{np_maxversion}\"\n"
     ]
    },
    {
     "name": "stdout",
     "output_type": "stream",
     "text": [
      "\u001b[34m\u001b[1mTensorBoard: \u001b[0mStart with 'tensorboard --logdir hacking_human_vasculature/kidney_3_dense_val_rest_train_img_size_1024', view at http://localhost:6006/\n"
     ]
    },
    {
     "name": "stderr",
     "output_type": "stream",
     "text": [
      "wandb: Currently logged in as: aaalex-lit. Use `wandb login --relogin` to force relogin\n",
      "wandb: Tracking run with wandb version 0.16.2\n",
      "wandb: Run data is saved locally in /kaggle/working/wandb/run-20240115_193956-i5j14hne\n",
      "wandb: Run `wandb offline` to turn off syncing.\n",
      "wandb: Syncing run kidney_3_dense_val_rest_train_img_size_1024\n",
      "wandb: ⭐️ View project at https://wandb.ai/aaalex-lit/hacking_human_vasculature\n",
      "wandb: 🚀 View run at https://wandb.ai/aaalex-lit/hacking_human_vasculature/runs/i5j14hne\n"
     ]
    },
    {
     "name": "stdout",
     "output_type": "stream",
     "text": [
      "Overriding model.yaml nc=80 with nc=1\n",
      "Transferred 381/417 items from pretrained weights\n",
      "Freezing layer 'model.22.dfl.conv.weight'\n",
      "\u001b[34m\u001b[1mAMP: \u001b[0mrunning Automatic Mixed Precision (AMP) checks with YOLOv8n...\n",
      "Downloading https://github.com/ultralytics/assets/releases/download/v8.1.0/yolov8n.pt to 'yolov8n.pt'...\n"
     ]
    },
    {
     "name": "stderr",
     "output_type": "stream",
     "text": [
      "100%|██████████| 6.23M/6.23M [00:00<00:00, 70.1MB/s]\n"
     ]
    },
    {
     "name": "stdout",
     "output_type": "stream",
     "text": [
      "\u001b[34m\u001b[1mAMP: \u001b[0mchecks passed ✅\n"
     ]
    },
    {
     "name": "stderr",
     "output_type": "stream",
     "text": [
      "\u001b[34m\u001b[1mtrain: \u001b[0mScanning /kaggle/temp/train/labels... 6571 images, 357 backgrounds, 0 corrupt: 100%|██████████| 6928/6928 [00:28<00:00, 239.70it/s]\n"
     ]
    },
    {
     "name": "stdout",
     "output_type": "stream",
     "text": [
      "\u001b[34m\u001b[1mtrain: \u001b[0mNew cache created: /kaggle/temp/train/labels.cache\n"
     ]
    },
    {
     "name": "stderr",
     "output_type": "stream",
     "text": [
      "\u001b[34m\u001b[1mtrain: \u001b[0mCaching images (15.9GB True): 100%|██████████| 6928/6928 [01:55<00:00, 59.98it/s]\n"
     ]
    },
    {
     "name": "stdout",
     "output_type": "stream",
     "text": [
      "\u001b[34m\u001b[1malbumentations: \u001b[0mBlur(p=0.01, blur_limit=(3, 7)), MedianBlur(p=0.01, blur_limit=(3, 7)), ToGray(p=0.01), CLAHE(p=0.01, clip_limit=(1, 4.0), tile_grid_size=(8, 8))\n"
     ]
    },
    {
     "name": "stderr",
     "output_type": "stream",
     "text": [
      "\u001b[34m\u001b[1mval: \u001b[0mScanning /kaggle/temp/val/labels... 456 images, 579 backgrounds, 0 corrupt: 100%|██████████| 1035/1035 [00:04<00:00, 249.47it/s]\n"
     ]
    },
    {
     "name": "stdout",
     "output_type": "stream",
     "text": [
      "\u001b[34m\u001b[1mval: \u001b[0mNew cache created: /kaggle/temp/val/labels.cache\n"
     ]
    },
    {
     "name": "stderr",
     "output_type": "stream",
     "text": [
      "\u001b[34m\u001b[1mval: \u001b[0mCaching images (2.7GB True): 100%|██████████| 1035/1035 [00:40<00:00, 25.48it/s]\n"
     ]
    },
    {
     "name": "stdout",
     "output_type": "stream",
     "text": [
      "Plotting labels to hacking_human_vasculature/kidney_3_dense_val_rest_train_img_size_1024/labels.jpg... \n",
      "\u001b[34m\u001b[1moptimizer:\u001b[0m 'optimizer=auto' found, ignoring 'lr0=0.01' and 'momentum=0.937' and determining best 'optimizer', 'lr0' and 'momentum' automatically... \n",
      "\u001b[34m\u001b[1moptimizer:\u001b[0m SGD(lr=0.01, momentum=0.9) with parameter groups 66 weight(decay=0.0), 77 weight(decay=0.0005), 76 bias(decay=0.0)\n",
      "Image sizes 1024 train, 1024 val\n",
      "Using 4 dataloader workers\n",
      "Logging results to \u001b[1mhacking_human_vasculature/kidney_3_dense_val_rest_train_img_size_1024\u001b[0m\n",
      "Starting training for 5 hours...\n",
      "\n",
      "      Epoch    GPU_mem   box_loss   seg_loss   cls_loss   dfl_loss  Instances       Size\n"
     ]
    },
    {
     "name": "stderr",
     "output_type": "stream",
     "text": [
      "  0%|          | 0/217 [00:00<?, ?it/s]/opt/conda/lib/python3.10/site-packages/scipy/__init__.py:146: UserWarning: A NumPy version >=1.16.5 and <1.23.0 is required for this version of SciPy (detected version 1.24.3\n",
      "  warnings.warn(f\"A NumPy version >={np_minversion} and <{np_maxversion}\"\n",
      "      1/200      11.5G      1.424      1.742      2.046     0.9335        321       1024: 100%|██████████| 217/217 [09:56<00:00,  2.75s/it]\n",
      "                 Class     Images  Instances      Box(P          R      mAP50  mAP50-95)     Mask(P          R      mAP50  mAP50-95): 100%|██████████| 33/33 [00:25<00:00,  1.30it/s]\n"
     ]
    },
    {
     "name": "stdout",
     "output_type": "stream",
     "text": [
      "                   all       1035      41540      0.429      0.237      0.161     0.0729      0.306      0.189      0.115     0.0425\n",
      "\n",
      "      Epoch    GPU_mem   box_loss   seg_loss   cls_loss   dfl_loss  Instances       Size\n"
     ]
    },
    {
     "name": "stderr",
     "output_type": "stream",
     "text": [
      "       2/29        12G      1.206      1.122     0.9954     0.8404        224       1024: 100%|██████████| 217/217 [08:17<00:00,  2.29s/it]\n",
      "                 Class     Images  Instances      Box(P          R      mAP50  mAP50-95)     Mask(P          R      mAP50  mAP50-95): 100%|██████████| 33/33 [00:23<00:00,  1.42it/s]\n"
     ]
    },
    {
     "name": "stdout",
     "output_type": "stream",
     "text": [
      "                   all       1035      41540      0.395      0.189      0.133     0.0668       0.31      0.149     0.0956     0.0343\n",
      "\n",
      "      Epoch    GPU_mem   box_loss   seg_loss   cls_loss   dfl_loss  Instances       Size\n"
     ]
    },
    {
     "name": "stderr",
     "output_type": "stream",
     "text": [
      "       3/32      12.1G      1.238      1.055     0.8763     0.8429        327       1024: 100%|██████████| 217/217 [07:38<00:00,  2.11s/it]\n",
      "                 Class     Images  Instances      Box(P          R      mAP50  mAP50-95)     Mask(P          R      mAP50  mAP50-95): 100%|██████████| 33/33 [00:23<00:00,  1.43it/s]\n"
     ]
    },
    {
     "name": "stdout",
     "output_type": "stream",
     "text": [
      "                   all       1035      41540      0.378      0.115     0.0811     0.0399      0.328     0.0999     0.0693     0.0283\n",
      "\n",
      "      Epoch    GPU_mem   box_loss   seg_loss   cls_loss   dfl_loss  Instances       Size\n"
     ]
    },
    {
     "name": "stderr",
     "output_type": "stream",
     "text": [
      "       4/33      9.78G      1.167      0.987     0.7602      0.838        477       1024: 100%|██████████| 217/217 [07:56<00:00,  2.20s/it]\n",
      "                 Class     Images  Instances      Box(P          R      mAP50  mAP50-95)     Mask(P          R      mAP50  mAP50-95): 100%|██████████| 33/33 [00:22<00:00,  1.46it/s]\n"
     ]
    },
    {
     "name": "stdout",
     "output_type": "stream",
     "text": [
      "                   all       1035      41540      0.463       0.22      0.182     0.0864      0.349      0.171      0.132     0.0504\n",
      "\n",
      "      Epoch    GPU_mem   box_loss   seg_loss   cls_loss   dfl_loss  Instances       Size\n"
     ]
    },
    {
     "name": "stderr",
     "output_type": "stream",
     "text": [
      "       5/34        11G      1.079     0.8986     0.6749     0.8266        556       1024: 100%|██████████| 217/217 [07:48<00:00,  2.16s/it]\n",
      "                 Class     Images  Instances      Box(P          R      mAP50  mAP50-95)     Mask(P          R      mAP50  mAP50-95): 100%|██████████| 33/33 [00:21<00:00,  1.53it/s]\n"
     ]
    },
    {
     "name": "stdout",
     "output_type": "stream",
     "text": [
      "                   all       1035      41540      0.427      0.271      0.191     0.0915      0.308      0.227       0.15     0.0663\n",
      "\n",
      "      Epoch    GPU_mem   box_loss   seg_loss   cls_loss   dfl_loss  Instances       Size\n"
     ]
    },
    {
     "name": "stderr",
     "output_type": "stream",
     "text": [
      "       6/35      9.55G      1.025     0.8562     0.6311     0.8215        455       1024: 100%|██████████| 217/217 [07:36<00:00,  2.10s/it]\n",
      "                 Class     Images  Instances      Box(P          R      mAP50  mAP50-95)     Mask(P          R      mAP50  mAP50-95): 100%|██████████| 33/33 [00:21<00:00,  1.55it/s]\n"
     ]
    },
    {
     "name": "stdout",
     "output_type": "stream",
     "text": [
      "                   all       1035      41540      0.449      0.273      0.212        0.1      0.314      0.201      0.147     0.0628\n",
      "\n",
      "      Epoch    GPU_mem   box_loss   seg_loss   cls_loss   dfl_loss  Instances       Size\n"
     ]
    },
    {
     "name": "stderr",
     "output_type": "stream",
     "text": [
      "       7/35      9.18G     0.9712     0.8168     0.5952     0.8167        195       1024: 100%|██████████| 217/217 [07:47<00:00,  2.15s/it]\n",
      "                 Class     Images  Instances      Box(P          R      mAP50  mAP50-95)     Mask(P          R      mAP50  mAP50-95): 100%|██████████| 33/33 [00:22<00:00,  1.48it/s]\n"
     ]
    },
    {
     "name": "stdout",
     "output_type": "stream",
     "text": [
      "                   all       1035      41540      0.461      0.284      0.199     0.0959      0.364      0.255      0.171     0.0733\n",
      "\n",
      "      Epoch    GPU_mem   box_loss   seg_loss   cls_loss   dfl_loss  Instances       Size\n"
     ]
    },
    {
     "name": "stderr",
     "output_type": "stream",
     "text": [
      "       8/35      10.3G     0.9351     0.7895     0.5707     0.8133        308       1024: 100%|██████████| 217/217 [07:04<00:00,  1.95s/it]\n",
      "                 Class     Images  Instances      Box(P          R      mAP50  mAP50-95)     Mask(P          R      mAP50  mAP50-95): 100%|██████████| 33/33 [00:22<00:00,  1.49it/s]\n"
     ]
    },
    {
     "name": "stdout",
     "output_type": "stream",
     "text": [
      "                   all       1035      41540      0.477      0.305      0.235      0.122      0.374      0.277      0.213      0.104\n",
      "\n",
      "      Epoch    GPU_mem   box_loss   seg_loss   cls_loss   dfl_loss  Instances       Size\n"
     ]
    },
    {
     "name": "stderr",
     "output_type": "stream",
     "text": [
      "       9/36      9.89G     0.9146     0.7696      0.551     0.8116        585       1024: 100%|██████████| 217/217 [07:03<00:00,  1.95s/it]\n",
      "                 Class     Images  Instances      Box(P          R      mAP50  mAP50-95)     Mask(P          R      mAP50  mAP50-95): 100%|██████████| 33/33 [00:22<00:00,  1.49it/s]\n"
     ]
    },
    {
     "name": "stdout",
     "output_type": "stream",
     "text": [
      "                   all       1035      41540      0.464      0.288      0.212      0.107      0.353      0.243      0.176     0.0788\n",
      "\n",
      "      Epoch    GPU_mem   box_loss   seg_loss   cls_loss   dfl_loss  Instances       Size\n"
     ]
    },
    {
     "name": "stderr",
     "output_type": "stream",
     "text": [
      "      10/36      10.2G     0.8956     0.7549     0.5387     0.8073        302       1024: 100%|██████████| 217/217 [07:10<00:00,  1.98s/it]\n",
      "                 Class     Images  Instances      Box(P          R      mAP50  mAP50-95)     Mask(P          R      mAP50  mAP50-95): 100%|██████████| 33/33 [00:21<00:00,  1.53it/s]\n"
     ]
    },
    {
     "name": "stdout",
     "output_type": "stream",
     "text": [
      "                   all       1035      41540      0.479      0.306       0.24      0.128      0.357       0.27      0.206        0.1\n",
      "\n",
      "      Epoch    GPU_mem   box_loss   seg_loss   cls_loss   dfl_loss  Instances       Size\n"
     ]
    },
    {
     "name": "stderr",
     "output_type": "stream",
     "text": [
      "      11/37      9.37G     0.8721     0.7374     0.5255     0.8058        380       1024: 100%|██████████| 217/217 [07:11<00:00,  1.99s/it]\n",
      "                 Class     Images  Instances      Box(P          R      mAP50  mAP50-95)     Mask(P          R      mAP50  mAP50-95): 100%|██████████| 33/33 [00:21<00:00,  1.54it/s]\n"
     ]
    },
    {
     "name": "stdout",
     "output_type": "stream",
     "text": [
      "                   all       1035      41540      0.492      0.301      0.261      0.139      0.392      0.252      0.223      0.114\n",
      "\n",
      "      Epoch    GPU_mem   box_loss   seg_loss   cls_loss   dfl_loss  Instances       Size\n"
     ]
    },
    {
     "name": "stderr",
     "output_type": "stream",
     "text": [
      "      12/37      10.2G     0.8608     0.7205     0.5164     0.8029        258       1024: 100%|██████████| 217/217 [07:26<00:00,  2.06s/it]\n",
      "                 Class     Images  Instances      Box(P          R      mAP50  mAP50-95)     Mask(P          R      mAP50  mAP50-95): 100%|██████████| 33/33 [00:22<00:00,  1.48it/s]\n"
     ]
    },
    {
     "name": "stdout",
     "output_type": "stream",
     "text": [
      "                   all       1035      41540      0.483      0.314      0.232      0.124       0.35      0.268      0.188     0.0882\n",
      "\n",
      "      Epoch    GPU_mem   box_loss   seg_loss   cls_loss   dfl_loss  Instances       Size\n"
     ]
    },
    {
     "name": "stderr",
     "output_type": "stream",
     "text": [
      "      13/37      11.6G     0.8485     0.7222     0.5107     0.8047        250       1024: 100%|██████████| 217/217 [07:05<00:00,  1.96s/it]\n",
      "                 Class     Images  Instances      Box(P          R      mAP50  mAP50-95)     Mask(P          R      mAP50  mAP50-95): 100%|██████████| 33/33 [00:21<00:00,  1.53it/s]\n"
     ]
    },
    {
     "name": "stdout",
     "output_type": "stream",
     "text": [
      "                   all       1035      41540      0.493      0.306      0.235      0.126      0.367      0.273      0.207        0.1\n",
      "\n",
      "      Epoch    GPU_mem   box_loss   seg_loss   cls_loss   dfl_loss  Instances       Size\n"
     ]
    },
    {
     "name": "stderr",
     "output_type": "stream",
     "text": [
      "      14/37      9.03G     0.8327      0.713     0.5004     0.8023        272       1024: 100%|██████████| 217/217 [07:14<00:00,  2.00s/it]\n",
      "                 Class     Images  Instances      Box(P          R      mAP50  mAP50-95)     Mask(P          R      mAP50  mAP50-95): 100%|██████████| 33/33 [00:22<00:00,  1.47it/s]\n"
     ]
    },
    {
     "name": "stdout",
     "output_type": "stream",
     "text": [
      "                   all       1035      41540      0.479      0.309      0.245      0.136      0.337      0.236      0.176     0.0794\n",
      "\n",
      "      Epoch    GPU_mem   box_loss   seg_loss   cls_loss   dfl_loss  Instances       Size\n"
     ]
    },
    {
     "name": "stderr",
     "output_type": "stream",
     "text": [
      "      15/38      10.1G     0.8167      0.697     0.4891     0.8014        300       1024: 100%|██████████| 217/217 [07:53<00:00,  2.18s/it]\n",
      "                 Class     Images  Instances      Box(P          R      mAP50  mAP50-95)     Mask(P          R      mAP50  mAP50-95): 100%|██████████| 33/33 [00:22<00:00,  1.46it/s]\n"
     ]
    },
    {
     "name": "stdout",
     "output_type": "stream",
     "text": [
      "                   all       1035      41540       0.49      0.316      0.268      0.144      0.368      0.252      0.211      0.103\n",
      "\n",
      "      Epoch    GPU_mem   box_loss   seg_loss   cls_loss   dfl_loss  Instances       Size\n"
     ]
    },
    {
     "name": "stderr",
     "output_type": "stream",
     "text": [
      "      16/37       9.6G     0.8099     0.6901     0.4853     0.8001        347       1024: 100%|██████████| 217/217 [07:13<00:00,  2.00s/it]\n",
      "                 Class     Images  Instances      Box(P          R      mAP50  mAP50-95)     Mask(P          R      mAP50  mAP50-95): 100%|██████████| 33/33 [00:20<00:00,  1.58it/s]\n"
     ]
    },
    {
     "name": "stdout",
     "output_type": "stream",
     "text": [
      "                   all       1035      41540      0.485      0.318      0.248      0.134      0.368      0.268      0.205     0.0991\n",
      "\n",
      "      Epoch    GPU_mem   box_loss   seg_loss   cls_loss   dfl_loss  Instances       Size\n"
     ]
    },
    {
     "name": "stderr",
     "output_type": "stream",
     "text": [
      "      17/38      11.3G     0.7963     0.6754     0.4742     0.7978        507       1024: 100%|██████████| 217/217 [06:59<00:00,  1.93s/it]\n",
      "                 Class     Images  Instances      Box(P          R      mAP50  mAP50-95)     Mask(P          R      mAP50  mAP50-95): 100%|██████████| 33/33 [00:20<00:00,  1.60it/s]\n"
     ]
    },
    {
     "name": "stdout",
     "output_type": "stream",
     "text": [
      "                   all       1035      41540      0.487      0.306      0.245      0.126      0.347      0.256      0.193     0.0889\n",
      "\n",
      "      Epoch    GPU_mem   box_loss   seg_loss   cls_loss   dfl_loss  Instances       Size\n"
     ]
    },
    {
     "name": "stderr",
     "output_type": "stream",
     "text": [
      "      18/38      11.8G       0.79     0.6767     0.4716     0.7987        306       1024: 100%|██████████| 217/217 [06:58<00:00,  1.93s/it]\n",
      "                 Class     Images  Instances      Box(P          R      mAP50  mAP50-95)     Mask(P          R      mAP50  mAP50-95): 100%|██████████| 33/33 [00:21<00:00,  1.54it/s]\n"
     ]
    },
    {
     "name": "stdout",
     "output_type": "stream",
     "text": [
      "                   all       1035      41540      0.479      0.303      0.243      0.127      0.349      0.234      0.178     0.0825\n",
      "\n",
      "      Epoch    GPU_mem   box_loss   seg_loss   cls_loss   dfl_loss  Instances       Size\n"
     ]
    },
    {
     "name": "stderr",
     "output_type": "stream",
     "text": [
      "      19/38        11G     0.7805     0.6716     0.4642     0.7968        316       1024: 100%|██████████| 217/217 [06:57<00:00,  1.92s/it]\n",
      "                 Class     Images  Instances      Box(P          R      mAP50  mAP50-95)     Mask(P          R      mAP50  mAP50-95): 100%|██████████| 33/33 [00:20<00:00,  1.59it/s]\n"
     ]
    },
    {
     "name": "stdout",
     "output_type": "stream",
     "text": [
      "                   all       1035      41540      0.495      0.313       0.26      0.139      0.371      0.259      0.209        0.1\n",
      "\n",
      "      Epoch    GPU_mem   box_loss   seg_loss   cls_loss   dfl_loss  Instances       Size\n"
     ]
    },
    {
     "name": "stderr",
     "output_type": "stream",
     "text": [
      "      20/38      10.6G     0.7641     0.6571     0.4572     0.7957        236       1024: 100%|██████████| 217/217 [07:32<00:00,  2.08s/it]\n",
      "                 Class     Images  Instances      Box(P          R      mAP50  mAP50-95)     Mask(P          R      mAP50  mAP50-95): 100%|██████████| 33/33 [00:22<00:00,  1.50it/s]\n"
     ]
    },
    {
     "name": "stdout",
     "output_type": "stream",
     "text": [
      "                   all       1035      41540      0.497      0.316      0.278      0.156      0.369      0.244       0.21      0.102\n",
      "\n",
      "      Epoch    GPU_mem   box_loss   seg_loss   cls_loss   dfl_loss  Instances       Size\n"
     ]
    },
    {
     "name": "stderr",
     "output_type": "stream",
     "text": [
      "      21/38      11.4G     0.7668     0.6567     0.4539     0.7959        392       1024: 100%|██████████| 217/217 [06:52<00:00,  1.90s/it]\n",
      "                 Class     Images  Instances      Box(P          R      mAP50  mAP50-95)     Mask(P          R      mAP50  mAP50-95): 100%|██████████| 33/33 [00:19<00:00,  1.67it/s]\n"
     ]
    },
    {
     "name": "stdout",
     "output_type": "stream",
     "text": [
      "                   all       1035      41540      0.496      0.322      0.256      0.139      0.368      0.276      0.215      0.105\n",
      "\n",
      "      Epoch    GPU_mem   box_loss   seg_loss   cls_loss   dfl_loss  Instances       Size\n"
     ]
    },
    {
     "name": "stderr",
     "output_type": "stream",
     "text": [
      "      22/38      11.3G     0.7558     0.6548     0.4478     0.7924        357       1024: 100%|██████████| 217/217 [07:14<00:00,  2.00s/it]\n",
      "                 Class     Images  Instances      Box(P          R      mAP50  mAP50-95)     Mask(P          R      mAP50  mAP50-95): 100%|██████████| 33/33 [00:23<00:00,  1.41it/s]\n"
     ]
    },
    {
     "name": "stdout",
     "output_type": "stream",
     "text": [
      "                   all       1035      41540      0.499      0.315       0.26      0.141      0.366      0.265      0.211      0.101\n",
      "\n",
      "      Epoch    GPU_mem   box_loss   seg_loss   cls_loss   dfl_loss  Instances       Size\n"
     ]
    },
    {
     "name": "stderr",
     "output_type": "stream",
     "text": [
      "      23/38      12.6G     0.7439     0.6451     0.4402     0.7943        286       1024: 100%|██████████| 217/217 [07:40<00:00,  2.12s/it]\n",
      "                 Class     Images  Instances      Box(P          R      mAP50  mAP50-95)     Mask(P          R      mAP50  mAP50-95): 100%|██████████| 33/33 [00:21<00:00,  1.51it/s]\n"
     ]
    },
    {
     "name": "stdout",
     "output_type": "stream",
     "text": [
      "                   all       1035      41540      0.504      0.323      0.254      0.134      0.371      0.279      0.213      0.104\n",
      "\n",
      "      Epoch    GPU_mem   box_loss   seg_loss   cls_loss   dfl_loss  Instances       Size\n"
     ]
    },
    {
     "name": "stderr",
     "output_type": "stream",
     "text": [
      "      24/38      10.2G     0.7442     0.6436     0.4388     0.7915        274       1024: 100%|██████████| 217/217 [07:16<00:00,  2.01s/it]\n",
      "                 Class     Images  Instances      Box(P          R      mAP50  mAP50-95)     Mask(P          R      mAP50  mAP50-95): 100%|██████████| 33/33 [00:21<00:00,  1.56it/s]\n"
     ]
    },
    {
     "name": "stdout",
     "output_type": "stream",
     "text": [
      "                   all       1035      41540      0.483      0.315      0.247      0.135      0.353      0.249      0.188     0.0872\n",
      "\n",
      "      Epoch    GPU_mem   box_loss   seg_loss   cls_loss   dfl_loss  Instances       Size\n"
     ]
    },
    {
     "name": "stderr",
     "output_type": "stream",
     "text": [
      "      25/38      11.1G     0.7304     0.6302     0.4315     0.7922        414       1024: 100%|██████████| 217/217 [06:58<00:00,  1.93s/it]\n",
      "                 Class     Images  Instances      Box(P          R      mAP50  mAP50-95)     Mask(P          R      mAP50  mAP50-95): 100%|██████████| 33/33 [00:20<00:00,  1.64it/s]\n"
     ]
    },
    {
     "name": "stdout",
     "output_type": "stream",
     "text": [
      "                   all       1035      41540        0.5       0.32      0.274       0.15      0.371      0.264      0.217      0.106\n",
      "\n",
      "      Epoch    GPU_mem   box_loss   seg_loss   cls_loss   dfl_loss  Instances       Size\n"
     ]
    },
    {
     "name": "stderr",
     "output_type": "stream",
     "text": [
      "      26/38      10.4G     0.7198     0.6261     0.4268     0.7908        467       1024: 100%|██████████| 217/217 [07:18<00:00,  2.02s/it]\n",
      "                 Class     Images  Instances      Box(P          R      mAP50  mAP50-95)     Mask(P          R      mAP50  mAP50-95): 100%|██████████| 33/33 [00:22<00:00,  1.48it/s]\n"
     ]
    },
    {
     "name": "stdout",
     "output_type": "stream",
     "text": [
      "                   all       1035      41540      0.499      0.324      0.263      0.142      0.365      0.268       0.21      0.102\n"
     ]
    },
    {
     "name": "stderr",
     "output_type": "stream",
     "text": [
      "  0%|          | 0/217 [00:00<?, ?it/s]"
     ]
    },
    {
     "name": "stdout",
     "output_type": "stream",
     "text": [
      "\n",
      "      Epoch    GPU_mem   box_loss   seg_loss   cls_loss   dfl_loss  Instances       Size\n"
     ]
    },
    {
     "name": "stderr",
     "output_type": "stream",
     "text": [
      "      27/39      10.2G     0.7193     0.6278     0.4255     0.7891        264       1024: 100%|██████████| 217/217 [06:52<00:00,  1.90s/it]\n",
      "                 Class     Images  Instances      Box(P          R      mAP50  mAP50-95)     Mask(P          R      mAP50  mAP50-95): 100%|██████████| 33/33 [00:21<00:00,  1.55it/s]\n"
     ]
    },
    {
     "name": "stdout",
     "output_type": "stream",
     "text": [
      "                   all       1035      41540      0.496      0.328      0.265      0.145       0.36       0.27       0.21      0.101\n"
     ]
    },
    {
     "name": "stderr",
     "output_type": "stream",
     "text": [
      "  0%|          | 0/217 [00:00<?, ?it/s]"
     ]
    },
    {
     "name": "stdout",
     "output_type": "stream",
     "text": [
      "\n",
      "      Epoch    GPU_mem   box_loss   seg_loss   cls_loss   dfl_loss  Instances       Size\n"
     ]
    },
    {
     "name": "stderr",
     "output_type": "stream",
     "text": [
      "      28/39      10.6G     0.7198     0.6199     0.4237     0.7894        379       1024: 100%|██████████| 217/217 [06:55<00:00,  1.92s/it]\n",
      "                 Class     Images  Instances      Box(P          R      mAP50  mAP50-95)     Mask(P          R      mAP50  mAP50-95): 100%|██████████| 33/33 [00:20<00:00,  1.65it/s]\n"
     ]
    },
    {
     "name": "stdout",
     "output_type": "stream",
     "text": [
      "                   all       1035      41540      0.504      0.322      0.265      0.145      0.369      0.273      0.214      0.104\n",
      "\n",
      "      Epoch    GPU_mem   box_loss   seg_loss   cls_loss   dfl_loss  Instances       Size\n"
     ]
    },
    {
     "name": "stderr",
     "output_type": "stream",
     "text": [
      "      29/39      10.7G     0.7084     0.6184     0.4175     0.7885        252       1024: 100%|██████████| 217/217 [07:40<00:00,  2.12s/it]\n",
      "                 Class     Images  Instances      Box(P          R      mAP50  mAP50-95)     Mask(P          R      mAP50  mAP50-95): 100%|██████████| 33/33 [00:20<00:00,  1.62it/s]\n"
     ]
    },
    {
     "name": "stdout",
     "output_type": "stream",
     "text": [
      "                   all       1035      41540      0.504      0.321       0.28      0.156       0.37      0.251      0.211      0.102\n",
      "Closing dataloader mosaic\n",
      "\u001b[34m\u001b[1malbumentations: \u001b[0mBlur(p=0.01, blur_limit=(3, 7)), MedianBlur(p=0.01, blur_limit=(3, 7)), ToGray(p=0.01), CLAHE(p=0.01, clip_limit=(1, 4.0), tile_grid_size=(8, 8))\n",
      "\n",
      "      Epoch    GPU_mem   box_loss   seg_loss   cls_loss   dfl_loss  Instances       Size\n"
     ]
    },
    {
     "name": "stderr",
     "output_type": "stream",
     "text": [
      "      30/39      9.73G     0.7238     0.6881     0.4239     0.7885        211       1024: 100%|██████████| 217/217 [04:54<00:00,  1.36s/it]\n",
      "                 Class     Images  Instances      Box(P          R      mAP50  mAP50-95)     Mask(P          R      mAP50  mAP50-95): 100%|██████████| 33/33 [00:19<00:00,  1.65it/s]\n"
     ]
    },
    {
     "name": "stdout",
     "output_type": "stream",
     "text": [
      "                   all       1035      41540      0.505      0.337      0.281      0.172       0.38      0.275      0.226      0.112\n",
      "\n",
      "      Epoch    GPU_mem   box_loss   seg_loss   cls_loss   dfl_loss  Instances       Size\n"
     ]
    },
    {
     "name": "stderr",
     "output_type": "stream",
     "text": [
      "      31/39      9.14G     0.6923     0.6301     0.4095     0.7865        195       1024: 100%|██████████| 217/217 [04:47<00:00,  1.32s/it]\n",
      "                 Class     Images  Instances      Box(P          R      mAP50  mAP50-95)     Mask(P          R      mAP50  mAP50-95): 100%|██████████| 33/33 [00:19<00:00,  1.70it/s]\n"
     ]
    },
    {
     "name": "stdout",
     "output_type": "stream",
     "text": [
      "                   all       1035      41540      0.503      0.342      0.278       0.17      0.358      0.261      0.205     0.0981\n",
      "\n",
      "      Epoch    GPU_mem   box_loss   seg_loss   cls_loss   dfl_loss  Instances       Size\n"
     ]
    },
    {
     "name": "stderr",
     "output_type": "stream",
     "text": [
      "      32/40      10.6G     0.6861     0.6182     0.4034     0.7855        219       1024: 100%|██████████| 217/217 [04:53<00:00,  1.35s/it]\n",
      "                 Class     Images  Instances      Box(P          R      mAP50  mAP50-95)     Mask(P          R      mAP50  mAP50-95): 100%|██████████| 33/33 [00:19<00:00,  1.71it/s]\n"
     ]
    },
    {
     "name": "stdout",
     "output_type": "stream",
     "text": [
      "                   all       1035      41540      0.503      0.338      0.281      0.174      0.365      0.261       0.21      0.101\n",
      "\n",
      "      Epoch    GPU_mem   box_loss   seg_loss   cls_loss   dfl_loss  Instances       Size\n"
     ]
    },
    {
     "name": "stderr",
     "output_type": "stream",
     "text": [
      "      33/40      10.3G       0.68      0.614     0.3993      0.785        286       1024: 100%|██████████| 217/217 [04:42<00:00,  1.30s/it]\n",
      "                 Class     Images  Instances      Box(P          R      mAP50  mAP50-95)     Mask(P          R      mAP50  mAP50-95): 100%|██████████| 33/33 [00:18<00:00,  1.74it/s]\n"
     ]
    },
    {
     "name": "stdout",
     "output_type": "stream",
     "text": [
      "                   all       1035      41540      0.502      0.341      0.284      0.176      0.375      0.266      0.216      0.107\n",
      "\n",
      "      Epoch    GPU_mem   box_loss   seg_loss   cls_loss   dfl_loss  Instances       Size\n"
     ]
    },
    {
     "name": "stderr",
     "output_type": "stream",
     "text": [
      "      34/40      11.4G     0.6772     0.6188     0.3965      0.784        221       1024: 100%|██████████| 217/217 [04:44<00:00,  1.31s/it]\n",
      "                 Class     Images  Instances      Box(P          R      mAP50  mAP50-95)     Mask(P          R      mAP50  mAP50-95): 100%|██████████| 33/33 [00:19<00:00,  1.68it/s]\n"
     ]
    },
    {
     "name": "stdout",
     "output_type": "stream",
     "text": [
      "                   all       1035      41540      0.513       0.34      0.292      0.184      0.378      0.259      0.217      0.106\n",
      "\n",
      "      Epoch    GPU_mem   box_loss   seg_loss   cls_loss   dfl_loss  Instances       Size\n"
     ]
    },
    {
     "name": "stderr",
     "output_type": "stream",
     "text": [
      "      35/41      10.1G     0.6702     0.6075     0.3923     0.7836        200       1024: 100%|██████████| 217/217 [04:48<00:00,  1.33s/it]\n",
      "                 Class     Images  Instances      Box(P          R      mAP50  mAP50-95)     Mask(P          R      mAP50  mAP50-95): 100%|██████████| 33/33 [00:19<00:00,  1.69it/s]\n"
     ]
    },
    {
     "name": "stdout",
     "output_type": "stream",
     "text": [
      "                   all       1035      41540      0.511      0.342      0.291      0.181      0.372      0.267      0.219      0.109\n",
      "\n",
      "      Epoch    GPU_mem   box_loss   seg_loss   cls_loss   dfl_loss  Instances       Size\n"
     ]
    },
    {
     "name": "stderr",
     "output_type": "stream",
     "text": [
      "      36/41      9.24G     0.6686     0.6037     0.3904      0.781        190       1024: 100%|██████████| 217/217 [04:48<00:00,  1.33s/it]\n",
      "                 Class     Images  Instances      Box(P          R      mAP50  mAP50-95)     Mask(P          R      mAP50  mAP50-95): 100%|██████████| 33/33 [00:19<00:00,  1.66it/s]\n"
     ]
    },
    {
     "name": "stdout",
     "output_type": "stream",
     "text": [
      "                   all       1035      41540      0.511      0.345      0.291      0.181      0.369      0.266      0.215      0.105\n",
      "\n",
      "      Epoch    GPU_mem   box_loss   seg_loss   cls_loss   dfl_loss  Instances       Size\n"
     ]
    },
    {
     "name": "stderr",
     "output_type": "stream",
     "text": [
      "      37/41      8.04G     0.6609     0.6004     0.3865     0.7822        343       1024: 100%|██████████| 217/217 [04:42<00:00,  1.30s/it]\n",
      "                 Class     Images  Instances      Box(P          R      mAP50  mAP50-95)     Mask(P          R      mAP50  mAP50-95): 100%|██████████| 33/33 [00:18<00:00,  1.74it/s]\n"
     ]
    },
    {
     "name": "stdout",
     "output_type": "stream",
     "text": [
      "                   all       1035      41540      0.513       0.34      0.297      0.187      0.368      0.255      0.215      0.105\n",
      "\n",
      "      Epoch    GPU_mem   box_loss   seg_loss   cls_loss   dfl_loss  Instances       Size\n"
     ]
    },
    {
     "name": "stderr",
     "output_type": "stream",
     "text": [
      "      38/42      9.42G     0.6637     0.5979     0.3862     0.7825        172       1024: 100%|██████████| 217/217 [04:46<00:00,  1.32s/it]\n",
      "                 Class     Images  Instances      Box(P          R      mAP50  mAP50-95)     Mask(P          R      mAP50  mAP50-95): 100%|██████████| 33/33 [00:20<00:00,  1.63it/s]\n"
     ]
    },
    {
     "name": "stdout",
     "output_type": "stream",
     "text": [
      "                   all       1035      41540      0.511      0.345      0.286      0.178      0.375      0.268      0.215      0.105\n",
      "\n",
      "      Epoch    GPU_mem   box_loss   seg_loss   cls_loss   dfl_loss  Instances       Size\n"
     ]
    },
    {
     "name": "stderr",
     "output_type": "stream",
     "text": [
      "      39/42      8.55G     0.6563     0.5966     0.3811     0.7812        236       1024: 100%|██████████| 217/217 [04:49<00:00,  1.33s/it]\n",
      "                 Class     Images  Instances      Box(P          R      mAP50  mAP50-95)     Mask(P          R      mAP50  mAP50-95): 100%|██████████| 33/33 [00:19<00:00,  1.69it/s]\n"
     ]
    },
    {
     "name": "stdout",
     "output_type": "stream",
     "text": [
      "                   all       1035      41540      0.512      0.346      0.292      0.183      0.377      0.269      0.221       0.11\n",
      "\n",
      "      Epoch    GPU_mem   box_loss   seg_loss   cls_loss   dfl_loss  Instances       Size\n"
     ]
    },
    {
     "name": "stderr",
     "output_type": "stream",
     "text": [
      "      40/42      11.1G     0.6536     0.5986     0.3786     0.7814        200       1024: 100%|██████████| 217/217 [04:51<00:00,  1.34s/it]\n",
      "                 Class     Images  Instances      Box(P          R      mAP50  mAP50-95)     Mask(P          R      mAP50  mAP50-95): 100%|██████████| 33/33 [00:19<00:00,  1.66it/s]\n"
     ]
    },
    {
     "name": "stdout",
     "output_type": "stream",
     "text": [
      "                   all       1035      41540      0.513      0.344      0.291      0.182      0.374      0.268      0.218      0.108\n",
      "\n",
      "      Epoch    GPU_mem   box_loss   seg_loss   cls_loss   dfl_loss  Instances       Size\n"
     ]
    },
    {
     "name": "stderr",
     "output_type": "stream",
     "text": [
      "      41/43      7.87G     0.6475     0.5842      0.376     0.7807        234       1024: 100%|██████████| 217/217 [05:12<00:00,  1.44s/it]\n",
      "                 Class     Images  Instances      Box(P          R      mAP50  mAP50-95)     Mask(P          R      mAP50  mAP50-95): 100%|██████████| 33/33 [00:19<00:00,  1.69it/s]\n"
     ]
    },
    {
     "name": "stdout",
     "output_type": "stream",
     "text": [
      "                   all       1035      41540      0.513      0.344      0.291      0.183      0.374      0.266      0.217      0.107\n",
      "\n",
      "      Epoch    GPU_mem   box_loss   seg_loss   cls_loss   dfl_loss  Instances       Size\n"
     ]
    },
    {
     "name": "stderr",
     "output_type": "stream",
     "text": [
      "      42/43      8.78G     0.6425     0.5861     0.3714     0.7803        263       1024: 100%|██████████| 217/217 [05:12<00:00,  1.44s/it]\n",
      "                 Class     Images  Instances      Box(P          R      mAP50  mAP50-95)     Mask(P          R      mAP50  mAP50-95): 100%|██████████| 33/33 [00:20<00:00,  1.65it/s]\n"
     ]
    },
    {
     "name": "stdout",
     "output_type": "stream",
     "text": [
      "                   all       1035      41540       0.51      0.344      0.294      0.186      0.374      0.266       0.22      0.108\n",
      "\n",
      "      Epoch    GPU_mem   box_loss   seg_loss   cls_loss   dfl_loss  Instances       Size\n"
     ]
    },
    {
     "name": "stderr",
     "output_type": "stream",
     "text": [
      "      43/43      7.42G     0.6404       0.58     0.3681     0.7811        414       1024:  82%|████████▏ | 177/217 [04:07<00:55,  1.40s/it]\n",
      "                 Class     Images  Instances      Box(P          R      mAP50  mAP50-95)     Mask(P          R      mAP50  mAP50-95): 100%|██████████| 33/33 [00:20<00:00,  1.61it/s]\n"
     ]
    },
    {
     "name": "stdout",
     "output_type": "stream",
     "text": [
      "                   all       1035      41540       0.51      0.344      0.288      0.181      0.374      0.268      0.217      0.107\n",
      "\n",
      "43 epochs completed in 5.007 hours.\n",
      "Optimizer stripped from hacking_human_vasculature/kidney_3_dense_val_rest_train_img_size_1024/weights/last.pt, 6.8MB\n",
      "Optimizer stripped from hacking_human_vasculature/kidney_3_dense_val_rest_train_img_size_1024/weights/best.pt, 6.8MB\n",
      "\n",
      "Validating hacking_human_vasculature/kidney_3_dense_val_rest_train_img_size_1024/weights/best.pt...\n",
      "Ultralytics YOLOv8.1.1 🚀 Python-3.10.12 torch-2.0.0 CUDA:0 (Tesla T4, 15102MiB)\n",
      "                                                     CUDA:1 (Tesla T4, 15102MiB)\n",
      "YOLOv8n-seg summary (fused): 195 layers, 3258259 parameters, 0 gradients, 12.0 GFLOPs\n"
     ]
    },
    {
     "name": "stderr",
     "output_type": "stream",
     "text": [
      "                 Class     Images  Instances      Box(P          R      mAP50  mAP50-95)     Mask(P          R      mAP50  mAP50-95): 100%|██████████| 33/33 [01:01<00:00,  1.87s/it]\n"
     ]
    },
    {
     "name": "stdout",
     "output_type": "stream",
     "text": [
      "                   all       1035      41540       0.51      0.344      0.294      0.185      0.374      0.266      0.219      0.108\n",
      "Speed: 1.1ms preprocess, 7.0ms inference, 0.0ms loss, 2.1ms postprocess per image\n",
      "Results saved to \u001b[1mhacking_human_vasculature/kidney_3_dense_val_rest_train_img_size_1024\u001b[0m\n"
     ]
    },
    {
     "name": "stderr",
     "output_type": "stream",
     "text": [
      "wandb:                                                                                \n",
      "wandb: \n",
      "wandb: Run history:\n",
      "wandb:                  lr/pg0 ▃▆███▇▇▇▇▇▆▆▆▆▅▅▅▅▅▄▄▄▄▄▃▃▃▃▃▃▂▂▂▂▂▂▂▁▁▁\n",
      "wandb:                  lr/pg1 ▃▆███▇▇▇▇▇▆▆▆▆▅▅▅▅▅▄▄▄▄▄▃▃▃▃▃▃▂▂▂▂▂▂▂▁▁▁\n",
      "wandb:                  lr/pg2 ▃▆███▇▇▇▇▇▆▆▆▆▅▅▅▅▅▄▄▄▄▄▃▃▃▃▃▃▂▂▂▂▂▂▂▁▁▁\n",
      "wandb:        metrics/mAP50(B) ▄▃▁▄▅▅▅▆▅▆▇▆▆▇▆▆▆▇▇▇▇▇▆▇▇▇▇▇▇▇██████████\n",
      "wandb:        metrics/mAP50(M) ▃▂▁▄▅▄▆▇▆▇█▆▇▇▇▇▆▇▇█▇▇▆█▇▇▇█▇▇██████████\n",
      "wandb:     metrics/mAP50-95(B) ▃▂▁▃▃▄▄▅▄▅▆▅▅▆▅▅▅▆▇▆▆▅▆▆▆▆▇▇▇▇▇█████████\n",
      "wandb:     metrics/mAP50-95(M) ▂▁▁▃▄▄▅▇▅��█▆▇▇▇▆▅▇▇▇▇▇▆▇▇▇▇█▇▇▇▇█▇▇▇██▇█\n",
      "wandb:    metrics/precision(B) ▄▂▁▅▄▅▅▆▅▆▇▆▇▇▇▇▆▇▇▇▇▇▆▇▇▇██▇▇▇█████████\n",
      "wandb:    metrics/precision(M) ▁▁▃▄▁▂▆▇▅▅█▅▆▆▆▄▅▆▆▆▆▆▅▆▆▅▆▇▅▆▇▇▆▆▆▇▇▇▇▇\n",
      "wandb:       metrics/recall(B) ▅▃▁▄▆▆▆▇▆▇▇▇▇▇▇▇▇▇▇▇▇▇▇▇▇▇▇█████████████\n",
      "wandb:       metrics/recall(M) ▄▃▁▄▆▅▇█▇█▇██▇█▇▆▇▇█▇█▇▇██▇█▇▇▇▇█▇▇███▇▇\n",
      "wandb:            model/GFLOPs ▁\n",
      "wandb:        model/parameters ▁\n",
      "wandb: model/speed_PyTorch(ms) ▁\n",
      "wandb:          train/box_loss █▆▆▆▅▄▄▄▃▃▃▃▃▃▃▂▂▂▂▂▂▂▂▂▂▂▂▂▁▁▁▁▁▁▁▁▁▁▁▁\n",
      "wandb:          train/cls_loss █▄▃▃▂▂▂▂▂▂▂▂▂▂▁▁▁▁▁▁▁▁▁▁▁▁▁▁▁▁▁▁▁▁▁▁▁▁▁▁\n",
      "wandb:          train/dfl_loss █▄▄▄▃▃▃▂▂▂▂▂▂▂▂▂▂▂▂▂▂▂▁▂▁▁▁▁▁▁▁▁▁▁▁▁▁▁▁▁\n",
      "wandb:          train/seg_loss █▄▄▃▃▃▂▂▂▂▂▂▂▂▂▂▂▂▁▁▁▁▁▁▁▁▁▂▁▁▁▁▁▁▁▁▁▁▁▁\n",
      "wandb:            val/box_loss ▆▆█▇▅▆▅▄▄▄▄▃▃▃▃▄▄▃▃▃▃▃▃▃▃▃▃▂▁▁▁▁▁▁▁▁▁▁▁▁\n",
      "wandb:            val/cls_loss ▄▃▁▁▄▃▅▅▆▅▅▆▆▆▆▆▆▆▆▇▇▇▇▇▇▇▇▇▇▇▇▇▇█▇█████\n",
      "wandb:            val/dfl_loss ▄▅█▆▄▄▃▃▃▃▃▂▂▂▂▂▃▂▂▂▂▂▂▂▂▂▂▁▁▁▁▁▁▁▁▁▁▁▁▁\n",
      "wandb:            val/seg_loss ▆▆█▇▅▅▆▄▅▄▃▃▄▄▃▆▄▄▄▄▅▄▄▄▅▄▄▁▁▁▁▁▁���▁▁▁▁▁▁\n",
      "wandb: \n",
      "wandb: Run summary:\n",
      "wandb:                  lr/pg0 0.00033\n",
      "wandb:                  lr/pg1 0.00033\n",
      "wandb:                  lr/pg2 0.00033\n",
      "wandb:        metrics/mAP50(B) 0.29427\n",
      "wandb:        metrics/mAP50(M) 0.21949\n",
      "wandb:     metrics/mAP50-95(B) 0.18543\n",
      "wandb:     metrics/mAP50-95(M) 0.10784\n",
      "wandb:    metrics/precision(B) 0.5095\n",
      "wandb:    metrics/precision(M) 0.37404\n",
      "wandb:       metrics/recall(B) 0.34425\n",
      "wandb:       metrics/recall(M) 0.2656\n",
      "wandb:            model/GFLOPs 12.109\n",
      "wandb:        model/parameters 3263811\n",
      "wandb: model/speed_PyTorch(ms) 7.466\n",
      "wandb:          train/box_loss 0.64026\n",
      "wandb:          train/cls_loss 0.36804\n",
      "wandb:          train/dfl_loss 0.78109\n",
      "wandb:          train/seg_loss 0.58019\n",
      "wandb:            val/box_loss 0.54738\n",
      "wandb:            val/cls_loss 652.26044\n",
      "wandb:            val/dfl_loss 0.4424\n",
      "wandb:            val/seg_loss 0.40651\n",
      "wandb: \n",
      "wandb: 🚀 View run kidney_3_dense_val_rest_train_img_size_1024 at: https://wandb.ai/aaalex-lit/hacking_human_vasculature/runs/i5j14hne\n",
      "wandb: Synced 6 W&B file(s), 29 media file(s), 9 artifact file(s) and 0 other file(s)\n",
      "wandb: Find logs at: ./wandb/run-20240115_193956-i5j14hne/logs\n"
     ]
    }
   ],
   "source": [
    "project = 'hacking_human_vasculature'\n",
    "name = 'kidney_3_dense_val_rest_train_img_size_1024'\n",
    "\n",
    "results = model.train(data=yaml_path,\n",
    "                      project=project,\n",
    "                      name=name,\n",
    "                      epochs=200,\n",
    "                      time=5,\n",
    "                      patience=30, #I am setting patience=0 to disable early stopping.\n",
    "                      batch=32,\n",
    "                      imgsz=1024,\n",
    "                      device=[0, 1],\n",
    "                      save_period=1,\n",
    "                      cache=True\n",
    "                     )"
   ]
  },
  {
   "cell_type": "code",
   "execution_count": 13,
   "id": "faf03766",
   "metadata": {
    "execution": {
     "iopub.execute_input": "2024-01-16T00:46:18.776460Z",
     "iopub.status.busy": "2024-01-16T00:46:18.775051Z",
     "iopub.status.idle": "2024-01-16T00:46:18.780700Z",
     "shell.execute_reply": "2024-01-16T00:46:18.779662Z"
    },
    "papermill": {
     "duration": 1.115836,
     "end_time": "2024-01-16T00:46:18.782963",
     "exception": false,
     "start_time": "2024-01-16T00:46:17.667127",
     "status": "completed"
    },
    "tags": []
   },
   "outputs": [],
   "source": [
    "wandb.finish()"
   ]
  },
  {
   "cell_type": "code",
   "execution_count": null,
   "id": "0c599f96",
   "metadata": {
    "papermill": {
     "duration": 1.117754,
     "end_time": "2024-01-16T00:46:21.041191",
     "exception": false,
     "start_time": "2024-01-16T00:46:19.923437",
     "status": "completed"
    },
    "tags": []
   },
   "outputs": [],
   "source": []
  }
 ],
 "metadata": {
  "kaggle": {
   "accelerator": "nvidiaTeslaT4",
   "dataSources": [
    {
     "databundleVersionId": 6962461,
     "sourceId": 61446,
     "sourceType": "competition"
    },
    {
     "sourceId": 158630420,
     "sourceType": "kernelVersion"
    },
    {
     "sourceId": 158630632,
     "sourceType": "kernelVersion"
    },
    {
     "sourceId": 158630893,
     "sourceType": "kernelVersion"
    },
    {
     "sourceId": 158631065,
     "sourceType": "kernelVersion"
    },
    {
     "sourceId": 158682423,
     "sourceType": "kernelVersion"
    }
   ],
   "dockerImageVersionId": 30636,
   "isGpuEnabled": true,
   "isInternetEnabled": true,
   "language": "python",
   "sourceType": "notebook"
  },
  "kernelspec": {
   "display_name": "Python 3",
   "language": "python",
   "name": "python3"
  },
  "language_info": {
   "codemirror_mode": {
    "name": "ipython",
    "version": 3
   },
   "file_extension": ".py",
   "mimetype": "text/x-python",
   "name": "python",
   "nbconvert_exporter": "python",
   "pygments_lexer": "ipython3",
   "version": "3.10.12"
  },
  "papermill": {
   "default_parameters": {},
   "duration": 19122.208378,
   "end_time": "2024-01-16T00:46:25.126514",
   "environment_variables": {},
   "exception": null,
   "input_path": "__notebook__.ipynb",
   "output_path": "__notebook__.ipynb",
   "parameters": {},
   "start_time": "2024-01-15T19:27:42.918136",
   "version": "2.4.0"
  }
 },
 "nbformat": 4,
 "nbformat_minor": 5
}
