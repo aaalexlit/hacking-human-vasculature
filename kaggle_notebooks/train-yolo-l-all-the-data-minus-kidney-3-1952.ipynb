{
 "cells": [
  {
   "cell_type": "code",
   "execution_count": 1,
   "id": "0d712e2d",
   "metadata": {
    "_cell_guid": "92f3a220-139d-4c55-a6f3-e90c068395bb",
    "_uuid": "6fe71b12-5fd1-4e35-9e8e-03816ec3b539",
    "collapsed": false,
    "execution": {
     "iopub.execute_input": "2024-01-20T21:55:07.897374Z",
     "iopub.status.busy": "2024-01-20T21:55:07.896720Z",
     "iopub.status.idle": "2024-01-20T21:55:36.174930Z",
     "shell.execute_reply": "2024-01-20T21:55:36.173917Z"
    },
    "jupyter": {
     "outputs_hidden": false
    },
    "papermill": {
     "duration": 28.287156,
     "end_time": "2024-01-20T21:55:36.177304",
     "exception": false,
     "start_time": "2024-01-20T21:55:07.890148",
     "status": "completed"
    },
    "tags": []
   },
   "outputs": [
    {
     "name": "stdout",
     "output_type": "stream",
     "text": [
      "Collecting ultralytics\r\n",
      "  Obtaining dependency information for ultralytics from https://files.pythonhosted.org/packages/6b/f6/5d5ffef34686a1e99f819a2cf91db7186def16c5b020fb6e1cb7766e968d/ultralytics-8.1.3-py3-none-any.whl.metadata\r\n",
      "  Downloading ultralytics-8.1.3-py3-none-any.whl.metadata (40 kB)\r\n",
      "\u001b[2K     \u001b[90m━━━━━━━━━━━━━━━━━━━━━━━━━━━━━━━━━━━━━━━\u001b[0m \u001b[32m40.2/40.2 kB\u001b[0m \u001b[31m743.0 kB/s\u001b[0m eta \u001b[36m0:00:00\u001b[0m\r\n",
      "\u001b[?25hRequirement already satisfied: matplotlib>=3.3.0 in /opt/conda/lib/python3.10/site-packages (from ultralytics) (3.7.4)\r\n",
      "Requirement already satisfied: numpy>=1.22.2 in /opt/conda/lib/python3.10/site-packages (from ultralytics) (1.24.3)\r\n",
      "Requirement already satisfied: opencv-python>=4.6.0 in /opt/conda/lib/python3.10/site-packages (from ultralytics) (4.9.0.80)\r\n",
      "Requirement already satisfied: pillow>=7.1.2 in /opt/conda/lib/python3.10/site-packages (from ultralytics) (9.5.0)\r\n",
      "Requirement already satisfied: pyyaml>=5.3.1 in /opt/conda/lib/python3.10/site-packages (from ultralytics) (6.0.1)\r\n",
      "Requirement already satisfied: requests>=2.23.0 in /opt/conda/lib/python3.10/site-packages (from ultralytics) (2.31.0)\r\n",
      "Requirement already satisfied: scipy>=1.4.1 in /opt/conda/lib/python3.10/site-packages (from ultralytics) (1.11.4)\r\n",
      "Requirement already satisfied: torch>=1.8.0 in /opt/conda/lib/python3.10/site-packages (from ultralytics) (2.0.0)\r\n",
      "Requirement already satisfied: torchvision>=0.9.0 in /opt/conda/lib/python3.10/site-packages (from ultralytics) (0.15.1)\r\n",
      "Requirement already satisfied: tqdm>=4.64.0 in /opt/conda/lib/python3.10/site-packages (from ultralytics) (4.66.1)\r\n",
      "Requirement already satisfied: psutil in /opt/conda/lib/python3.10/site-packages (from ultralytics) (5.9.3)\r\n",
      "Requirement already satisfied: py-cpuinfo in /opt/conda/lib/python3.10/site-packages (from ultralytics) (9.0.0)\r\n",
      "Collecting thop>=0.1.1 (from ultralytics)\r\n",
      "  Downloading thop-0.1.1.post2209072238-py3-none-any.whl (15 kB)\r\n",
      "Requirement already satisfied: pandas>=1.1.4 in /opt/conda/lib/python3.10/site-packages (from ultralytics) (2.0.3)\r\n",
      "Requirement already satisfied: seaborn>=0.11.0 in /opt/conda/lib/python3.10/site-packages (from ultralytics) (0.12.2)\r\n",
      "Requirement already satisfied: contourpy>=1.0.1 in /opt/conda/lib/python3.10/site-packages (from matplotlib>=3.3.0->ultralytics) (1.1.0)\r\n",
      "Requirement already satisfied: cycler>=0.10 in /opt/conda/lib/python3.10/site-packages (from matplotlib>=3.3.0->ultralytics) (0.11.0)\r\n",
      "Requirement already satisfied: fonttools>=4.22.0 in /opt/conda/lib/python3.10/site-packages (from matplotlib>=3.3.0->ultralytics) (4.42.1)\r\n",
      "Requirement already satisfied: kiwisolver>=1.0.1 in /opt/conda/lib/python3.10/site-packages (from matplotlib>=3.3.0->ultralytics) (1.4.4)\r\n",
      "Requirement already satisfied: packaging>=20.0 in /opt/conda/lib/python3.10/site-packages (from matplotlib>=3.3.0->ultralytics) (21.3)\r\n",
      "Requirement already satisfied: pyparsing>=2.3.1 in /opt/conda/lib/python3.10/site-packages (from matplotlib>=3.3.0->ultralytics) (3.0.9)\r\n",
      "Requirement already satisfied: python-dateutil>=2.7 in /opt/conda/lib/python3.10/site-packages (from matplotlib>=3.3.0->ultralytics) (2.8.2)\r\n",
      "Requirement already satisfied: pytz>=2020.1 in /opt/conda/lib/python3.10/site-packages (from pandas>=1.1.4->ultralytics) (2023.3)\r\n",
      "Requirement already satisfied: tzdata>=2022.1 in /opt/conda/lib/python3.10/site-packages (from pandas>=1.1.4->ultralytics) (2023.3)\r\n",
      "Requirement already satisfied: charset-normalizer<4,>=2 in /opt/conda/lib/python3.10/site-packages (from requests>=2.23.0->ultralytics) (3.2.0)\r\n",
      "Requirement already satisfied: idna<4,>=2.5 in /opt/conda/lib/python3.10/site-packages (from requests>=2.23.0->ultralytics) (3.4)\r\n",
      "Requirement already satisfied: urllib3<3,>=1.21.1 in /opt/conda/lib/python3.10/site-packages (from requests>=2.23.0->ultralytics) (1.26.15)\r\n",
      "Requirement already satisfied: certifi>=2017.4.17 in /opt/conda/lib/python3.10/site-packages (from requests>=2.23.0->ultralytics) (2023.11.17)\r\n",
      "Requirement already satisfied: filelock in /opt/conda/lib/python3.10/site-packages (from torch>=1.8.0->ultralytics) (3.12.2)\r\n",
      "Requirement already satisfied: typing-extensions in /opt/conda/lib/python3.10/site-packages (from torch>=1.8.0->ultralytics) (4.5.0)\r\n",
      "Requirement already satisfied: sympy in /opt/conda/lib/python3.10/site-packages (from torch>=1.8.0->ultralytics) (1.12)\r\n",
      "Requirement already satisfied: networkx in /opt/conda/lib/python3.10/site-packages (from torch>=1.8.0->ultralytics) (3.1)\r\n",
      "Requirement already satisfied: jinja2 in /opt/conda/lib/python3.10/site-packages (from torch>=1.8.0->ultralytics) (3.1.2)\r\n",
      "Requirement already satisfied: six>=1.5 in /opt/conda/lib/python3.10/site-packages (from python-dateutil>=2.7->matplotlib>=3.3.0->ultralytics) (1.16.0)\r\n",
      "Requirement already satisfied: MarkupSafe>=2.0 in /opt/conda/lib/python3.10/site-packages (from jinja2->torch>=1.8.0->ultralytics) (2.1.3)\r\n",
      "Requirement already satisfied: mpmath>=0.19 in /opt/conda/lib/python3.10/site-packages (from sympy->torch>=1.8.0->ultralytics) (1.3.0)\r\n",
      "Downloading ultralytics-8.1.3-py3-none-any.whl (701 kB)\r\n",
      "\u001b[2K   \u001b[90m━━━━━━━━━━━━━━━━━━━━━━━━━━━━━━━━━━━━━━━━\u001b[0m \u001b[32m701.1/701.1 kB\u001b[0m \u001b[31m5.9 MB/s\u001b[0m eta \u001b[36m0:00:00\u001b[0m\r\n",
      "\u001b[?25hInstalling collected packages: thop, ultralytics\r\n",
      "Successfully installed thop-0.1.1.post2209072238 ultralytics-8.1.3\r\n",
      "Requirement already satisfied: ipywidgets in /opt/conda/lib/python3.10/site-packages (7.7.1)\r\n",
      "Collecting ipywidgets\r\n",
      "  Obtaining dependency information for ipywidgets from https://files.pythonhosted.org/packages/4a/0e/57ed498fafbc60419a9332d872e929879ceba2d73cb11d284d7112472b3e/ipywidgets-8.1.1-py3-none-any.whl.metadata\r\n",
      "  Downloading ipywidgets-8.1.1-py3-none-any.whl.metadata (2.4 kB)\r\n",
      "Requirement already satisfied: comm>=0.1.3 in /opt/conda/lib/python3.10/site-packages (from ipywidgets) (0.1.4)\r\n",
      "Requirement already satisfied: ipython>=6.1.0 in /opt/conda/lib/python3.10/site-packages (from ipywidgets) (8.14.0)\r\n",
      "Requirement already satisfied: traitlets>=4.3.1 in /opt/conda/lib/python3.10/site-packages (from ipywidgets) (5.9.0)\r\n",
      "Collecting widgetsnbextension~=4.0.9 (from ipywidgets)\r\n",
      "  Obtaining dependency information for widgetsnbextension~=4.0.9 from https://files.pythonhosted.org/packages/29/03/107d96077c4befed191f7ad1a12c7b52a8f9d2778a5836d59f9855c105f6/widgetsnbextension-4.0.9-py3-none-any.whl.metadata\r\n",
      "  Downloading widgetsnbextension-4.0.9-py3-none-any.whl.metadata (1.6 kB)\r\n",
      "Collecting jupyterlab-widgets~=3.0.9 (from ipywidgets)\r\n",
      "  Obtaining dependency information for jupyterlab-widgets~=3.0.9 from https://files.pythonhosted.org/packages/e8/05/0ebab152288693b5ec7b339aab857362947031143b282853b4c2dd4b5b40/jupyterlab_widgets-3.0.9-py3-none-any.whl.metadata\r\n",
      "  Downloading jupyterlab_widgets-3.0.9-py3-none-any.whl.metadata (4.1 kB)\r\n",
      "Requirement already satisfied: backcall in /opt/conda/lib/python3.10/site-packages (from ipython>=6.1.0->ipywidgets) (0.2.0)\r\n",
      "Requirement already satisfied: decorator in /opt/conda/lib/python3.10/site-packages (from ipython>=6.1.0->ipywidgets) (5.1.1)\r\n",
      "Requirement already satisfied: jedi>=0.16 in /opt/conda/lib/python3.10/site-packages (from ipython>=6.1.0->ipywidgets) (0.19.0)\r\n",
      "Requirement already satisfied: matplotlib-inline in /opt/conda/lib/python3.10/site-packages (from ipython>=6.1.0->ipywidgets) (0.1.6)\r\n",
      "Requirement already satisfied: pickleshare in /opt/conda/lib/python3.10/site-packages (from ipython>=6.1.0->ipywidgets) (0.7.5)\r\n",
      "Requirement already satisfied: prompt-toolkit!=3.0.37,<3.1.0,>=3.0.30 in /opt/conda/lib/python3.10/site-packages (from ipython>=6.1.0->ipywidgets) (3.0.39)\r\n",
      "Requirement already satisfied: pygments>=2.4.0 in /opt/conda/lib/python3.10/site-packages (from ipython>=6.1.0->ipywidgets) (2.16.1)\r\n",
      "Requirement already satisfied: stack-data in /opt/conda/lib/python3.10/site-packages (from ipython>=6.1.0->ipywidgets) (0.6.2)\r\n",
      "Requirement already satisfied: pexpect>4.3 in /opt/conda/lib/python3.10/site-packages (from ipython>=6.1.0->ipywidgets) (4.8.0)\r\n",
      "Requirement already satisfied: parso<0.9.0,>=0.8.3 in /opt/conda/lib/python3.10/site-packages (from jedi>=0.16->ipython>=6.1.0->ipywidgets) (0.8.3)\r\n",
      "Requirement already satisfied: ptyprocess>=0.5 in /opt/conda/lib/python3.10/site-packages (from pexpect>4.3->ipython>=6.1.0->ipywidgets) (0.7.0)\r\n",
      "Requirement already satisfied: wcwidth in /opt/conda/lib/python3.10/site-packages (from prompt-toolkit!=3.0.37,<3.1.0,>=3.0.30->ipython>=6.1.0->ipywidgets) (0.2.6)\r\n",
      "Requirement already satisfied: executing>=1.2.0 in /opt/conda/lib/python3.10/site-packages (from stack-data->ipython>=6.1.0->ipywidgets) (1.2.0)\r\n",
      "Requirement already satisfied: asttokens>=2.1.0 in /opt/conda/lib/python3.10/site-packages (from stack-data->ipython>=6.1.0->ipywidgets) (2.2.1)\r\n",
      "Requirement already satisfied: pure-eval in /opt/conda/lib/python3.10/site-packages (from stack-data->ipython>=6.1.0->ipywidgets) (0.2.2)\r\n",
      "Requirement already satisfied: six in /opt/conda/lib/python3.10/site-packages (from asttokens>=2.1.0->stack-data->ipython>=6.1.0->ipywidgets) (1.16.0)\r\n",
      "Downloading ipywidgets-8.1.1-py3-none-any.whl (139 kB)\r\n",
      "\u001b[2K   \u001b[90m━━━━━━━━━━━━━━━━━━━━━━━━━━━━━━━━━━━━━━━━\u001b[0m \u001b[32m139.4/139.4 kB\u001b[0m \u001b[31m1.4 MB/s\u001b[0m eta \u001b[36m0:00:00\u001b[0m\r\n",
      "\u001b[?25hDownloading jupyterlab_widgets-3.0.9-py3-none-any.whl (214 kB)\r\n",
      "\u001b[2K   \u001b[90m━━━━━━━━━━━━━━━━━━━━━━━━━━━━━━━━━━━━━━━━\u001b[0m \u001b[32m214.9/214.9 kB\u001b[0m \u001b[31m4.2 MB/s\u001b[0m eta \u001b[36m0:00:00\u001b[0m\r\n",
      "\u001b[?25hDownloading widgetsnbextension-4.0.9-py3-none-any.whl (2.3 MB)\r\n",
      "\u001b[2K   \u001b[90m━━━━━━━━━━━━━━━━━━━━━━━━━━━━━━━━━━━━━━━━\u001b[0m \u001b[32m2.3/2.3 MB\u001b[0m \u001b[31m19.1 MB/s\u001b[0m eta \u001b[36m0:00:00\u001b[0m\r\n",
      "\u001b[?25hInstalling collected packages: widgetsnbextension, jupyterlab-widgets, ipywidgets\r\n",
      "  Attempting uninstall: widgetsnbextension\r\n",
      "    Found existing installation: widgetsnbextension 3.6.6\r\n",
      "    Uninstalling widgetsnbextension-3.6.6:\r\n",
      "      Successfully uninstalled widgetsnbextension-3.6.6\r\n",
      "  Attempting uninstall: jupyterlab-widgets\r\n",
      "    Found existing installation: jupyterlab-widgets 3.0.8\r\n",
      "    Uninstalling jupyterlab-widgets-3.0.8:\r\n",
      "      Successfully uninstalled jupyterlab-widgets-3.0.8\r\n",
      "  Attempting uninstall: ipywidgets\r\n",
      "    Found existing installation: ipywidgets 7.7.1\r\n",
      "    Uninstalling ipywidgets-7.7.1:\r\n",
      "      Successfully uninstalled ipywidgets-7.7.1\r\n",
      "Successfully installed ipywidgets-8.1.1 jupyterlab-widgets-3.0.9 widgetsnbextension-4.0.9\r\n"
     ]
    }
   ],
   "source": [
    "!pip install ultralytics\n",
    "!pip install -U ipywidgets"
   ]
  },
  {
   "cell_type": "code",
   "execution_count": 2,
   "id": "f7e8500d",
   "metadata": {
    "execution": {
     "iopub.execute_input": "2024-01-20T21:55:36.197068Z",
     "iopub.status.busy": "2024-01-20T21:55:36.196682Z",
     "iopub.status.idle": "2024-01-20T21:55:40.012848Z",
     "shell.execute_reply": "2024-01-20T21:55:40.011573Z"
    },
    "papermill": {
     "duration": 3.82876,
     "end_time": "2024-01-20T21:55:40.015238",
     "exception": false,
     "start_time": "2024-01-20T21:55:36.186478",
     "status": "completed"
    },
    "tags": []
   },
   "outputs": [],
   "source": [
    "!mkdir -p /kaggle/temp/train/labels\n",
    "!mkdir -p /kaggle/temp/train/images\n",
    "\n",
    "!mkdir -p /kaggle/temp/val/labels\n",
    "!mkdir -p /kaggle/temp/val/images"
   ]
  },
  {
   "cell_type": "code",
   "execution_count": 3,
   "id": "2d2ae6ff",
   "metadata": {
    "execution": {
     "iopub.execute_input": "2024-01-20T21:55:40.033091Z",
     "iopub.status.busy": "2024-01-20T21:55:40.032769Z",
     "iopub.status.idle": "2024-01-20T21:59:49.877682Z",
     "shell.execute_reply": "2024-01-20T21:59:49.876570Z"
    },
    "papermill": {
     "duration": 249.857283,
     "end_time": "2024-01-20T21:59:49.880926",
     "exception": false,
     "start_time": "2024-01-20T21:55:40.023643",
     "status": "completed"
    },
    "tags": []
   },
   "outputs": [],
   "source": [
    "!cp /kaggle/input/kidney-1-dense-to-yolo/train/labels/* /kaggle/temp/train/labels\n",
    "!cp /kaggle/input/kidney-1-dense-to-yolo/train/images/* /kaggle/temp/train/images\n",
    "\n",
    "!cp /kaggle/input/kidney-1-voi-to-yolo/train/labels/* /kaggle/temp/train/labels\n",
    "!cp /kaggle/input/kidney-1-voi-to-yolo/train/images/* /kaggle/temp/train/images\n",
    "\n",
    "!cp /kaggle/input/kidney-2-to-yolo/train/labels/* /kaggle/temp/train/labels\n",
    "!cp /kaggle/input/kidney-2-to-yolo/train/images/* /kaggle/temp/train/images\n",
    "\n",
    "!cp /kaggle/input/kidney-3-sparse-to-yolo/train/labels/* /kaggle/temp/train/labels\n",
    "!cp /kaggle/input/kidney-3-sparse-to-yolo/train/images/* /kaggle/temp/train/images"
   ]
  },
  {
   "cell_type": "code",
   "execution_count": 4,
   "id": "deffe52d",
   "metadata": {
    "execution": {
     "iopub.execute_input": "2024-01-20T21:59:49.906090Z",
     "iopub.status.busy": "2024-01-20T21:59:49.905797Z",
     "iopub.status.idle": "2024-01-20T22:00:36.704940Z",
     "shell.execute_reply": "2024-01-20T22:00:36.703715Z"
    },
    "papermill": {
     "duration": 46.811325,
     "end_time": "2024-01-20T22:00:36.707545",
     "exception": false,
     "start_time": "2024-01-20T21:59:49.896220",
     "status": "completed"
    },
    "tags": []
   },
   "outputs": [],
   "source": [
    "!cp /kaggle/input/kidney-3-dense-to-yolo/train/labels/* /kaggle/temp/val/labels\n",
    "!cp /kaggle/input/kidney-3-dense-to-yolo/train/images/* /kaggle/temp/val/images"
   ]
  },
  {
   "cell_type": "code",
   "execution_count": 5,
   "id": "06d7691d",
   "metadata": {
    "execution": {
     "iopub.execute_input": "2024-01-20T22:00:36.729175Z",
     "iopub.status.busy": "2024-01-20T22:00:36.728854Z",
     "iopub.status.idle": "2024-01-20T22:00:36.733307Z",
     "shell.execute_reply": "2024-01-20T22:00:36.732460Z"
    },
    "papermill": {
     "duration": 0.016961,
     "end_time": "2024-01-20T22:00:36.735246",
     "exception": false,
     "start_time": "2024-01-20T22:00:36.718285",
     "status": "completed"
    },
    "tags": []
   },
   "outputs": [],
   "source": [
    "# !tail /kaggle/input/kidney-1-voi-to-yolo/train/kidney_1_voi.json"
   ]
  },
  {
   "cell_type": "markdown",
   "id": "8e06bc60",
   "metadata": {
    "papermill": {
     "duration": 0.008211,
     "end_time": "2024-01-20T22:00:36.751673",
     "exception": false,
     "start_time": "2024-01-20T22:00:36.743462",
     "status": "completed"
    },
    "tags": []
   },
   "source": [
    "# Write yolo dataset yaml"
   ]
  },
  {
   "cell_type": "code",
   "execution_count": 6,
   "id": "21b6a76b",
   "metadata": {
    "execution": {
     "iopub.execute_input": "2024-01-20T22:00:36.769446Z",
     "iopub.status.busy": "2024-01-20T22:00:36.769125Z",
     "iopub.status.idle": "2024-01-20T22:00:36.809381Z",
     "shell.execute_reply": "2024-01-20T22:00:36.808568Z"
    },
    "papermill": {
     "duration": 0.05158,
     "end_time": "2024-01-20T22:00:36.811465",
     "exception": false,
     "start_time": "2024-01-20T22:00:36.759885",
     "status": "completed"
    },
    "tags": []
   },
   "outputs": [],
   "source": [
    "import yaml"
   ]
  },
  {
   "cell_type": "code",
   "execution_count": 7,
   "id": "c01c3efc",
   "metadata": {
    "execution": {
     "iopub.execute_input": "2024-01-20T22:00:36.831034Z",
     "iopub.status.busy": "2024-01-20T22:00:36.830743Z",
     "iopub.status.idle": "2024-01-20T22:00:37.974095Z",
     "shell.execute_reply": "2024-01-20T22:00:37.972791Z"
    },
    "papermill": {
     "duration": 1.155103,
     "end_time": "2024-01-20T22:00:37.976437",
     "exception": false,
     "start_time": "2024-01-20T22:00:36.821334",
     "status": "completed"
    },
    "tags": []
   },
   "outputs": [],
   "source": [
    "!mkdir train"
   ]
  },
  {
   "cell_type": "code",
   "execution_count": 8,
   "id": "9af809eb",
   "metadata": {
    "execution": {
     "iopub.execute_input": "2024-01-20T22:00:37.995394Z",
     "iopub.status.busy": "2024-01-20T22:00:37.994658Z",
     "iopub.status.idle": "2024-01-20T22:00:38.003703Z",
     "shell.execute_reply": "2024-01-20T22:00:38.002754Z"
    },
    "papermill": {
     "duration": 0.020581,
     "end_time": "2024-01-20T22:00:38.005686",
     "exception": false,
     "start_time": "2024-01-20T22:00:37.985105",
     "status": "completed"
    },
    "tags": []
   },
   "outputs": [],
   "source": [
    "train_path = '/kaggle/temp/train'\n",
    "val_path = '/kaggle/temp/val'\n",
    "names = {0: 'Vessel'}\n",
    "yaml_path = 'train/train.yaml'\n",
    "\n",
    "# Number of classes\n",
    "nc = len(names)\n",
    "\n",
    "# Create a dictionary with the required content\n",
    "yaml_data = {\n",
    "    'names': names,\n",
    "    'nc': nc,\n",
    "    'test': '',\n",
    "    'train': train_path,\n",
    "    'val': val_path\n",
    "}\n",
    "\n",
    "# Write the dictionary to a YAML file\n",
    "with open(yaml_path, 'w') as file:\n",
    "    yaml.dump(yaml_data, file, default_flow_style=False)"
   ]
  },
  {
   "cell_type": "code",
   "execution_count": 9,
   "id": "fc2cfb7a",
   "metadata": {
    "execution": {
     "iopub.execute_input": "2024-01-20T22:00:38.023539Z",
     "iopub.status.busy": "2024-01-20T22:00:38.022913Z",
     "iopub.status.idle": "2024-01-20T22:00:39.002585Z",
     "shell.execute_reply": "2024-01-20T22:00:39.001632Z"
    },
    "papermill": {
     "duration": 0.991259,
     "end_time": "2024-01-20T22:00:39.005008",
     "exception": false,
     "start_time": "2024-01-20T22:00:38.013749",
     "status": "completed"
    },
    "tags": []
   },
   "outputs": [
    {
     "name": "stdout",
     "output_type": "stream",
     "text": [
      "names:\r\n",
      "  0: Vessel\r\n",
      "nc: 1\r\n",
      "test: ''\r\n",
      "train: /kaggle/temp/train\r\n",
      "val: /kaggle/temp/val\r\n"
     ]
    }
   ],
   "source": [
    "!cat {yaml_path}"
   ]
  },
  {
   "cell_type": "code",
   "execution_count": 10,
   "id": "8a0d9b97",
   "metadata": {
    "execution": {
     "iopub.execute_input": "2024-01-20T22:00:39.023886Z",
     "iopub.status.busy": "2024-01-20T22:00:39.023540Z",
     "iopub.status.idle": "2024-01-20T22:00:41.654675Z",
     "shell.execute_reply": "2024-01-20T22:00:41.653733Z"
    },
    "papermill": {
     "duration": 2.643017,
     "end_time": "2024-01-20T22:00:41.656895",
     "exception": false,
     "start_time": "2024-01-20T22:00:39.013878",
     "status": "completed"
    },
    "tags": []
   },
   "outputs": [
    {
     "name": "stderr",
     "output_type": "stream",
     "text": [
      "\u001b[34m\u001b[1mwandb\u001b[0m: W&B API key is configured. Use \u001b[1m`wandb login --relogin`\u001b[0m to force relogin\n",
      "\u001b[34m\u001b[1mwandb\u001b[0m: \u001b[33mWARNING\u001b[0m If you're specifying your api key in code, ensure this code is not shared publicly.\n",
      "\u001b[34m\u001b[1mwandb\u001b[0m: \u001b[33mWARNING\u001b[0m Consider setting the WANDB_API_KEY environment variable, or running `wandb login` from the command line.\n",
      "\u001b[34m\u001b[1mwandb\u001b[0m: Appending key for api.wandb.ai to your netrc file: /root/.netrc\n"
     ]
    },
    {
     "data": {
      "text/plain": [
       "True"
      ]
     },
     "execution_count": 10,
     "metadata": {},
     "output_type": "execute_result"
    }
   ],
   "source": [
    "import wandb\n",
    "from kaggle_secrets import UserSecretsClient\n",
    "user_secrets = UserSecretsClient()\n",
    "wandb_api_key = user_secrets.get_secret(\"wandb-api-key\")\n",
    "wandb.login(key=wandb_api_key)"
   ]
  },
  {
   "cell_type": "code",
   "execution_count": 11,
   "id": "0eae2388",
   "metadata": {
    "execution": {
     "iopub.execute_input": "2024-01-20T22:00:41.676708Z",
     "iopub.status.busy": "2024-01-20T22:00:41.676409Z",
     "iopub.status.idle": "2024-01-20T22:00:49.240880Z",
     "shell.execute_reply": "2024-01-20T22:00:49.239847Z"
    },
    "papermill": {
     "duration": 7.57855,
     "end_time": "2024-01-20T22:00:49.245200",
     "exception": false,
     "start_time": "2024-01-20T22:00:41.666650",
     "status": "completed"
    },
    "tags": []
   },
   "outputs": [
    {
     "name": "stdout",
     "output_type": "stream",
     "text": [
      "Downloading https://github.com/ultralytics/assets/releases/download/v8.1.0/yolov8l-seg.pt to 'yolov8l-seg.pt'...\n"
     ]
    },
    {
     "name": "stderr",
     "output_type": "stream",
     "text": [
      "100%|██████████| 88.1M/88.1M [00:00<00:00, 249MB/s]\n"
     ]
    }
   ],
   "source": [
    "from ultralytics import YOLO\n",
    "\n",
    "model = YOLO('yolov8l-seg.pt')"
   ]
  },
  {
   "cell_type": "code",
   "execution_count": 12,
   "id": "98433600",
   "metadata": {
    "execution": {
     "iopub.execute_input": "2024-01-20T22:00:49.265235Z",
     "iopub.status.busy": "2024-01-20T22:00:49.264469Z",
     "iopub.status.idle": "2024-01-21T03:12:48.569686Z",
     "shell.execute_reply": "2024-01-21T03:12:48.568660Z"
    },
    "papermill": {
     "duration": 18719.320447,
     "end_time": "2024-01-21T03:12:48.574907",
     "exception": false,
     "start_time": "2024-01-20T22:00:49.254460",
     "status": "completed"
    },
    "tags": []
   },
   "outputs": [
    {
     "name": "stdout",
     "output_type": "stream",
     "text": [
      "Ultralytics YOLOv8.1.3 🚀 Python-3.10.12 torch-2.0.0 CUDA:0 (Tesla T4, 15102MiB)\n",
      "                                                     CUDA:1 (Tesla T4, 15102MiB)\n",
      "\u001b[34m\u001b[1mengine/trainer: \u001b[0mtask=segment, mode=train, model=yolov8l-seg.pt, data=train/train.yaml, epochs=20, time=5, patience=5, batch=2, imgsz=1952, save=True, save_period=1, cache=True, device=[0, 1], workers=8, project=hacking_human_vasculature, name=kidney_3_dense_val_rest_train_yolo_xl_img_size_1952, exist_ok=False, pretrained=True, optimizer=auto, verbose=True, seed=0, deterministic=True, single_cls=False, rect=False, cos_lr=False, close_mosaic=10, resume=False, amp=True, fraction=1.0, profile=False, freeze=None, multi_scale=False, overlap_mask=True, mask_ratio=4, dropout=0.0, val=True, split=val, save_json=False, save_hybrid=False, conf=None, iou=0.7, max_det=300, half=False, dnn=False, plots=True, source=None, vid_stride=1, stream_buffer=False, visualize=False, augment=False, agnostic_nms=False, classes=None, retina_masks=False, embed=None, show=False, save_frames=False, save_txt=False, save_conf=False, save_crop=False, show_labels=True, show_conf=True, show_boxes=True, line_width=None, format=torchscript, keras=False, optimize=False, int8=False, dynamic=False, simplify=False, opset=None, workspace=4, nms=False, lr0=0.01, lrf=0.01, momentum=0.937, weight_decay=0.0005, warmup_epochs=3.0, warmup_momentum=0.8, warmup_bias_lr=0.1, box=7.5, cls=0.5, dfl=1.5, pose=12.0, kobj=1.0, label_smoothing=0.0, nbs=64, hsv_h=0.015, hsv_s=0.7, hsv_v=0.4, degrees=0.0, translate=0.1, scale=0.5, shear=0.0, perspective=0.0, flipud=0.0, fliplr=0.5, mosaic=1.0, mixup=0.0, copy_paste=0.0, auto_augment=randaugment, erasing=0.4, crop_fraction=1.0, cfg=None, tracker=botsort.yaml, save_dir=hacking_human_vasculature/kidney_3_dense_val_rest_train_yolo_xl_img_size_1952\n",
      "Downloading https://ultralytics.com/assets/Arial.ttf to '/root/.config/Ultralytics/Arial.ttf'...\n"
     ]
    },
    {
     "name": "stderr",
     "output_type": "stream",
     "text": [
      "100%|██████████| 755k/755k [00:00<00:00, 15.0MB/s]\n",
      "/opt/conda/lib/python3.10/site-packages/scipy/__init__.py:146: UserWarning: A NumPy version >=1.16.5 and <1.23.0 is required for this version of SciPy (detected version 1.24.3\n",
      "  warnings.warn(f\"A NumPy version >={np_minversion} and <{np_maxversion}\"\n"
     ]
    },
    {
     "name": "stdout",
     "output_type": "stream",
     "text": [
      "Overriding model.yaml nc=80 with nc=1\n",
      "\n",
      "                   from  n    params  module                                       arguments                     \n",
      "  0                  -1  1      1856  ultralytics.nn.modules.conv.Conv             [3, 64, 3, 2]                 \n",
      "  1                  -1  1     73984  ultralytics.nn.modules.conv.Conv             [64, 128, 3, 2]               \n",
      "  2                  -1  3    279808  ultralytics.nn.modules.block.C2f             [128, 128, 3, True]           \n",
      "  3                  -1  1    295424  ultralytics.nn.modules.conv.Conv             [128, 256, 3, 2]              \n",
      "  4                  -1  6   2101248  ultralytics.nn.modules.block.C2f             [256, 256, 6, True]           \n",
      "  5                  -1  1   1180672  ultralytics.nn.modules.conv.Conv             [256, 512, 3, 2]              \n",
      "  6                  -1  6   8396800  ultralytics.nn.modules.block.C2f             [512, 512, 6, True]           \n",
      "  7                  -1  1   2360320  ultralytics.nn.modules.conv.Conv             [512, 512, 3, 2]              \n",
      "  8                  -1  3   4461568  ultralytics.nn.modules.block.C2f             [512, 512, 3, True]           \n",
      "  9                  -1  1    656896  ultralytics.nn.modules.block.SPPF            [512, 512, 5]                 \n",
      " 10                  -1  1         0  torch.nn.modules.upsampling.Upsample         [None, 2, 'nearest']          \n",
      " 11             [-1, 6]  1         0  ultralytics.nn.modules.conv.Concat           [1]                           \n",
      " 12                  -1  3   4723712  ultralytics.nn.modules.block.C2f             [1024, 512, 3]                \n",
      " 13                  -1  1         0  torch.nn.modules.upsampling.Upsample         [None, 2, 'nearest']          \n",
      " 14             [-1, 4]  1         0  ultralytics.nn.modules.conv.Concat           [1]                           \n",
      " 15                  -1  3   1247744  ultralytics.nn.modules.block.C2f             [768, 256, 3]                 \n",
      " 16                  -1  1    590336  ultralytics.nn.modules.conv.Conv             [256, 256, 3, 2]              \n",
      " 17            [-1, 12]  1         0  ultralytics.nn.modules.conv.Concat           [1]                           \n",
      " 18                  -1  3   4592640  ultralytics.nn.modules.block.C2f             [768, 512, 3]                 \n",
      " 19                  -1  1   2360320  ultralytics.nn.modules.conv.Conv             [512, 512, 3, 2]              \n",
      " 20             [-1, 9]  1         0  ultralytics.nn.modules.conv.Concat           [1]                           \n",
      " 21                  -1  3   4723712  ultralytics.nn.modules.block.C2f             [1024, 512, 3]                \n",
      " 22        [15, 18, 21]  1   7889779  ultralytics.nn.modules.head.Segment          [1, 32, 256, [256, 512, 512]] \n",
      "YOLOv8l-seg summary: 401 layers, 45936819 parameters, 45936803 gradients, 220.8 GFLOPs\n",
      "\n",
      "Transferred 651/657 items from pretrained weights\n",
      "\u001b[34m\u001b[1mDDP:\u001b[0m debug command /opt/conda/bin/python -m torch.distributed.run --nproc_per_node 2 --master_port 53035 /root/.config/Ultralytics/DDP/_temp__f5nzpxa132204716686256.py\n",
      "Ultralytics YOLOv8.1.3 🚀 Python-3.10.12 torch-2.0.0 CUDA:0 (Tesla T4, 15102MiB)\n",
      "                                                     CUDA:1 (Tesla T4, 15102MiB)\n"
     ]
    },
    {
     "name": "stderr",
     "output_type": "stream",
     "text": [
      "/opt/conda/lib/python3.10/site-packages/scipy/__init__.py:146: UserWarning: A NumPy version >=1.16.5 and <1.23.0 is required for this version of SciPy (detected version 1.24.3\n",
      "  warnings.warn(f\"A NumPy version >={np_minversion} and <{np_maxversion}\"\n"
     ]
    },
    {
     "name": "stdout",
     "output_type": "stream",
     "text": [
      "\u001b[34m\u001b[1mTensorBoard: \u001b[0mStart with 'tensorboard --logdir hacking_human_vasculature/kidney_3_dense_val_rest_train_yolo_xl_img_size_1952', view at http://localhost:6006/\n"
     ]
    },
    {
     "name": "stderr",
     "output_type": "stream",
     "text": [
      "wandb: Currently logged in as: aaalex-lit. Use `wandb login --relogin` to force relogin\n",
      "wandb: Tracking run with wandb version 0.16.2\n",
      "wandb: Run data is saved locally in /kaggle/working/wandb/run-20240120_220117-r1sxv1vb\n",
      "wandb: Run `wandb offline` to turn off syncing.\n",
      "wandb: Syncing run kidney_3_dense_val_rest_train_yolo_xl_img_size_1952\n",
      "wandb: ⭐️ View project at https://wandb.ai/aaalex-lit/hacking_human_vasculature\n",
      "wandb: 🚀 View run at https://wandb.ai/aaalex-lit/hacking_human_vasculature/runs/r1sxv1vb\n"
     ]
    },
    {
     "name": "stdout",
     "output_type": "stream",
     "text": [
      "Overriding model.yaml nc=80 with nc=1\n",
      "Transferred 651/657 items from pretrained weights\n",
      "Freezing layer 'model.22.dfl.conv.weight'\n",
      "\u001b[34m\u001b[1mAMP: \u001b[0mrunning Automatic Mixed Precision (AMP) checks with YOLOv8n...\n",
      "Downloading https://github.com/ultralytics/assets/releases/download/v8.1.0/yolov8n.pt to 'yolov8n.pt'...\n"
     ]
    },
    {
     "name": "stderr",
     "output_type": "stream",
     "text": [
      "100%|██████████| 6.23M/6.23M [00:00<00:00, 71.8MB/s]\n"
     ]
    },
    {
     "name": "stdout",
     "output_type": "stream",
     "text": [
      "\u001b[34m\u001b[1mAMP: \u001b[0mchecks passed ✅\n"
     ]
    },
    {
     "name": "stderr",
     "output_type": "stream",
     "text": [
      "\u001b[34m\u001b[1mtrain: \u001b[0mScanning /kaggle/temp/train/labels... 6571 images, 357 backgrounds, 0 corrupt: 100%|██████████| 6928/6928 [00:26<00:00, 263.31it/s]\n"
     ]
    },
    {
     "name": "stdout",
     "output_type": "stream",
     "text": [
      "\u001b[34m\u001b[1mtrain: \u001b[0mNew cache created: /kaggle/temp/train/labels.cache\n"
     ]
    },
    {
     "name": "stderr",
     "output_type": "stream",
     "text": [
      "\u001b[34m\u001b[1mtrain: \u001b[0mCaching images (57.9GB True): 100%|██████████| 6928/6928 [01:59<00:00, 58.05it/s]\n"
     ]
    },
    {
     "name": "stdout",
     "output_type": "stream",
     "text": [
      "\u001b[34m\u001b[1malbumentations: \u001b[0mBlur(p=0.01, blur_limit=(3, 7)), MedianBlur(p=0.01, blur_limit=(3, 7)), ToGray(p=0.01), CLAHE(p=0.01, clip_limit=(1, 4.0), tile_grid_size=(8, 8))\n"
     ]
    },
    {
     "name": "stderr",
     "output_type": "stream",
     "text": [
      "\u001b[34m\u001b[1mval: \u001b[0mScanning /kaggle/temp/val/labels... 456 images, 579 backgrounds, 0 corrupt: 100%|██████████| 1035/1035 [00:03<00:00, 317.87it/s]\n"
     ]
    },
    {
     "name": "stdout",
     "output_type": "stream",
     "text": [
      "\u001b[34m\u001b[1mval: \u001b[0mNew cache created: /kaggle/temp/val/labels.cache\n"
     ]
    },
    {
     "name": "stderr",
     "output_type": "stream",
     "text": [
      "\u001b[34m\u001b[1mval: \u001b[0mCaching images (9.8GB True): 100%|██████████| 1035/1035 [00:41<00:00, 25.22it/s]\n"
     ]
    },
    {
     "name": "stdout",
     "output_type": "stream",
     "text": [
      "Plotting labels to hacking_human_vasculature/kidney_3_dense_val_rest_train_yolo_xl_img_size_1952/labels.jpg... \n",
      "\u001b[34m\u001b[1moptimizer:\u001b[0m 'optimizer=auto' found, ignoring 'lr0=0.01' and 'momentum=0.937' and determining best 'optimizer', 'lr0' and 'momentum' automatically... \n",
      "\u001b[34m\u001b[1moptimizer:\u001b[0m AdamW(lr=0.000714, momentum=0.9) with parameter groups 106 weight(decay=0.0), 117 weight(decay=0.0005), 116 bias(decay=0.0)\n",
      "Image sizes 1952 train, 1952 val\n",
      "Using 4 dataloader workers\n",
      "Logging results to \u001b[1mhacking_human_vasculature/kidney_3_dense_val_rest_train_yolo_xl_img_size_1952\u001b[0m\n",
      "Starting training for 5 hours...\n",
      "\n",
      "      Epoch    GPU_mem   box_loss   seg_loss   cls_loss   dfl_loss  Instances       Size\n"
     ]
    },
    {
     "name": "stderr",
     "output_type": "stream",
     "text": [
      "  0%|          | 0/3464 [00:00<?, ?it/s]/opt/conda/lib/python3.10/site-packages/scipy/__init__.py:146: UserWarning: A NumPy version >=1.16.5 and <1.23.0 is required for this version of SciPy (detected version 1.24.3\n",
      "  warnings.warn(f\"A NumPy version >={np_minversion} and <{np_maxversion}\"\n",
      "       1/20      12.2G      0.991      1.241      1.188      0.854         42       1952: 100%|██████████| 3464/3464 [37:45<00:00,  1.53it/s]\n",
      "                 Class     Images  Instances      Box(P          R      mAP50  mAP50-95)     Mask(P          R      mAP50  mAP50-95): 100%|██████████| 518/518 [03:22<00:00,  2.56it/s]\n"
     ]
    },
    {
     "name": "stdout",
     "output_type": "stream",
     "text": [
      "                   all       1035      41540      0.521      0.453      0.363      0.207      0.426      0.379      0.316      0.148\n",
      "\n",
      "      Epoch    GPU_mem   box_loss   seg_loss   cls_loss   dfl_loss  Instances       Size\n"
     ]
    },
    {
     "name": "stderr",
     "output_type": "stream",
     "text": [
      "        2/8      11.7G     0.9116      1.012      0.615     0.8353         24       1952: 100%|██████████| 3464/3464 [35:53<00:00,  1.61it/s]\n",
      "                 Class     Images  Instances      Box(P          R      mAP50  mAP50-95)     Mask(P          R      mAP50  mAP50-95): 100%|██████████| 518/518 [03:20<00:00,  2.59it/s]\n"
     ]
    },
    {
     "name": "stdout",
     "output_type": "stream",
     "text": [
      "                   all       1035      41540      0.508      0.426      0.351      0.207      0.438      0.378      0.318      0.156\n",
      "\n",
      "      Epoch    GPU_mem   box_loss   seg_loss   cls_loss   dfl_loss  Instances       Size\n"
     ]
    },
    {
     "name": "stderr",
     "output_type": "stream",
     "text": [
      "        3/8      12.1G      0.912      1.008     0.6433     0.8292         26       1952: 100%|██████████| 3464/3464 [35:45<00:00,  1.61it/s]\n",
      "                 Class     Images  Instances      Box(P          R      mAP50  mAP50-95)     Mask(P          R      mAP50  mAP50-95): 100%|██████████| 518/518 [03:16<00:00,  2.63it/s]\n"
     ]
    },
    {
     "name": "stdout",
     "output_type": "stream",
     "text": [
      "                   all       1035      41540      0.456      0.465      0.394      0.247      0.391      0.398       0.33      0.173\n",
      "\n",
      "      Epoch    GPU_mem   box_loss   seg_loss   cls_loss   dfl_loss  Instances       Size\n"
     ]
    },
    {
     "name": "stderr",
     "output_type": "stream",
     "text": [
      "        4/8      11.7G     0.8671     0.9466      0.537     0.8265         54       1952: 100%|██████████| 3464/3464 [35:39<00:00,  1.62it/s]\n",
      "                 Class     Images  Instances      Box(P          R      mAP50  mAP50-95)     Mask(P          R      mAP50  mAP50-95): 100%|██████████| 518/518 [03:20<00:00,  2.59it/s]\n"
     ]
    },
    {
     "name": "stdout",
     "output_type": "stream",
     "text": [
      "                   all       1035      41540      0.514      0.462      0.364      0.213      0.433      0.402      0.326      0.164\n",
      "\n",
      "      Epoch    GPU_mem   box_loss   seg_loss   cls_loss   dfl_loss  Instances       Size\n"
     ]
    },
    {
     "name": "stderr",
     "output_type": "stream",
     "text": [
      "        5/8      12.2G     0.8352     0.9068     0.5151     0.8172         73       1952: 100%|██████████| 3464/3464 [35:38<00:00,  1.62it/s]\n",
      "                 Class     Images  Instances      Box(P          R      mAP50  mAP50-95)     Mask(P          R      mAP50  mAP50-95): 100%|██████████| 518/518 [03:19<00:00,  2.60it/s]\n"
     ]
    },
    {
     "name": "stdout",
     "output_type": "stream",
     "text": [
      "                   all       1035      41540      0.527      0.453       0.38      0.218      0.451      0.399      0.343       0.17\n",
      "\n",
      "      Epoch    GPU_mem   box_loss   seg_loss   cls_loss   dfl_loss  Instances       Size\n"
     ]
    },
    {
     "name": "stderr",
     "output_type": "stream",
     "text": [
      "        6/8      12.1G      0.815     0.8776      0.485     0.8185         12       1952: 100%|██████████| 3464/3464 [35:39<00:00,  1.62it/s]\n",
      "                 Class     Images  Instances      Box(P          R      mAP50  mAP50-95)     Mask(P          R      mAP50  mAP50-95): 100%|██████████| 518/518 [03:19<00:00,  2.59it/s]\n"
     ]
    },
    {
     "name": "stdout",
     "output_type": "stream",
     "text": [
      "                   all       1035      41540      0.519      0.479      0.383       0.22      0.423       0.43      0.341      0.168\n",
      "\n",
      "      Epoch    GPU_mem   box_loss   seg_loss   cls_loss   dfl_loss  Instances       Size\n"
     ]
    },
    {
     "name": "stderr",
     "output_type": "stream",
     "text": [
      "        7/8      12.1G     0.7995     0.8529     0.4662     0.8116         69       1952: 100%|██████████| 3464/3464 [35:42<00:00,  1.62it/s]\n",
      "                 Class     Images  Instances      Box(P          R      mAP50  mAP50-95)     Mask(P          R      mAP50  mAP50-95): 100%|██████████| 518/518 [03:19<00:00,  2.60it/s]\n"
     ]
    },
    {
     "name": "stdout",
     "output_type": "stream",
     "text": [
      "                   all       1035      41540      0.524      0.458      0.382      0.218       0.43      0.391      0.328      0.154\n",
      "\n",
      "      Epoch    GPU_mem   box_loss   seg_loss   cls_loss   dfl_loss  Instances       Size\n"
     ]
    },
    {
     "name": "stderr",
     "output_type": "stream",
     "text": [
      "        8/8        12G     0.7745     0.8085     0.4396     0.8067         25       1952:  67%|██████▋   | 2332/3464 [24:00<11:39,  1.62it/s]\n",
      "                 Class     Images  Instances      Box(P          R      mAP50  mAP50-95)     Mask(P          R      mAP50  mAP50-95): 100%|██████████| 518/518 [03:21<00:00,  2.58it/s]\n"
     ]
    },
    {
     "name": "stdout",
     "output_type": "stream",
     "text": [
      "                   all       1035      41540      0.532       0.48      0.378      0.219       0.42      0.401      0.321      0.151\n",
      "Stopping training early as no improvement observed in last 5 epochs. Best results observed at epoch 3, best model saved as best.pt.\n",
      "To update EarlyStopping(patience=5) pass a new patience value, i.e. `patience=300` or use `patience=0` to disable EarlyStopping.\n",
      "\n",
      "8 epochs completed in 5.060 hours.\n",
      "Optimizer stripped from hacking_human_vasculature/kidney_3_dense_val_rest_train_yolo_xl_img_size_1952/weights/last.pt, 92.7MB\n",
      "Optimizer stripped from hacking_human_vasculature/kidney_3_dense_val_rest_train_yolo_xl_img_size_1952/weights/best.pt, 92.7MB\n",
      "\n",
      "Validating hacking_human_vasculature/kidney_3_dense_val_rest_train_yolo_xl_img_size_1952/weights/best.pt...\n",
      "Ultralytics YOLOv8.1.3 🚀 Python-3.10.12 torch-2.0.0 CUDA:0 (Tesla T4, 15102MiB)\n",
      "                                                     CUDA:1 (Tesla T4, 15102MiB)\n",
      "YOLOv8l-seg summary (fused): 295 layers, 45912659 parameters, 0 gradients, 220.1 GFLOPs\n"
     ]
    },
    {
     "name": "stderr",
     "output_type": "stream",
     "text": [
      "                 Class     Images  Instances      Box(P          R      mAP50  mAP50-95)     Mask(P          R      mAP50  mAP50-95): 100%|██████████| 518/518 [03:08<00:00,  2.74it/s]\n"
     ]
    },
    {
     "name": "stdout",
     "output_type": "stream",
     "text": [
      "                   all       1035      41540      0.455      0.466      0.395      0.247      0.391      0.399       0.33      0.173\n",
      "Speed: 1.8ms preprocess, 165.2ms inference, 0.0ms loss, 2.6ms postprocess per image\n",
      "Results saved to \u001b[1mhacking_human_vasculature/kidney_3_dense_val_rest_train_yolo_xl_img_size_1952\u001b[0m\n"
     ]
    },
    {
     "name": "stderr",
     "output_type": "stream",
     "text": [
      "wandb:                                                                                \n",
      "wandb: \n",
      "wandb: Run history:\n",
      "wandb:                  lr/pg0 ▃▆█▇▅▄▂▁\n",
      "wandb:                  lr/pg1 ▃▆█▇▅▄▂▁\n",
      "wandb:                  lr/pg2 ▃▆█▇▅▄▂▁\n",
      "wandb:        metrics/mAP50(B) ▃▁█▃▆▆▆█\n",
      "wandb:        metrics/mAP50(M) ▁▂▅▄█▇▄▅\n",
      "wandb:     metrics/mAP50-95(B) ▁▁█▂▃▃▃█\n",
      "wandb:     metrics/mAP50-95(M) ▁▃█▅▇▇▃█\n",
      "wandb:    metrics/precision(B) ▇▆▁▇█▇█▁\n",
      "wandb:    metrics/precision(M) ▅▆▁▆█▅▆▁\n",
      "wandb:       metrics/recall(B) ▄▁▆▆▅█▅▆\n",
      "wandb:       metrics/recall(M) ▁▁▄▄▄█▃▄\n",
      "wandb:            model/GFLOPs ▁\n",
      "wandb:        model/parameters ▁\n",
      "wandb: model/speed_PyTorch(ms) ▁\n",
      "wandb:          train/box_loss █▅▅▄▃▂▂▁\n",
      "wandb:          train/cls_loss █▃▃▂▂▁▁▁\n",
      "wandb:          train/dfl_loss █▅▄▄▃▃▂▁\n",
      "wandb:          train/seg_loss █▄▄▃▃▂▂▁\n",
      "wandb:            val/box_loss █▄▄▁▇▃▆▁\n",
      "wandb:            val/cls_loss ▅▅▁▆▅█▇█\n",
      "wandb:            val/dfl_loss ▆▆█▅▆▄▆▁\n",
      "wandb:            val/seg_loss ▄▅▁▂▇▅█▁\n",
      "wandb: \n",
      "wandb: Run summary:\n",
      "wandb:                  lr/pg0 0.0001\n",
      "wandb:                  lr/pg1 0.0001\n",
      "wandb:                  lr/pg2 0.0001\n",
      "wandb:        metrics/mAP50(B) 0.39453\n",
      "wandb:        metrics/mAP50(M) 0.33046\n",
      "wandb:     metrics/mAP50-95(B) 0.24712\n",
      "wandb:     metrics/mAP50-95(M) 0.17322\n",
      "wandb:    metrics/precision(B) 0.45534\n",
      "wandb:    metrics/precision(M) 0.39073\n",
      "wandb:       metrics/recall(B) 0.46553\n",
      "wandb:       metrics/recall(M) 0.39947\n",
      "wandb:            model/GFLOPs 220.795\n",
      "wandb:        model/parameters 45936819\n",
      "wandb: model/speed_PyTorch(ms) 163.963\n",
      "wandb:          train/box_loss 0.77454\n",
      "wandb:          train/cls_loss 0.43963\n",
      "wandb:          train/dfl_loss 0.80673\n",
      "wandb:          train/seg_loss 0.80842\n",
      "wandb:            val/box_loss 0.5119\n",
      "wandb:            val/cls_loss 84.83624\n",
      "wandb:            val/dfl_loss 0.35836\n",
      "wandb:            val/seg_loss 0.5701\n",
      "wandb: \n",
      "wandb: 🚀 View run kidney_3_dense_val_rest_train_yolo_xl_img_size_1952 at: https://wandb.ai/aaalex-lit/hacking_human_vasculature/runs/r1sxv1vb\n",
      "wandb: Synced 6 W&B file(s), 29 media file(s), 9 artifact file(s) and 0 other file(s)\n",
      "wandb: Find logs at: ./wandb/run-20240120_220117-r1sxv1vb/logs\n"
     ]
    }
   ],
   "source": [
    "project = 'hacking_human_vasculature'\n",
    "name = 'kidney_3_dense_val_rest_train_yolo_xl_img_size_1952'\n",
    "\n",
    "results = model.train(data=yaml_path,\n",
    "                      project=project,\n",
    "                      name=name,\n",
    "                      epochs=20,\n",
    "                      time=5,\n",
    "                      patience=5, \n",
    "                      batch=2,\n",
    "                      imgsz=1952,\n",
    "                      device=[0, 1],\n",
    "                      save_period=1,\n",
    "                      cache=True\n",
    "                     )"
   ]
  },
  {
   "cell_type": "code",
   "execution_count": 13,
   "id": "c5427040",
   "metadata": {
    "execution": {
     "iopub.execute_input": "2024-01-21T03:12:54.336408Z",
     "iopub.status.busy": "2024-01-21T03:12:54.335077Z",
     "iopub.status.idle": "2024-01-21T03:12:54.340227Z",
     "shell.execute_reply": "2024-01-21T03:12:54.339265Z"
    },
    "papermill": {
     "duration": 2.968035,
     "end_time": "2024-01-21T03:12:54.342330",
     "exception": false,
     "start_time": "2024-01-21T03:12:51.374295",
     "status": "completed"
    },
    "tags": []
   },
   "outputs": [],
   "source": [
    "wandb.finish()"
   ]
  },
  {
   "cell_type": "code",
   "execution_count": null,
   "id": "991a8fb6",
   "metadata": {
    "papermill": {
     "duration": 2.916876,
     "end_time": "2024-01-21T03:13:00.214686",
     "exception": false,
     "start_time": "2024-01-21T03:12:57.297810",
     "status": "completed"
    },
    "tags": []
   },
   "outputs": [],
   "source": []
  }
 ],
 "metadata": {
  "kaggle": {
   "accelerator": "nvidiaTeslaT4",
   "dataSources": [
    {
     "databundleVersionId": 6962461,
     "sourceId": 61446,
     "sourceType": "competition"
    },
    {
     "sourceId": 158630420,
     "sourceType": "kernelVersion"
    },
    {
     "sourceId": 158630632,
     "sourceType": "kernelVersion"
    },
    {
     "sourceId": 158630893,
     "sourceType": "kernelVersion"
    },
    {
     "sourceId": 158631065,
     "sourceType": "kernelVersion"
    },
    {
     "sourceId": 158682423,
     "sourceType": "kernelVersion"
    }
   ],
   "dockerImageVersionId": 30636,
   "isGpuEnabled": true,
   "isInternetEnabled": true,
   "language": "python",
   "sourceType": "notebook"
  },
  "kernelspec": {
   "display_name": "Python 3",
   "language": "python",
   "name": "python3"
  },
  "language_info": {
   "codemirror_mode": {
    "name": "ipython",
    "version": 3
   },
   "file_extension": ".py",
   "mimetype": "text/x-python",
   "name": "python",
   "nbconvert_exporter": "python",
   "pygments_lexer": "ipython3",
   "version": "3.10.12"
  },
  "papermill": {
   "default_parameters": {},
   "duration": 19082.350045,
   "end_time": "2024-01-21T03:13:06.617505",
   "environment_variables": {},
   "exception": null,
   "input_path": "__notebook__.ipynb",
   "output_path": "__notebook__.ipynb",
   "parameters": {},
   "start_time": "2024-01-20T21:55:04.267460",
   "version": "2.4.0"
  }
 },
 "nbformat": 4,
 "nbformat_minor": 5
}
