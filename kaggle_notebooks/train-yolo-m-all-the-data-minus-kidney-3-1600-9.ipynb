{
 "cells": [
  {
   "cell_type": "code",
   "execution_count": 1,
   "id": "fc3420ed",
   "metadata": {
    "_cell_guid": "92f3a220-139d-4c55-a6f3-e90c068395bb",
    "_uuid": "6fe71b12-5fd1-4e35-9e8e-03816ec3b539",
    "collapsed": false,
    "execution": {
     "iopub.execute_input": "2024-01-22T17:52:47.324047Z",
     "iopub.status.busy": "2024-01-22T17:52:47.323627Z",
     "iopub.status.idle": "2024-01-22T17:53:19.447296Z",
     "shell.execute_reply": "2024-01-22T17:53:19.445902Z"
    },
    "jupyter": {
     "outputs_hidden": false
    },
    "papermill": {
     "duration": 32.134667,
     "end_time": "2024-01-22T17:53:19.450345",
     "exception": false,
     "start_time": "2024-01-22T17:52:47.315678",
     "status": "completed"
    },
    "tags": []
   },
   "outputs": [
    {
     "name": "stdout",
     "output_type": "stream",
     "text": [
      "Collecting ultralytics\r\n",
      "  Obtaining dependency information for ultralytics from https://files.pythonhosted.org/packages/33/b1/f2cc216c80bee008db680d78026ee1a0c5421755f4894c8ec27dc773fbe0/ultralytics-8.1.4-py3-none-any.whl.metadata\r\n",
      "  Downloading ultralytics-8.1.4-py3-none-any.whl.metadata (40 kB)\r\n",
      "\u001b[2K     \u001b[90m━━━━━━━━━━━━━━━━━━━━━━━━━━━━━━━━━━━━━━━━\u001b[0m \u001b[32m40.2/40.2 kB\u001b[0m \u001b[31m1.7 MB/s\u001b[0m eta \u001b[36m0:00:00\u001b[0m\r\n",
      "\u001b[?25hRequirement already satisfied: matplotlib>=3.3.0 in /opt/conda/lib/python3.10/site-packages (from ultralytics) (3.7.4)\r\n",
      "Requirement already satisfied: numpy>=1.22.2 in /opt/conda/lib/python3.10/site-packages (from ultralytics) (1.24.3)\r\n",
      "Requirement already satisfied: opencv-python>=4.6.0 in /opt/conda/lib/python3.10/site-packages (from ultralytics) (4.9.0.80)\r\n",
      "Requirement already satisfied: pillow>=7.1.2 in /opt/conda/lib/python3.10/site-packages (from ultralytics) (9.5.0)\r\n",
      "Requirement already satisfied: pyyaml>=5.3.1 in /opt/conda/lib/python3.10/site-packages (from ultralytics) (6.0.1)\r\n",
      "Requirement already satisfied: requests>=2.23.0 in /opt/conda/lib/python3.10/site-packages (from ultralytics) (2.31.0)\r\n",
      "Requirement already satisfied: scipy>=1.4.1 in /opt/conda/lib/python3.10/site-packages (from ultralytics) (1.11.4)\r\n",
      "Requirement already satisfied: torch>=1.8.0 in /opt/conda/lib/python3.10/site-packages (from ultralytics) (2.0.0)\r\n",
      "Requirement already satisfied: torchvision>=0.9.0 in /opt/conda/lib/python3.10/site-packages (from ultralytics) (0.15.1)\r\n",
      "Requirement already satisfied: tqdm>=4.64.0 in /opt/conda/lib/python3.10/site-packages (from ultralytics) (4.66.1)\r\n",
      "Requirement already satisfied: psutil in /opt/conda/lib/python3.10/site-packages (from ultralytics) (5.9.3)\r\n",
      "Requirement already satisfied: py-cpuinfo in /opt/conda/lib/python3.10/site-packages (from ultralytics) (9.0.0)\r\n",
      "Collecting thop>=0.1.1 (from ultralytics)\r\n",
      "  Downloading thop-0.1.1.post2209072238-py3-none-any.whl (15 kB)\r\n",
      "Requirement already satisfied: pandas>=1.1.4 in /opt/conda/lib/python3.10/site-packages (from ultralytics) (2.0.3)\r\n",
      "Requirement already satisfied: seaborn>=0.11.0 in /opt/conda/lib/python3.10/site-packages (from ultralytics) (0.12.2)\r\n",
      "Requirement already satisfied: contourpy>=1.0.1 in /opt/conda/lib/python3.10/site-packages (from matplotlib>=3.3.0->ultralytics) (1.1.0)\r\n",
      "Requirement already satisfied: cycler>=0.10 in /opt/conda/lib/python3.10/site-packages (from matplotlib>=3.3.0->ultralytics) (0.11.0)\r\n",
      "Requirement already satisfied: fonttools>=4.22.0 in /opt/conda/lib/python3.10/site-packages (from matplotlib>=3.3.0->ultralytics) (4.42.1)\r\n",
      "Requirement already satisfied: kiwisolver>=1.0.1 in /opt/conda/lib/python3.10/site-packages (from matplotlib>=3.3.0->ultralytics) (1.4.4)\r\n",
      "Requirement already satisfied: packaging>=20.0 in /opt/conda/lib/python3.10/site-packages (from matplotlib>=3.3.0->ultralytics) (21.3)\r\n",
      "Requirement already satisfied: pyparsing>=2.3.1 in /opt/conda/lib/python3.10/site-packages (from matplotlib>=3.3.0->ultralytics) (3.0.9)\r\n",
      "Requirement already satisfied: python-dateutil>=2.7 in /opt/conda/lib/python3.10/site-packages (from matplotlib>=3.3.0->ultralytics) (2.8.2)\r\n",
      "Requirement already satisfied: pytz>=2020.1 in /opt/conda/lib/python3.10/site-packages (from pandas>=1.1.4->ultralytics) (2023.3)\r\n",
      "Requirement already satisfied: tzdata>=2022.1 in /opt/conda/lib/python3.10/site-packages (from pandas>=1.1.4->ultralytics) (2023.3)\r\n",
      "Requirement already satisfied: charset-normalizer<4,>=2 in /opt/conda/lib/python3.10/site-packages (from requests>=2.23.0->ultralytics) (3.2.0)\r\n",
      "Requirement already satisfied: idna<4,>=2.5 in /opt/conda/lib/python3.10/site-packages (from requests>=2.23.0->ultralytics) (3.4)\r\n",
      "Requirement already satisfied: urllib3<3,>=1.21.1 in /opt/conda/lib/python3.10/site-packages (from requests>=2.23.0->ultralytics) (1.26.15)\r\n",
      "Requirement already satisfied: certifi>=2017.4.17 in /opt/conda/lib/python3.10/site-packages (from requests>=2.23.0->ultralytics) (2023.11.17)\r\n",
      "Requirement already satisfied: filelock in /opt/conda/lib/python3.10/site-packages (from torch>=1.8.0->ultralytics) (3.12.2)\r\n",
      "Requirement already satisfied: typing-extensions in /opt/conda/lib/python3.10/site-packages (from torch>=1.8.0->ultralytics) (4.5.0)\r\n",
      "Requirement already satisfied: sympy in /opt/conda/lib/python3.10/site-packages (from torch>=1.8.0->ultralytics) (1.12)\r\n",
      "Requirement already satisfied: networkx in /opt/conda/lib/python3.10/site-packages (from torch>=1.8.0->ultralytics) (3.1)\r\n",
      "Requirement already satisfied: jinja2 in /opt/conda/lib/python3.10/site-packages (from torch>=1.8.0->ultralytics) (3.1.2)\r\n",
      "Requirement already satisfied: six>=1.5 in /opt/conda/lib/python3.10/site-packages (from python-dateutil>=2.7->matplotlib>=3.3.0->ultralytics) (1.16.0)\r\n",
      "Requirement already satisfied: MarkupSafe>=2.0 in /opt/conda/lib/python3.10/site-packages (from jinja2->torch>=1.8.0->ultralytics) (2.1.3)\r\n",
      "Requirement already satisfied: mpmath>=0.19 in /opt/conda/lib/python3.10/site-packages (from sympy->torch>=1.8.0->ultralytics) (1.3.0)\r\n",
      "Downloading ultralytics-8.1.4-py3-none-any.whl (701 kB)\r\n",
      "\u001b[2K   \u001b[90m━━━━━━━━━━━━━━━━━━━━━━━━━━━━━━━━━━━━━━━━\u001b[0m \u001b[32m701.5/701.5 kB\u001b[0m \u001b[31m13.5 MB/s\u001b[0m eta \u001b[36m0:00:00\u001b[0m\r\n",
      "\u001b[?25hInstalling collected packages: thop, ultralytics\r\n",
      "Successfully installed thop-0.1.1.post2209072238 ultralytics-8.1.4\r\n",
      "Requirement already satisfied: ipywidgets in /opt/conda/lib/python3.10/site-packages (7.7.1)\r\n",
      "Collecting ipywidgets\r\n",
      "  Obtaining dependency information for ipywidgets from https://files.pythonhosted.org/packages/4a/0e/57ed498fafbc60419a9332d872e929879ceba2d73cb11d284d7112472b3e/ipywidgets-8.1.1-py3-none-any.whl.metadata\r\n",
      "  Downloading ipywidgets-8.1.1-py3-none-any.whl.metadata (2.4 kB)\r\n",
      "Requirement already satisfied: comm>=0.1.3 in /opt/conda/lib/python3.10/site-packages (from ipywidgets) (0.1.4)\r\n",
      "Requirement already satisfied: ipython>=6.1.0 in /opt/conda/lib/python3.10/site-packages (from ipywidgets) (8.14.0)\r\n",
      "Requirement already satisfied: traitlets>=4.3.1 in /opt/conda/lib/python3.10/site-packages (from ipywidgets) (5.9.0)\r\n",
      "Collecting widgetsnbextension~=4.0.9 (from ipywidgets)\r\n",
      "  Obtaining dependency information for widgetsnbextension~=4.0.9 from https://files.pythonhosted.org/packages/29/03/107d96077c4befed191f7ad1a12c7b52a8f9d2778a5836d59f9855c105f6/widgetsnbextension-4.0.9-py3-none-any.whl.metadata\r\n",
      "  Downloading widgetsnbextension-4.0.9-py3-none-any.whl.metadata (1.6 kB)\r\n",
      "Collecting jupyterlab-widgets~=3.0.9 (from ipywidgets)\r\n",
      "  Obtaining dependency information for jupyterlab-widgets~=3.0.9 from https://files.pythonhosted.org/packages/e8/05/0ebab152288693b5ec7b339aab857362947031143b282853b4c2dd4b5b40/jupyterlab_widgets-3.0.9-py3-none-any.whl.metadata\r\n",
      "  Downloading jupyterlab_widgets-3.0.9-py3-none-any.whl.metadata (4.1 kB)\r\n",
      "Requirement already satisfied: backcall in /opt/conda/lib/python3.10/site-packages (from ipython>=6.1.0->ipywidgets) (0.2.0)\r\n",
      "Requirement already satisfied: decorator in /opt/conda/lib/python3.10/site-packages (from ipython>=6.1.0->ipywidgets) (5.1.1)\r\n",
      "Requirement already satisfied: jedi>=0.16 in /opt/conda/lib/python3.10/site-packages (from ipython>=6.1.0->ipywidgets) (0.19.0)\r\n",
      "Requirement already satisfied: matplotlib-inline in /opt/conda/lib/python3.10/site-packages (from ipython>=6.1.0->ipywidgets) (0.1.6)\r\n",
      "Requirement already satisfied: pickleshare in /opt/conda/lib/python3.10/site-packages (from ipython>=6.1.0->ipywidgets) (0.7.5)\r\n",
      "Requirement already satisfied: prompt-toolkit!=3.0.37,<3.1.0,>=3.0.30 in /opt/conda/lib/python3.10/site-packages (from ipython>=6.1.0->ipywidgets) (3.0.39)\r\n",
      "Requirement already satisfied: pygments>=2.4.0 in /opt/conda/lib/python3.10/site-packages (from ipython>=6.1.0->ipywidgets) (2.16.1)\r\n",
      "Requirement already satisfied: stack-data in /opt/conda/lib/python3.10/site-packages (from ipython>=6.1.0->ipywidgets) (0.6.2)\r\n",
      "Requirement already satisfied: pexpect>4.3 in /opt/conda/lib/python3.10/site-packages (from ipython>=6.1.0->ipywidgets) (4.8.0)\r\n",
      "Requirement already satisfied: parso<0.9.0,>=0.8.3 in /opt/conda/lib/python3.10/site-packages (from jedi>=0.16->ipython>=6.1.0->ipywidgets) (0.8.3)\r\n",
      "Requirement already satisfied: ptyprocess>=0.5 in /opt/conda/lib/python3.10/site-packages (from pexpect>4.3->ipython>=6.1.0->ipywidgets) (0.7.0)\r\n",
      "Requirement already satisfied: wcwidth in /opt/conda/lib/python3.10/site-packages (from prompt-toolkit!=3.0.37,<3.1.0,>=3.0.30->ipython>=6.1.0->ipywidgets) (0.2.6)\r\n",
      "Requirement already satisfied: executing>=1.2.0 in /opt/conda/lib/python3.10/site-packages (from stack-data->ipython>=6.1.0->ipywidgets) (1.2.0)\r\n",
      "Requirement already satisfied: asttokens>=2.1.0 in /opt/conda/lib/python3.10/site-packages (from stack-data->ipython>=6.1.0->ipywidgets) (2.2.1)\r\n",
      "Requirement already satisfied: pure-eval in /opt/conda/lib/python3.10/site-packages (from stack-data->ipython>=6.1.0->ipywidgets) (0.2.2)\r\n",
      "Requirement already satisfied: six in /opt/conda/lib/python3.10/site-packages (from asttokens>=2.1.0->stack-data->ipython>=6.1.0->ipywidgets) (1.16.0)\r\n",
      "Downloading ipywidgets-8.1.1-py3-none-any.whl (139 kB)\r\n",
      "\u001b[2K   \u001b[90m━━━━━━━━━━━━━━━━━━━━━━━━━━━━━━━━━━━━━━━━\u001b[0m \u001b[32m139.4/139.4 kB\u001b[0m \u001b[31m3.2 MB/s\u001b[0m eta \u001b[36m0:00:00\u001b[0m\r\n",
      "\u001b[?25hDownloading jupyterlab_widgets-3.0.9-py3-none-any.whl (214 kB)\r\n",
      "\u001b[2K   \u001b[90m━━━━━━━━━━━━━━━━━━━━━━━━━━━━━━━━━━━━━━━━\u001b[0m \u001b[32m214.9/214.9 kB\u001b[0m \u001b[31m10.9 MB/s\u001b[0m eta \u001b[36m0:00:00\u001b[0m\r\n",
      "\u001b[?25hDownloading widgetsnbextension-4.0.9-py3-none-any.whl (2.3 MB)\r\n",
      "\u001b[2K   \u001b[90m━━━━━━━━━━━━━━━━━━━━━━━━━━━━━━━━━━━━━━━━\u001b[0m \u001b[32m2.3/2.3 MB\u001b[0m \u001b[31m49.4 MB/s\u001b[0m eta \u001b[36m0:00:00\u001b[0m\r\n",
      "\u001b[?25hInstalling collected packages: widgetsnbextension, jupyterlab-widgets, ipywidgets\r\n",
      "  Attempting uninstall: widgetsnbextension\r\n",
      "    Found existing installation: widgetsnbextension 3.6.6\r\n",
      "    Uninstalling widgetsnbextension-3.6.6:\r\n",
      "      Successfully uninstalled widgetsnbextension-3.6.6\r\n",
      "  Attempting uninstall: jupyterlab-widgets\r\n",
      "    Found existing installation: jupyterlab-widgets 3.0.8\r\n",
      "    Uninstalling jupyterlab-widgets-3.0.8:\r\n",
      "      Successfully uninstalled jupyterlab-widgets-3.0.8\r\n",
      "  Attempting uninstall: ipywidgets\r\n",
      "    Found existing installation: ipywidgets 7.7.1\r\n",
      "    Uninstalling ipywidgets-7.7.1:\r\n",
      "      Successfully uninstalled ipywidgets-7.7.1\r\n",
      "Successfully installed ipywidgets-8.1.1 jupyterlab-widgets-3.0.9 widgetsnbextension-4.0.9\r\n"
     ]
    }
   ],
   "source": [
    "!pip install ultralytics\n",
    "!pip install -U ipywidgets"
   ]
  },
  {
   "cell_type": "code",
   "execution_count": 2,
   "id": "8be7acb7",
   "metadata": {
    "execution": {
     "iopub.execute_input": "2024-01-22T17:53:19.472026Z",
     "iopub.status.busy": "2024-01-22T17:53:19.471173Z",
     "iopub.status.idle": "2024-01-22T17:53:23.658597Z",
     "shell.execute_reply": "2024-01-22T17:53:23.657131Z"
    },
    "papermill": {
     "duration": 4.201434,
     "end_time": "2024-01-22T17:53:23.661547",
     "exception": false,
     "start_time": "2024-01-22T17:53:19.460113",
     "status": "completed"
    },
    "tags": []
   },
   "outputs": [],
   "source": [
    "!mkdir -p /kaggle/temp/train/labels\n",
    "!mkdir -p /kaggle/temp/train/images\n",
    "\n",
    "!mkdir -p /kaggle/temp/val/labels\n",
    "!mkdir -p /kaggle/temp/val/images"
   ]
  },
  {
   "cell_type": "code",
   "execution_count": 3,
   "id": "19d08b57",
   "metadata": {
    "execution": {
     "iopub.execute_input": "2024-01-22T17:53:23.683044Z",
     "iopub.status.busy": "2024-01-22T17:53:23.682315Z",
     "iopub.status.idle": "2024-01-22T17:58:01.008957Z",
     "shell.execute_reply": "2024-01-22T17:58:01.007334Z"
    },
    "papermill": {
     "duration": 277.340291,
     "end_time": "2024-01-22T17:58:01.012009",
     "exception": false,
     "start_time": "2024-01-22T17:53:23.671718",
     "status": "completed"
    },
    "tags": []
   },
   "outputs": [],
   "source": [
    "!cp /kaggle/input/kidney-1-dense-to-yolo/train/labels/* /kaggle/temp/train/labels\n",
    "!cp /kaggle/input/kidney-1-dense-to-yolo/train/images/* /kaggle/temp/train/images\n",
    "\n",
    "!cp /kaggle/input/kidney-1-voi-to-yolo/train/labels/* /kaggle/temp/train/labels\n",
    "!cp /kaggle/input/kidney-1-voi-to-yolo/train/images/* /kaggle/temp/train/images\n",
    "\n",
    "!cp /kaggle/input/kidney-2-to-yolo/train/labels/* /kaggle/temp/train/labels\n",
    "!cp /kaggle/input/kidney-2-to-yolo/train/images/* /kaggle/temp/train/images\n",
    "\n",
    "!cp /kaggle/input/kidney-3-sparse-to-yolo/train/labels/* /kaggle/temp/train/labels\n",
    "!cp /kaggle/input/kidney-3-sparse-to-yolo/train/images/* /kaggle/temp/train/images"
   ]
  },
  {
   "cell_type": "code",
   "execution_count": 4,
   "id": "b3871c2b",
   "metadata": {
    "execution": {
     "iopub.execute_input": "2024-01-22T17:58:01.033257Z",
     "iopub.status.busy": "2024-01-22T17:58:01.032831Z",
     "iopub.status.idle": "2024-01-22T17:58:47.368080Z",
     "shell.execute_reply": "2024-01-22T17:58:47.366762Z"
    },
    "papermill": {
     "duration": 46.349171,
     "end_time": "2024-01-22T17:58:47.371052",
     "exception": false,
     "start_time": "2024-01-22T17:58:01.021881",
     "status": "completed"
    },
    "tags": []
   },
   "outputs": [],
   "source": [
    "!cp /kaggle/input/kidney-3-dense-to-yolo/train/labels/* /kaggle/temp/val/labels\n",
    "!cp /kaggle/input/kidney-3-dense-to-yolo/train/images/* /kaggle/temp/val/images"
   ]
  },
  {
   "cell_type": "code",
   "execution_count": 5,
   "id": "3c3c7f6d",
   "metadata": {
    "execution": {
     "iopub.execute_input": "2024-01-22T17:58:47.392101Z",
     "iopub.status.busy": "2024-01-22T17:58:47.391660Z",
     "iopub.status.idle": "2024-01-22T17:58:47.397153Z",
     "shell.execute_reply": "2024-01-22T17:58:47.396107Z"
    },
    "papermill": {
     "duration": 0.019071,
     "end_time": "2024-01-22T17:58:47.399618",
     "exception": false,
     "start_time": "2024-01-22T17:58:47.380547",
     "status": "completed"
    },
    "tags": []
   },
   "outputs": [],
   "source": [
    "# !tail /kaggle/input/kidney-1-voi-to-yolo/train/kidney_1_voi.json"
   ]
  },
  {
   "cell_type": "markdown",
   "id": "46007044",
   "metadata": {
    "papermill": {
     "duration": 0.008779,
     "end_time": "2024-01-22T17:58:47.417856",
     "exception": false,
     "start_time": "2024-01-22T17:58:47.409077",
     "status": "completed"
    },
    "tags": []
   },
   "source": [
    "# Write yolo dataset yaml"
   ]
  },
  {
   "cell_type": "code",
   "execution_count": 6,
   "id": "fdf12e90",
   "metadata": {
    "execution": {
     "iopub.execute_input": "2024-01-22T17:58:47.437667Z",
     "iopub.status.busy": "2024-01-22T17:58:47.437279Z",
     "iopub.status.idle": "2024-01-22T17:58:47.536028Z",
     "shell.execute_reply": "2024-01-22T17:58:47.535049Z"
    },
    "papermill": {
     "duration": 0.112044,
     "end_time": "2024-01-22T17:58:47.538921",
     "exception": false,
     "start_time": "2024-01-22T17:58:47.426877",
     "status": "completed"
    },
    "tags": []
   },
   "outputs": [],
   "source": [
    "import yaml"
   ]
  },
  {
   "cell_type": "code",
   "execution_count": 7,
   "id": "762dcd75",
   "metadata": {
    "execution": {
     "iopub.execute_input": "2024-01-22T17:58:47.560474Z",
     "iopub.status.busy": "2024-01-22T17:58:47.560098Z",
     "iopub.status.idle": "2024-01-22T17:58:48.630449Z",
     "shell.execute_reply": "2024-01-22T17:58:48.628998Z"
    },
    "papermill": {
     "duration": 1.083577,
     "end_time": "2024-01-22T17:58:48.633249",
     "exception": false,
     "start_time": "2024-01-22T17:58:47.549672",
     "status": "completed"
    },
    "tags": []
   },
   "outputs": [],
   "source": [
    "!mkdir train"
   ]
  },
  {
   "cell_type": "code",
   "execution_count": 8,
   "id": "72a01fc0",
   "metadata": {
    "execution": {
     "iopub.execute_input": "2024-01-22T17:58:48.655059Z",
     "iopub.status.busy": "2024-01-22T17:58:48.654511Z",
     "iopub.status.idle": "2024-01-22T17:58:48.665556Z",
     "shell.execute_reply": "2024-01-22T17:58:48.664760Z"
    },
    "papermill": {
     "duration": 0.025662,
     "end_time": "2024-01-22T17:58:48.667864",
     "exception": false,
     "start_time": "2024-01-22T17:58:48.642202",
     "status": "completed"
    },
    "tags": []
   },
   "outputs": [],
   "source": [
    "train_path = '/kaggle/temp/train'\n",
    "val_path = '/kaggle/temp/val'\n",
    "names = {0: 'Vessel'}\n",
    "yaml_path = 'train/train.yaml'\n",
    "\n",
    "# Number of classes\n",
    "nc = len(names)\n",
    "\n",
    "# Create a dictionary with the required content\n",
    "yaml_data = {\n",
    "    'names': names,\n",
    "    'nc': nc,\n",
    "    'test': '',\n",
    "    'train': train_path,\n",
    "    'val': val_path\n",
    "}\n",
    "\n",
    "# Write the dictionary to a YAML file\n",
    "with open(yaml_path, 'w') as file:\n",
    "    yaml.dump(yaml_data, file, default_flow_style=False)"
   ]
  },
  {
   "cell_type": "code",
   "execution_count": 9,
   "id": "4b4b70e4",
   "metadata": {
    "execution": {
     "iopub.execute_input": "2024-01-22T17:58:48.688244Z",
     "iopub.status.busy": "2024-01-22T17:58:48.687837Z",
     "iopub.status.idle": "2024-01-22T17:58:49.764444Z",
     "shell.execute_reply": "2024-01-22T17:58:49.762992Z"
    },
    "papermill": {
     "duration": 1.089611,
     "end_time": "2024-01-22T17:58:49.767198",
     "exception": false,
     "start_time": "2024-01-22T17:58:48.677587",
     "status": "completed"
    },
    "tags": []
   },
   "outputs": [
    {
     "name": "stdout",
     "output_type": "stream",
     "text": [
      "names:\r\n",
      "  0: Vessel\r\n",
      "nc: 1\r\n",
      "test: ''\r\n",
      "train: /kaggle/temp/train\r\n",
      "val: /kaggle/temp/val\r\n"
     ]
    }
   ],
   "source": [
    "!cat {yaml_path}"
   ]
  },
  {
   "cell_type": "code",
   "execution_count": 10,
   "id": "4d2e6c34",
   "metadata": {
    "execution": {
     "iopub.execute_input": "2024-01-22T17:58:49.787633Z",
     "iopub.status.busy": "2024-01-22T17:58:49.787228Z",
     "iopub.status.idle": "2024-01-22T17:58:53.561437Z",
     "shell.execute_reply": "2024-01-22T17:58:53.560283Z"
    },
    "papermill": {
     "duration": 3.787831,
     "end_time": "2024-01-22T17:58:53.564238",
     "exception": false,
     "start_time": "2024-01-22T17:58:49.776407",
     "status": "completed"
    },
    "tags": []
   },
   "outputs": [
    {
     "name": "stderr",
     "output_type": "stream",
     "text": [
      "\u001b[34m\u001b[1mwandb\u001b[0m: W&B API key is configured. Use \u001b[1m`wandb login --relogin`\u001b[0m to force relogin\n",
      "\u001b[34m\u001b[1mwandb\u001b[0m: \u001b[33mWARNING\u001b[0m If you're specifying your api key in code, ensure this code is not shared publicly.\n",
      "\u001b[34m\u001b[1mwandb\u001b[0m: \u001b[33mWARNING\u001b[0m Consider setting the WANDB_API_KEY environment variable, or running `wandb login` from the command line.\n",
      "\u001b[34m\u001b[1mwandb\u001b[0m: Appending key for api.wandb.ai to your netrc file: /root/.netrc\n"
     ]
    },
    {
     "data": {
      "text/plain": [
       "True"
      ]
     },
     "execution_count": 10,
     "metadata": {},
     "output_type": "execute_result"
    }
   ],
   "source": [
    "import wandb\n",
    "from kaggle_secrets import UserSecretsClient\n",
    "user_secrets = UserSecretsClient()\n",
    "wandb_api_key = user_secrets.get_secret(\"wandb-api-key\")\n",
    "wandb.login(key=wandb_api_key)"
   ]
  },
  {
   "cell_type": "code",
   "execution_count": 11,
   "id": "6e7633b1",
   "metadata": {
    "execution": {
     "iopub.execute_input": "2024-01-22T17:58:53.593669Z",
     "iopub.status.busy": "2024-01-22T17:58:53.592498Z",
     "iopub.status.idle": "2024-01-22T17:59:00.171099Z",
     "shell.execute_reply": "2024-01-22T17:59:00.170155Z"
    },
    "papermill": {
     "duration": 6.595976,
     "end_time": "2024-01-22T17:59:00.173571",
     "exception": false,
     "start_time": "2024-01-22T17:58:53.577595",
     "status": "completed"
    },
    "tags": []
   },
   "outputs": [
    {
     "name": "stdout",
     "output_type": "stream",
     "text": [
      "Downloading https://github.com/ultralytics/assets/releases/download/v8.1.0/yolov8m-seg.pt to 'yolov8m-seg.pt'...\n"
     ]
    },
    {
     "name": "stderr",
     "output_type": "stream",
     "text": [
      "100%|██████████| 52.4M/52.4M [00:00<00:00, 212MB/s]\n"
     ]
    }
   ],
   "source": [
    "from ultralytics import YOLO\n",
    "\n",
    "model = YOLO('yolov8m-seg.pt')"
   ]
  },
  {
   "cell_type": "code",
   "execution_count": 12,
   "id": "6677bb4d",
   "metadata": {
    "execution": {
     "iopub.execute_input": "2024-01-22T17:59:00.195664Z",
     "iopub.status.busy": "2024-01-22T17:59:00.195138Z",
     "iopub.status.idle": "2024-01-22T23:06:42.347819Z",
     "shell.execute_reply": "2024-01-22T23:06:42.346207Z"
    },
    "papermill": {
     "duration": 18462.805975,
     "end_time": "2024-01-22T23:06:42.989856",
     "exception": false,
     "start_time": "2024-01-22T17:59:00.183881",
     "status": "completed"
    },
    "tags": []
   },
   "outputs": [
    {
     "name": "stdout",
     "output_type": "stream",
     "text": [
      "Ultralytics YOLOv8.1.4 🚀 Python-3.10.12 torch-2.0.0 CUDA:0 (Tesla P100-PCIE-16GB, 16276MiB)\n",
      "\u001b[34m\u001b[1mengine/trainer: \u001b[0mtask=segment, mode=train, model=yolov8m-seg.pt, data=train/train.yaml, epochs=100, time=5, patience=10, batch=9, imgsz=1024, save=True, save_period=-1, cache=True, device=None, workers=8, project=hacking_human_vasculature, name=kidney_3_dense_val_rest_train_yolo_m_1024_9, exist_ok=False, pretrained=True, optimizer=auto, verbose=True, seed=0, deterministic=True, single_cls=False, rect=False, cos_lr=False, close_mosaic=10, resume=False, amp=True, fraction=1.0, profile=False, freeze=None, multi_scale=False, overlap_mask=True, mask_ratio=4, dropout=0.0, val=True, split=val, save_json=False, save_hybrid=False, conf=None, iou=0.7, max_det=300, half=False, dnn=False, plots=True, source=None, vid_stride=1, stream_buffer=False, visualize=False, augment=False, agnostic_nms=False, classes=None, retina_masks=False, embed=None, show=False, save_frames=False, save_txt=False, save_conf=False, save_crop=False, show_labels=True, show_conf=True, show_boxes=True, line_width=None, format=torchscript, keras=False, optimize=False, int8=False, dynamic=False, simplify=False, opset=None, workspace=4, nms=False, lr0=0.01, lrf=0.01, momentum=0.937, weight_decay=0.0005, warmup_epochs=3.0, warmup_momentum=0.8, warmup_bias_lr=0.1, box=7.5, cls=0.5, dfl=1.5, pose=12.0, kobj=1.0, label_smoothing=0.0, nbs=64, hsv_h=0.015, hsv_s=0.7, hsv_v=0.4, degrees=0.0, translate=0.1, scale=0.5, shear=0.0, perspective=0.0, flipud=0.0, fliplr=0.5, mosaic=1.0, mixup=0.0, copy_paste=0.0, auto_augment=randaugment, erasing=0.4, crop_fraction=1.0, cfg=None, tracker=botsort.yaml, save_dir=hacking_human_vasculature/kidney_3_dense_val_rest_train_yolo_m_1024_9\n",
      "Downloading https://ultralytics.com/assets/Arial.ttf to '/root/.config/Ultralytics/Arial.ttf'...\n"
     ]
    },
    {
     "name": "stderr",
     "output_type": "stream",
     "text": [
      "100%|██████████| 755k/755k [00:00<00:00, 14.7MB/s]\n",
      "/opt/conda/lib/python3.10/site-packages/scipy/__init__.py:146: UserWarning: A NumPy version >=1.16.5 and <1.23.0 is required for this version of SciPy (detected version 1.24.3\n",
      "  warnings.warn(f\"A NumPy version >={np_minversion} and <{np_maxversion}\"\n"
     ]
    },
    {
     "name": "stdout",
     "output_type": "stream",
     "text": [
      "Overriding model.yaml nc=80 with nc=1\n",
      "\n",
      "                   from  n    params  module                                       arguments                     \n",
      "  0                  -1  1      1392  ultralytics.nn.modules.conv.Conv             [3, 48, 3, 2]                 \n",
      "  1                  -1  1     41664  ultralytics.nn.modules.conv.Conv             [48, 96, 3, 2]                \n",
      "  2                  -1  2    111360  ultralytics.nn.modules.block.C2f             [96, 96, 2, True]             \n",
      "  3                  -1  1    166272  ultralytics.nn.modules.conv.Conv             [96, 192, 3, 2]               \n",
      "  4                  -1  4    813312  ultralytics.nn.modules.block.C2f             [192, 192, 4, True]           \n",
      "  5                  -1  1    664320  ultralytics.nn.modules.conv.Conv             [192, 384, 3, 2]              \n",
      "  6                  -1  4   3248640  ultralytics.nn.modules.block.C2f             [384, 384, 4, True]           \n",
      "  7                  -1  1   1991808  ultralytics.nn.modules.conv.Conv             [384, 576, 3, 2]              \n",
      "  8                  -1  2   3985920  ultralytics.nn.modules.block.C2f             [576, 576, 2, True]           \n",
      "  9                  -1  1    831168  ultralytics.nn.modules.block.SPPF            [576, 576, 5]                 \n",
      " 10                  -1  1         0  torch.nn.modules.upsampling.Upsample         [None, 2, 'nearest']          \n",
      " 11             [-1, 6]  1         0  ultralytics.nn.modules.conv.Concat           [1]                           \n",
      " 12                  -1  2   1993728  ultralytics.nn.modules.block.C2f             [960, 384, 2]                 \n",
      " 13                  -1  1         0  torch.nn.modules.upsampling.Upsample         [None, 2, 'nearest']          \n",
      " 14             [-1, 4]  1         0  ultralytics.nn.modules.conv.Concat           [1]                           \n",
      " 15                  -1  2    517632  ultralytics.nn.modules.block.C2f             [576, 192, 2]                 \n",
      " 16                  -1  1    332160  ultralytics.nn.modules.conv.Conv             [192, 192, 3, 2]              \n",
      " 17            [-1, 12]  1         0  ultralytics.nn.modules.conv.Concat           [1]                           \n",
      " 18                  -1  2   1846272  ultralytics.nn.modules.block.C2f             [576, 384, 2]                 \n",
      " 19                  -1  1   1327872  ultralytics.nn.modules.conv.Conv             [384, 384, 3, 2]              \n",
      " 20             [-1, 9]  1         0  ultralytics.nn.modules.conv.Concat           [1]                           \n",
      " 21                  -1  2   4207104  ultralytics.nn.modules.block.C2f             [960, 576, 2]                 \n",
      " 22        [15, 18, 21]  1   5159603  ultralytics.nn.modules.head.Segment          [1, 32, 192, [192, 384, 576]] \n",
      "YOLOv8m-seg summary: 331 layers, 27240227 parameters, 27240211 gradients, 110.4 GFLOPs\n",
      "\n",
      "Transferred 531/537 items from pretrained weights\n",
      "\u001b[34m\u001b[1mTensorBoard: \u001b[0mStart with 'tensorboard --logdir hacking_human_vasculature/kidney_3_dense_val_rest_train_yolo_m_1024_9', view at http://localhost:6006/\n"
     ]
    },
    {
     "name": "stderr",
     "output_type": "stream",
     "text": [
      "\u001b[34m\u001b[1mwandb\u001b[0m: Currently logged in as: \u001b[33maaalex-lit\u001b[0m. Use \u001b[1m`wandb login --relogin`\u001b[0m to force relogin\n",
      "\u001b[34m\u001b[1mwandb\u001b[0m: Tracking run with wandb version 0.16.2\n",
      "\u001b[34m\u001b[1mwandb\u001b[0m: Run data is saved locally in \u001b[35m\u001b[1m/kaggle/working/wandb/run-20240122_175918-2uan6ead\u001b[0m\n",
      "\u001b[34m\u001b[1mwandb\u001b[0m: Run \u001b[1m`wandb offline`\u001b[0m to turn off syncing.\n",
      "\u001b[34m\u001b[1mwandb\u001b[0m: Syncing run \u001b[33mkidney_3_dense_val_rest_train_yolo_m_1024_9\u001b[0m\n",
      "\u001b[34m\u001b[1mwandb\u001b[0m: ⭐️ View project at \u001b[34m\u001b[4mhttps://wandb.ai/aaalex-lit/hacking_human_vasculature\u001b[0m\n",
      "\u001b[34m\u001b[1mwandb\u001b[0m: 🚀 View run at \u001b[34m\u001b[4mhttps://wandb.ai/aaalex-lit/hacking_human_vasculature/runs/2uan6ead\u001b[0m\n"
     ]
    },
    {
     "name": "stdout",
     "output_type": "stream",
     "text": [
      "Freezing layer 'model.22.dfl.conv.weight'\n",
      "\u001b[34m\u001b[1mAMP: \u001b[0mrunning Automatic Mixed Precision (AMP) checks with YOLOv8n...\n",
      "Downloading https://github.com/ultralytics/assets/releases/download/v8.1.0/yolov8n.pt to 'yolov8n.pt'...\n"
     ]
    },
    {
     "name": "stderr",
     "output_type": "stream",
     "text": [
      "100%|██████████| 6.23M/6.23M [00:00<00:00, 73.4MB/s]\n"
     ]
    },
    {
     "name": "stdout",
     "output_type": "stream",
     "text": [
      "\u001b[34m\u001b[1mAMP: \u001b[0mchecks passed ✅\n"
     ]
    },
    {
     "name": "stderr",
     "output_type": "stream",
     "text": [
      "\u001b[34m\u001b[1mtrain: \u001b[0mScanning /kaggle/temp/train/labels... 6571 images, 357 backgrounds, 0 corrupt: 100%|██████████| 6928/6928 [00:31<00:00, 221.55it/s]\n"
     ]
    },
    {
     "name": "stdout",
     "output_type": "stream",
     "text": [
      "\u001b[34m\u001b[1mtrain: \u001b[0mNew cache created: /kaggle/temp/train/labels.cache\n"
     ]
    },
    {
     "name": "stderr",
     "output_type": "stream",
     "text": [
      "\u001b[34m\u001b[1mtrain: \u001b[0mCaching images (15.9GB True): 100%|██████████| 6928/6928 [02:33<00:00, 45.02it/s]\n"
     ]
    },
    {
     "name": "stdout",
     "output_type": "stream",
     "text": [
      "\u001b[34m\u001b[1malbumentations: \u001b[0mBlur(p=0.01, blur_limit=(3, 7)), MedianBlur(p=0.01, blur_limit=(3, 7)), ToGray(p=0.01), CLAHE(p=0.01, clip_limit=(1, 4.0), tile_grid_size=(8, 8))\n"
     ]
    },
    {
     "name": "stderr",
     "output_type": "stream",
     "text": [
      "\u001b[34m\u001b[1mval: \u001b[0mScanning /kaggle/temp/val/labels... 456 images, 579 backgrounds, 0 corrupt: 100%|██████████| 1035/1035 [00:05<00:00, 174.59it/s]\n"
     ]
    },
    {
     "name": "stdout",
     "output_type": "stream",
     "text": [
      "\u001b[34m\u001b[1mval: \u001b[0mNew cache created: /kaggle/temp/val/labels.cache\n"
     ]
    },
    {
     "name": "stderr",
     "output_type": "stream",
     "text": [
      "\u001b[34m\u001b[1mval: \u001b[0mCaching images (2.7GB True): 100%|██████████| 1035/1035 [00:27<00:00, 37.16it/s]\n"
     ]
    },
    {
     "name": "stdout",
     "output_type": "stream",
     "text": [
      "Plotting labels to hacking_human_vasculature/kidney_3_dense_val_rest_train_yolo_m_1024_9/labels.jpg... \n",
      "\u001b[34m\u001b[1moptimizer:\u001b[0m 'optimizer=auto' found, ignoring 'lr0=0.01' and 'momentum=0.937' and determining best 'optimizer', 'lr0' and 'momentum' automatically... \n",
      "\u001b[34m\u001b[1moptimizer:\u001b[0m SGD(lr=0.01, momentum=0.9) with parameter groups 86 weight(decay=0.0), 97 weight(decay=0.0004921875), 96 bias(decay=0.0)\n",
      "\u001b[34m\u001b[1mTensorBoard: \u001b[0mmodel graph visualization added ✅\n",
      "Image sizes 1024 train, 1024 val\n",
      "Using 4 dataloader workers\n",
      "Logging results to \u001b[1mhacking_human_vasculature/kidney_3_dense_val_rest_train_yolo_m_1024_9\u001b[0m\n",
      "Starting training for 5 hours...\n",
      "\n",
      "      Epoch    GPU_mem   box_loss   seg_loss   cls_loss   dfl_loss  Instances       Size\n"
     ]
    },
    {
     "name": "stderr",
     "output_type": "stream",
     "text": [
      "      1/100      15.8G      1.048      1.225     0.9554     0.8619        235       1024: 100%|██████████| 770/770 [17:31<00:00,  1.37s/it]\n",
      "                 Class     Images  Instances      Box(P          R      mAP50  mAP50-95)     Mask(P          R      mAP50  mAP50-95): 100%|██████████| 58/58 [00:46<00:00,  1.25it/s]\n"
     ]
    },
    {
     "name": "stdout",
     "output_type": "stream",
     "text": [
      "                   all       1035      41540      0.449      0.282      0.205      0.108      0.359       0.26      0.188     0.0902\n",
      "\n",
      "      Epoch    GPU_mem   box_loss   seg_loss   cls_loss   dfl_loss  Instances       Size\n"
     ]
    },
    {
     "name": "stderr",
     "output_type": "stream",
     "text": [
      "       2/17      16.3G     0.9743     0.8525     0.5751     0.8183        246       1024: 100%|██████████| 770/770 [17:13<00:00,  1.34s/it]\n",
      "                 Class     Images  Instances      Box(P          R      mAP50  mAP50-95)     Mask(P          R      mAP50  mAP50-95): 100%|██████████| 58/58 [00:45<00:00,  1.27it/s]\n"
     ]
    },
    {
     "name": "stdout",
     "output_type": "stream",
     "text": [
      "                   all       1035      41540      0.484      0.297      0.233      0.126      0.361      0.256      0.196     0.0912\n",
      "\n",
      "      Epoch    GPU_mem   box_loss   seg_loss   cls_loss   dfl_loss  Instances       Size\n"
     ]
    },
    {
     "name": "stderr",
     "output_type": "stream",
     "text": [
      "       3/17      16.6G      1.024     0.8099     0.5865     0.8199        254       1024: 100%|██████████| 770/770 [17:04<00:00,  1.33s/it]\n",
      "                 Class     Images  Instances      Box(P          R      mAP50  mAP50-95)     Mask(P          R      mAP50  mAP50-95): 100%|██████████| 58/58 [00:45<00:00,  1.27it/s]\n"
     ]
    },
    {
     "name": "stdout",
     "output_type": "stream",
     "text": [
      "                   all       1035      41540      0.473      0.313      0.238       0.12      0.359      0.279      0.208      0.102\n",
      "\n",
      "      Epoch    GPU_mem   box_loss   seg_loss   cls_loss   dfl_loss  Instances       Size\n"
     ]
    },
    {
     "name": "stderr",
     "output_type": "stream",
     "text": [
      "       4/17      14.8G     0.9632     0.7731     0.5486     0.8174        204       1024: 100%|██████████| 770/770 [17:06<00:00,  1.33s/it]\n",
      "                 Class     Images  Instances      Box(P          R      mAP50  mAP50-95)     Mask(P          R      mAP50  mAP50-95): 100%|██████████| 58/58 [00:45<00:00,  1.26it/s]\n"
     ]
    },
    {
     "name": "stdout",
     "output_type": "stream",
     "text": [
      "                   all       1035      41540      0.477      0.296      0.222      0.113      0.363      0.259      0.188     0.0867\n",
      "\n",
      "      Epoch    GPU_mem   box_loss   seg_loss   cls_loss   dfl_loss  Instances       Size\n"
     ]
    },
    {
     "name": "stderr",
     "output_type": "stream",
     "text": [
      "       5/17      14.7G     0.8857     0.7275     0.5022     0.8096        227       1024: 100%|██████████| 770/770 [17:03<00:00,  1.33s/it]\n",
      "                 Class     Images  Instances      Box(P          R      mAP50  mAP50-95)     Mask(P          R      mAP50  mAP50-95): 100%|██████████| 58/58 [00:45<00:00,  1.28it/s]\n"
     ]
    },
    {
     "name": "stdout",
     "output_type": "stream",
     "text": [
      "                   all       1035      41540      0.487      0.315      0.251      0.132      0.387       0.27      0.216      0.109\n",
      "\n",
      "      Epoch    GPU_mem   box_loss   seg_loss   cls_loss   dfl_loss  Instances       Size\n"
     ]
    },
    {
     "name": "stderr",
     "output_type": "stream",
     "text": [
      "       6/17      13.8G     0.8306     0.6941     0.4783      0.805        330       1024: 100%|██████████| 770/770 [17:04<00:00,  1.33s/it]\n",
      "                 Class     Images  Instances      Box(P          R      mAP50  mAP50-95)     Mask(P          R      mAP50  mAP50-95): 100%|██████████| 58/58 [00:46<00:00,  1.26it/s]"
     ]
    },
    {
     "name": "stdout",
     "output_type": "stream",
     "text": [
      "                   all       1035      41540      0.491      0.323      0.254      0.143       0.34      0.252      0.184     0.0838\n"
     ]
    },
    {
     "name": "stderr",
     "output_type": "stream",
     "text": [
      "\n"
     ]
    },
    {
     "name": "stdout",
     "output_type": "stream",
     "text": [
      "\n",
      "      Epoch    GPU_mem   box_loss   seg_loss   cls_loss   dfl_loss  Instances       Size\n"
     ]
    },
    {
     "name": "stderr",
     "output_type": "stream",
     "text": [
      "       7/17      15.8G     0.7819     0.6603     0.4494     0.7992        506       1024: 100%|██████████| 770/770 [17:02<00:00,  1.33s/it]\n",
      "                 Class     Images  Instances      Box(P          R      mAP50  mAP50-95)     Mask(P          R      mAP50  mAP50-95): 100%|██████████| 58/58 [00:46<00:00,  1.26it/s]"
     ]
    },
    {
     "name": "stdout",
     "output_type": "stream",
     "text": [
      "                   all       1035      41540        0.5      0.326      0.272      0.154      0.376      0.265      0.216      0.106\n"
     ]
    },
    {
     "name": "stderr",
     "output_type": "stream",
     "text": [
      "\n"
     ]
    },
    {
     "name": "stdout",
     "output_type": "stream",
     "text": [
      "Closing dataloader mosaic\n",
      "\u001b[34m\u001b[1malbumentations: \u001b[0mBlur(p=0.01, blur_limit=(3, 7)), MedianBlur(p=0.01, blur_limit=(3, 7)), ToGray(p=0.01), CLAHE(p=0.01, clip_limit=(1, 4.0), tile_grid_size=(8, 8))\n",
      "\n",
      "      Epoch    GPU_mem   box_loss   seg_loss   cls_loss   dfl_loss  Instances       Size\n"
     ]
    },
    {
     "name": "stderr",
     "output_type": "stream",
     "text": [
      "       8/17      15.8G     0.7632     0.7188     0.4463     0.7971        150       1024: 100%|██████████| 770/770 [16:14<00:00,  1.27s/it]\n",
      "                 Class     Images  Instances      Box(P          R      mAP50  mAP50-95)     Mask(P          R      mAP50  mAP50-95): 100%|██████████| 58/58 [00:47<00:00,  1.23it/s]\n"
     ]
    },
    {
     "name": "stdout",
     "output_type": "stream",
     "text": [
      "                   all       1035      41540      0.496      0.333      0.247      0.141      0.388      0.284      0.212      0.104\n",
      "\n",
      "      Epoch    GPU_mem   box_loss   seg_loss   cls_loss   dfl_loss  Instances       Size\n"
     ]
    },
    {
     "name": "stderr",
     "output_type": "stream",
     "text": [
      "       9/17      14.8G     0.7262     0.6664     0.4247      0.792        162       1024: 100%|██████████| 770/770 [16:15<00:00,  1.27s/it]\n",
      "                 Class     Images  Instances      Box(P          R      mAP50  mAP50-95)     Mask(P          R      mAP50  mAP50-95): 100%|██████████| 58/58 [00:45<00:00,  1.28it/s]"
     ]
    },
    {
     "name": "stdout",
     "output_type": "stream",
     "text": [
      "                   all       1035      41540      0.519      0.339      0.295      0.182       0.39       0.26      0.225      0.111\n"
     ]
    },
    {
     "name": "stderr",
     "output_type": "stream",
     "text": [
      "\n"
     ]
    },
    {
     "name": "stdout",
     "output_type": "stream",
     "text": [
      "\n",
      "      Epoch    GPU_mem   box_loss   seg_loss   cls_loss   dfl_loss  Instances       Size\n"
     ]
    },
    {
     "name": "stderr",
     "output_type": "stream",
     "text": [
      "      10/17      14.7G     0.7063     0.6518     0.4121     0.7909        148       1024: 100%|██████████| 770/770 [16:13<00:00,  1.26s/it]\n",
      "                 Class     Images  Instances      Box(P          R      mAP50  mAP50-95)     Mask(P          R      mAP50  mAP50-95): 100%|██████████| 58/58 [00:44<00:00,  1.30it/s]"
     ]
    },
    {
     "name": "stdout",
     "output_type": "stream",
     "text": [
      "                   all       1035      41540       0.52      0.346      0.305      0.189      0.379      0.259      0.222      0.111\n"
     ]
    },
    {
     "name": "stderr",
     "output_type": "stream",
     "text": [
      "\n"
     ]
    },
    {
     "name": "stdout",
     "output_type": "stream",
     "text": [
      "\n",
      "      Epoch    GPU_mem   box_loss   seg_loss   cls_loss   dfl_loss  Instances       Size\n"
     ]
    },
    {
     "name": "stderr",
     "output_type": "stream",
     "text": [
      "      11/17      16.1G     0.6859      0.636     0.3987      0.788        298       1024: 100%|██████████| 770/770 [16:14<00:00,  1.27s/it]\n",
      "                 Class     Images  Instances      Box(P          R      mAP50  mAP50-95)     Mask(P          R      mAP50  mAP50-95): 100%|██████████| 58/58 [00:45<00:00,  1.26it/s]"
     ]
    },
    {
     "name": "stdout",
     "output_type": "stream",
     "text": [
      "                   all       1035      41540      0.511      0.342      0.278      0.171       0.38      0.265      0.212      0.102\n"
     ]
    },
    {
     "name": "stderr",
     "output_type": "stream",
     "text": [
      "\n"
     ]
    },
    {
     "name": "stdout",
     "output_type": "stream",
     "text": [
      "\n",
      "      Epoch    GPU_mem   box_loss   seg_loss   cls_loss   dfl_loss  Instances       Size\n"
     ]
    },
    {
     "name": "stderr",
     "output_type": "stream",
     "text": [
      "      12/17      15.9G     0.6653     0.6234     0.3835     0.7864        219       1024: 100%|██████████| 770/770 [16:10<00:00,  1.26s/it]\n",
      "                 Class     Images  Instances      Box(P          R      mAP50  mAP50-95)     Mask(P          R      mAP50  mAP50-95): 100%|██████████| 58/58 [00:45<00:00,  1.27it/s]\n"
     ]
    },
    {
     "name": "stdout",
     "output_type": "stream",
     "text": [
      "                   all       1035      41540      0.509      0.344      0.286       0.18      0.381      0.274      0.225      0.112\n",
      "\n",
      "      Epoch    GPU_mem   box_loss   seg_loss   cls_loss   dfl_loss  Instances       Size\n"
     ]
    },
    {
     "name": "stderr",
     "output_type": "stream",
     "text": [
      "      13/18      14.7G     0.6572     0.6099     0.3782     0.7847        281       1024: 100%|██████████| 770/770 [16:14<00:00,  1.27s/it]\n",
      "                 Class     Images  Instances      Box(P          R      mAP50  mAP50-95)     Mask(P          R      mAP50  mAP50-95): 100%|██████████| 58/58 [00:45<00:00,  1.28it/s]"
     ]
    },
    {
     "name": "stdout",
     "output_type": "stream",
     "text": [
      "                   all       1035      41540      0.522       0.35      0.305      0.193      0.382      0.259      0.219      0.107\n"
     ]
    },
    {
     "name": "stderr",
     "output_type": "stream",
     "text": [
      "\n"
     ]
    },
    {
     "name": "stdout",
     "output_type": "stream",
     "text": [
      "\n",
      "      Epoch    GPU_mem   box_loss   seg_loss   cls_loss   dfl_loss  Instances       Size\n"
     ]
    },
    {
     "name": "stderr",
     "output_type": "stream",
     "text": [
      "      14/18      15.8G     0.6409     0.5935     0.3644     0.7833        261       1024: 100%|██████████| 770/770 [16:13<00:00,  1.26s/it]\n",
      "                 Class     Images  Instances      Box(P          R      mAP50  mAP50-95)     Mask(P          R      mAP50  mAP50-95): 100%|██████████| 58/58 [00:45<00:00,  1.28it/s]"
     ]
    },
    {
     "name": "stdout",
     "output_type": "stream",
     "text": [
      "                   all       1035      41540      0.518      0.345      0.297      0.191      0.384      0.259      0.216      0.105\n"
     ]
    },
    {
     "name": "stderr",
     "output_type": "stream",
     "text": [
      "\n"
     ]
    },
    {
     "name": "stdout",
     "output_type": "stream",
     "text": [
      "\n",
      "      Epoch    GPU_mem   box_loss   seg_loss   cls_loss   dfl_loss  Instances       Size\n"
     ]
    },
    {
     "name": "stderr",
     "output_type": "stream",
     "text": [
      "      15/18      15.9G     0.6295     0.5843     0.3549     0.7813        287       1024: 100%|██████████| 770/770 [16:10<00:00,  1.26s/it]\n",
      "                 Class     Images  Instances      Box(P          R      mAP50  mAP50-95)     Mask(P          R      mAP50  mAP50-95): 100%|██████████| 58/58 [00:44<00:00,  1.30it/s]"
     ]
    },
    {
     "name": "stdout",
     "output_type": "stream",
     "text": [
      "                   all       1035      41540      0.513       0.35      0.297      0.188       0.38      0.267       0.22       0.11\n"
     ]
    },
    {
     "name": "stderr",
     "output_type": "stream",
     "text": [
      "\n"
     ]
    },
    {
     "name": "stdout",
     "output_type": "stream",
     "text": [
      "\n",
      "      Epoch    GPU_mem   box_loss   seg_loss   cls_loss   dfl_loss  Instances       Size\n"
     ]
    },
    {
     "name": "stderr",
     "output_type": "stream",
     "text": [
      "      16/18      16.2G     0.6169     0.5827      0.345     0.7798        103       1024: 100%|██████████| 770/770 [16:10<00:00,  1.26s/it]\n",
      "                 Class     Images  Instances      Box(P          R      mAP50  mAP50-95)     Mask(P          R      mAP50  mAP50-95): 100%|██████████| 58/58 [00:45<00:00,  1.28it/s]"
     ]
    },
    {
     "name": "stdout",
     "output_type": "stream",
     "text": [
      "                   all       1035      41540      0.521      0.354      0.308      0.199      0.385       0.27      0.228      0.113\n"
     ]
    },
    {
     "name": "stderr",
     "output_type": "stream",
     "text": [
      "\n"
     ]
    },
    {
     "name": "stdout",
     "output_type": "stream",
     "text": [
      "\n",
      "      Epoch    GPU_mem   box_loss   seg_loss   cls_loss   dfl_loss  Instances       Size\n"
     ]
    },
    {
     "name": "stderr",
     "output_type": "stream",
     "text": [
      "      17/18        16G     0.6051     0.5684     0.3355     0.7785        150       1024: 100%|██████████| 770/770 [16:11<00:00,  1.26s/it]\n",
      "                 Class     Images  Instances      Box(P          R      mAP50  mAP50-95)     Mask(P          R      mAP50  mAP50-95): 100%|██████████| 58/58 [00:44<00:00,  1.30it/s]"
     ]
    },
    {
     "name": "stdout",
     "output_type": "stream",
     "text": [
      "                   all       1035      41540      0.523      0.351      0.303      0.198      0.385      0.263      0.218      0.106\n"
     ]
    },
    {
     "name": "stderr",
     "output_type": "stream",
     "text": [
      "\n"
     ]
    },
    {
     "name": "stdout",
     "output_type": "stream",
     "text": [
      "\n",
      "      Epoch    GPU_mem   box_loss   seg_loss   cls_loss   dfl_loss  Instances       Size\n"
     ]
    },
    {
     "name": "stderr",
     "output_type": "stream",
     "text": [
      "      18/18      14.7G     0.5916     0.5519     0.3263     0.7767        280       1024:  24%|██▍       | 188/770 [03:59<12:20,  1.27s/it]\n",
      "                 Class     Images  Instances      Box(P          R      mAP50  mAP50-95)     Mask(P          R      mAP50  mAP50-95): 100%|██████████| 58/58 [00:44<00:00,  1.30it/s]"
     ]
    },
    {
     "name": "stdout",
     "output_type": "stream",
     "text": [
      "                   all       1035      41540      0.526      0.353      0.316      0.207      0.389      0.266      0.232      0.116\n"
     ]
    },
    {
     "name": "stderr",
     "output_type": "stream",
     "text": [
      "\n"
     ]
    },
    {
     "name": "stdout",
     "output_type": "stream",
     "text": [
      "\n",
      "18 epochs completed in 5.014 hours.\n",
      "Optimizer stripped from hacking_human_vasculature/kidney_3_dense_val_rest_train_yolo_m_1024_9/weights/last.pt, 54.9MB\n",
      "Optimizer stripped from hacking_human_vasculature/kidney_3_dense_val_rest_train_yolo_m_1024_9/weights/best.pt, 54.9MB\n",
      "\n",
      "Validating hacking_human_vasculature/kidney_3_dense_val_rest_train_yolo_m_1024_9/weights/best.pt...\n",
      "Ultralytics YOLOv8.1.4 🚀 Python-3.10.12 torch-2.0.0 CUDA:0 (Tesla P100-PCIE-16GB, 16276MiB)\n",
      "YOLOv8m-seg summary (fused): 245 layers, 27222963 parameters, 0 gradients, 110.0 GFLOPs\n"
     ]
    },
    {
     "name": "stderr",
     "output_type": "stream",
     "text": [
      "                 Class     Images  Instances      Box(P          R      mAP50  mAP50-95)     Mask(P          R      mAP50  mAP50-95): 100%|██████████| 58/58 [01:31<00:00,  1.59s/it]\n"
     ]
    },
    {
     "name": "stdout",
     "output_type": "stream",
     "text": [
      "                   all       1035      41540      0.526      0.354      0.317      0.207      0.389      0.267      0.232      0.116\n",
      "Speed: 1.1ms preprocess, 37.3ms inference, 0.0ms loss, 3.0ms postprocess per image\n",
      "Results saved to \u001b[1mhacking_human_vasculature/kidney_3_dense_val_rest_train_yolo_m_1024_9\u001b[0m\n"
     ]
    },
    {
     "name": "stderr",
     "output_type": "stream",
     "text": [
      "\u001b[34m\u001b[1mwandb\u001b[0m:                                                                                \n",
      "\u001b[34m\u001b[1mwandb\u001b[0m: \n",
      "\u001b[34m\u001b[1mwandb\u001b[0m: Run history:\n",
      "\u001b[34m\u001b[1mwandb\u001b[0m:                  lr/pg0 ▃▆██▇▇▆▆▅▅▄▄▃▃▂▂▁▁\n",
      "\u001b[34m\u001b[1mwandb\u001b[0m:                  lr/pg1 ▃▆██▇▇▆▆▅▅▄▄▃▃▂▂▁▁\n",
      "\u001b[34m\u001b[1mwandb\u001b[0m:                  lr/pg2 ▃▆██▇▇▆▆▅▅▄▄▃▃▂▂▁▁\n",
      "\u001b[34m\u001b[1mwandb\u001b[0m:        metrics/mAP50(B) ▁▃▃▂▄▄▅▄▇▇▆▆▇▇▇▇▇█\n",
      "\u001b[34m\u001b[1mwandb\u001b[0m:        metrics/mAP50(M) ▁▃▅▂▆▁▆▅▇▇▅▇▆▆▆▇▆█\n",
      "\u001b[34m\u001b[1mwandb\u001b[0m:     metrics/mAP50-95(B) ▁▂▂▁▃▃▄▃▆▇▅▆▇▇▇▇▇█\n",
      "\u001b[34m\u001b[1mwandb\u001b[0m:     metrics/mAP50-95(M) ▂▃▅▂▆▁▆▆▇▇▅▇▆▆▇█▆█\n",
      "\u001b[34m\u001b[1mwandb\u001b[0m:    metrics/precision(B) ▁▄▃▄▄▅▆▅▇▇▇▆█▇▇███\n",
      "\u001b[34m\u001b[1mwandb\u001b[0m:    metrics/precision(M) ▄▄▄▄█▁▆██▆▇▇▇▇▇▇▇█\n",
      "\u001b[34m\u001b[1mwandb\u001b[0m:       metrics/recall(B) ▁▂▄▂▄▅▅▆▇▇▇▇█▇████\n",
      "\u001b[34m\u001b[1mwandb\u001b[0m:       metrics/recall(M) ▃▂▇▃▅▁▄█▃▃▄▆▃▃▄▅▃▄\n",
      "\u001b[34m\u001b[1mwandb\u001b[0m:            model/GFLOPs ▁\n",
      "\u001b[34m\u001b[1mwandb\u001b[0m:        model/parameters ▁\n",
      "\u001b[34m\u001b[1mwandb\u001b[0m: model/speed_PyTorch(ms) ▁\n",
      "\u001b[34m\u001b[1mwandb\u001b[0m:          train/box_loss █▇█▇▆▅▄▄▃▃▂▂▂▂▂▁▁▁\n",
      "\u001b[34m\u001b[1mwandb\u001b[0m:          train/cls_loss █▄▄▃▃▃▂▂▂▂▂▂▂▁▁▁▁▁\n",
      "\u001b[34m\u001b[1mwandb\u001b[0m:          train/dfl_loss █▄▅▄▄▃▃▃▂▂▂▂▂▂▁▁▁▁\n",
      "\u001b[34m\u001b[1mwandb\u001b[0m:          train/seg_loss █▄▄▃▃▂▂▃▂▂▂▂▂▁▁▁▁▁\n",
      "\u001b[34m\u001b[1mwandb\u001b[0m:            val/box_loss ▇▇▇█▇▅▅▄▃▃▃▂▂▂▂▂▁▁\n",
      "\u001b[34m\u001b[1mwandb\u001b[0m:            val/cls_loss ▃▁▅▃▄▄▄▅▅▄▆▆▅▆█▇██\n",
      "\u001b[34m\u001b[1mwandb\u001b[0m:            val/dfl_loss ▇███▇▅▅▄▃▃▃▃▂▂▂▁▁▁\n",
      "\u001b[34m\u001b[1mwandb\u001b[0m:            val/seg_loss ▄▄▅█▅▅▅▂▂▂▂▂▁▁▁▁▁▁\n",
      "\u001b[34m\u001b[1mwandb\u001b[0m: \n",
      "\u001b[34m\u001b[1mwandb\u001b[0m: Run summary:\n",
      "\u001b[34m\u001b[1mwandb\u001b[0m:                  lr/pg0 0.00065\n",
      "\u001b[34m\u001b[1mwandb\u001b[0m:                  lr/pg1 0.00065\n",
      "\u001b[34m\u001b[1mwandb\u001b[0m:                  lr/pg2 0.00065\n",
      "\u001b[34m\u001b[1mwandb\u001b[0m:        metrics/mAP50(B) 0.31655\n",
      "\u001b[34m\u001b[1mwandb\u001b[0m:        metrics/mAP50(M) 0.23225\n",
      "\u001b[34m\u001b[1mwandb\u001b[0m:     metrics/mAP50-95(B) 0.20707\n",
      "\u001b[34m\u001b[1mwandb\u001b[0m:     metrics/mAP50-95(M) 0.11563\n",
      "\u001b[34m\u001b[1mwandb\u001b[0m:    metrics/precision(B) 0.52637\n",
      "\u001b[34m\u001b[1mwandb\u001b[0m:    metrics/precision(M) 0.38933\n",
      "\u001b[34m\u001b[1mwandb\u001b[0m:       metrics/recall(B) 0.35363\n",
      "\u001b[34m\u001b[1mwandb\u001b[0m:       metrics/recall(M) 0.26656\n",
      "\u001b[34m\u001b[1mwandb\u001b[0m:            model/GFLOPs 110.392\n",
      "\u001b[34m\u001b[1mwandb\u001b[0m:        model/parameters 27240227\n",
      "\u001b[34m\u001b[1mwandb\u001b[0m: model/speed_PyTorch(ms) 35.611\n",
      "\u001b[34m\u001b[1mwandb\u001b[0m:          train/box_loss 0.59206\n",
      "\u001b[34m\u001b[1mwandb\u001b[0m:          train/cls_loss 0.3266\n",
      "\u001b[34m\u001b[1mwandb\u001b[0m:          train/dfl_loss 0.77667\n",
      "\u001b[34m\u001b[1mwandb\u001b[0m:          train/seg_loss 0.55241\n",
      "\u001b[34m\u001b[1mwandb\u001b[0m:            val/box_loss 0.42987\n",
      "\u001b[34m\u001b[1mwandb\u001b[0m:            val/cls_loss 500.5892\n",
      "\u001b[34m\u001b[1mwandb\u001b[0m:            val/dfl_loss 0.36842\n",
      "\u001b[34m\u001b[1mwandb\u001b[0m:            val/seg_loss 0.36852\n",
      "\u001b[34m\u001b[1mwandb\u001b[0m: \n",
      "\u001b[34m\u001b[1mwandb\u001b[0m: 🚀 View run \u001b[33mkidney_3_dense_val_rest_train_yolo_m_1024_9\u001b[0m at: \u001b[34m\u001b[4mhttps://wandb.ai/aaalex-lit/hacking_human_vasculature/runs/2uan6ead\u001b[0m\n",
      "\u001b[34m\u001b[1mwandb\u001b[0m: Synced 6 W&B file(s), 29 media file(s), 9 artifact file(s) and 0 other file(s)\n",
      "\u001b[34m\u001b[1mwandb\u001b[0m: Find logs at: \u001b[35m\u001b[1m./wandb/run-20240122_175918-2uan6ead/logs\u001b[0m\n"
     ]
    }
   ],
   "source": [
    "project = 'hacking_human_vasculature'\n",
    "name = 'kidney_3_dense_val_rest_train_yolo_m_1024_9'\n",
    "\n",
    "results = model.train(data=yaml_path,\n",
    "                      project=project,\n",
    "                      name=name,\n",
    "                      epochs=100,\n",
    "                      time=5,\n",
    "                      patience=10, \n",
    "                      batch=9,\n",
    "                      imgsz=1024,\n",
    "                      cache=True\n",
    "                     )"
   ]
  },
  {
   "cell_type": "code",
   "execution_count": 13,
   "id": "cfc018f2",
   "metadata": {
    "execution": {
     "iopub.execute_input": "2024-01-22T23:06:48.496471Z",
     "iopub.status.busy": "2024-01-22T23:06:48.496048Z",
     "iopub.status.idle": "2024-01-22T23:06:48.501936Z",
     "shell.execute_reply": "2024-01-22T23:06:48.501072Z"
    },
    "papermill": {
     "duration": 2.781262,
     "end_time": "2024-01-22T23:06:48.504008",
     "exception": false,
     "start_time": "2024-01-22T23:06:45.722746",
     "status": "completed"
    },
    "tags": []
   },
   "outputs": [],
   "source": [
    "wandb.finish()"
   ]
  },
  {
   "cell_type": "code",
   "execution_count": null,
   "id": "2551a208",
   "metadata": {
    "papermill": {
     "duration": 2.776094,
     "end_time": "2024-01-22T23:06:54.012244",
     "exception": false,
     "start_time": "2024-01-22T23:06:51.236150",
     "status": "completed"
    },
    "tags": []
   },
   "outputs": [],
   "source": []
  }
 ],
 "metadata": {
  "kaggle": {
   "accelerator": "gpu",
   "dataSources": [
    {
     "databundleVersionId": 6962461,
     "sourceId": 61446,
     "sourceType": "competition"
    },
    {
     "sourceId": 158630420,
     "sourceType": "kernelVersion"
    },
    {
     "sourceId": 158630632,
     "sourceType": "kernelVersion"
    },
    {
     "sourceId": 158630893,
     "sourceType": "kernelVersion"
    },
    {
     "sourceId": 158631065,
     "sourceType": "kernelVersion"
    },
    {
     "sourceId": 158682423,
     "sourceType": "kernelVersion"
    }
   ],
   "dockerImageVersionId": 30636,
   "isGpuEnabled": true,
   "isInternetEnabled": true,
   "language": "python",
   "sourceType": "notebook"
  },
  "kernelspec": {
   "display_name": "Python 3",
   "language": "python",
   "name": "python3"
  },
  "language_info": {
   "codemirror_mode": {
    "name": "ipython",
    "version": 3
   },
   "file_extension": ".py",
   "mimetype": "text/x-python",
   "name": "python",
   "nbconvert_exporter": "python",
   "pygments_lexer": "ipython3",
   "version": "3.10.12"
  },
  "papermill": {
   "default_parameters": {},
   "duration": 18859.758057,
   "end_time": "2024-01-22T23:07:02.775775",
   "environment_variables": {},
   "exception": null,
   "input_path": "__notebook__.ipynb",
   "output_path": "__notebook__.ipynb",
   "parameters": {},
   "start_time": "2024-01-22T17:52:43.017718",
   "version": "2.4.0"
  }
 },
 "nbformat": 4,
 "nbformat_minor": 5
}
