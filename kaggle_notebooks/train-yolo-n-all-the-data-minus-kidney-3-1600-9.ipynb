{
 "cells": [
  {
   "cell_type": "code",
   "execution_count": 1,
   "id": "3d101072",
   "metadata": {
    "_cell_guid": "92f3a220-139d-4c55-a6f3-e90c068395bb",
    "_uuid": "6fe71b12-5fd1-4e35-9e8e-03816ec3b539",
    "collapsed": false,
    "execution": {
     "iopub.execute_input": "2024-01-22T23:06:59.476797Z",
     "iopub.status.busy": "2024-01-22T23:06:59.476003Z",
     "iopub.status.idle": "2024-01-22T23:07:25.724230Z",
     "shell.execute_reply": "2024-01-22T23:07:25.723114Z"
    },
    "jupyter": {
     "outputs_hidden": false
    },
    "papermill": {
     "duration": 26.256971,
     "end_time": "2024-01-22T23:07:25.726579",
     "exception": false,
     "start_time": "2024-01-22T23:06:59.469608",
     "status": "completed"
    },
    "tags": []
   },
   "outputs": [
    {
     "name": "stdout",
     "output_type": "stream",
     "text": [
      "Collecting ultralytics\r\n",
      "  Obtaining dependency information for ultralytics from https://files.pythonhosted.org/packages/33/b1/f2cc216c80bee008db680d78026ee1a0c5421755f4894c8ec27dc773fbe0/ultralytics-8.1.4-py3-none-any.whl.metadata\r\n",
      "  Downloading ultralytics-8.1.4-py3-none-any.whl.metadata (40 kB)\r\n",
      "\u001b[2K     \u001b[90m━━━━━━━━━━━━━━━━━━━━━━━━━━━━━━━━━━━━━━━━\u001b[0m \u001b[32m40.2/40.2 kB\u001b[0m \u001b[31m2.7 MB/s\u001b[0m eta \u001b[36m0:00:00\u001b[0m\r\n",
      "\u001b[?25hRequirement already satisfied: matplotlib>=3.3.0 in /opt/conda/lib/python3.10/site-packages (from ultralytics) (3.7.4)\r\n",
      "Requirement already satisfied: numpy>=1.22.2 in /opt/conda/lib/python3.10/site-packages (from ultralytics) (1.24.3)\r\n",
      "Requirement already satisfied: opencv-python>=4.6.0 in /opt/conda/lib/python3.10/site-packages (from ultralytics) (4.9.0.80)\r\n",
      "Requirement already satisfied: pillow>=7.1.2 in /opt/conda/lib/python3.10/site-packages (from ultralytics) (9.5.0)\r\n",
      "Requirement already satisfied: pyyaml>=5.3.1 in /opt/conda/lib/python3.10/site-packages (from ultralytics) (6.0.1)\r\n",
      "Requirement already satisfied: requests>=2.23.0 in /opt/conda/lib/python3.10/site-packages (from ultralytics) (2.31.0)\r\n",
      "Requirement already satisfied: scipy>=1.4.1 in /opt/conda/lib/python3.10/site-packages (from ultralytics) (1.11.4)\r\n",
      "Requirement already satisfied: torch>=1.8.0 in /opt/conda/lib/python3.10/site-packages (from ultralytics) (2.0.0)\r\n",
      "Requirement already satisfied: torchvision>=0.9.0 in /opt/conda/lib/python3.10/site-packages (from ultralytics) (0.15.1)\r\n",
      "Requirement already satisfied: tqdm>=4.64.0 in /opt/conda/lib/python3.10/site-packages (from ultralytics) (4.66.1)\r\n",
      "Requirement already satisfied: psutil in /opt/conda/lib/python3.10/site-packages (from ultralytics) (5.9.3)\r\n",
      "Requirement already satisfied: py-cpuinfo in /opt/conda/lib/python3.10/site-packages (from ultralytics) (9.0.0)\r\n",
      "Collecting thop>=0.1.1 (from ultralytics)\r\n",
      "  Downloading thop-0.1.1.post2209072238-py3-none-any.whl (15 kB)\r\n",
      "Requirement already satisfied: pandas>=1.1.4 in /opt/conda/lib/python3.10/site-packages (from ultralytics) (2.0.3)\r\n",
      "Requirement already satisfied: seaborn>=0.11.0 in /opt/conda/lib/python3.10/site-packages (from ultralytics) (0.12.2)\r\n",
      "Requirement already satisfied: contourpy>=1.0.1 in /opt/conda/lib/python3.10/site-packages (from matplotlib>=3.3.0->ultralytics) (1.1.0)\r\n",
      "Requirement already satisfied: cycler>=0.10 in /opt/conda/lib/python3.10/site-packages (from matplotlib>=3.3.0->ultralytics) (0.11.0)\r\n",
      "Requirement already satisfied: fonttools>=4.22.0 in /opt/conda/lib/python3.10/site-packages (from matplotlib>=3.3.0->ultralytics) (4.42.1)\r\n",
      "Requirement already satisfied: kiwisolver>=1.0.1 in /opt/conda/lib/python3.10/site-packages (from matplotlib>=3.3.0->ultralytics) (1.4.4)\r\n",
      "Requirement already satisfied: packaging>=20.0 in /opt/conda/lib/python3.10/site-packages (from matplotlib>=3.3.0->ultralytics) (21.3)\r\n",
      "Requirement already satisfied: pyparsing>=2.3.1 in /opt/conda/lib/python3.10/site-packages (from matplotlib>=3.3.0->ultralytics) (3.0.9)\r\n",
      "Requirement already satisfied: python-dateutil>=2.7 in /opt/conda/lib/python3.10/site-packages (from matplotlib>=3.3.0->ultralytics) (2.8.2)\r\n",
      "Requirement already satisfied: pytz>=2020.1 in /opt/conda/lib/python3.10/site-packages (from pandas>=1.1.4->ultralytics) (2023.3)\r\n",
      "Requirement already satisfied: tzdata>=2022.1 in /opt/conda/lib/python3.10/site-packages (from pandas>=1.1.4->ultralytics) (2023.3)\r\n",
      "Requirement already satisfied: charset-normalizer<4,>=2 in /opt/conda/lib/python3.10/site-packages (from requests>=2.23.0->ultralytics) (3.2.0)\r\n",
      "Requirement already satisfied: idna<4,>=2.5 in /opt/conda/lib/python3.10/site-packages (from requests>=2.23.0->ultralytics) (3.4)\r\n",
      "Requirement already satisfied: urllib3<3,>=1.21.1 in /opt/conda/lib/python3.10/site-packages (from requests>=2.23.0->ultralytics) (1.26.15)\r\n",
      "Requirement already satisfied: certifi>=2017.4.17 in /opt/conda/lib/python3.10/site-packages (from requests>=2.23.0->ultralytics) (2023.11.17)\r\n",
      "Requirement already satisfied: filelock in /opt/conda/lib/python3.10/site-packages (from torch>=1.8.0->ultralytics) (3.12.2)\r\n",
      "Requirement already satisfied: typing-extensions in /opt/conda/lib/python3.10/site-packages (from torch>=1.8.0->ultralytics) (4.5.0)\r\n",
      "Requirement already satisfied: sympy in /opt/conda/lib/python3.10/site-packages (from torch>=1.8.0->ultralytics) (1.12)\r\n",
      "Requirement already satisfied: networkx in /opt/conda/lib/python3.10/site-packages (from torch>=1.8.0->ultralytics) (3.1)\r\n",
      "Requirement already satisfied: jinja2 in /opt/conda/lib/python3.10/site-packages (from torch>=1.8.0->ultralytics) (3.1.2)\r\n",
      "Requirement already satisfied: six>=1.5 in /opt/conda/lib/python3.10/site-packages (from python-dateutil>=2.7->matplotlib>=3.3.0->ultralytics) (1.16.0)\r\n",
      "Requirement already satisfied: MarkupSafe>=2.0 in /opt/conda/lib/python3.10/site-packages (from jinja2->torch>=1.8.0->ultralytics) (2.1.3)\r\n",
      "Requirement already satisfied: mpmath>=0.19 in /opt/conda/lib/python3.10/site-packages (from sympy->torch>=1.8.0->ultralytics) (1.3.0)\r\n",
      "Downloading ultralytics-8.1.4-py3-none-any.whl (701 kB)\r\n",
      "\u001b[2K   \u001b[90m━━━━━━━━━━━━━━━━━━━━━━━━━━━━━━━━━━━━━━━━\u001b[0m \u001b[32m701.5/701.5 kB\u001b[0m \u001b[31m23.8 MB/s\u001b[0m eta \u001b[36m0:00:00\u001b[0m\r\n",
      "\u001b[?25hInstalling collected packages: thop, ultralytics\r\n",
      "Successfully installed thop-0.1.1.post2209072238 ultralytics-8.1.4\r\n",
      "Requirement already satisfied: ipywidgets in /opt/conda/lib/python3.10/site-packages (7.7.1)\r\n",
      "Collecting ipywidgets\r\n",
      "  Obtaining dependency information for ipywidgets from https://files.pythonhosted.org/packages/4a/0e/57ed498fafbc60419a9332d872e929879ceba2d73cb11d284d7112472b3e/ipywidgets-8.1.1-py3-none-any.whl.metadata\r\n",
      "  Downloading ipywidgets-8.1.1-py3-none-any.whl.metadata (2.4 kB)\r\n",
      "Requirement already satisfied: comm>=0.1.3 in /opt/conda/lib/python3.10/site-packages (from ipywidgets) (0.1.4)\r\n",
      "Requirement already satisfied: ipython>=6.1.0 in /opt/conda/lib/python3.10/site-packages (from ipywidgets) (8.14.0)\r\n",
      "Requirement already satisfied: traitlets>=4.3.1 in /opt/conda/lib/python3.10/site-packages (from ipywidgets) (5.9.0)\r\n",
      "Collecting widgetsnbextension~=4.0.9 (from ipywidgets)\r\n",
      "  Obtaining dependency information for widgetsnbextension~=4.0.9 from https://files.pythonhosted.org/packages/29/03/107d96077c4befed191f7ad1a12c7b52a8f9d2778a5836d59f9855c105f6/widgetsnbextension-4.0.9-py3-none-any.whl.metadata\r\n",
      "  Downloading widgetsnbextension-4.0.9-py3-none-any.whl.metadata (1.6 kB)\r\n",
      "Collecting jupyterlab-widgets~=3.0.9 (from ipywidgets)\r\n",
      "  Obtaining dependency information for jupyterlab-widgets~=3.0.9 from https://files.pythonhosted.org/packages/e8/05/0ebab152288693b5ec7b339aab857362947031143b282853b4c2dd4b5b40/jupyterlab_widgets-3.0.9-py3-none-any.whl.metadata\r\n",
      "  Downloading jupyterlab_widgets-3.0.9-py3-none-any.whl.metadata (4.1 kB)\r\n",
      "Requirement already satisfied: backcall in /opt/conda/lib/python3.10/site-packages (from ipython>=6.1.0->ipywidgets) (0.2.0)\r\n",
      "Requirement already satisfied: decorator in /opt/conda/lib/python3.10/site-packages (from ipython>=6.1.0->ipywidgets) (5.1.1)\r\n",
      "Requirement already satisfied: jedi>=0.16 in /opt/conda/lib/python3.10/site-packages (from ipython>=6.1.0->ipywidgets) (0.19.0)\r\n",
      "Requirement already satisfied: matplotlib-inline in /opt/conda/lib/python3.10/site-packages (from ipython>=6.1.0->ipywidgets) (0.1.6)\r\n",
      "Requirement already satisfied: pickleshare in /opt/conda/lib/python3.10/site-packages (from ipython>=6.1.0->ipywidgets) (0.7.5)\r\n",
      "Requirement already satisfied: prompt-toolkit!=3.0.37,<3.1.0,>=3.0.30 in /opt/conda/lib/python3.10/site-packages (from ipython>=6.1.0->ipywidgets) (3.0.39)\r\n",
      "Requirement already satisfied: pygments>=2.4.0 in /opt/conda/lib/python3.10/site-packages (from ipython>=6.1.0->ipywidgets) (2.16.1)\r\n",
      "Requirement already satisfied: stack-data in /opt/conda/lib/python3.10/site-packages (from ipython>=6.1.0->ipywidgets) (0.6.2)\r\n",
      "Requirement already satisfied: pexpect>4.3 in /opt/conda/lib/python3.10/site-packages (from ipython>=6.1.0->ipywidgets) (4.8.0)\r\n",
      "Requirement already satisfied: parso<0.9.0,>=0.8.3 in /opt/conda/lib/python3.10/site-packages (from jedi>=0.16->ipython>=6.1.0->ipywidgets) (0.8.3)\r\n",
      "Requirement already satisfied: ptyprocess>=0.5 in /opt/conda/lib/python3.10/site-packages (from pexpect>4.3->ipython>=6.1.0->ipywidgets) (0.7.0)\r\n",
      "Requirement already satisfied: wcwidth in /opt/conda/lib/python3.10/site-packages (from prompt-toolkit!=3.0.37,<3.1.0,>=3.0.30->ipython>=6.1.0->ipywidgets) (0.2.6)\r\n",
      "Requirement already satisfied: executing>=1.2.0 in /opt/conda/lib/python3.10/site-packages (from stack-data->ipython>=6.1.0->ipywidgets) (1.2.0)\r\n",
      "Requirement already satisfied: asttokens>=2.1.0 in /opt/conda/lib/python3.10/site-packages (from stack-data->ipython>=6.1.0->ipywidgets) (2.2.1)\r\n",
      "Requirement already satisfied: pure-eval in /opt/conda/lib/python3.10/site-packages (from stack-data->ipython>=6.1.0->ipywidgets) (0.2.2)\r\n",
      "Requirement already satisfied: six in /opt/conda/lib/python3.10/site-packages (from asttokens>=2.1.0->stack-data->ipython>=6.1.0->ipywidgets) (1.16.0)\r\n",
      "Downloading ipywidgets-8.1.1-py3-none-any.whl (139 kB)\r\n",
      "\u001b[2K   \u001b[90m━━━━━━━━━━━━━━━━━━━━━━━━━━━━━━━━━━━━━━━━\u001b[0m \u001b[32m139.4/139.4 kB\u001b[0m \u001b[31m5.8 MB/s\u001b[0m eta \u001b[36m0:00:00\u001b[0m\r\n",
      "\u001b[?25hDownloading jupyterlab_widgets-3.0.9-py3-none-any.whl (214 kB)\r\n",
      "\u001b[2K   \u001b[90m━━━━━━━━━━━━━━━━━━━━━━━━━━━━━━━━━━━━━━━━\u001b[0m \u001b[32m214.9/214.9 kB\u001b[0m \u001b[31m17.2 MB/s\u001b[0m eta \u001b[36m0:00:00\u001b[0m\r\n",
      "\u001b[?25hDownloading widgetsnbextension-4.0.9-py3-none-any.whl (2.3 MB)\r\n",
      "\u001b[2K   \u001b[90m━━━━━━━━━━━━━━━━━━━━━━━━━━━━━━━━━━━━━━━━\u001b[0m \u001b[32m2.3/2.3 MB\u001b[0m \u001b[31m71.4 MB/s\u001b[0m eta \u001b[36m0:00:00\u001b[0m\r\n",
      "\u001b[?25hInstalling collected packages: widgetsnbextension, jupyterlab-widgets, ipywidgets\r\n",
      "  Attempting uninstall: widgetsnbextension\r\n",
      "    Found existing installation: widgetsnbextension 3.6.6\r\n",
      "    Uninstalling widgetsnbextension-3.6.6:\r\n",
      "      Successfully uninstalled widgetsnbextension-3.6.6\r\n",
      "  Attempting uninstall: jupyterlab-widgets\r\n",
      "    Found existing installation: jupyterlab-widgets 3.0.8\r\n",
      "    Uninstalling jupyterlab-widgets-3.0.8:\r\n",
      "      Successfully uninstalled jupyterlab-widgets-3.0.8\r\n",
      "  Attempting uninstall: ipywidgets\r\n",
      "    Found existing installation: ipywidgets 7.7.1\r\n",
      "    Uninstalling ipywidgets-7.7.1:\r\n",
      "      Successfully uninstalled ipywidgets-7.7.1\r\n",
      "Successfully installed ipywidgets-8.1.1 jupyterlab-widgets-3.0.9 widgetsnbextension-4.0.9\r\n"
     ]
    }
   ],
   "source": [
    "!pip install ultralytics\n",
    "!pip install -U ipywidgets"
   ]
  },
  {
   "cell_type": "code",
   "execution_count": 2,
   "id": "d12debe5",
   "metadata": {
    "execution": {
     "iopub.execute_input": "2024-01-22T23:07:25.742880Z",
     "iopub.status.busy": "2024-01-22T23:07:25.742565Z",
     "iopub.status.idle": "2024-01-22T23:07:29.420953Z",
     "shell.execute_reply": "2024-01-22T23:07:29.419680Z"
    },
    "papermill": {
     "duration": 3.689302,
     "end_time": "2024-01-22T23:07:29.423323",
     "exception": false,
     "start_time": "2024-01-22T23:07:25.734021",
     "status": "completed"
    },
    "tags": []
   },
   "outputs": [],
   "source": [
    "!mkdir -p /kaggle/temp/train/labels\n",
    "!mkdir -p /kaggle/temp/train/images\n",
    "\n",
    "!mkdir -p /kaggle/temp/val/labels\n",
    "!mkdir -p /kaggle/temp/val/images"
   ]
  },
  {
   "cell_type": "code",
   "execution_count": 3,
   "id": "45d3703f",
   "metadata": {
    "execution": {
     "iopub.execute_input": "2024-01-22T23:07:29.439275Z",
     "iopub.status.busy": "2024-01-22T23:07:29.438946Z",
     "iopub.status.idle": "2024-01-22T23:13:22.273128Z",
     "shell.execute_reply": "2024-01-22T23:13:22.271899Z"
    },
    "papermill": {
     "duration": 352.844923,
     "end_time": "2024-01-22T23:13:22.275568",
     "exception": false,
     "start_time": "2024-01-22T23:07:29.430645",
     "status": "completed"
    },
    "tags": []
   },
   "outputs": [],
   "source": [
    "!cp /kaggle/input/kidney-1-dense-to-yolo/train/labels/* /kaggle/temp/train/labels\n",
    "!cp /kaggle/input/kidney-1-dense-to-yolo/train/images/* /kaggle/temp/train/images\n",
    "\n",
    "!cp /kaggle/input/kidney-1-voi-to-yolo/train/labels/* /kaggle/temp/train/labels\n",
    "!cp /kaggle/input/kidney-1-voi-to-yolo/train/images/* /kaggle/temp/train/images\n",
    "\n",
    "!cp /kaggle/input/kidney-2-to-yolo/train/labels/* /kaggle/temp/train/labels\n",
    "!cp /kaggle/input/kidney-2-to-yolo/train/images/* /kaggle/temp/train/images\n",
    "\n",
    "!cp /kaggle/input/kidney-3-sparse-to-yolo/train/labels/* /kaggle/temp/train/labels\n",
    "!cp /kaggle/input/kidney-3-sparse-to-yolo/train/images/* /kaggle/temp/train/images"
   ]
  },
  {
   "cell_type": "code",
   "execution_count": 4,
   "id": "4ef7793c",
   "metadata": {
    "execution": {
     "iopub.execute_input": "2024-01-22T23:13:22.295838Z",
     "iopub.status.busy": "2024-01-22T23:13:22.295497Z",
     "iopub.status.idle": "2024-01-22T23:14:21.062639Z",
     "shell.execute_reply": "2024-01-22T23:14:21.061242Z"
    },
    "papermill": {
     "duration": 58.778947,
     "end_time": "2024-01-22T23:14:21.065385",
     "exception": false,
     "start_time": "2024-01-22T23:13:22.286438",
     "status": "completed"
    },
    "tags": []
   },
   "outputs": [],
   "source": [
    "!cp /kaggle/input/kidney-3-dense-to-yolo/train/labels/* /kaggle/temp/val/labels\n",
    "!cp /kaggle/input/kidney-3-dense-to-yolo/train/images/* /kaggle/temp/val/images"
   ]
  },
  {
   "cell_type": "code",
   "execution_count": 5,
   "id": "cd6592df",
   "metadata": {
    "execution": {
     "iopub.execute_input": "2024-01-22T23:14:21.082387Z",
     "iopub.status.busy": "2024-01-22T23:14:21.081991Z",
     "iopub.status.idle": "2024-01-22T23:14:21.087987Z",
     "shell.execute_reply": "2024-01-22T23:14:21.086136Z"
    },
    "papermill": {
     "duration": 0.017247,
     "end_time": "2024-01-22T23:14:21.090373",
     "exception": false,
     "start_time": "2024-01-22T23:14:21.073126",
     "status": "completed"
    },
    "tags": []
   },
   "outputs": [],
   "source": [
    "# !tail /kaggle/input/kidney-1-voi-to-yolo/train/kidney_1_voi.json"
   ]
  },
  {
   "cell_type": "markdown",
   "id": "7c0fc32d",
   "metadata": {
    "papermill": {
     "duration": 0.007942,
     "end_time": "2024-01-22T23:14:21.108202",
     "exception": false,
     "start_time": "2024-01-22T23:14:21.100260",
     "status": "completed"
    },
    "tags": []
   },
   "source": [
    "# Write yolo dataset yaml"
   ]
  },
  {
   "cell_type": "code",
   "execution_count": 6,
   "id": "19a6dd0d",
   "metadata": {
    "execution": {
     "iopub.execute_input": "2024-01-22T23:14:21.123368Z",
     "iopub.status.busy": "2024-01-22T23:14:21.123063Z",
     "iopub.status.idle": "2024-01-22T23:14:21.167183Z",
     "shell.execute_reply": "2024-01-22T23:14:21.166197Z"
    },
    "papermill": {
     "duration": 0.055096,
     "end_time": "2024-01-22T23:14:21.170273",
     "exception": false,
     "start_time": "2024-01-22T23:14:21.115177",
     "status": "completed"
    },
    "tags": []
   },
   "outputs": [],
   "source": [
    "import yaml"
   ]
  },
  {
   "cell_type": "code",
   "execution_count": 7,
   "id": "ab106264",
   "metadata": {
    "execution": {
     "iopub.execute_input": "2024-01-22T23:14:21.188152Z",
     "iopub.status.busy": "2024-01-22T23:14:21.187860Z",
     "iopub.status.idle": "2024-01-22T23:14:22.175200Z",
     "shell.execute_reply": "2024-01-22T23:14:22.174133Z"
    },
    "papermill": {
     "duration": 0.997866,
     "end_time": "2024-01-22T23:14:22.177505",
     "exception": false,
     "start_time": "2024-01-22T23:14:21.179639",
     "status": "completed"
    },
    "tags": []
   },
   "outputs": [],
   "source": [
    "!mkdir train"
   ]
  },
  {
   "cell_type": "code",
   "execution_count": 8,
   "id": "05b7f831",
   "metadata": {
    "execution": {
     "iopub.execute_input": "2024-01-22T23:14:22.193466Z",
     "iopub.status.busy": "2024-01-22T23:14:22.193160Z",
     "iopub.status.idle": "2024-01-22T23:14:22.200345Z",
     "shell.execute_reply": "2024-01-22T23:14:22.199642Z"
    },
    "papermill": {
     "duration": 0.017291,
     "end_time": "2024-01-22T23:14:22.202159",
     "exception": false,
     "start_time": "2024-01-22T23:14:22.184868",
     "status": "completed"
    },
    "tags": []
   },
   "outputs": [],
   "source": [
    "train_path = '/kaggle/temp/train'\n",
    "val_path = '/kaggle/temp/val'\n",
    "names = {0: 'Vessel'}\n",
    "yaml_path = 'train/train.yaml'\n",
    "\n",
    "# Number of classes\n",
    "nc = len(names)\n",
    "\n",
    "# Create a dictionary with the required content\n",
    "yaml_data = {\n",
    "    'names': names,\n",
    "    'nc': nc,\n",
    "    'test': '',\n",
    "    'train': train_path,\n",
    "    'val': val_path\n",
    "}\n",
    "\n",
    "# Write the dictionary to a YAML file\n",
    "with open(yaml_path, 'w') as file:\n",
    "    yaml.dump(yaml_data, file, default_flow_style=False)"
   ]
  },
  {
   "cell_type": "code",
   "execution_count": 9,
   "id": "b3ee93ff",
   "metadata": {
    "execution": {
     "iopub.execute_input": "2024-01-22T23:14:22.216997Z",
     "iopub.status.busy": "2024-01-22T23:14:22.216753Z",
     "iopub.status.idle": "2024-01-22T23:14:23.142384Z",
     "shell.execute_reply": "2024-01-22T23:14:23.141235Z"
    },
    "papermill": {
     "duration": 0.935454,
     "end_time": "2024-01-22T23:14:23.144520",
     "exception": false,
     "start_time": "2024-01-22T23:14:22.209066",
     "status": "completed"
    },
    "tags": []
   },
   "outputs": [
    {
     "name": "stdout",
     "output_type": "stream",
     "text": [
      "names:\r\n",
      "  0: Vessel\r\n",
      "nc: 1\r\n",
      "test: ''\r\n",
      "train: /kaggle/temp/train\r\n",
      "val: /kaggle/temp/val\r\n"
     ]
    }
   ],
   "source": [
    "!cat {yaml_path}"
   ]
  },
  {
   "cell_type": "code",
   "execution_count": 10,
   "id": "fa4b2365",
   "metadata": {
    "execution": {
     "iopub.execute_input": "2024-01-22T23:14:23.160458Z",
     "iopub.status.busy": "2024-01-22T23:14:23.160126Z",
     "iopub.status.idle": "2024-01-22T23:14:26.061269Z",
     "shell.execute_reply": "2024-01-22T23:14:26.060208Z"
    },
    "papermill": {
     "duration": 2.911562,
     "end_time": "2024-01-22T23:14:26.063423",
     "exception": false,
     "start_time": "2024-01-22T23:14:23.151861",
     "status": "completed"
    },
    "tags": []
   },
   "outputs": [
    {
     "name": "stderr",
     "output_type": "stream",
     "text": [
      "\u001b[34m\u001b[1mwandb\u001b[0m: W&B API key is configured. Use \u001b[1m`wandb login --relogin`\u001b[0m to force relogin\n",
      "\u001b[34m\u001b[1mwandb\u001b[0m: \u001b[33mWARNING\u001b[0m If you're specifying your api key in code, ensure this code is not shared publicly.\n",
      "\u001b[34m\u001b[1mwandb\u001b[0m: \u001b[33mWARNING\u001b[0m Consider setting the WANDB_API_KEY environment variable, or running `wandb login` from the command line.\n",
      "\u001b[34m\u001b[1mwandb\u001b[0m: Appending key for api.wandb.ai to your netrc file: /root/.netrc\n"
     ]
    },
    {
     "data": {
      "text/plain": [
       "True"
      ]
     },
     "execution_count": 10,
     "metadata": {},
     "output_type": "execute_result"
    }
   ],
   "source": [
    "import wandb\n",
    "from kaggle_secrets import UserSecretsClient\n",
    "user_secrets = UserSecretsClient()\n",
    "wandb_api_key = user_secrets.get_secret(\"wandb-api-key\")\n",
    "wandb.login(key=wandb_api_key)"
   ]
  },
  {
   "cell_type": "code",
   "execution_count": 11,
   "id": "80a82724",
   "metadata": {
    "execution": {
     "iopub.execute_input": "2024-01-22T23:14:26.080802Z",
     "iopub.status.busy": "2024-01-22T23:14:26.080442Z",
     "iopub.status.idle": "2024-01-22T23:14:31.628020Z",
     "shell.execute_reply": "2024-01-22T23:14:31.627060Z"
    },
    "papermill": {
     "duration": 5.558934,
     "end_time": "2024-01-22T23:14:31.630253",
     "exception": false,
     "start_time": "2024-01-22T23:14:26.071319",
     "status": "completed"
    },
    "tags": []
   },
   "outputs": [
    {
     "name": "stdout",
     "output_type": "stream",
     "text": [
      "Downloading https://github.com/ultralytics/assets/releases/download/v8.1.0/yolov8n-seg.pt to 'yolov8n-seg.pt'...\n"
     ]
    },
    {
     "name": "stderr",
     "output_type": "stream",
     "text": [
      "100%|██████████| 6.73M/6.73M [00:00<00:00, 99.7MB/s]\n"
     ]
    }
   ],
   "source": [
    "from ultralytics import YOLO\n",
    "\n",
    "model = YOLO('yolov8n-seg.pt')"
   ]
  },
  {
   "cell_type": "code",
   "execution_count": 12,
   "id": "0eb7853a",
   "metadata": {
    "execution": {
     "iopub.execute_input": "2024-01-22T23:14:31.647411Z",
     "iopub.status.busy": "2024-01-22T23:14:31.646956Z",
     "iopub.status.idle": "2024-01-23T02:24:52.005701Z",
     "shell.execute_reply": "2024-01-23T02:24:52.004277Z"
    },
    "papermill": {
     "duration": 11420.37119,
     "end_time": "2024-01-23T02:24:52.009446",
     "exception": false,
     "start_time": "2024-01-22T23:14:31.638256",
     "status": "completed"
    },
    "tags": []
   },
   "outputs": [
    {
     "name": "stdout",
     "output_type": "stream",
     "text": [
      "Ultralytics YOLOv8.1.4 🚀 Python-3.10.12 torch-2.0.0 CUDA:0 (Tesla P100-PCIE-16GB, 16276MiB)\n",
      "\u001b[34m\u001b[1mengine/trainer: \u001b[0mtask=segment, mode=train, model=yolov8n-seg.pt, data=train/train.yaml, epochs=100, time=3, patience=10, batch=9, imgsz=1600, save=True, save_period=-1, cache=True, device=None, workers=8, project=hacking_human_vasculature, name=kidney_3_dense_val_rest_train_yolo_s_1600_9, exist_ok=False, pretrained=True, optimizer=auto, verbose=True, seed=0, deterministic=True, single_cls=False, rect=False, cos_lr=False, close_mosaic=10, resume=False, amp=True, fraction=1.0, profile=False, freeze=None, multi_scale=False, overlap_mask=True, mask_ratio=4, dropout=0.0, val=True, split=val, save_json=False, save_hybrid=False, conf=None, iou=0.7, max_det=300, half=False, dnn=False, plots=True, source=None, vid_stride=1, stream_buffer=False, visualize=False, augment=False, agnostic_nms=False, classes=None, retina_masks=False, embed=None, show=False, save_frames=False, save_txt=False, save_conf=False, save_crop=False, show_labels=True, show_conf=True, show_boxes=True, line_width=None, format=torchscript, keras=False, optimize=False, int8=False, dynamic=False, simplify=False, opset=None, workspace=4, nms=False, lr0=0.01, lrf=0.01, momentum=0.937, weight_decay=0.0005, warmup_epochs=3.0, warmup_momentum=0.8, warmup_bias_lr=0.1, box=7.5, cls=0.5, dfl=1.5, pose=12.0, kobj=1.0, label_smoothing=0.0, nbs=64, hsv_h=0.015, hsv_s=0.7, hsv_v=0.4, degrees=0.0, translate=0.1, scale=0.5, shear=0.0, perspective=0.0, flipud=0.0, fliplr=0.5, mosaic=1.0, mixup=0.0, copy_paste=0.0, auto_augment=randaugment, erasing=0.4, crop_fraction=1.0, cfg=None, tracker=botsort.yaml, save_dir=hacking_human_vasculature/kidney_3_dense_val_rest_train_yolo_s_1600_9\n",
      "Downloading https://ultralytics.com/assets/Arial.ttf to '/root/.config/Ultralytics/Arial.ttf'...\n"
     ]
    },
    {
     "name": "stderr",
     "output_type": "stream",
     "text": [
      "100%|██████████| 755k/755k [00:00<00:00, 22.3MB/s]\n",
      "/opt/conda/lib/python3.10/site-packages/scipy/__init__.py:146: UserWarning: A NumPy version >=1.16.5 and <1.23.0 is required for this version of SciPy (detected version 1.24.3\n",
      "  warnings.warn(f\"A NumPy version >={np_minversion} and <{np_maxversion}\"\n"
     ]
    },
    {
     "name": "stdout",
     "output_type": "stream",
     "text": [
      "Overriding model.yaml nc=80 with nc=1\n",
      "\n",
      "                   from  n    params  module                                       arguments                     \n",
      "  0                  -1  1       464  ultralytics.nn.modules.conv.Conv             [3, 16, 3, 2]                 \n",
      "  1                  -1  1      4672  ultralytics.nn.modules.conv.Conv             [16, 32, 3, 2]                \n",
      "  2                  -1  1      7360  ultralytics.nn.modules.block.C2f             [32, 32, 1, True]             \n",
      "  3                  -1  1     18560  ultralytics.nn.modules.conv.Conv             [32, 64, 3, 2]                \n",
      "  4                  -1  2     49664  ultralytics.nn.modules.block.C2f             [64, 64, 2, True]             \n",
      "  5                  -1  1     73984  ultralytics.nn.modules.conv.Conv             [64, 128, 3, 2]               \n",
      "  6                  -1  2    197632  ultralytics.nn.modules.block.C2f             [128, 128, 2, True]           \n",
      "  7                  -1  1    295424  ultralytics.nn.modules.conv.Conv             [128, 256, 3, 2]              \n",
      "  8                  -1  1    460288  ultralytics.nn.modules.block.C2f             [256, 256, 1, True]           \n",
      "  9                  -1  1    164608  ultralytics.nn.modules.block.SPPF            [256, 256, 5]                 \n",
      " 10                  -1  1         0  torch.nn.modules.upsampling.Upsample         [None, 2, 'nearest']          \n",
      " 11             [-1, 6]  1         0  ultralytics.nn.modules.conv.Concat           [1]                           \n",
      " 12                  -1  1    148224  ultralytics.nn.modules.block.C2f             [384, 128, 1]                 \n",
      " 13                  -1  1         0  torch.nn.modules.upsampling.Upsample         [None, 2, 'nearest']          \n",
      " 14             [-1, 4]  1         0  ultralytics.nn.modules.conv.Concat           [1]                           \n",
      " 15                  -1  1     37248  ultralytics.nn.modules.block.C2f             [192, 64, 1]                  \n",
      " 16                  -1  1     36992  ultralytics.nn.modules.conv.Conv             [64, 64, 3, 2]                \n",
      " 17            [-1, 12]  1         0  ultralytics.nn.modules.conv.Concat           [1]                           \n",
      " 18                  -1  1    123648  ultralytics.nn.modules.block.C2f             [192, 128, 1]                 \n",
      " 19                  -1  1    147712  ultralytics.nn.modules.conv.Conv             [128, 128, 3, 2]              \n",
      " 20             [-1, 9]  1         0  ultralytics.nn.modules.conv.Concat           [1]                           \n",
      " 21                  -1  1    493056  ultralytics.nn.modules.block.C2f             [384, 256, 1]                 \n",
      " 22        [15, 18, 21]  1   1004275  ultralytics.nn.modules.head.Segment          [1, 32, 64, [64, 128, 256]]   \n",
      "YOLOv8n-seg summary: 261 layers, 3263811 parameters, 3263795 gradients, 12.1 GFLOPs\n",
      "\n",
      "Transferred 381/417 items from pretrained weights\n",
      "\u001b[34m\u001b[1mTensorBoard: \u001b[0mStart with 'tensorboard --logdir hacking_human_vasculature/kidney_3_dense_val_rest_train_yolo_s_1600_9', view at http://localhost:6006/\n"
     ]
    },
    {
     "name": "stderr",
     "output_type": "stream",
     "text": [
      "\u001b[34m\u001b[1mwandb\u001b[0m: Currently logged in as: \u001b[33maaalex-lit\u001b[0m. Use \u001b[1m`wandb login --relogin`\u001b[0m to force relogin\n",
      "\u001b[34m\u001b[1mwandb\u001b[0m: Tracking run with wandb version 0.16.2\n",
      "\u001b[34m\u001b[1mwandb\u001b[0m: Run data is saved locally in \u001b[35m\u001b[1m/kaggle/working/wandb/run-20240122_231448-51k9z9y3\u001b[0m\n",
      "\u001b[34m\u001b[1mwandb\u001b[0m: Run \u001b[1m`wandb offline`\u001b[0m to turn off syncing.\n",
      "\u001b[34m\u001b[1mwandb\u001b[0m: Syncing run \u001b[33mkidney_3_dense_val_rest_train_yolo_s_1600_9\u001b[0m\n",
      "\u001b[34m\u001b[1mwandb\u001b[0m: ⭐️ View project at \u001b[34m\u001b[4mhttps://wandb.ai/aaalex-lit/hacking_human_vasculature\u001b[0m\n",
      "\u001b[34m\u001b[1mwandb\u001b[0m: 🚀 View run at \u001b[34m\u001b[4mhttps://wandb.ai/aaalex-lit/hacking_human_vasculature/runs/51k9z9y3\u001b[0m\n"
     ]
    },
    {
     "name": "stdout",
     "output_type": "stream",
     "text": [
      "Freezing layer 'model.22.dfl.conv.weight'\n",
      "\u001b[34m\u001b[1mAMP: \u001b[0mrunning Automatic Mixed Precision (AMP) checks with YOLOv8n...\n",
      "Downloading https://github.com/ultralytics/assets/releases/download/v8.1.0/yolov8n.pt to 'yolov8n.pt'...\n"
     ]
    },
    {
     "name": "stderr",
     "output_type": "stream",
     "text": [
      "100%|██████████| 6.23M/6.23M [00:00<00:00, 96.2MB/s]\n"
     ]
    },
    {
     "name": "stdout",
     "output_type": "stream",
     "text": [
      "\u001b[34m\u001b[1mAMP: \u001b[0mchecks passed ✅\n"
     ]
    },
    {
     "name": "stderr",
     "output_type": "stream",
     "text": [
      "\u001b[34m\u001b[1mtrain: \u001b[0mScanning /kaggle/temp/train/labels... 6571 images, 357 backgrounds, 0 corrupt: 100%|██████████| 6928/6928 [00:24<00:00, 281.30it/s]\n"
     ]
    },
    {
     "name": "stdout",
     "output_type": "stream",
     "text": [
      "\u001b[34m\u001b[1mtrain: \u001b[0mNew cache created: /kaggle/temp/train/labels.cache\n"
     ]
    },
    {
     "name": "stderr",
     "output_type": "stream",
     "text": [
      "\u001b[34m\u001b[1mtrain: \u001b[0mCaching images (38.9GB True): 100%|██████████| 6928/6928 [02:07<00:00, 54.34it/s]\n"
     ]
    },
    {
     "name": "stdout",
     "output_type": "stream",
     "text": [
      "\u001b[34m\u001b[1malbumentations: \u001b[0mBlur(p=0.01, blur_limit=(3, 7)), MedianBlur(p=0.01, blur_limit=(3, 7)), ToGray(p=0.01), CLAHE(p=0.01, clip_limit=(1, 4.0), tile_grid_size=(8, 8))\n"
     ]
    },
    {
     "name": "stderr",
     "output_type": "stream",
     "text": [
      "\u001b[34m\u001b[1mval: \u001b[0mScanning /kaggle/temp/val/labels... 456 images, 579 backgrounds, 0 corrupt: 100%|██████████| 1035/1035 [00:04<00:00, 210.44it/s]\n"
     ]
    },
    {
     "name": "stdout",
     "output_type": "stream",
     "text": [
      "\u001b[34m\u001b[1mval: \u001b[0mNew cache created: /kaggle/temp/val/labels.cache\n"
     ]
    },
    {
     "name": "stderr",
     "output_type": "stream",
     "text": [
      "\u001b[34m\u001b[1mval: \u001b[0mCaching images (6.6GB True): 100%|██████████| 1035/1035 [00:25<00:00, 40.58it/s]\n"
     ]
    },
    {
     "name": "stdout",
     "output_type": "stream",
     "text": [
      "Plotting labels to hacking_human_vasculature/kidney_3_dense_val_rest_train_yolo_s_1600_9/labels.jpg... \n",
      "\u001b[34m\u001b[1moptimizer:\u001b[0m 'optimizer=auto' found, ignoring 'lr0=0.01' and 'momentum=0.937' and determining best 'optimizer', 'lr0' and 'momentum' automatically... \n",
      "\u001b[34m\u001b[1moptimizer:\u001b[0m SGD(lr=0.01, momentum=0.9) with parameter groups 66 weight(decay=0.0), 77 weight(decay=0.0004921875), 76 bias(decay=0.0)\n",
      "\u001b[34m\u001b[1mTensorBoard: \u001b[0mmodel graph visualization added ✅\n",
      "Image sizes 1600 train, 1600 val\n",
      "Using 4 dataloader workers\n",
      "Logging results to \u001b[1mhacking_human_vasculature/kidney_3_dense_val_rest_train_yolo_s_1600_9\u001b[0m\n",
      "Starting training for 3 hours...\n",
      "\n",
      "      Epoch    GPU_mem   box_loss   seg_loss   cls_loss   dfl_loss  Instances       Size\n"
     ]
    },
    {
     "name": "stderr",
     "output_type": "stream",
     "text": [
      "      1/100      15.7G      1.253      1.533      1.731      0.886        351       1600: 100%|██████████| 770/770 [18:49<00:00,  1.47s/it]\n",
      "                 Class     Images  Instances      Box(P          R      mAP50  mAP50-95)     Mask(P          R      mAP50  mAP50-95): 100%|██████████| 58/58 [00:53<00:00,  1.08it/s]\n"
     ]
    },
    {
     "name": "stdout",
     "output_type": "stream",
     "text": [
      "                   all       1035      41540      0.547     0.0937       0.13     0.0738      0.497     0.0852      0.104     0.0412\n",
      "\n",
      "      Epoch    GPU_mem   box_loss   seg_loss   cls_loss   dfl_loss  Instances       Size\n"
     ]
    },
    {
     "name": "stderr",
     "output_type": "stream",
     "text": [
      "       2/10      13.5G      1.135      1.193     0.9173     0.8406        241       1600: 100%|██████████| 770/770 [18:20<00:00,  1.43s/it]\n",
      "                 Class     Images  Instances      Box(P          R      mAP50  mAP50-95)     Mask(P          R      mAP50  mAP50-95): 100%|██████████| 58/58 [00:43<00:00,  1.33it/s]\n"
     ]
    },
    {
     "name": "stdout",
     "output_type": "stream",
     "text": [
      "                   all       1035      41540      0.482      0.388      0.275      0.152      0.409      0.363      0.256      0.125\n",
      "\n",
      "      Epoch    GPU_mem   box_loss   seg_loss   cls_loss   dfl_loss  Instances       Size\n"
     ]
    },
    {
     "name": "stderr",
     "output_type": "stream",
     "text": [
      "       3/10      13.4G      1.114      1.116     0.7844     0.8395        248       1600: 100%|██████████| 770/770 [17:54<00:00,  1.40s/it]\n",
      "                 Class     Images  Instances      Box(P          R      mAP50  mAP50-95)     Mask(P          R      mAP50  mAP50-95): 100%|██████████| 58/58 [00:45<00:00,  1.28it/s]\n"
     ]
    },
    {
     "name": "stdout",
     "output_type": "stream",
     "text": [
      "                   all       1035      41540      0.493       0.41      0.284      0.159      0.415      0.372      0.262      0.128\n",
      "\n",
      "      Epoch    GPU_mem   box_loss   seg_loss   cls_loss   dfl_loss  Instances       Size\n"
     ]
    },
    {
     "name": "stderr",
     "output_type": "stream",
     "text": [
      "       4/10      14.9G       1.04      1.011     0.6899     0.8329        220       1600: 100%|██████████| 770/770 [17:09<00:00,  1.34s/it]\n",
      "                 Class     Images  Instances      Box(P          R      mAP50  mAP50-95)     Mask(P          R      mAP50  mAP50-95): 100%|██████████| 58/58 [00:48<00:00,  1.20it/s]\n"
     ]
    },
    {
     "name": "stdout",
     "output_type": "stream",
     "text": [
      "                   all       1035      41540      0.486      0.381      0.273      0.157      0.419      0.356      0.262      0.124\n",
      "\n",
      "      Epoch    GPU_mem   box_loss   seg_loss   cls_loss   dfl_loss  Instances       Size\n"
     ]
    },
    {
     "name": "stderr",
     "output_type": "stream",
     "text": [
      "       5/10      14.8G     0.9654     0.9338     0.6234     0.8239        590       1600: 100%|██████████| 770/770 [17:24<00:00,  1.36s/it]\n",
      "                 Class     Images  Instances      Box(P          R      mAP50  mAP50-95)     Mask(P          R      mAP50  mAP50-95): 100%|██████████| 58/58 [00:46<00:00,  1.26it/s]\n"
     ]
    },
    {
     "name": "stdout",
     "output_type": "stream",
     "text": [
      "                   all       1035      41540      0.499      0.418        0.3      0.171      0.428      0.371      0.278      0.139\n",
      "\n",
      "      Epoch    GPU_mem   box_loss   seg_loss   cls_loss   dfl_loss  Instances       Size\n"
     ]
    },
    {
     "name": "stderr",
     "output_type": "stream",
     "text": [
      "       6/10      15.3G     0.9138     0.8816      0.579     0.8177        371       1600: 100%|██████████| 770/770 [17:59<00:00,  1.40s/it]\n",
      "                 Class     Images  Instances      Box(P          R      mAP50  mAP50-95)     Mask(P          R      mAP50  mAP50-95): 100%|██████████| 58/58 [00:45<00:00,  1.28it/s]\n"
     ]
    },
    {
     "name": "stdout",
     "output_type": "stream",
     "text": [
      "                   all       1035      41540      0.506      0.423      0.314      0.178      0.422      0.374      0.285      0.139\n",
      "\n",
      "      Epoch    GPU_mem   box_loss   seg_loss   cls_loss   dfl_loss  Instances       Size\n"
     ]
    },
    {
     "name": "stderr",
     "output_type": "stream",
     "text": [
      "       7/10      15.3G     0.8629     0.8412     0.5472      0.813        404       1600: 100%|██████████| 770/770 [17:32<00:00,  1.37s/it]\n",
      "                 Class     Images  Instances      Box(P          R      mAP50  mAP50-95)     Mask(P          R      mAP50  mAP50-95): 100%|██████████| 58/58 [00:41<00:00,  1.41it/s]\n"
     ]
    },
    {
     "name": "stdout",
     "output_type": "stream",
     "text": [
      "                   all       1035      41540      0.513      0.431       0.32      0.186      0.433      0.391      0.301      0.151\n",
      "\n",
      "      Epoch    GPU_mem   box_loss   seg_loss   cls_loss   dfl_loss  Instances       Size\n"
     ]
    },
    {
     "name": "stderr",
     "output_type": "stream",
     "text": [
      "       8/10      16.5G     0.8382     0.8204     0.5255     0.8087        315       1600: 100%|██████████| 770/770 [17:57<00:00,  1.40s/it]\n",
      "                 Class     Images  Instances      Box(P          R      mAP50  mAP50-95)     Mask(P          R      mAP50  mAP50-95): 100%|██████████| 58/58 [00:45<00:00,  1.28it/s]\n"
     ]
    },
    {
     "name": "stdout",
     "output_type": "stream",
     "text": [
      "                   all       1035      41540       0.52       0.43      0.324      0.185      0.444      0.383        0.3       0.15\n",
      "\n",
      "      Epoch    GPU_mem   box_loss   seg_loss   cls_loss   dfl_loss  Instances       Size\n"
     ]
    },
    {
     "name": "stderr",
     "output_type": "stream",
     "text": [
      "       9/10        13G     0.8123      0.797     0.5037     0.8051        469       1600: 100%|██████████| 770/770 [17:58<00:00,  1.40s/it]\n",
      "                 Class     Images  Instances      Box(P          R      mAP50  mAP50-95)     Mask(P          R      mAP50  mAP50-95): 100%|██████████| 58/58 [00:44<00:00,  1.32it/s]\n"
     ]
    },
    {
     "name": "stdout",
     "output_type": "stream",
     "text": [
      "                   all       1035      41540      0.523      0.436      0.325      0.186      0.452      0.404      0.313       0.16\n",
      "\n",
      "      Epoch    GPU_mem   box_loss   seg_loss   cls_loss   dfl_loss  Instances       Size\n"
     ]
    },
    {
     "name": "stderr",
     "output_type": "stream",
     "text": [
      "      10/10        14G     0.7818      0.775      0.485     0.8025        328       1600:  63%|██████▎   | 482/770 [11:10<06:40,  1.39s/it]\n",
      "                 Class     Images  Instances      Box(P          R      mAP50  mAP50-95)     Mask(P          R      mAP50  mAP50-95): 100%|██████████| 58/58 [00:42<00:00,  1.38it/s]\n"
     ]
    },
    {
     "name": "stdout",
     "output_type": "stream",
     "text": [
      "                   all       1035      41540      0.521      0.435      0.327      0.188      0.447      0.407      0.314      0.161\n",
      "\n",
      "10 epochs completed in 3.013 hours.\n",
      "Optimizer stripped from hacking_human_vasculature/kidney_3_dense_val_rest_train_yolo_s_1600_9/weights/last.pt, 7.0MB\n",
      "Optimizer stripped from hacking_human_vasculature/kidney_3_dense_val_rest_train_yolo_s_1600_9/weights/best.pt, 7.0MB\n",
      "\n",
      "Validating hacking_human_vasculature/kidney_3_dense_val_rest_train_yolo_s_1600_9/weights/best.pt...\n",
      "Ultralytics YOLOv8.1.4 🚀 Python-3.10.12 torch-2.0.0 CUDA:0 (Tesla P100-PCIE-16GB, 16276MiB)\n",
      "YOLOv8n-seg summary (fused): 195 layers, 3258259 parameters, 0 gradients, 12.0 GFLOPs\n"
     ]
    },
    {
     "name": "stderr",
     "output_type": "stream",
     "text": [
      "                 Class     Images  Instances      Box(P          R      mAP50  mAP50-95)     Mask(P          R      mAP50  mAP50-95):   9%|▊         | 5/58 [03:23<1:00:22, 68.35s/it]"
     ]
    },
    {
     "name": "stdout",
     "output_type": "stream",
     "text": [
      "WARNING ⚠️ NMS time limit 2.900s exceeded\n"
     ]
    },
    {
     "name": "stderr",
     "output_type": "stream",
     "text": [
      "                 Class     Images  Instances      Box(P          R      mAP50  mAP50-95)     Mask(P          R      mAP50  mAP50-95): 100%|██████████| 58/58 [04:46<00:00,  4.93s/it]\n"
     ]
    },
    {
     "name": "stdout",
     "output_type": "stream",
     "text": [
      "                   all       1035      41540      0.514      0.423      0.315      0.181      0.442      0.394      0.303      0.156\n",
      "Speed: 5.5ms preprocess, 21.1ms inference, 0.0ms loss, 7.2ms postprocess per image\n",
      "Results saved to \u001b[1mhacking_human_vasculature/kidney_3_dense_val_rest_train_yolo_s_1600_9\u001b[0m\n"
     ]
    },
    {
     "name": "stderr",
     "output_type": "stream",
     "text": [
      "\u001b[34m\u001b[1mwandb\u001b[0m:                                                                                \n",
      "\u001b[34m\u001b[1mwandb\u001b[0m: \n",
      "\u001b[34m\u001b[1mwandb\u001b[0m: Run history:\n",
      "\u001b[34m\u001b[1mwandb\u001b[0m:                  lr/pg0 ▃▆█▇▆▅▄▃▂▁\n",
      "\u001b[34m\u001b[1mwandb\u001b[0m:                  lr/pg1 ▃▆█▇▆▅▄▃▂▁\n",
      "\u001b[34m\u001b[1mwandb\u001b[0m:                  lr/pg2 ▃▆█▇▆▅▄▃▂▁\n",
      "\u001b[34m\u001b[1mwandb\u001b[0m:        metrics/mAP50(B) ▁▆▇▆▇█████\n",
      "\u001b[34m\u001b[1mwandb\u001b[0m:        metrics/mAP50(M) ▁▆▆▆▇▇████\n",
      "\u001b[34m\u001b[1mwandb\u001b[0m:     metrics/mAP50-95(B) ▁▆▆▆▇█████\n",
      "\u001b[34m\u001b[1mwandb\u001b[0m:     metrics/mAP50-95(M) ▁▆▆▆▇▇▇▇██\n",
      "\u001b[34m\u001b[1mwandb\u001b[0m:    metrics/precision(B) █▁▂▁▃▄▄▅▅▄\n",
      "\u001b[34m\u001b[1mwandb\u001b[0m:    metrics/precision(M) █▁▁▂▂▂▃▄▄▄\n",
      "\u001b[34m\u001b[1mwandb\u001b[0m:       metrics/recall(B) ▁▇▇▇██████\n",
      "\u001b[34m\u001b[1mwandb\u001b[0m:       metrics/recall(M) ▁▇▇▇▇▇████\n",
      "\u001b[34m\u001b[1mwandb\u001b[0m:            model/GFLOPs ▁\n",
      "\u001b[34m\u001b[1mwandb\u001b[0m:        model/parameters ▁\n",
      "\u001b[34m\u001b[1mwandb\u001b[0m: model/speed_PyTorch(ms) ▁\n",
      "\u001b[34m\u001b[1mwandb\u001b[0m:          train/box_loss █▆▆▅▄▃▂▂▁▁\n",
      "\u001b[34m\u001b[1mwandb\u001b[0m:          train/cls_loss █▃▃▂▂▂▁▁▁▁\n",
      "\u001b[34m\u001b[1mwandb\u001b[0m:          train/dfl_loss █▄▄▄▃▂▂▂▁▁\n",
      "\u001b[34m\u001b[1mwandb\u001b[0m:          train/seg_loss █▅▄▃▂▂▂▁▁▁\n",
      "\u001b[34m\u001b[1mwandb\u001b[0m:            val/box_loss █▃▂▂▂▂▁▂▁▁\n",
      "\u001b[34m\u001b[1mwandb\u001b[0m:            val/cls_loss ▁▅▆▄▅▅▇▇██\n",
      "\u001b[34m\u001b[1mwandb\u001b[0m:            val/dfl_loss █▃▃▃▂▂▂▂▁▁\n",
      "\u001b[34m\u001b[1mwandb\u001b[0m:            val/seg_loss █▂▁▃▂▄▂▃▃▃\n",
      "\u001b[34m\u001b[1mwandb\u001b[0m: \n",
      "\u001b[34m\u001b[1mwandb\u001b[0m: Run summary:\n",
      "\u001b[34m\u001b[1mwandb\u001b[0m:                  lr/pg0 0.00109\n",
      "\u001b[34m\u001b[1mwandb\u001b[0m:                  lr/pg1 0.00109\n",
      "\u001b[34m\u001b[1mwandb\u001b[0m:                  lr/pg2 0.00109\n",
      "\u001b[34m\u001b[1mwandb\u001b[0m:        metrics/mAP50(B) 0.31539\n",
      "\u001b[34m\u001b[1mwandb\u001b[0m:        metrics/mAP50(M) 0.30272\n",
      "\u001b[34m\u001b[1mwandb\u001b[0m:     metrics/mAP50-95(B) 0.18131\n",
      "\u001b[34m\u001b[1mwandb\u001b[0m:     metrics/mAP50-95(M) 0.15556\n",
      "\u001b[34m\u001b[1mwandb\u001b[0m:    metrics/precision(B) 0.51391\n",
      "\u001b[34m\u001b[1mwandb\u001b[0m:    metrics/precision(M) 0.4417\n",
      "\u001b[34m\u001b[1mwandb\u001b[0m:       metrics/recall(B) 0.42295\n",
      "\u001b[34m\u001b[1mwandb\u001b[0m:       metrics/recall(M) 0.39442\n",
      "\u001b[34m\u001b[1mwandb\u001b[0m:            model/GFLOPs 12.109\n",
      "\u001b[34m\u001b[1mwandb\u001b[0m:        model/parameters 3263811\n",
      "\u001b[34m\u001b[1mwandb\u001b[0m: model/speed_PyTorch(ms) 18.599\n",
      "\u001b[34m\u001b[1mwandb\u001b[0m:          train/box_loss 0.78189\n",
      "\u001b[34m\u001b[1mwandb\u001b[0m:          train/cls_loss 0.48495\n",
      "\u001b[34m\u001b[1mwandb\u001b[0m:          train/dfl_loss 0.80253\n",
      "\u001b[34m\u001b[1mwandb\u001b[0m:          train/seg_loss 0.77507\n",
      "\u001b[34m\u001b[1mwandb\u001b[0m:            val/box_loss 0.58143\n",
      "\u001b[34m\u001b[1mwandb\u001b[0m:            val/cls_loss 636.23657\n",
      "\u001b[34m\u001b[1mwandb\u001b[0m:            val/dfl_loss 0.40095\n",
      "\u001b[34m\u001b[1mwandb\u001b[0m:            val/seg_loss 0.66309\n",
      "\u001b[34m\u001b[1mwandb\u001b[0m: \n",
      "\u001b[34m\u001b[1mwandb\u001b[0m: 🚀 View run \u001b[33mkidney_3_dense_val_rest_train_yolo_s_1600_9\u001b[0m at: \u001b[34m\u001b[4mhttps://wandb.ai/aaalex-lit/hacking_human_vasculature/runs/51k9z9y3\u001b[0m\n",
      "\u001b[34m\u001b[1mwandb\u001b[0m: Synced 6 W&B file(s), 29 media file(s), 9 artifact file(s) and 0 other file(s)\n",
      "\u001b[34m\u001b[1mwandb\u001b[0m: Find logs at: \u001b[35m\u001b[1m./wandb/run-20240122_231448-51k9z9y3/logs\u001b[0m\n"
     ]
    }
   ],
   "source": [
    "project = 'hacking_human_vasculature'\n",
    "name = 'kidney_3_dense_val_rest_train_yolo_s_1600_9'\n",
    "\n",
    "results = model.train(data=yaml_path,\n",
    "                      project=project,\n",
    "                      name=name,\n",
    "                      epochs=100,\n",
    "                      time=3,\n",
    "                      patience=10, \n",
    "                      batch=9,\n",
    "                      imgsz=1600,\n",
    "                      cache=True\n",
    "                     )"
   ]
  },
  {
   "cell_type": "code",
   "execution_count": 13,
   "id": "c8b1df69",
   "metadata": {
    "execution": {
     "iopub.execute_input": "2024-01-23T02:24:54.932919Z",
     "iopub.status.busy": "2024-01-23T02:24:54.932048Z",
     "iopub.status.idle": "2024-01-23T02:24:54.937572Z",
     "shell.execute_reply": "2024-01-23T02:24:54.936576Z"
    },
    "papermill": {
     "duration": 1.403878,
     "end_time": "2024-01-23T02:24:54.939505",
     "exception": false,
     "start_time": "2024-01-23T02:24:53.535627",
     "status": "completed"
    },
    "tags": []
   },
   "outputs": [],
   "source": [
    "wandb.finish()"
   ]
  },
  {
   "cell_type": "code",
   "execution_count": null,
   "id": "baa7abe8",
   "metadata": {
    "papermill": {
     "duration": 1.394465,
     "end_time": "2024-01-23T02:24:57.851144",
     "exception": false,
     "start_time": "2024-01-23T02:24:56.456679",
     "status": "completed"
    },
    "tags": []
   },
   "outputs": [],
   "source": []
  }
 ],
 "metadata": {
  "kaggle": {
   "accelerator": "gpu",
   "dataSources": [
    {
     "databundleVersionId": 6962461,
     "sourceId": 61446,
     "sourceType": "competition"
    },
    {
     "sourceId": 158630420,
     "sourceType": "kernelVersion"
    },
    {
     "sourceId": 158630632,
     "sourceType": "kernelVersion"
    },
    {
     "sourceId": 158630893,
     "sourceType": "kernelVersion"
    },
    {
     "sourceId": 158631065,
     "sourceType": "kernelVersion"
    },
    {
     "sourceId": 158682423,
     "sourceType": "kernelVersion"
    }
   ],
   "dockerImageVersionId": 30636,
   "isGpuEnabled": true,
   "isInternetEnabled": true,
   "language": "python",
   "sourceType": "notebook"
  },
  "kernelspec": {
   "display_name": "Python 3",
   "language": "python",
   "name": "python3"
  },
  "language_info": {
   "codemirror_mode": {
    "name": "ipython",
    "version": 3
   },
   "file_extension": ".py",
   "mimetype": "text/x-python",
   "name": "python",
   "nbconvert_exporter": "python",
   "pygments_lexer": "ipython3",
   "version": "3.10.12"
  },
  "papermill": {
   "default_parameters": {},
   "duration": 11889.7728,
   "end_time": "2024-01-23T02:25:05.905258",
   "environment_variables": {},
   "exception": null,
   "input_path": "__notebook__.ipynb",
   "output_path": "__notebook__.ipynb",
   "parameters": {},
   "start_time": "2024-01-22T23:06:56.132458",
   "version": "2.4.0"
  }
 },
 "nbformat": 4,
 "nbformat_minor": 5
}
