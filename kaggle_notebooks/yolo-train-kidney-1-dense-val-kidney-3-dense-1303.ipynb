{
 "cells": [
  {
   "cell_type": "code",
   "execution_count": 1,
   "id": "50a6fe68",
   "metadata": {
    "_cell_guid": "92f3a220-139d-4c55-a6f3-e90c068395bb",
    "_uuid": "6fe71b12-5fd1-4e35-9e8e-03816ec3b539",
    "collapsed": false,
    "execution": {
     "iopub.execute_input": "2024-01-18T10:03:19.080289Z",
     "iopub.status.busy": "2024-01-18T10:03:19.079919Z",
     "iopub.status.idle": "2024-01-18T10:03:47.478728Z",
     "shell.execute_reply": "2024-01-18T10:03:47.477658Z"
    },
    "jupyter": {
     "outputs_hidden": false
    },
    "papermill": {
     "duration": 28.408561,
     "end_time": "2024-01-18T10:03:47.481018",
     "exception": false,
     "start_time": "2024-01-18T10:03:19.072457",
     "status": "completed"
    },
    "tags": []
   },
   "outputs": [
    {
     "name": "stdout",
     "output_type": "stream",
     "text": [
      "Collecting ultralytics\r\n",
      "  Obtaining dependency information for ultralytics from https://files.pythonhosted.org/packages/e0/06/f07c56b8080af737ad42991fc1bb4e94da490c5227225c8337b8c248bd44/ultralytics-8.1.2-py3-none-any.whl.metadata\r\n",
      "  Downloading ultralytics-8.1.2-py3-none-any.whl.metadata (40 kB)\r\n",
      "\u001b[2K     \u001b[90m━━━━━━━━━━━━━━━━━━━━━━━━━━━━━━━━━━━━━━━\u001b[0m \u001b[32m40.2/40.2 kB\u001b[0m \u001b[31m756.0 kB/s\u001b[0m eta \u001b[36m0:00:00\u001b[0m\r\n",
      "\u001b[?25hRequirement already satisfied: matplotlib>=3.3.0 in /opt/conda/lib/python3.10/site-packages (from ultralytics) (3.7.4)\r\n",
      "Requirement already satisfied: numpy>=1.22.2 in /opt/conda/lib/python3.10/site-packages (from ultralytics) (1.24.3)\r\n",
      "Requirement already satisfied: opencv-python>=4.6.0 in /opt/conda/lib/python3.10/site-packages (from ultralytics) (4.9.0.80)\r\n",
      "Requirement already satisfied: pillow>=7.1.2 in /opt/conda/lib/python3.10/site-packages (from ultralytics) (9.5.0)\r\n",
      "Requirement already satisfied: pyyaml>=5.3.1 in /opt/conda/lib/python3.10/site-packages (from ultralytics) (6.0.1)\r\n",
      "Requirement already satisfied: requests>=2.23.0 in /opt/conda/lib/python3.10/site-packages (from ultralytics) (2.31.0)\r\n",
      "Requirement already satisfied: scipy>=1.4.1 in /opt/conda/lib/python3.10/site-packages (from ultralytics) (1.11.4)\r\n",
      "Requirement already satisfied: torch>=1.8.0 in /opt/conda/lib/python3.10/site-packages (from ultralytics) (2.0.0)\r\n",
      "Requirement already satisfied: torchvision>=0.9.0 in /opt/conda/lib/python3.10/site-packages (from ultralytics) (0.15.1)\r\n",
      "Requirement already satisfied: tqdm>=4.64.0 in /opt/conda/lib/python3.10/site-packages (from ultralytics) (4.66.1)\r\n",
      "Requirement already satisfied: psutil in /opt/conda/lib/python3.10/site-packages (from ultralytics) (5.9.3)\r\n",
      "Requirement already satisfied: py-cpuinfo in /opt/conda/lib/python3.10/site-packages (from ultralytics) (9.0.0)\r\n",
      "Collecting thop>=0.1.1 (from ultralytics)\r\n",
      "  Downloading thop-0.1.1.post2209072238-py3-none-any.whl (15 kB)\r\n",
      "Requirement already satisfied: pandas>=1.1.4 in /opt/conda/lib/python3.10/site-packages (from ultralytics) (2.0.3)\r\n",
      "Requirement already satisfied: seaborn>=0.11.0 in /opt/conda/lib/python3.10/site-packages (from ultralytics) (0.12.2)\r\n",
      "Requirement already satisfied: contourpy>=1.0.1 in /opt/conda/lib/python3.10/site-packages (from matplotlib>=3.3.0->ultralytics) (1.1.0)\r\n",
      "Requirement already satisfied: cycler>=0.10 in /opt/conda/lib/python3.10/site-packages (from matplotlib>=3.3.0->ultralytics) (0.11.0)\r\n",
      "Requirement already satisfied: fonttools>=4.22.0 in /opt/conda/lib/python3.10/site-packages (from matplotlib>=3.3.0->ultralytics) (4.42.1)\r\n",
      "Requirement already satisfied: kiwisolver>=1.0.1 in /opt/conda/lib/python3.10/site-packages (from matplotlib>=3.3.0->ultralytics) (1.4.4)\r\n",
      "Requirement already satisfied: packaging>=20.0 in /opt/conda/lib/python3.10/site-packages (from matplotlib>=3.3.0->ultralytics) (21.3)\r\n",
      "Requirement already satisfied: pyparsing>=2.3.1 in /opt/conda/lib/python3.10/site-packages (from matplotlib>=3.3.0->ultralytics) (3.0.9)\r\n",
      "Requirement already satisfied: python-dateutil>=2.7 in /opt/conda/lib/python3.10/site-packages (from matplotlib>=3.3.0->ultralytics) (2.8.2)\r\n",
      "Requirement already satisfied: pytz>=2020.1 in /opt/conda/lib/python3.10/site-packages (from pandas>=1.1.4->ultralytics) (2023.3)\r\n",
      "Requirement already satisfied: tzdata>=2022.1 in /opt/conda/lib/python3.10/site-packages (from pandas>=1.1.4->ultralytics) (2023.3)\r\n",
      "Requirement already satisfied: charset-normalizer<4,>=2 in /opt/conda/lib/python3.10/site-packages (from requests>=2.23.0->ultralytics) (3.2.0)\r\n",
      "Requirement already satisfied: idna<4,>=2.5 in /opt/conda/lib/python3.10/site-packages (from requests>=2.23.0->ultralytics) (3.4)\r\n",
      "Requirement already satisfied: urllib3<3,>=1.21.1 in /opt/conda/lib/python3.10/site-packages (from requests>=2.23.0->ultralytics) (1.26.15)\r\n",
      "Requirement already satisfied: certifi>=2017.4.17 in /opt/conda/lib/python3.10/site-packages (from requests>=2.23.0->ultralytics) (2023.11.17)\r\n",
      "Requirement already satisfied: filelock in /opt/conda/lib/python3.10/site-packages (from torch>=1.8.0->ultralytics) (3.12.2)\r\n",
      "Requirement already satisfied: typing-extensions in /opt/conda/lib/python3.10/site-packages (from torch>=1.8.0->ultralytics) (4.5.0)\r\n",
      "Requirement already satisfied: sympy in /opt/conda/lib/python3.10/site-packages (from torch>=1.8.0->ultralytics) (1.12)\r\n",
      "Requirement already satisfied: networkx in /opt/conda/lib/python3.10/site-packages (from torch>=1.8.0->ultralytics) (3.1)\r\n",
      "Requirement already satisfied: jinja2 in /opt/conda/lib/python3.10/site-packages (from torch>=1.8.0->ultralytics) (3.1.2)\r\n",
      "Requirement already satisfied: six>=1.5 in /opt/conda/lib/python3.10/site-packages (from python-dateutil>=2.7->matplotlib>=3.3.0->ultralytics) (1.16.0)\r\n",
      "Requirement already satisfied: MarkupSafe>=2.0 in /opt/conda/lib/python3.10/site-packages (from jinja2->torch>=1.8.0->ultralytics) (2.1.3)\r\n",
      "Requirement already satisfied: mpmath>=0.19 in /opt/conda/lib/python3.10/site-packages (from sympy->torch>=1.8.0->ultralytics) (1.3.0)\r\n",
      "Downloading ultralytics-8.1.2-py3-none-any.whl (699 kB)\r\n",
      "\u001b[2K   \u001b[90m━━━━━━━━━━━━━━━━━━━━━━━━━━━━━━━━━━━━━━━━\u001b[0m \u001b[32m699.7/699.7 kB\u001b[0m \u001b[31m5.8 MB/s\u001b[0m eta \u001b[36m0:00:00\u001b[0m\r\n",
      "\u001b[?25hInstalling collected packages: thop, ultralytics\r\n",
      "Successfully installed thop-0.1.1.post2209072238 ultralytics-8.1.2\r\n",
      "Requirement already satisfied: ipywidgets in /opt/conda/lib/python3.10/site-packages (7.7.1)\r\n",
      "Collecting ipywidgets\r\n",
      "  Obtaining dependency information for ipywidgets from https://files.pythonhosted.org/packages/4a/0e/57ed498fafbc60419a9332d872e929879ceba2d73cb11d284d7112472b3e/ipywidgets-8.1.1-py3-none-any.whl.metadata\r\n",
      "  Downloading ipywidgets-8.1.1-py3-none-any.whl.metadata (2.4 kB)\r\n",
      "Requirement already satisfied: comm>=0.1.3 in /opt/conda/lib/python3.10/site-packages (from ipywidgets) (0.1.4)\r\n",
      "Requirement already satisfied: ipython>=6.1.0 in /opt/conda/lib/python3.10/site-packages (from ipywidgets) (8.14.0)\r\n",
      "Requirement already satisfied: traitlets>=4.3.1 in /opt/conda/lib/python3.10/site-packages (from ipywidgets) (5.9.0)\r\n",
      "Collecting widgetsnbextension~=4.0.9 (from ipywidgets)\r\n",
      "  Obtaining dependency information for widgetsnbextension~=4.0.9 from https://files.pythonhosted.org/packages/29/03/107d96077c4befed191f7ad1a12c7b52a8f9d2778a5836d59f9855c105f6/widgetsnbextension-4.0.9-py3-none-any.whl.metadata\r\n",
      "  Downloading widgetsnbextension-4.0.9-py3-none-any.whl.metadata (1.6 kB)\r\n",
      "Collecting jupyterlab-widgets~=3.0.9 (from ipywidgets)\r\n",
      "  Obtaining dependency information for jupyterlab-widgets~=3.0.9 from https://files.pythonhosted.org/packages/e8/05/0ebab152288693b5ec7b339aab857362947031143b282853b4c2dd4b5b40/jupyterlab_widgets-3.0.9-py3-none-any.whl.metadata\r\n",
      "  Downloading jupyterlab_widgets-3.0.9-py3-none-any.whl.metadata (4.1 kB)\r\n",
      "Requirement already satisfied: backcall in /opt/conda/lib/python3.10/site-packages (from ipython>=6.1.0->ipywidgets) (0.2.0)\r\n",
      "Requirement already satisfied: decorator in /opt/conda/lib/python3.10/site-packages (from ipython>=6.1.0->ipywidgets) (5.1.1)\r\n",
      "Requirement already satisfied: jedi>=0.16 in /opt/conda/lib/python3.10/site-packages (from ipython>=6.1.0->ipywidgets) (0.19.0)\r\n",
      "Requirement already satisfied: matplotlib-inline in /opt/conda/lib/python3.10/site-packages (from ipython>=6.1.0->ipywidgets) (0.1.6)\r\n",
      "Requirement already satisfied: pickleshare in /opt/conda/lib/python3.10/site-packages (from ipython>=6.1.0->ipywidgets) (0.7.5)\r\n",
      "Requirement already satisfied: prompt-toolkit!=3.0.37,<3.1.0,>=3.0.30 in /opt/conda/lib/python3.10/site-packages (from ipython>=6.1.0->ipywidgets) (3.0.39)\r\n",
      "Requirement already satisfied: pygments>=2.4.0 in /opt/conda/lib/python3.10/site-packages (from ipython>=6.1.0->ipywidgets) (2.16.1)\r\n",
      "Requirement already satisfied: stack-data in /opt/conda/lib/python3.10/site-packages (from ipython>=6.1.0->ipywidgets) (0.6.2)\r\n",
      "Requirement already satisfied: pexpect>4.3 in /opt/conda/lib/python3.10/site-packages (from ipython>=6.1.0->ipywidgets) (4.8.0)\r\n",
      "Requirement already satisfied: parso<0.9.0,>=0.8.3 in /opt/conda/lib/python3.10/site-packages (from jedi>=0.16->ipython>=6.1.0->ipywidgets) (0.8.3)\r\n",
      "Requirement already satisfied: ptyprocess>=0.5 in /opt/conda/lib/python3.10/site-packages (from pexpect>4.3->ipython>=6.1.0->ipywidgets) (0.7.0)\r\n",
      "Requirement already satisfied: wcwidth in /opt/conda/lib/python3.10/site-packages (from prompt-toolkit!=3.0.37,<3.1.0,>=3.0.30->ipython>=6.1.0->ipywidgets) (0.2.6)\r\n",
      "Requirement already satisfied: executing>=1.2.0 in /opt/conda/lib/python3.10/site-packages (from stack-data->ipython>=6.1.0->ipywidgets) (1.2.0)\r\n",
      "Requirement already satisfied: asttokens>=2.1.0 in /opt/conda/lib/python3.10/site-packages (from stack-data->ipython>=6.1.0->ipywidgets) (2.2.1)\r\n",
      "Requirement already satisfied: pure-eval in /opt/conda/lib/python3.10/site-packages (from stack-data->ipython>=6.1.0->ipywidgets) (0.2.2)\r\n",
      "Requirement already satisfied: six in /opt/conda/lib/python3.10/site-packages (from asttokens>=2.1.0->stack-data->ipython>=6.1.0->ipywidgets) (1.16.0)\r\n",
      "Downloading ipywidgets-8.1.1-py3-none-any.whl (139 kB)\r\n",
      "\u001b[2K   \u001b[90m━━━━━━━━━━━━━━━━━━━━━━━━━━━━━━━━━━━━━━━━\u001b[0m \u001b[32m139.4/139.4 kB\u001b[0m \u001b[31m1.4 MB/s\u001b[0m eta \u001b[36m0:00:00\u001b[0m\r\n",
      "\u001b[?25hDownloading jupyterlab_widgets-3.0.9-py3-none-any.whl (214 kB)\r\n",
      "\u001b[2K   \u001b[90m━━━━━━━━━━━━━━━━━━━━━━━━━━━━━━━━━━━━━━━━\u001b[0m \u001b[32m214.9/214.9 kB\u001b[0m \u001b[31m3.2 MB/s\u001b[0m eta \u001b[36m0:00:00\u001b[0m\r\n",
      "\u001b[?25hDownloading widgetsnbextension-4.0.9-py3-none-any.whl (2.3 MB)\r\n",
      "\u001b[2K   \u001b[90m━━━━━━━━━━━━━━━━━━━━━━━━━━━━━━━━━━━━━━━━\u001b[0m \u001b[32m2.3/2.3 MB\u001b[0m \u001b[31m5.3 MB/s\u001b[0m eta \u001b[36m0:00:00\u001b[0m\r\n",
      "\u001b[?25hInstalling collected packages: widgetsnbextension, jupyterlab-widgets, ipywidgets\r\n",
      "  Attempting uninstall: widgetsnbextension\r\n",
      "    Found existing installation: widgetsnbextension 3.6.6\r\n",
      "    Uninstalling widgetsnbextension-3.6.6:\r\n",
      "      Successfully uninstalled widgetsnbextension-3.6.6\r\n",
      "  Attempting uninstall: jupyterlab-widgets\r\n",
      "    Found existing installation: jupyterlab-widgets 3.0.8\r\n",
      "    Uninstalling jupyterlab-widgets-3.0.8:\r\n",
      "      Successfully uninstalled jupyterlab-widgets-3.0.8\r\n",
      "  Attempting uninstall: ipywidgets\r\n",
      "    Found existing installation: ipywidgets 7.7.1\r\n",
      "    Uninstalling ipywidgets-7.7.1:\r\n",
      "      Successfully uninstalled ipywidgets-7.7.1\r\n",
      "Successfully installed ipywidgets-8.1.1 jupyterlab-widgets-3.0.9 widgetsnbextension-4.0.9\r\n"
     ]
    }
   ],
   "source": [
    "!pip install ultralytics\n",
    "!pip install -U ipywidgets"
   ]
  },
  {
   "cell_type": "code",
   "execution_count": 2,
   "id": "39c7c661",
   "metadata": {
    "execution": {
     "iopub.execute_input": "2024-01-18T10:03:47.501291Z",
     "iopub.status.busy": "2024-01-18T10:03:47.500658Z",
     "iopub.status.idle": "2024-01-18T10:03:51.262601Z",
     "shell.execute_reply": "2024-01-18T10:03:51.261202Z"
    },
    "papermill": {
     "duration": 3.774602,
     "end_time": "2024-01-18T10:03:51.265049",
     "exception": false,
     "start_time": "2024-01-18T10:03:47.490447",
     "status": "completed"
    },
    "tags": []
   },
   "outputs": [],
   "source": [
    "!mkdir -p /kaggle/temp/train/labels\n",
    "!mkdir -p /kaggle/temp/train/images\n",
    "\n",
    "!mkdir -p /kaggle/temp/val/labels\n",
    "!mkdir -p /kaggle/temp/val/images"
   ]
  },
  {
   "cell_type": "code",
   "execution_count": 3,
   "id": "1be2c06a",
   "metadata": {
    "execution": {
     "iopub.execute_input": "2024-01-18T10:03:51.284785Z",
     "iopub.status.busy": "2024-01-18T10:03:51.284469Z",
     "iopub.status.idle": "2024-01-18T10:04:48.647299Z",
     "shell.execute_reply": "2024-01-18T10:04:48.645913Z"
    },
    "papermill": {
     "duration": 57.37605,
     "end_time": "2024-01-18T10:04:48.650370",
     "exception": false,
     "start_time": "2024-01-18T10:03:51.274320",
     "status": "completed"
    },
    "tags": []
   },
   "outputs": [],
   "source": [
    "!cp /kaggle/input/kidney-1-dense-to-yolo/train/labels/* /kaggle/temp/train/labels\n",
    "!cp /kaggle/input/kidney-1-dense-to-yolo/train/images/* /kaggle/temp/train/images"
   ]
  },
  {
   "cell_type": "markdown",
   "id": "5a79e6ca",
   "metadata": {
    "papermill": {
     "duration": 0.011864,
     "end_time": "2024-01-18T10:04:48.675129",
     "exception": false,
     "start_time": "2024-01-18T10:04:48.663265",
     "status": "completed"
    },
    "tags": []
   },
   "source": [
    "Copy only images 500-899 for test (these are approximately the labels that are available for kidney_3_dense as well)"
   ]
  },
  {
   "cell_type": "code",
   "execution_count": 4,
   "id": "26d78fa8",
   "metadata": {
    "execution": {
     "iopub.execute_input": "2024-01-18T10:04:48.700472Z",
     "iopub.status.busy": "2024-01-18T10:04:48.699925Z",
     "iopub.status.idle": "2024-01-18T10:05:06.875368Z",
     "shell.execute_reply": "2024-01-18T10:05:06.874079Z"
    },
    "papermill": {
     "duration": 18.191011,
     "end_time": "2024-01-18T10:05:06.877870",
     "exception": false,
     "start_time": "2024-01-18T10:04:48.686859",
     "status": "completed"
    },
    "tags": []
   },
   "outputs": [],
   "source": [
    "!cp /kaggle/input/kidney-3-dense-to-yolo/train/labels/kidney_3_dense_0[5-8]*.txt /kaggle/temp/val/labels\n",
    "!cp /kaggle/input/kidney-3-dense-to-yolo/train/images/kidney_3_dense_0[5-8]*.tif /kaggle/temp/val/images"
   ]
  },
  {
   "cell_type": "markdown",
   "id": "2033eb5c",
   "metadata": {
    "execution": {
     "iopub.execute_input": "2024-01-18T09:32:59.323576Z",
     "iopub.status.busy": "2024-01-18T09:32:59.323033Z",
     "iopub.status.idle": "2024-01-18T09:32:59.332617Z",
     "shell.execute_reply": "2024-01-18T09:32:59.330993Z",
     "shell.execute_reply.started": "2024-01-18T09:32:59.323536Z"
    },
    "papermill": {
     "duration": 0.008767,
     "end_time": "2024-01-18T10:05:06.895888",
     "exception": false,
     "start_time": "2024-01-18T10:05:06.887121",
     "status": "completed"
    },
    "tags": []
   },
   "source": [
    "Explore image sizes"
   ]
  },
  {
   "cell_type": "code",
   "execution_count": 5,
   "id": "93440090",
   "metadata": {
    "execution": {
     "iopub.execute_input": "2024-01-18T10:05:06.915395Z",
     "iopub.status.busy": "2024-01-18T10:05:06.915038Z",
     "iopub.status.idle": "2024-01-18T10:05:07.767901Z",
     "shell.execute_reply": "2024-01-18T10:05:07.766977Z"
    },
    "papermill": {
     "duration": 0.865135,
     "end_time": "2024-01-18T10:05:07.769990",
     "exception": false,
     "start_time": "2024-01-18T10:05:06.904855",
     "status": "completed"
    },
    "tags": []
   },
   "outputs": [
    {
     "name": "stdout",
     "output_type": "stream",
     "text": [
      "shape for kidney_1_dense is (1303, 912, 3)\n",
      "shape for kidney_2 is (1041, 1511, 3)\n",
      "shape for kidney_1_voi is (1928, 1928, 3)\n",
      "shape for kidney_3_sparse is (1706, 1510, 3)\n",
      "shape for kidney_5 is (1303, 912, 3)\n",
      "shape for kidney_6 is (1303, 912, 3)\n"
     ]
    }
   ],
   "source": [
    "import cv2\n",
    "import os\n",
    "\n",
    "sets = ['train','test']\n",
    "for s in sets:\n",
    "    dirs = os.listdir(f'/kaggle/input/blood-vessel-segmentation/{s}/')\n",
    "    for d in dirs:\n",
    "        if d != 'kidney_3_dense':\n",
    "            prefix = f'/kaggle/input/blood-vessel-segmentation/{s}/{d}/images/'\n",
    "            image_file = os.listdir(prefix)[0]\n",
    "            image_path = f'{prefix}{image_file}'\n",
    "            print(f'shape for {d} is {cv2.imread(image_path).shape}')"
   ]
  },
  {
   "cell_type": "code",
   "execution_count": 6,
   "id": "0277bc47",
   "metadata": {
    "execution": {
     "iopub.execute_input": "2024-01-18T10:05:07.790798Z",
     "iopub.status.busy": "2024-01-18T10:05:07.790514Z",
     "iopub.status.idle": "2024-01-18T10:05:07.825353Z",
     "shell.execute_reply": "2024-01-18T10:05:07.824650Z"
    },
    "papermill": {
     "duration": 0.046968,
     "end_time": "2024-01-18T10:05:07.827254",
     "exception": false,
     "start_time": "2024-01-18T10:05:07.780286",
     "status": "completed"
    },
    "tags": []
   },
   "outputs": [],
   "source": [
    "kidney_1_dense_sample_image_path = '/kaggle/input/blood-vessel-segmentation/train/kidney_1_dense/images/0000.tif'\n",
    "train_img_size = cv2.imread(kidney_1_dense_sample_image_path).shape[0]"
   ]
  },
  {
   "cell_type": "markdown",
   "id": "673326c2",
   "metadata": {
    "papermill": {
     "duration": 0.008949,
     "end_time": "2024-01-18T10:05:07.845473",
     "exception": false,
     "start_time": "2024-01-18T10:05:07.836524",
     "status": "completed"
    },
    "tags": []
   },
   "source": [
    "# Write yolo dataset yaml"
   ]
  },
  {
   "cell_type": "code",
   "execution_count": 7,
   "id": "6eeabec3",
   "metadata": {
    "execution": {
     "iopub.execute_input": "2024-01-18T10:05:07.866132Z",
     "iopub.status.busy": "2024-01-18T10:05:07.865806Z",
     "iopub.status.idle": "2024-01-18T10:05:07.889980Z",
     "shell.execute_reply": "2024-01-18T10:05:07.889296Z"
    },
    "papermill": {
     "duration": 0.036394,
     "end_time": "2024-01-18T10:05:07.891917",
     "exception": false,
     "start_time": "2024-01-18T10:05:07.855523",
     "status": "completed"
    },
    "tags": []
   },
   "outputs": [],
   "source": [
    "import yaml"
   ]
  },
  {
   "cell_type": "code",
   "execution_count": 8,
   "id": "bbd33c55",
   "metadata": {
    "execution": {
     "iopub.execute_input": "2024-01-18T10:05:07.911085Z",
     "iopub.status.busy": "2024-01-18T10:05:07.910815Z",
     "iopub.status.idle": "2024-01-18T10:05:08.835590Z",
     "shell.execute_reply": "2024-01-18T10:05:08.834480Z"
    },
    "papermill": {
     "duration": 0.93696,
     "end_time": "2024-01-18T10:05:08.837975",
     "exception": false,
     "start_time": "2024-01-18T10:05:07.901015",
     "status": "completed"
    },
    "tags": []
   },
   "outputs": [],
   "source": [
    "!mkdir train"
   ]
  },
  {
   "cell_type": "code",
   "execution_count": 9,
   "id": "8ce24346",
   "metadata": {
    "execution": {
     "iopub.execute_input": "2024-01-18T10:05:08.859050Z",
     "iopub.status.busy": "2024-01-18T10:05:08.858643Z",
     "iopub.status.idle": "2024-01-18T10:05:08.866092Z",
     "shell.execute_reply": "2024-01-18T10:05:08.865252Z"
    },
    "papermill": {
     "duration": 0.020693,
     "end_time": "2024-01-18T10:05:08.867968",
     "exception": false,
     "start_time": "2024-01-18T10:05:08.847275",
     "status": "completed"
    },
    "tags": []
   },
   "outputs": [],
   "source": [
    "train_path = '/kaggle/temp/train'\n",
    "val_path = '/kaggle/temp/val'\n",
    "names = {0: 'Vessel'}\n",
    "yaml_path = 'train/train.yaml'\n",
    "\n",
    "# Number of classes\n",
    "nc = len(names)\n",
    "\n",
    "# Create a dictionary with the required content\n",
    "yaml_data = {\n",
    "    'names': names,\n",
    "    'nc': nc,\n",
    "    'test': '',\n",
    "    'train': train_path,\n",
    "    'val': val_path\n",
    "}\n",
    "\n",
    "# Write the dictionary to a YAML file\n",
    "with open(yaml_path, 'w') as file:\n",
    "    yaml.dump(yaml_data, file, default_flow_style=False)"
   ]
  },
  {
   "cell_type": "code",
   "execution_count": 10,
   "id": "611d55d0",
   "metadata": {
    "execution": {
     "iopub.execute_input": "2024-01-18T10:05:08.887946Z",
     "iopub.status.busy": "2024-01-18T10:05:08.887267Z",
     "iopub.status.idle": "2024-01-18T10:05:09.811813Z",
     "shell.execute_reply": "2024-01-18T10:05:09.810646Z"
    },
    "papermill": {
     "duration": 0.936903,
     "end_time": "2024-01-18T10:05:09.814178",
     "exception": false,
     "start_time": "2024-01-18T10:05:08.877275",
     "status": "completed"
    },
    "tags": []
   },
   "outputs": [
    {
     "name": "stdout",
     "output_type": "stream",
     "text": [
      "names:\r\n",
      "  0: Vessel\r\n",
      "nc: 1\r\n",
      "test: ''\r\n",
      "train: /kaggle/temp/train\r\n",
      "val: /kaggle/temp/val\r\n"
     ]
    }
   ],
   "source": [
    "!cat {yaml_path}"
   ]
  },
  {
   "cell_type": "code",
   "execution_count": 11,
   "id": "e29bd511",
   "metadata": {
    "execution": {
     "iopub.execute_input": "2024-01-18T10:05:09.835066Z",
     "iopub.status.busy": "2024-01-18T10:05:09.834740Z",
     "iopub.status.idle": "2024-01-18T10:05:12.697043Z",
     "shell.execute_reply": "2024-01-18T10:05:12.695624Z"
    },
    "papermill": {
     "duration": 2.876412,
     "end_time": "2024-01-18T10:05:12.700352",
     "exception": false,
     "start_time": "2024-01-18T10:05:09.823940",
     "status": "completed"
    },
    "tags": []
   },
   "outputs": [
    {
     "name": "stderr",
     "output_type": "stream",
     "text": [
      "\u001b[34m\u001b[1mwandb\u001b[0m: W&B API key is configured. Use \u001b[1m`wandb login --relogin`\u001b[0m to force relogin\n",
      "\u001b[34m\u001b[1mwandb\u001b[0m: \u001b[33mWARNING\u001b[0m If you're specifying your api key in code, ensure this code is not shared publicly.\n",
      "\u001b[34m\u001b[1mwandb\u001b[0m: \u001b[33mWARNING\u001b[0m Consider setting the WANDB_API_KEY environment variable, or running `wandb login` from the command line.\n",
      "\u001b[34m\u001b[1mwandb\u001b[0m: Appending key for api.wandb.ai to your netrc file: /root/.netrc\n"
     ]
    },
    {
     "data": {
      "text/plain": [
       "True"
      ]
     },
     "execution_count": 11,
     "metadata": {},
     "output_type": "execute_result"
    }
   ],
   "source": [
    "import wandb\n",
    "from kaggle_secrets import UserSecretsClient\n",
    "user_secrets = UserSecretsClient()\n",
    "wandb_api_key = user_secrets.get_secret(\"wandb-api-key\")\n",
    "wandb.login(key=wandb_api_key)"
   ]
  },
  {
   "cell_type": "code",
   "execution_count": 12,
   "id": "ad76276e",
   "metadata": {
    "execution": {
     "iopub.execute_input": "2024-01-18T10:05:12.729825Z",
     "iopub.status.busy": "2024-01-18T10:05:12.728922Z",
     "iopub.status.idle": "2024-01-18T10:05:18.671947Z",
     "shell.execute_reply": "2024-01-18T10:05:18.670814Z"
    },
    "papermill": {
     "duration": 5.958539,
     "end_time": "2024-01-18T10:05:18.674041",
     "exception": false,
     "start_time": "2024-01-18T10:05:12.715502",
     "status": "completed"
    },
    "tags": []
   },
   "outputs": [
    {
     "name": "stdout",
     "output_type": "stream",
     "text": [
      "Downloading https://github.com/ultralytics/assets/releases/download/v8.1.0/yolov8n-seg.pt to 'yolov8n-seg.pt'...\n"
     ]
    },
    {
     "name": "stderr",
     "output_type": "stream",
     "text": [
      "100%|██████████| 6.73M/6.73M [00:00<00:00, 75.9MB/s]\n"
     ]
    }
   ],
   "source": [
    "from ultralytics import YOLO\n",
    "\n",
    "model = YOLO('yolov8n-seg.pt')"
   ]
  },
  {
   "cell_type": "code",
   "execution_count": 13,
   "id": "dbd349ed",
   "metadata": {
    "execution": {
     "iopub.execute_input": "2024-01-18T10:05:18.701432Z",
     "iopub.status.busy": "2024-01-18T10:05:18.700203Z",
     "iopub.status.idle": "2024-01-18T13:10:31.865629Z",
     "shell.execute_reply": "2024-01-18T13:10:31.864577Z"
    },
    "papermill": {
     "duration": 11113.181466,
     "end_time": "2024-01-18T13:10:31.868111",
     "exception": false,
     "start_time": "2024-01-18T10:05:18.686645",
     "status": "completed"
    },
    "tags": []
   },
   "outputs": [
    {
     "name": "stdout",
     "output_type": "stream",
     "text": [
      "Ultralytics YOLOv8.1.2 🚀 Python-3.10.12 torch-2.0.0 CUDA:0 (Tesla T4, 15102MiB)\n",
      "                                                     CUDA:1 (Tesla T4, 15102MiB)\n",
      "\u001b[34m\u001b[1mengine/trainer: \u001b[0mtask=segment, mode=train, model=yolov8n-seg.pt, data=train/train.yaml, epochs=200, time=4, patience=30, batch=16, imgsz=1303, save=True, save_period=1, cache=True, device=[0, 1], workers=8, project=hacking_human_vasculature, name=train_kidney_1_dense_val_kidney_3_dense_size_1303, exist_ok=False, pretrained=True, optimizer=auto, verbose=True, seed=0, deterministic=True, single_cls=False, rect=False, cos_lr=False, close_mosaic=10, resume=False, amp=True, fraction=1.0, profile=False, freeze=None, multi_scale=False, overlap_mask=True, mask_ratio=4, dropout=0.0, val=True, split=val, save_json=False, save_hybrid=False, conf=None, iou=0.7, max_det=300, half=False, dnn=False, plots=True, source=None, vid_stride=1, stream_buffer=False, visualize=False, augment=False, agnostic_nms=False, classes=None, retina_masks=False, embed=None, show=False, save_frames=False, save_txt=False, save_conf=False, save_crop=False, show_labels=True, show_conf=True, show_boxes=True, line_width=None, format=torchscript, keras=False, optimize=False, int8=False, dynamic=False, simplify=False, opset=None, workspace=4, nms=False, lr0=0.01, lrf=0.01, momentum=0.937, weight_decay=0.0005, warmup_epochs=3.0, warmup_momentum=0.8, warmup_bias_lr=0.1, box=7.5, cls=0.5, dfl=1.5, pose=12.0, kobj=1.0, label_smoothing=0.0, nbs=64, hsv_h=0.015, hsv_s=0.7, hsv_v=0.4, degrees=0.0, translate=0.1, scale=0.5, shear=0.0, perspective=0.0, flipud=0.0, fliplr=0.5, mosaic=1.0, mixup=0.0, copy_paste=0.0, auto_augment=randaugment, erasing=0.4, crop_fraction=1.0, cfg=None, tracker=botsort.yaml, save_dir=hacking_human_vasculature/train_kidney_1_dense_val_kidney_3_dense_size_1303\n",
      "Downloading https://ultralytics.com/assets/Arial.ttf to '/root/.config/Ultralytics/Arial.ttf'...\n"
     ]
    },
    {
     "name": "stderr",
     "output_type": "stream",
     "text": [
      "100%|██████████| 755k/755k [00:00<00:00, 13.8MB/s]\n",
      "/opt/conda/lib/python3.10/site-packages/scipy/__init__.py:146: UserWarning: A NumPy version >=1.16.5 and <1.23.0 is required for this version of SciPy (detected version 1.24.3\n",
      "  warnings.warn(f\"A NumPy version >={np_minversion} and <{np_maxversion}\"\n"
     ]
    },
    {
     "name": "stdout",
     "output_type": "stream",
     "text": [
      "Overriding model.yaml nc=80 with nc=1\n",
      "\n",
      "                   from  n    params  module                                       arguments                     \n",
      "  0                  -1  1       464  ultralytics.nn.modules.conv.Conv             [3, 16, 3, 2]                 \n",
      "  1                  -1  1      4672  ultralytics.nn.modules.conv.Conv             [16, 32, 3, 2]                \n",
      "  2                  -1  1      7360  ultralytics.nn.modules.block.C2f             [32, 32, 1, True]             \n",
      "  3                  -1  1     18560  ultralytics.nn.modules.conv.Conv             [32, 64, 3, 2]                \n",
      "  4                  -1  2     49664  ultralytics.nn.modules.block.C2f             [64, 64, 2, True]             \n",
      "  5                  -1  1     73984  ultralytics.nn.modules.conv.Conv             [64, 128, 3, 2]               \n",
      "  6                  -1  2    197632  ultralytics.nn.modules.block.C2f             [128, 128, 2, True]           \n",
      "  7                  -1  1    295424  ultralytics.nn.modules.conv.Conv             [128, 256, 3, 2]              \n",
      "  8                  -1  1    460288  ultralytics.nn.modules.block.C2f             [256, 256, 1, True]           \n",
      "  9                  -1  1    164608  ultralytics.nn.modules.block.SPPF            [256, 256, 5]                 \n",
      " 10                  -1  1         0  torch.nn.modules.upsampling.Upsample         [None, 2, 'nearest']          \n",
      " 11             [-1, 6]  1         0  ultralytics.nn.modules.conv.Concat           [1]                           \n",
      " 12                  -1  1    148224  ultralytics.nn.modules.block.C2f             [384, 128, 1]                 \n",
      " 13                  -1  1         0  torch.nn.modules.upsampling.Upsample         [None, 2, 'nearest']          \n",
      " 14             [-1, 4]  1         0  ultralytics.nn.modules.conv.Concat           [1]                           \n",
      " 15                  -1  1     37248  ultralytics.nn.modules.block.C2f             [192, 64, 1]                  \n",
      " 16                  -1  1     36992  ultralytics.nn.modules.conv.Conv             [64, 64, 3, 2]                \n",
      " 17            [-1, 12]  1         0  ultralytics.nn.modules.conv.Concat           [1]                           \n",
      " 18                  -1  1    123648  ultralytics.nn.modules.block.C2f             [192, 128, 1]                 \n",
      " 19                  -1  1    147712  ultralytics.nn.modules.conv.Conv             [128, 128, 3, 2]              \n",
      " 20             [-1, 9]  1         0  ultralytics.nn.modules.conv.Concat           [1]                           \n",
      " 21                  -1  1    493056  ultralytics.nn.modules.block.C2f             [384, 256, 1]                 \n",
      " 22        [15, 18, 21]  1   1004275  ultralytics.nn.modules.head.Segment          [1, 32, 64, [64, 128, 256]]   \n",
      "YOLOv8n-seg summary: 261 layers, 3263811 parameters, 3263795 gradients, 12.1 GFLOPs\n",
      "\n",
      "Transferred 381/417 items from pretrained weights\n",
      "\u001b[31m\u001b[1mrequirements:\u001b[0m Ultralytics requirement ['hub-sdk>=0.0.2'] not found, attempting AutoUpdate...\n",
      "Collecting hub-sdk>=0.0.2\n",
      "  Obtaining dependency information for hub-sdk>=0.0.2 from https://files.pythonhosted.org/packages/2f/e0/b3db53becb3c0fa6ad9ddf4d047f4b7dbe85987594bcdd4d1b247f951522/hub_sdk-0.0.3-py3-none-any.whl.metadata\n",
      "  Downloading hub_sdk-0.0.3-py3-none-any.whl.metadata (8.8 kB)\n",
      "Requirement already satisfied: requests in /opt/conda/lib/python3.10/site-packages (from hub-sdk>=0.0.2) (2.31.0)\n",
      "Requirement already satisfied: charset-normalizer<4,>=2 in /opt/conda/lib/python3.10/site-packages (from requests->hub-sdk>=0.0.2) (3.2.0)\n",
      "Requirement already satisfied: idna<4,>=2.5 in /opt/conda/lib/python3.10/site-packages (from requests->hub-sdk>=0.0.2) (3.4)\n",
      "Requirement already satisfied: urllib3<3,>=1.21.1 in /opt/conda/lib/python3.10/site-packages (from requests->hub-sdk>=0.0.2) (1.26.15)\n",
      "Requirement already satisfied: certifi>=2017.4.17 in /opt/conda/lib/python3.10/site-packages (from requests->hub-sdk>=0.0.2) (2023.11.17)\n",
      "Downloading hub_sdk-0.0.3-py3-none-any.whl (37 kB)\n",
      "Installing collected packages: hub-sdk\n",
      "Successfully installed hub-sdk-0.0.3\n",
      "\n",
      "\u001b[31m\u001b[1mrequirements:\u001b[0m AutoUpdate success ✅ 11.2s, installed 1 package: ['hub-sdk>=0.0.2']\n",
      "\u001b[31m\u001b[1mrequirements:\u001b[0m ⚠️ \u001b[1mRestart runtime or rerun command for updates to take effect\u001b[0m\n",
      "\n",
      "\u001b[34m\u001b[1mDDP:\u001b[0m debug command /opt/conda/bin/python -m torch.distributed.run --nproc_per_node 2 --master_port 37537 /root/.config/Ultralytics/DDP/_temp_ghgqxtyr139836475763936.py\n",
      "Ultralytics YOLOv8.1.2 🚀 Python-3.10.12 torch-2.0.0 CUDA:0 (Tesla T4, 15102MiB)\n",
      "                                                     CUDA:1 (Tesla T4, 15102MiB)\n"
     ]
    },
    {
     "name": "stderr",
     "output_type": "stream",
     "text": [
      "/opt/conda/lib/python3.10/site-packages/scipy/__init__.py:146: UserWarning: A NumPy version >=1.16.5 and <1.23.0 is required for this version of SciPy (detected version 1.24.3\n",
      "  warnings.warn(f\"A NumPy version >={np_minversion} and <{np_maxversion}\"\n"
     ]
    },
    {
     "name": "stdout",
     "output_type": "stream",
     "text": [
      "\u001b[34m\u001b[1mTensorBoard: \u001b[0mStart with 'tensorboard --logdir hacking_human_vasculature/train_kidney_1_dense_val_kidney_3_dense_size_1303', view at http://localhost:6006/\n"
     ]
    },
    {
     "name": "stderr",
     "output_type": "stream",
     "text": [
      "wandb: Currently logged in as: aaalex-lit. Use `wandb login --relogin` to force relogin\n",
      "wandb: Tracking run with wandb version 0.16.2\n",
      "wandb: Run data is saved locally in /kaggle/working/wandb/run-20240118_100558-cm1czm5u\n",
      "wandb: Run `wandb offline` to turn off syncing.\n",
      "wandb: Syncing run train_kidney_1_dense_val_kidney_3_dense_size_1303\n",
      "wandb: ⭐️ View project at https://wandb.ai/aaalex-lit/hacking_human_vasculature\n",
      "wandb: 🚀 View run at https://wandb.ai/aaalex-lit/hacking_human_vasculature/runs/cm1czm5u\n"
     ]
    },
    {
     "name": "stdout",
     "output_type": "stream",
     "text": [
      "Overriding model.yaml nc=80 with nc=1\n",
      "Transferred 381/417 items from pretrained weights\n",
      "Freezing layer 'model.22.dfl.conv.weight'\n",
      "\u001b[34m\u001b[1mAMP: \u001b[0mrunning Automatic Mixed Precision (AMP) checks with YOLOv8n...\n",
      "Downloading https://github.com/ultralytics/assets/releases/download/v8.1.0/yolov8n.pt to 'yolov8n.pt'...\n"
     ]
    },
    {
     "name": "stderr",
     "output_type": "stream",
     "text": [
      "100%|██████████| 6.23M/6.23M [00:00<00:00, 10.0MB/s]\n"
     ]
    },
    {
     "name": "stdout",
     "output_type": "stream",
     "text": [
      "\u001b[34m\u001b[1mAMP: \u001b[0mchecks passed ✅\n",
      "WARNING ⚠️ imgsz=[1303] must be multiple of max stride 32, updating to [1312]\n"
     ]
    },
    {
     "name": "stderr",
     "output_type": "stream",
     "text": [
      "\u001b[34m\u001b[1mtrain: \u001b[0mScanning /kaggle/temp/train/labels... 2216 images, 63 backgrounds, 0 corrupt: 100%|██████████| 2279/2279 [00:09<00:00, 250.44it/s]\n"
     ]
    },
    {
     "name": "stdout",
     "output_type": "stream",
     "text": [
      "\u001b[34m\u001b[1mtrain: \u001b[0mNew cache created: /kaggle/temp/train/labels.cache\n"
     ]
    },
    {
     "name": "stderr",
     "output_type": "stream",
     "text": [
      "\u001b[34m\u001b[1mtrain: \u001b[0mCaching images (7.7GB True): 100%|██████████| 2279/2279 [00:08<00:00, 257.87it/s]\n"
     ]
    },
    {
     "name": "stdout",
     "output_type": "stream",
     "text": [
      "\u001b[34m\u001b[1malbumentations: \u001b[0mBlur(p=0.01, blur_limit=(3, 7)), MedianBlur(p=0.01, blur_limit=(3, 7)), ToGray(p=0.01), CLAHE(p=0.01, clip_limit=(1, 4.0), tile_grid_size=(8, 8))\n"
     ]
    },
    {
     "name": "stderr",
     "output_type": "stream",
     "text": [
      "\u001b[34m\u001b[1mval: \u001b[0mScanning /kaggle/temp/val/labels... 400 images, 0 backgrounds, 0 corrupt: 100%|██████████| 400/400 [00:02<00:00, 172.87it/s]\n"
     ]
    },
    {
     "name": "stdout",
     "output_type": "stream",
     "text": [
      "\u001b[34m\u001b[1mval: \u001b[0mNew cache created: /kaggle/temp/val/labels.cache\n"
     ]
    },
    {
     "name": "stderr",
     "output_type": "stream",
     "text": [
      "\u001b[34m\u001b[1mval: \u001b[0mCaching images (1.7GB True): 100%|██████████| 400/400 [00:06<00:00, 60.30it/s]\n"
     ]
    },
    {
     "name": "stdout",
     "output_type": "stream",
     "text": [
      "Plotting labels to hacking_human_vasculature/train_kidney_1_dense_val_kidney_3_dense_size_1303/labels.jpg... \n"
     ]
    },
    {
     "name": "stderr",
     "output_type": "stream",
     "text": [
      "/opt/conda/lib/python3.10/site-packages/scipy/__init__.py:146: UserWarning: A NumPy version >=1.16.5 and <1.23.0 is required for this version of SciPy (detected version 1.24.3\n",
      "  warnings.warn(f\"A NumPy version >={np_minversion} and <{np_maxversion}\"\n"
     ]
    },
    {
     "name": "stdout",
     "output_type": "stream",
     "text": [
      "\u001b[34m\u001b[1moptimizer:\u001b[0m 'optimizer=auto' found, ignoring 'lr0=0.01' and 'momentum=0.937' and determining best 'optimizer', 'lr0' and 'momentum' automatically... \n",
      "\u001b[34m\u001b[1moptimizer:\u001b[0m AdamW(lr=0.000714, momentum=0.9) with parameter groups 66 weight(decay=0.0), 77 weight(decay=0.0005), 76 bias(decay=0.0)\n",
      "Image sizes 1312 train, 1312 val\n",
      "Using 4 dataloader workers\n",
      "Logging results to \u001b[1mhacking_human_vasculature/train_kidney_1_dense_val_kidney_3_dense_size_1303\u001b[0m\n",
      "Starting training for 4 hours...\n",
      "\n",
      "      Epoch    GPU_mem   box_loss   seg_loss   cls_loss   dfl_loss  Instances       Size\n"
     ]
    },
    {
     "name": "stderr",
     "output_type": "stream",
     "text": [
      "      1/200      10.5G      1.604      1.991      2.115     0.9585        342       1312: 100%|██████████| 143/143 [03:26<00:00,  1.44s/it]\n",
      "                 Class     Images  Instances      Box(P          R      mAP50  mAP50-95)     Mask(P          R      mAP50  mAP50-95): 100%|██████████| 25/25 [00:21<00:00,  1.16it/s]\n"
     ]
    },
    {
     "name": "stdout",
     "output_type": "stream",
     "text": [
      "                   all        400      40108       0.92      0.143      0.293      0.158      0.757      0.116      0.208     0.0793\n",
      "\n",
      "      Epoch    GPU_mem   box_loss   seg_loss   cls_loss   dfl_loss  Instances       Size\n"
     ]
    },
    {
     "name": "stderr",
     "output_type": "stream",
     "text": [
      "       2/63      11.3G      1.198      1.205      1.058     0.8262        300       1312: 100%|██████████| 143/143 [03:20<00:00,  1.40s/it]\n",
      "                 Class     Images  Instances      Box(P          R      mAP50  mAP50-95)     Mask(P          R      mAP50  mAP50-95): 100%|██████████| 25/25 [00:23<00:00,  1.08it/s]\n"
     ]
    },
    {
     "name": "stdout",
     "output_type": "stream",
     "text": [
      "                   all        400      40108      0.776      0.275      0.353      0.168       0.55      0.196      0.232     0.0834\n",
      "\n",
      "      Epoch    GPU_mem   box_loss   seg_loss   cls_loss   dfl_loss  Instances       Size\n"
     ]
    },
    {
     "name": "stderr",
     "output_type": "stream",
     "text": [
      "       3/63        11G      1.119      1.058     0.9175     0.8182        302       1312: 100%|██████████| 143/143 [03:17<00:00,  1.38s/it]\n",
      "                 Class     Images  Instances      Box(P          R      mAP50  mAP50-95)     Mask(P          R      mAP50  mAP50-95): 100%|██████████| 25/25 [00:21<00:00,  1.18it/s]\n"
     ]
    },
    {
     "name": "stdout",
     "output_type": "stream",
     "text": [
      "                   all        400      40108       0.73      0.315      0.372      0.181      0.561      0.261       0.29      0.113\n",
      "\n",
      "      Epoch    GPU_mem   box_loss   seg_loss   cls_loss   dfl_loss  Instances       Size\n"
     ]
    },
    {
     "name": "stderr",
     "output_type": "stream",
     "text": [
      "       4/64      11.3G      1.083          1     0.8298     0.8111        278       1312: 100%|██████████| 143/143 [03:33<00:00,  1.50s/it]\n",
      "                 Class     Images  Instances      Box(P          R      mAP50  mAP50-95)     Mask(P          R      mAP50  mAP50-95): 100%|██████████| 25/25 [00:21<00:00,  1.14it/s]\n"
     ]
    },
    {
     "name": "stdout",
     "output_type": "stream",
     "text": [
      "                   all        400      40108      0.804      0.314      0.395      0.207      0.585      0.229      0.268      0.102\n",
      "\n",
      "      Epoch    GPU_mem   box_loss   seg_loss   cls_loss   dfl_loss  Instances       Size\n"
     ]
    },
    {
     "name": "stderr",
     "output_type": "stream",
     "text": [
      "       5/63      13.3G      1.029     0.9243     0.7621     0.8086        243       1312: 100%|██████████| 143/143 [03:26<00:00,  1.45s/it]\n",
      "                 Class     Images  Instances      Box(P          R      mAP50  mAP50-95)     Mask(P          R      mAP50  mAP50-95): 100%|██████████| 25/25 [00:20<00:00,  1.22it/s]\n"
     ]
    },
    {
     "name": "stdout",
     "output_type": "stream",
     "text": [
      "                   all        400      40108      0.732       0.31      0.371      0.173      0.506      0.224      0.242     0.0862\n",
      "\n",
      "      Epoch    GPU_mem   box_loss   seg_loss   cls_loss   dfl_loss  Instances       Size\n"
     ]
    },
    {
     "name": "stderr",
     "output_type": "stream",
     "text": [
      "       6/63      11.8G     0.9917     0.8839     0.6897     0.8055        408       1312: 100%|██████████| 143/143 [03:16<00:00,  1.37s/it]\n",
      "                 Class     Images  Instances      Box(P          R      mAP50  mAP50-95)     Mask(P          R      mAP50  mAP50-95): 100%|██████████| 25/25 [00:20<00:00,  1.23it/s]\n"
     ]
    },
    {
     "name": "stdout",
     "output_type": "stream",
     "text": [
      "                   all        400      40108      0.772      0.304      0.383      0.182      0.488      0.195      0.211     0.0704\n",
      "\n",
      "      Epoch    GPU_mem   box_loss   seg_loss   cls_loss   dfl_loss  Instances       Size\n"
     ]
    },
    {
     "name": "stderr",
     "output_type": "stream",
     "text": [
      "       7/64        12G     0.9788     0.8722     0.6613     0.8037        300       1312: 100%|██████████| 143/143 [03:14<00:00,  1.36s/it]\n",
      "                 Class     Images  Instances      Box(P          R      mAP50  mAP50-95)     Mask(P          R      mAP50  mAP50-95): 100%|██████████| 25/25 [00:18<00:00,  1.32it/s]\n"
     ]
    },
    {
     "name": "stdout",
     "output_type": "stream",
     "text": [
      "                   all        400      40108      0.869      0.278      0.398      0.214      0.618      0.198      0.246     0.0928\n",
      "\n",
      "      Epoch    GPU_mem   box_loss   seg_loss   cls_loss   dfl_loss  Instances       Size\n"
     ]
    },
    {
     "name": "stderr",
     "output_type": "stream",
     "text": [
      "       8/64      11.4G     0.9588     0.8471     0.6307     0.8029        213       1312: 100%|██████████| 143/143 [03:32<00:00,  1.49s/it]\n",
      "                 Class     Images  Instances      Box(P          R      mAP50  mAP50-95)     Mask(P          R      mAP50  mAP50-95): 100%|██████████| 25/25 [00:18<00:00,  1.34it/s]\n"
     ]
    },
    {
     "name": "stdout",
     "output_type": "stream",
     "text": [
      "                   all        400      40108      0.733      0.318      0.383       0.18      0.532      0.237       0.26     0.0911\n",
      "\n",
      "      Epoch    GPU_mem   box_loss   seg_loss   cls_loss   dfl_loss  Instances       Size\n"
     ]
    },
    {
     "name": "stderr",
     "output_type": "stream",
     "text": [
      "       9/64      9.21G     0.9464     0.8204     0.6084      0.801        355       1312: 100%|██████████| 143/143 [03:16<00:00,  1.37s/it]\n",
      "                 Class     Images  Instances      Box(P          R      mAP50  mAP50-95)     Mask(P          R      mAP50  mAP50-95): 100%|██████████| 25/25 [00:19<00:00,  1.25it/s]\n"
     ]
    },
    {
     "name": "stdout",
     "output_type": "stream",
     "text": [
      "                   all        400      40108      0.754      0.365      0.428      0.224      0.534      0.273      0.295      0.114\n",
      "\n",
      "      Epoch    GPU_mem   box_loss   seg_loss   cls_loss   dfl_loss  Instances       Size\n"
     ]
    },
    {
     "name": "stderr",
     "output_type": "stream",
     "text": [
      "      10/64        13G     0.9281      0.812     0.5869     0.7998        325       1312: 100%|██████████| 143/143 [03:14<00:00,  1.36s/it]\n",
      "                 Class     Images  Instances      Box(P          R      mAP50  mAP50-95)     Mask(P          R      mAP50  mAP50-95): 100%|██████████| 25/25 [00:20<00:00,  1.23it/s]\n"
     ]
    },
    {
     "name": "stdout",
     "output_type": "stream",
     "text": [
      "                   all        400      40108      0.812       0.28      0.371      0.172      0.516      0.178      0.202     0.0684\n",
      "\n",
      "      Epoch    GPU_mem   box_loss   seg_loss   cls_loss   dfl_loss  Instances       Size\n"
     ]
    },
    {
     "name": "stderr",
     "output_type": "stream",
     "text": [
      "      11/64        10G     0.9282     0.8065     0.5712     0.7984        468       1312: 100%|██████████| 143/143 [03:35<00:00,  1.51s/it]\n",
      "                 Class     Images  Instances      Box(P          R      mAP50  mAP50-95)     Mask(P          R      mAP50  mAP50-95): 100%|██████████| 25/25 [00:18<00:00,  1.36it/s]\n"
     ]
    },
    {
     "name": "stdout",
     "output_type": "stream",
     "text": [
      "                   all        400      40108      0.768      0.372      0.442      0.244      0.548      0.276      0.311      0.133\n",
      "\n",
      "      Epoch    GPU_mem   box_loss   seg_loss   cls_loss   dfl_loss  Instances       Size\n"
     ]
    },
    {
     "name": "stderr",
     "output_type": "stream",
     "text": [
      "      12/64      11.1G     0.9145     0.7892     0.5649     0.7981        250       1312: 100%|██████████| 143/143 [03:19<00:00,  1.40s/it]\n",
      "                 Class     Images  Instances      Box(P          R      mAP50  mAP50-95)     Mask(P          R      mAP50  mAP50-95): 100%|██████████| 25/25 [00:18<00:00,  1.37it/s]\n"
     ]
    },
    {
     "name": "stdout",
     "output_type": "stream",
     "text": [
      "                   all        400      40108      0.847      0.302      0.417      0.219      0.576      0.205      0.257        0.1\n",
      "\n",
      "      Epoch    GPU_mem   box_loss   seg_loss   cls_loss   dfl_loss  Instances       Size\n"
     ]
    },
    {
     "name": "stderr",
     "output_type": "stream",
     "text": [
      "      13/64      14.1G     0.8995     0.7806     0.5468     0.7971        222       1312: 100%|██████████| 143/143 [03:19<00:00,  1.39s/it]\n",
      "                 Class     Images  Instances      Box(P          R      mAP50  mAP50-95)     Mask(P          R      mAP50  mAP50-95): 100%|██████████| 25/25 [00:18<00:00,  1.37it/s]\n"
     ]
    },
    {
     "name": "stdout",
     "output_type": "stream",
     "text": [
      "                   all        400      40108      0.787      0.281      0.389      0.188      0.523      0.188       0.23     0.0797\n",
      "\n",
      "      Epoch    GPU_mem   box_loss   seg_loss   cls_loss   dfl_loss  Instances       Size\n"
     ]
    },
    {
     "name": "stderr",
     "output_type": "stream",
     "text": [
      "      14/64      11.6G     0.8958     0.7755     0.5387     0.7964        302       1312: 100%|██████████| 143/143 [03:15<00:00,  1.37s/it]\n",
      "                 Class     Images  Instances      Box(P          R      mAP50  mAP50-95)     Mask(P          R      mAP50  mAP50-95): 100%|██████████| 25/25 [00:18<00:00,  1.33it/s]\n"
     ]
    },
    {
     "name": "stdout",
     "output_type": "stream",
     "text": [
      "                   all        400      40108      0.834      0.304      0.469      0.238      0.556      0.203       0.29      0.109\n",
      "\n",
      "      Epoch    GPU_mem   box_loss   seg_loss   cls_loss   dfl_loss  Instances       Size\n"
     ]
    },
    {
     "name": "stderr",
     "output_type": "stream",
     "text": [
      "      15/65        11G      0.897     0.7651     0.5305     0.7944        405       1312: 100%|██████████| 143/143 [03:30<00:00,  1.48s/it]\n",
      "                 Class     Images  Instances      Box(P          R      mAP50  mAP50-95)     Mask(P          R      mAP50  mAP50-95): 100%|██████████| 25/25 [00:18<00:00,  1.34it/s]\n"
     ]
    },
    {
     "name": "stdout",
     "output_type": "stream",
     "text": [
      "                   all        400      40108      0.756      0.337       0.43      0.206      0.506       0.23      0.265      0.093\n",
      "\n",
      "      Epoch    GPU_mem   box_loss   seg_loss   cls_loss   dfl_loss  Instances       Size\n"
     ]
    },
    {
     "name": "stderr",
     "output_type": "stream",
     "text": [
      "      16/64      13.5G     0.8696     0.7508     0.5158     0.7933        483       1312: 100%|██████████| 143/143 [03:21<00:00,  1.41s/it]\n",
      "                 Class     Images  Instances      Box(P          R      mAP50  mAP50-95)     Mask(P          R      mAP50  mAP50-95): 100%|██████████| 25/25 [00:17<00:00,  1.42it/s]\n"
     ]
    },
    {
     "name": "stdout",
     "output_type": "stream",
     "text": [
      "                   all        400      40108      0.798      0.307       0.44      0.217      0.538      0.208      0.275      0.103\n",
      "\n",
      "      Epoch    GPU_mem   box_loss   seg_loss   cls_loss   dfl_loss  Instances       Size\n"
     ]
    },
    {
     "name": "stderr",
     "output_type": "stream",
     "text": [
      "      17/65      12.3G     0.8598     0.7419     0.5134     0.7934        281       1312: 100%|██████████| 143/143 [03:25<00:00,  1.44s/it]\n",
      "                 Class     Images  Instances      Box(P          R      mAP50  mAP50-95)     Mask(P          R      mAP50  mAP50-95): 100%|██████████| 25/25 [00:17<00:00,  1.45it/s]\n"
     ]
    },
    {
     "name": "stdout",
     "output_type": "stream",
     "text": [
      "                   all        400      40108      0.769       0.31      0.447      0.211        0.5      0.203      0.271     0.0978\n",
      "\n",
      "      Epoch    GPU_mem   box_loss   seg_loss   cls_loss   dfl_loss  Instances       Size\n"
     ]
    },
    {
     "name": "stderr",
     "output_type": "stream",
     "text": [
      "      18/65      11.9G     0.8674     0.7555     0.5089     0.7933        367       1312: 100%|██████████| 143/143 [03:22<00:00,  1.41s/it]\n",
      "                 Class     Images  Instances      Box(P          R      mAP50  mAP50-95)     Mask(P          R      mAP50  mAP50-95): 100%|██████████| 25/25 [00:17<00:00,  1.43it/s]\n"
     ]
    },
    {
     "name": "stdout",
     "output_type": "stream",
     "text": [
      "                   all        400      40108      0.743       0.29      0.414      0.191      0.489      0.193      0.251     0.0899\n",
      "\n",
      "      Epoch    GPU_mem   box_loss   seg_loss   cls_loss   dfl_loss  Instances       Size\n"
     ]
    },
    {
     "name": "stderr",
     "output_type": "stream",
     "text": [
      "      19/65      12.2G     0.8584     0.7318     0.5039     0.7936        215       1312: 100%|██████████| 143/143 [03:18<00:00,  1.39s/it]\n",
      "                 Class     Images  Instances      Box(P          R      mAP50  mAP50-95)     Mask(P          R      mAP50  mAP50-95): 100%|██████████| 25/25 [00:17<00:00,  1.46it/s]\n"
     ]
    },
    {
     "name": "stdout",
     "output_type": "stream",
     "text": [
      "                   all        400      40108      0.465      0.404      0.498      0.278      0.347      0.301      0.327      0.138\n",
      "\n",
      "      Epoch    GPU_mem   box_loss   seg_loss   cls_loss   dfl_loss  Instances       Size\n"
     ]
    },
    {
     "name": "stderr",
     "output_type": "stream",
     "text": [
      "      20/65      9.96G     0.8554     0.7371     0.4985     0.7913        208       1312: 100%|██████████| 143/143 [03:15<00:00,  1.37s/it]\n",
      "                 Class     Images  Instances      Box(P          R      mAP50  mAP50-95)     Mask(P          R      mAP50  mAP50-95): 100%|██████████| 25/25 [00:18<00:00,  1.32it/s]\n"
     ]
    },
    {
     "name": "stdout",
     "output_type": "stream",
     "text": [
      "                   all        400      40108      0.748        0.3      0.424      0.198      0.493      0.199      0.257     0.0912\n",
      "\n",
      "      Epoch    GPU_mem   box_loss   seg_loss   cls_loss   dfl_loss  Instances       Size\n"
     ]
    },
    {
     "name": "stderr",
     "output_type": "stream",
     "text": [
      "      21/65      9.83G     0.8353     0.7051     0.4866     0.7911        356       1312: 100%|██████████| 143/143 [03:15<00:00,  1.37s/it]\n",
      "                 Class     Images  Instances      Box(P          R      mAP50  mAP50-95)     Mask(P          R      mAP50  mAP50-95): 100%|██████████| 25/25 [00:18<00:00,  1.37it/s]\n"
     ]
    },
    {
     "name": "stdout",
     "output_type": "stream",
     "text": [
      "                   all        400      40108      0.797       0.31      0.461      0.226      0.519      0.211      0.281      0.105\n",
      "\n",
      "      Epoch    GPU_mem   box_loss   seg_loss   cls_loss   dfl_loss  Instances       Size\n"
     ]
    },
    {
     "name": "stderr",
     "output_type": "stream",
     "text": [
      "      22/65        13G     0.8379     0.7061     0.4869     0.7887        361       1312: 100%|██████████| 143/143 [03:20<00:00,  1.40s/it]\n",
      "                 Class     Images  Instances      Box(P          R      mAP50  mAP50-95)     Mask(P          R      mAP50  mAP50-95): 100%|██████████| 25/25 [00:17<00:00,  1.44it/s]\n"
     ]
    },
    {
     "name": "stdout",
     "output_type": "stream",
     "text": [
      "                   all        400      40108      0.489      0.406      0.502      0.283      0.337       0.28      0.308      0.127\n",
      "\n",
      "      Epoch    GPU_mem   box_loss   seg_loss   cls_loss   dfl_loss  Instances       Size\n"
     ]
    },
    {
     "name": "stderr",
     "output_type": "stream",
     "text": [
      "      23/65      12.5G     0.8483     0.7195     0.4899     0.7889        285       1312: 100%|██████████| 143/143 [03:15<00:00,  1.37s/it]\n",
      "                 Class     Images  Instances      Box(P          R      mAP50  mAP50-95)     Mask(P          R      mAP50  mAP50-95): 100%|██████████| 25/25 [00:19<00:00,  1.27it/s]\n"
     ]
    },
    {
     "name": "stdout",
     "output_type": "stream",
     "text": [
      "                   all        400      40108       0.77      0.337      0.455      0.237      0.509      0.226      0.281      0.107\n",
      "\n",
      "      Epoch    GPU_mem   box_loss   seg_loss   cls_loss   dfl_loss  Instances       Size\n"
     ]
    },
    {
     "name": "stderr",
     "output_type": "stream",
     "text": [
      "      24/65      11.9G     0.8443     0.7193     0.4899     0.7891        144       1312: 100%|██████████| 143/143 [03:18<00:00,  1.39s/it]\n",
      "                 Class     Images  Instances      Box(P          R      mAP50  mAP50-95)     Mask(P          R      mAP50  mAP50-95): 100%|██████████| 25/25 [00:18<00:00,  1.37it/s]\n"
     ]
    },
    {
     "name": "stdout",
     "output_type": "stream",
     "text": [
      "                   all        400      40108      0.799      0.315      0.466      0.243       0.51      0.202      0.271      0.106\n",
      "\n",
      "      Epoch    GPU_mem   box_loss   seg_loss   cls_loss   dfl_loss  Instances       Size\n"
     ]
    },
    {
     "name": "stderr",
     "output_type": "stream",
     "text": [
      "      25/65        10G     0.8233     0.6938     0.4736     0.7877        336       1312: 100%|██████████| 143/143 [03:15<00:00,  1.36s/it]\n",
      "                 Class     Images  Instances      Box(P          R      mAP50  mAP50-95)     Mask(P          R      mAP50  mAP50-95): 100%|██████████| 25/25 [00:16<00:00,  1.49it/s]\n"
     ]
    },
    {
     "name": "stdout",
     "output_type": "stream",
     "text": [
      "                   all        400      40108      0.454      0.383      0.473      0.238      0.297      0.251      0.267      0.104\n",
      "\n",
      "      Epoch    GPU_mem   box_loss   seg_loss   cls_loss   dfl_loss  Instances       Size\n"
     ]
    },
    {
     "name": "stderr",
     "output_type": "stream",
     "text": [
      "      26/65      14.2G     0.8294     0.6999     0.4753     0.7893        325       1312: 100%|██████████| 143/143 [03:12<00:00,  1.35s/it]\n",
      "                 Class     Images  Instances      Box(P          R      mAP50  mAP50-95)     Mask(P          R      mAP50  mAP50-95): 100%|██████████| 25/25 [00:17<00:00,  1.39it/s]\n"
     ]
    },
    {
     "name": "stdout",
     "output_type": "stream",
     "text": [
      "                   all        400      40108      0.822      0.338      0.493       0.28      0.566      0.234      0.318      0.137\n",
      "\n",
      "      Epoch    GPU_mem   box_loss   seg_loss   cls_loss   dfl_loss  Instances       Size\n"
     ]
    },
    {
     "name": "stderr",
     "output_type": "stream",
     "text": [
      "      27/65      10.1G     0.8237     0.6946     0.4726     0.7891        268       1312: 100%|██████████| 143/143 [03:20<00:00,  1.40s/it]\n",
      "                 Class     Images  Instances      Box(P          R      mAP50  mAP50-95)     Mask(P          R      mAP50  mAP50-95): 100%|██████████| 25/25 [00:17<00:00,  1.47it/s]\n"
     ]
    },
    {
     "name": "stdout",
     "output_type": "stream",
     "text": [
      "                   all        400      40108      0.829      0.316      0.499      0.262      0.316      0.295      0.301      0.121\n",
      "\n",
      "      Epoch    GPU_mem   box_loss   seg_loss   cls_loss   dfl_loss  Instances       Size\n"
     ]
    },
    {
     "name": "stderr",
     "output_type": "stream",
     "text": [
      "      28/65      12.7G     0.8264     0.6951      0.472     0.7882        342       1312: 100%|██████████| 143/143 [03:16<00:00,  1.37s/it]\n",
      "                 Class     Images  Instances      Box(P          R      mAP50  mAP50-95)     Mask(P          R      mAP50  mAP50-95): 100%|██████████| 25/25 [00:18<00:00,  1.37it/s]\n"
     ]
    },
    {
     "name": "stdout",
     "output_type": "stream",
     "text": [
      "                   all        400      40108       0.81      0.334      0.484      0.256      0.541      0.224        0.3      0.118\n",
      "\n",
      "      Epoch    GPU_mem   box_loss   seg_loss   cls_loss   dfl_loss  Instances       Size\n"
     ]
    },
    {
     "name": "stderr",
     "output_type": "stream",
     "text": [
      "      29/65      10.4G     0.8171      0.688     0.4698     0.7891        226       1312: 100%|██████████| 143/143 [03:14<00:00,  1.36s/it]\n",
      "                 Class     Images  Instances      Box(P          R      mAP50  mAP50-95)     Mask(P          R      mAP50  mAP50-95): 100%|██████████| 25/25 [00:16<00:00,  1.52it/s]\n"
     ]
    },
    {
     "name": "stdout",
     "output_type": "stream",
     "text": [
      "                   all        400      40108      0.834      0.326      0.503      0.269      0.529      0.225      0.306      0.126\n",
      "\n",
      "      Epoch    GPU_mem   box_loss   seg_loss   cls_loss   dfl_loss  Instances       Size\n"
     ]
    },
    {
     "name": "stderr",
     "output_type": "stream",
     "text": [
      "      30/65      10.2G     0.8211     0.6843      0.465     0.7872        328       1312: 100%|██████████| 143/143 [03:25<00:00,  1.44s/it]\n",
      "                 Class     Images  Instances      Box(P          R      mAP50  mAP50-95)     Mask(P          R      mAP50  mAP50-95): 100%|██████████| 25/25 [00:18<00:00,  1.38it/s]\n"
     ]
    },
    {
     "name": "stdout",
     "output_type": "stream",
     "text": [
      "                   all        400      40108      0.828      0.328      0.502      0.274      0.564      0.223      0.319      0.129\n",
      "\n",
      "      Epoch    GPU_mem   box_loss   seg_loss   cls_loss   dfl_loss  Instances       Size\n"
     ]
    },
    {
     "name": "stderr",
     "output_type": "stream",
     "text": [
      "      31/65      11.4G     0.8178     0.6931     0.4623     0.7871        438       1312: 100%|██████████| 143/143 [03:27<00:00,  1.45s/it]\n",
      "                 Class     Images  Instances      Box(P          R      mAP50  mAP50-95)     Mask(P          R      mAP50  mAP50-95): 100%|██████████| 25/25 [00:16<00:00,  1.47it/s]\n"
     ]
    },
    {
     "name": "stdout",
     "output_type": "stream",
     "text": [
      "                   all        400      40108      0.782      0.315      0.472      0.233      0.512      0.207      0.288      0.108\n",
      "\n",
      "      Epoch    GPU_mem   box_loss   seg_loss   cls_loss   dfl_loss  Instances       Size\n"
     ]
    },
    {
     "name": "stderr",
     "output_type": "stream",
     "text": [
      "      32/65      11.3G     0.8023     0.6692     0.4544     0.7875        207       1312: 100%|██████████| 143/143 [03:16<00:00,  1.37s/it]\n",
      "                 Class     Images  Instances      Box(P          R      mAP50  mAP50-95)     Mask(P          R      mAP50  mAP50-95): 100%|██████████| 25/25 [00:17<00:00,  1.41it/s]\n"
     ]
    },
    {
     "name": "stdout",
     "output_type": "stream",
     "text": [
      "                   all        400      40108      0.476      0.387      0.483      0.249      0.335      0.272      0.297      0.118\n",
      "\n",
      "      Epoch    GPU_mem   box_loss   seg_loss   cls_loss   dfl_loss  Instances       Size\n"
     ]
    },
    {
     "name": "stderr",
     "output_type": "stream",
     "text": [
      "      33/65      11.5G     0.8129     0.6839     0.4587     0.7865        254       1312: 100%|██████████| 143/143 [03:16<00:00,  1.37s/it]\n",
      "                 Class     Images  Instances      Box(P          R      mAP50  mAP50-95)     Mask(P          R      mAP50  mAP50-95): 100%|██████████| 25/25 [00:18<00:00,  1.38it/s]\n"
     ]
    },
    {
     "name": "stdout",
     "output_type": "stream",
     "text": [
      "                   all        400      40108      0.528      0.395      0.514      0.272       0.36      0.269      0.314      0.126\n",
      "\n",
      "      Epoch    GPU_mem   box_loss   seg_loss   cls_loss   dfl_loss  Instances       Size\n"
     ]
    },
    {
     "name": "stderr",
     "output_type": "stream",
     "text": [
      "      34/65      10.5G     0.7962      0.679     0.4487      0.786        270       1312: 100%|██████████| 143/143 [03:21<00:00,  1.41s/it]\n",
      "                 Class     Images  Instances      Box(P          R      mAP50  mAP50-95)     Mask(P          R      mAP50  mAP50-95): 100%|██████████| 25/25 [00:17<00:00,  1.41it/s]\n"
     ]
    },
    {
     "name": "stdout",
     "output_type": "stream",
     "text": [
      "                   all        400      40108       0.78      0.306      0.461      0.222      0.512      0.202      0.276      0.099\n",
      "\n",
      "      Epoch    GPU_mem   box_loss   seg_loss   cls_loss   dfl_loss  Instances       Size\n"
     ]
    },
    {
     "name": "stderr",
     "output_type": "stream",
     "text": [
      "      35/65      12.7G     0.7929     0.6666     0.4473      0.786        229       1312: 100%|██████████| 143/143 [03:20<00:00,  1.40s/it]\n",
      "                 Class     Images  Instances      Box(P          R      mAP50  mAP50-95)     Mask(P          R      mAP50  mAP50-95): 100%|██████████| 25/25 [00:16<00:00,  1.53it/s]\n"
     ]
    },
    {
     "name": "stdout",
     "output_type": "stream",
     "text": [
      "                   all        400      40108      0.783      0.306      0.477      0.237      0.309       0.26      0.283      0.105\n",
      "\n",
      "      Epoch    GPU_mem   box_loss   seg_loss   cls_loss   dfl_loss  Instances       Size\n"
     ]
    },
    {
     "name": "stderr",
     "output_type": "stream",
     "text": [
      "      36/65      13.8G     0.8086     0.6809     0.4532     0.7854        304       1312: 100%|██████████| 143/143 [03:18<00:00,  1.39s/it]\n",
      "                 Class     Images  Instances      Box(P          R      mAP50  mAP50-95)     Mask(P          R      mAP50  mAP50-95): 100%|██████████| 25/25 [00:17<00:00,  1.44it/s]\n"
     ]
    },
    {
     "name": "stdout",
     "output_type": "stream",
     "text": [
      "                   all        400      40108      0.786      0.308      0.477      0.239      0.496      0.203      0.284      0.107\n",
      "\n",
      "      Epoch    GPU_mem   box_loss   seg_loss   cls_loss   dfl_loss  Instances       Size\n"
     ]
    },
    {
     "name": "stderr",
     "output_type": "stream",
     "text": [
      "      37/65      10.7G     0.7956     0.6776     0.4454     0.7846        464       1312: 100%|██████████| 143/143 [03:19<00:00,  1.39s/it]\n",
      "                 Class     Images  Instances      Box(P          R      mAP50  mAP50-95)     Mask(P          R      mAP50  mAP50-95): 100%|██████████| 25/25 [00:17<00:00,  1.46it/s]\n"
     ]
    },
    {
     "name": "stdout",
     "output_type": "stream",
     "text": [
      "                   all        400      40108      0.777      0.327      0.494      0.256      0.315       0.28      0.302      0.117\n",
      "\n",
      "      Epoch    GPU_mem   box_loss   seg_loss   cls_loss   dfl_loss  Instances       Size\n"
     ]
    },
    {
     "name": "stderr",
     "output_type": "stream",
     "text": [
      "      38/66      9.79G     0.7952     0.6652     0.4454     0.7843        222       1312: 100%|██████████| 143/143 [03:25<00:00,  1.44s/it]\n",
      "                 Class     Images  Instances      Box(P          R      mAP50  mAP50-95)     Mask(P          R      mAP50  mAP50-95): 100%|██████████| 25/25 [00:17<00:00,  1.44it/s]\n"
     ]
    },
    {
     "name": "stdout",
     "output_type": "stream",
     "text": [
      "                   all        400      40108      0.813      0.292      0.472      0.227      0.305      0.257       0.28        0.1\n",
      "\n",
      "      Epoch    GPU_mem   box_loss   seg_loss   cls_loss   dfl_loss  Instances       Size\n"
     ]
    },
    {
     "name": "stderr",
     "output_type": "stream",
     "text": [
      "      39/65      14.8G     0.7859     0.6572     0.4396     0.7853        310       1312: 100%|██████████| 143/143 [03:20<00:00,  1.40s/it]\n",
      "                 Class     Images  Instances      Box(P          R      mAP50  mAP50-95)     Mask(P          R      mAP50  mAP50-95): 100%|██████████| 25/25 [00:17<00:00,  1.40it/s]\n"
     ]
    },
    {
     "name": "stdout",
     "output_type": "stream",
     "text": [
      "                   all        400      40108      0.509      0.365      0.486      0.239      0.352      0.253        0.3      0.111\n",
      "\n",
      "      Epoch    GPU_mem   box_loss   seg_loss   cls_loss   dfl_loss  Instances       Size\n"
     ]
    },
    {
     "name": "stderr",
     "output_type": "stream",
     "text": [
      "      40/65      9.85G     0.7925     0.6629     0.4429     0.7838        243       1312: 100%|██████████| 143/143 [03:23<00:00,  1.43s/it]\n",
      "                 Class     Images  Instances      Box(P          R      mAP50  mAP50-95)     Mask(P          R      mAP50  mAP50-95): 100%|██████████| 25/25 [00:16<00:00,  1.52it/s]\n"
     ]
    },
    {
     "name": "stdout",
     "output_type": "stream",
     "text": [
      "                   all        400      40108      0.826      0.305      0.486      0.253      0.483       0.23      0.303      0.118\n",
      "\n",
      "      Epoch    GPU_mem   box_loss   seg_loss   cls_loss   dfl_loss  Instances       Size\n"
     ]
    },
    {
     "name": "stderr",
     "output_type": "stream",
     "text": [
      "      41/65      14.2G     0.7805     0.6488      0.437     0.7866        323       1312: 100%|██████████| 143/143 [03:26<00:00,  1.44s/it]\n",
      "                 Class     Images  Instances      Box(P          R      mAP50  mAP50-95)     Mask(P          R      mAP50  mAP50-95): 100%|██████████| 25/25 [00:16<00:00,  1.47it/s]\n"
     ]
    },
    {
     "name": "stdout",
     "output_type": "stream",
     "text": [
      "                   all        400      40108      0.785      0.302       0.48      0.237      0.318      0.264      0.289      0.107\n",
      "\n",
      "      Epoch    GPU_mem   box_loss   seg_loss   cls_loss   dfl_loss  Instances       Size\n"
     ]
    },
    {
     "name": "stderr",
     "output_type": "stream",
     "text": [
      "      42/65      12.3G     0.7812     0.6576     0.4358      0.785        310       1312: 100%|██████████| 143/143 [03:35<00:00,  1.51s/it]\n",
      "                 Class     Images  Instances      Box(P          R      mAP50  mAP50-95)     Mask(P          R      mAP50  mAP50-95): 100%|██████████| 25/25 [00:17<00:00,  1.41it/s]\n"
     ]
    },
    {
     "name": "stdout",
     "output_type": "stream",
     "text": [
      "                   all        400      40108      0.795      0.325      0.501      0.264      0.314       0.27      0.295      0.117\n",
      "\n",
      "      Epoch    GPU_mem   box_loss   seg_loss   cls_loss   dfl_loss  Instances       Size\n"
     ]
    },
    {
     "name": "stderr",
     "output_type": "stream",
     "text": [
      "      43/65      10.5G     0.7916     0.6763     0.4406     0.7836        256       1312: 100%|██████████| 143/143 [03:34<00:00,  1.50s/it]\n",
      "                 Class     Images  Instances      Box(P          R      mAP50  mAP50-95)     Mask(P          R      mAP50  mAP50-95): 100%|██████████| 25/25 [00:18<00:00,  1.35it/s]\n"
     ]
    },
    {
     "name": "stdout",
     "output_type": "stream",
     "text": [
      "                   all        400      40108      0.784      0.303      0.471      0.241      0.511      0.198      0.281       0.11\n",
      "\n",
      "      Epoch    GPU_mem   box_loss   seg_loss   cls_loss   dfl_loss  Instances       Size\n"
     ]
    },
    {
     "name": "stderr",
     "output_type": "stream",
     "text": [
      "      44/65      11.8G     0.7844     0.6536     0.4343     0.7842        233       1312: 100%|██████████| 143/143 [03:19<00:00,  1.40s/it]\n",
      "                 Class     Images  Instances      Box(P          R      mAP50  mAP50-95)     Mask(P          R      mAP50  mAP50-95): 100%|██████████| 25/25 [00:17<00:00,  1.43it/s]\n"
     ]
    },
    {
     "name": "stdout",
     "output_type": "stream",
     "text": [
      "                   all        400      40108      0.759      0.302      0.457      0.217      0.481      0.192      0.267     0.0933\n",
      "\n",
      "      Epoch    GPU_mem   box_loss   seg_loss   cls_loss   dfl_loss  Instances       Size\n"
     ]
    },
    {
     "name": "stderr",
     "output_type": "stream",
     "text": [
      "      45/65       9.5G     0.7887     0.6612     0.4354     0.7821        302       1312: 100%|██████████| 143/143 [03:22<00:00,  1.42s/it]\n",
      "                 Class     Images  Instances      Box(P          R      mAP50  mAP50-95)     Mask(P          R      mAP50  mAP50-95): 100%|██████████| 25/25 [00:17<00:00,  1.41it/s]\n"
     ]
    },
    {
     "name": "stdout",
     "output_type": "stream",
     "text": [
      "                   all        400      40108       0.81      0.323      0.495      0.263      0.532      0.212      0.303      0.119\n",
      "\n",
      "      Epoch    GPU_mem   box_loss   seg_loss   cls_loss   dfl_loss  Instances       Size\n"
     ]
    },
    {
     "name": "stderr",
     "output_type": "stream",
     "text": [
      "      46/65      12.9G     0.7751     0.6568     0.4329     0.7833        230       1312: 100%|██████████| 143/143 [03:35<00:00,  1.51s/it]\n",
      "                 Class     Images  Instances      Box(P          R      mAP50  mAP50-95)     Mask(P          R      mAP50  mAP50-95): 100%|██████████| 25/25 [00:18<00:00,  1.33it/s]\n"
     ]
    },
    {
     "name": "stdout",
     "output_type": "stream",
     "text": [
      "                   all        400      40108      0.547      0.391       0.52      0.273      0.364       0.26      0.311      0.122\n",
      "\n",
      "      Epoch    GPU_mem   box_loss   seg_loss   cls_loss   dfl_loss  Instances       Size\n"
     ]
    },
    {
     "name": "stderr",
     "output_type": "stream",
     "text": [
      "      47/65      11.4G     0.7717     0.6426     0.4254     0.7815        262       1312: 100%|██████████| 143/143 [03:18<00:00,  1.39s/it]\n",
      "                 Class     Images  Instances      Box(P          R      mAP50  mAP50-95)     Mask(P          R      mAP50  mAP50-95): 100%|██████████| 25/25 [00:17<00:00,  1.47it/s]\n"
     ]
    },
    {
     "name": "stdout",
     "output_type": "stream",
     "text": [
      "                   all        400      40108      0.808       0.32      0.479      0.246      0.537      0.213      0.296      0.113\n",
      "\n",
      "      Epoch    GPU_mem   box_loss   seg_loss   cls_loss   dfl_loss  Instances       Size\n"
     ]
    },
    {
     "name": "stderr",
     "output_type": "stream",
     "text": [
      "      48/65      12.4G     0.7631     0.6331     0.4256     0.7829        244       1312: 100%|██████████| 143/143 [03:26<00:00,  1.44s/it]\n",
      "                 Class     Images  Instances      Box(P          R      mAP50  mAP50-95)     Mask(P          R      mAP50  mAP50-95): 100%|██████████| 25/25 [00:17<00:00,  1.44it/s]\n"
     ]
    },
    {
     "name": "stdout",
     "output_type": "stream",
     "text": [
      "                   all        400      40108      0.803      0.323      0.501      0.259      0.467      0.235      0.302      0.117\n",
      "\n",
      "      Epoch    GPU_mem   box_loss   seg_loss   cls_loss   dfl_loss  Instances       Size\n"
     ]
    },
    {
     "name": "stderr",
     "output_type": "stream",
     "text": [
      "      49/65      11.5G     0.7646     0.6364     0.4236     0.7825        325       1312: 100%|██████████| 143/143 [03:38<00:00,  1.53s/it]\n",
      "                 Class     Images  Instances      Box(P          R      mAP50  mAP50-95)     Mask(P          R      mAP50  mAP50-95): 100%|██████████| 25/25 [00:17<00:00,  1.43it/s]\n"
     ]
    },
    {
     "name": "stdout",
     "output_type": "stream",
     "text": [
      "                   all        400      40108      0.522      0.403       0.52      0.274      0.346      0.267      0.303      0.117\n",
      "Stopping training early as no improvement observed in last 30 epochs. Best results observed at epoch 19, best model saved as best.pt.\n",
      "To update EarlyStopping(patience=30) pass a new patience value, i.e. `patience=300` or use `patience=0` to disable EarlyStopping.\n",
      "\n",
      "49 epochs completed in 3.033 hours.\n",
      "Optimizer stripped from hacking_human_vasculature/train_kidney_1_dense_val_kidney_3_dense_size_1303/weights/last.pt, 6.9MB\n",
      "Optimizer stripped from hacking_human_vasculature/train_kidney_1_dense_val_kidney_3_dense_size_1303/weights/best.pt, 6.9MB\n",
      "\n",
      "Validating hacking_human_vasculature/train_kidney_1_dense_val_kidney_3_dense_size_1303/weights/best.pt...\n",
      "Ultralytics YOLOv8.1.2 🚀 Python-3.10.12 torch-2.0.0 CUDA:0 (Tesla T4, 15102MiB)\n",
      "                                                     CUDA:1 (Tesla T4, 15102MiB)\n",
      "YOLOv8n-seg summary (fused): 195 layers, 3258259 parameters, 0 gradients, 12.0 GFLOPs\n"
     ]
    },
    {
     "name": "stderr",
     "output_type": "stream",
     "text": [
      "                 Class     Images  Instances      Box(P          R      mAP50  mAP50-95)     Mask(P          R      mAP50  mAP50-95): 100%|██████████| 25/25 [00:54<00:00,  2.19s/it]\n"
     ]
    },
    {
     "name": "stdout",
     "output_type": "stream",
     "text": [
      "                   all        400      40108      0.459      0.404      0.496      0.275      0.342      0.301      0.324      0.136\n",
      "Speed: 3.2ms preprocess, 11.1ms inference, 0.0ms loss, 5.4ms postprocess per image\n",
      "Results saved to \u001b[1mhacking_human_vasculature/train_kidney_1_dense_val_kidney_3_dense_size_1303\u001b[0m\n"
     ]
    },
    {
     "name": "stderr",
     "output_type": "stream",
     "text": [
      "wandb:                                                                                \n",
      "wandb: \n",
      "wandb: Run history:\n",
      "wandb:                  lr/pg0 ▂▅███▇▇▇▇▇▆▆▆▆▆▆▅▅▅▅▅▅▄▄▄▄▃▃▃▃▃▃▂▂▂▂▂▁▁▁\n",
      "wandb:                  lr/pg1 ▂▅███▇▇▇▇▇▆▆▆▆▆▆▅▅▅▅▅▅▄▄▄▄▃▃▃▃▃▃▂▂▂▂▂▁▁▁\n",
      "wandb:                  lr/pg2 ▂▅███▇▇▇▇▇▆▆▆▆▆▆▅▅▅▅▅▅▄▄▄▄▃▃▃▃▃▃▂▂▂▂▂▁▁▁\n",
      "wandb:        metrics/mAP50(B) ▁▃▃▄▃▄▄▅▃▅▄▆▅▆▅▇▅▆▆▆▇▇▇▇▇▇█▆▇▇▇▇▇▇▇▆▇█▇▇\n",
      "wandb:        metrics/mAP50(M) ▁▃▆▅▃▃▄▆▁▄▃▆▅▅▄█▄▅▅▅▅▇▇▇█▆▇▅▆▆▇▇▇▆▆▅▇▇▆█\n",
      "wandb:     metrics/mAP50-95(B) ▁▂▂▄▂▄▂▅▂▅▃▆▄▄▃█▃▅▆▆▆█▇▇█▅█▅▆▆▇▆▆▆▇▄▇█▆█\n",
      "wandb:     metrics/mAP50-95(M) ▂▃▅▄▃▃▃▆▁��▂▅▃▄▃█▃▅▅▅▅█▆▇▇▅▇▄▅▅▆▅▆▅▆▃▆▆▅█\n",
      "wandb:    metrics/precision(B) █▆▅▆▅▇▅▆▆▇▆▇▆▆▅▁▅▆▆▆▁▇▆▇▇▆▂▆▆▆▆▂▇▆▆▆▆▂▆▁\n",
      "wandb:    metrics/precision(M) █▅▅▅▄▆▅▅▄▅▄▅▄▄▄▂▄▄▄▄▁▅▅▅▅▄▂▄▁▄▁▂▄▁▁▄▅▂▅▂\n",
      "wandb:       metrics/recall(B) ▁▅▆▆▅▅▆▇▅▅▅▅▆▅▅█▅▅▆▆▇▆▆▆▆▆█▅▅▅▆▇▅▅▆▅▆█▆█\n",
      "wandb:       metrics/recall(M) ▁▄▆▅▅▄▆▇▃▄▄▄▅▄▄█▄▅▅▄▆▅▅▅▅▄▇▄▆▄▇▆▅▇▇▄▅▆▅█\n",
      "wandb:            model/GFLOPs ▁\n",
      "wandb:        model/parameters ▁\n",
      "wandb: model/speed_PyTorch(ms) ▁\n",
      "wandb:          train/box_loss █▅▄▄▃▃▃▃▂▂▂▂▂▂▂▂▂▂▂▂▁▂▂▁▁▁▁▁▁▁▁▁▁▁▁▁▁▁▁▁\n",
      "wandb:          train/cls_loss █▄▃▃▂▂▂▂▂▂▂▁▁▁▁▁▁▁▁▁▁▁▁▁▁▁▁▁▁▁▁▁▁▁▁▁▁▁▁▁\n",
      "wandb:          train/dfl_loss █▃▂▂▂▂▂▂▂▂▂▂▂▁▁▁▁▁▁▁▁▁▁▁▁▁▁▁▁▁▁▁▁▁▁▁▁▁▁▁\n",
      "wandb:          train/seg_loss █▄▃▃▂▂▂▂▂▂▂▂▂▂▂▁▂▁▁▁▁▁▁▁▁▁▁▁▁▁▁▁▁▁▁▁▁▁▁▁\n",
      "wandb:            val/box_loss ▄▆▅▄▇▃▆▃▇▄▆▅▅▇█▃▇▆▄▄▆▁▄▃▃▆▄▆▆▆▅▇▄▆▄▇▄▄▅▄\n",
      "wandb:            val/cls_loss █▅▃▃▂▃▂▁▂▂▂▂▁▂▂▃▂▂▁▁▂▁▁▁▁▁▂▂▂▁▂▂▂▂▂▁▁▂▁▂\n",
      "wandb:            val/dfl_loss ██▇▄▆▅▆▃▆▄▆▄▅▆▇▃▇▅▄▃▆▁▃▂▂▆▄▆▅▅▅▆▄▆▄▇▃▄▃▄\n",
      "wandb:            val/seg_loss ▃▃▃▁▂▆▃▃▇▃▄▄▆▆▆▃▆▅▃▅█▁▄▃▁▅▅▆▄▆▅▅▃���▄▇▄▅▄▆\n",
      "wandb: \n",
      "wandb: Run summary:\n",
      "wandb:                  lr/pg0 0.00019\n",
      "wandb:                  lr/pg1 0.00019\n",
      "wandb:                  lr/pg2 0.00019\n",
      "wandb:        metrics/mAP50(B) 0.49567\n",
      "wandb:        metrics/mAP50(M) 0.32414\n",
      "wandb:     metrics/mAP50-95(B) 0.2749\n",
      "wandb:     metrics/mAP50-95(M) 0.1363\n",
      "wandb:    metrics/precision(B) 0.45856\n",
      "wandb:    metrics/precision(M) 0.34204\n",
      "wandb:       metrics/recall(B) 0.40376\n",
      "wandb:       metrics/recall(M) 0.30116\n",
      "wandb:            model/GFLOPs 12.109\n",
      "wandb:        model/parameters 3263811\n",
      "wandb: model/speed_PyTorch(ms) 10.839\n",
      "wandb:          train/box_loss 0.76465\n",
      "wandb:          train/cls_loss 0.42364\n",
      "wandb:          train/dfl_loss 0.78247\n",
      "wandb:          train/seg_loss 0.63643\n",
      "wandb:            val/box_loss 1.5271\n",
      "wandb:            val/cls_loss 0.94024\n",
      "wandb:            val/dfl_loss 0.82408\n",
      "wandb:            val/seg_loss 1.84328\n",
      "wandb: \n",
      "wandb: 🚀 View run train_kidney_1_dense_val_kidney_3_dense_size_1303 at: https://wandb.ai/aaalex-lit/hacking_human_vasculature/runs/cm1czm5u\n",
      "wandb: Synced 6 W&B file(s), 29 media file(s), 9 artifact file(s) and 0 other file(s)\n",
      "wandb: Find logs at: ./wandb/run-20240118_100558-cm1czm5u/logs\n"
     ]
    }
   ],
   "source": [
    "project = 'hacking_human_vasculature'\n",
    "name = 'train_kidney_1_dense_val_kidney_3_dense_size_1303'\n",
    "\n",
    "results = model.train(data=yaml_path,\n",
    "                      project=project,\n",
    "                      name=name,\n",
    "                      epochs=200,\n",
    "                      time=4,\n",
    "                      patience=30, \n",
    "                      batch=16,\n",
    "                      imgsz=train_img_size,\n",
    "                      device=[0, 1],\n",
    "                      save_period=1,\n",
    "                      cache=True\n",
    "                     )"
   ]
  },
  {
   "cell_type": "code",
   "execution_count": 14,
   "id": "cf04ad32",
   "metadata": {
    "execution": {
     "iopub.execute_input": "2024-01-18T13:10:33.312168Z",
     "iopub.status.busy": "2024-01-18T13:10:33.311098Z",
     "iopub.status.idle": "2024-01-18T13:10:33.315911Z",
     "shell.execute_reply": "2024-01-18T13:10:33.314987Z"
    },
    "papermill": {
     "duration": 0.731572,
     "end_time": "2024-01-18T13:10:33.318485",
     "exception": false,
     "start_time": "2024-01-18T13:10:32.586913",
     "status": "completed"
    },
    "tags": []
   },
   "outputs": [],
   "source": [
    "wandb.finish()"
   ]
  },
  {
   "cell_type": "code",
   "execution_count": null,
   "id": "d67565b6",
   "metadata": {
    "papermill": {
     "duration": 0.755289,
     "end_time": "2024-01-18T13:10:34.862211",
     "exception": false,
     "start_time": "2024-01-18T13:10:34.106922",
     "status": "completed"
    },
    "tags": []
   },
   "outputs": [],
   "source": []
  }
 ],
 "metadata": {
  "kaggle": {
   "accelerator": "nvidiaTeslaT4",
   "dataSources": [
    {
     "databundleVersionId": 6962461,
     "sourceId": 61446,
     "sourceType": "competition"
    },
    {
     "sourceId": 158630420,
     "sourceType": "kernelVersion"
    },
    {
     "sourceId": 158682423,
     "sourceType": "kernelVersion"
    }
   ],
   "dockerImageVersionId": 30636,
   "isGpuEnabled": true,
   "isInternetEnabled": true,
   "language": "python",
   "sourceType": "notebook"
  },
  "kernelspec": {
   "display_name": "Python 3",
   "language": "python",
   "name": "python3"
  },
  "language_info": {
   "codemirror_mode": {
    "name": "ipython",
    "version": 3
   },
   "file_extension": ".py",
   "mimetype": "text/x-python",
   "name": "python",
   "nbconvert_exporter": "python",
   "pygments_lexer": "ipython3",
   "version": "3.10.12"
  },
  "papermill": {
   "default_parameters": {},
   "duration": 11242.477608,
   "end_time": "2024-01-18T13:10:37.869460",
   "environment_variables": {},
   "exception": null,
   "input_path": "__notebook__.ipynb",
   "output_path": "__notebook__.ipynb",
   "parameters": {},
   "start_time": "2024-01-18T10:03:15.391852",
   "version": "2.4.0"
  }
 },
 "nbformat": 4,
 "nbformat_minor": 5
}
